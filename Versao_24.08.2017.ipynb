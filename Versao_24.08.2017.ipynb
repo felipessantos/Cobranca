{
 "cells": [
  {
   "cell_type": "code",
   "execution_count": 1,
   "metadata": {
    "collapsed": false
   },
   "outputs": [
    {
     "name": "stderr",
     "output_type": "stream",
     "text": [
      "D:\\Users\\felipe.santos\\AppData\\Local\\Continuum\\Anaconda3\\lib\\site-packages\\sklearn\\cross_validation.py:44: DeprecationWarning: This module was deprecated in version 0.18 in favor of the model_selection module into which all the refactored classes and functions are moved. Also note that the interface of the new CV iterators are different from that of this module. This module will be removed in 0.20.\n",
      "  \"This module will be removed in 0.20.\", DeprecationWarning)\n"
     ]
    }
   ],
   "source": [
    "import pandas as pd\n",
    "from datetime import datetime, timedelta, date\n",
    "from random import randint\n",
    "import numpy as np\n",
    "import csv\n",
    "from random import randint\n",
    "import pickle\n",
    "%matplotlib inline\n",
    "import matplotlib.pyplot as plt\n",
    "plt.style.use('ggplot')\n",
    "import seaborn as sns\n",
    "import os\n",
    "import sklearn\n",
    "from sklearn.preprocessing import LabelEncoder\n",
    "from sklearn.preprocessing import StandardScaler\n",
    "from sklearn.neighbors import KNeighborsClassifier\n",
    "from sklearn.ensemble import RandomForestClassifier\n",
    "from sklearn.model_selection import StratifiedKFold\n",
    "#from sklearn.model_selection import KFold\n",
    "from sklearn.cross_validation import KFold, StratifiedKFold\n",
    "from sklearn.metrics import roc_auc_score, f1_score\n",
    "from sklearn.preprocessing import LabelEncoder\n",
    "from sklearn.linear_model import LogisticRegression\n",
    "import IPython\n",
    "import unidecode \n",
    "from funcoes_uteis import *\n",
    "import seaborn as sns\n",
    "import pandas.core.algorithms as algos\n",
    "from scipy.stats import kendalltau\n",
    "from pylab import plot, show, savefig, xlim, figure, \\\n",
    "                hold, ylim, legend, boxplot, setp, axes"
   ]
  },
  {
   "cell_type": "code",
   "execution_count": 2,
   "metadata": {
    "collapsed": true
   },
   "outputs": [],
   "source": [
    "def marca_base(Perc, x):\n",
    "    if x >= Perc[(len(Perc)-1)]:\n",
    "        return len(Perc) +1\n",
    "    else:\n",
    "        for i in range(len(Perc)):\n",
    "            if x < Perc[i]:\n",
    "                return i + 1\n",
    "\n",
    "def marca_lista(lista, tamanho, variavel):\n",
    "    i = 0\n",
    "    for i in range(tamanho):\n",
    "        if variavel == lista[i]: return i\n",
    "        \n",
    "            \n",
    "def contagens_anteriores(um_df):\n",
    "    um_df['contagens_anteriores'] = range(len(um_df))\n",
    "    return um_df\n",
    "\n",
    "def cria_curva(percentiles, vetor):\n",
    "    Perc = list()\n",
    "    for i in range(len(percentiles)):\n",
    "        Perc.append(np.percentile(vetor, percentiles[i]))\n",
    "    return Perc"
   ]
  },
  {
   "cell_type": "markdown",
   "metadata": {},
   "source": [
    "# Cobrança"
   ]
  },
  {
   "cell_type": "code",
   "execution_count": 3,
   "metadata": {
    "collapsed": false
   },
   "outputs": [],
   "source": [
    "df_cobranca = pd.read_csv('./base_fe_20170522.csv', sep = ';', \n",
    "                          header = 0, \n",
    "                          dtype= {2: str})"
   ]
  },
  {
   "cell_type": "code",
   "execution_count": 4,
   "metadata": {
    "collapsed": false
   },
   "outputs": [],
   "source": [
    "df_cobranca.fillna(0, inplace= True)\n",
    "df_cobranca['valor_cliente'] = [x.replace(',', '.') for x in df_cobranca.valor_cliente]\n",
    "df_cobranca['valor_cliente'] = df_cobranca.valor_cliente.astype(float)\n",
    "df_cobranca['valor_provisioning'] = [x.replace(',', '.') for x in df_cobranca.valor_provisioning]\n",
    "df_cobranca['valor_provisioning'] = df_cobranca.valor_provisioning.astype(float)"
   ]
  },
  {
   "cell_type": "code",
   "execution_count": 5,
   "metadata": {
    "collapsed": true
   },
   "outputs": [],
   "source": [
    "col_datas = ['dt_pagamento', 'dt_vencimento']\n",
    "converte_datetime(df_cobranca, col_datas)"
   ]
  },
  {
   "cell_type": "code",
   "execution_count": 6,
   "metadata": {
    "collapsed": false
   },
   "outputs": [],
   "source": [
    "df_cobranca['diferenca_dias'] = [abs((d2 - d1).days) if d2.year == 2017 else 0 \n",
    "                                 for d1, d2 in zip (df_cobranca.dt_vencimento,df_cobranca.dt_pagamento)]"
   ]
  },
  {
   "cell_type": "code",
   "execution_count": 7,
   "metadata": {
    "collapsed": false
   },
   "outputs": [
    {
     "name": "stderr",
     "output_type": "stream",
     "text": [
      "D:\\Users\\felipe.santos\\AppData\\Local\\Continuum\\Anaconda3\\lib\\site-packages\\ipykernel\\__main__.py:1: FutureWarning: sort(columns=....) is deprecated, use sort_values(by=.....)\n",
      "  if __name__ == '__main__':\n"
     ]
    }
   ],
   "source": [
    "df_cobranca = df_cobranca.sort(['dt_vencimento'], ascending=[1])"
   ]
  },
  {
   "cell_type": "code",
   "execution_count": 8,
   "metadata": {
    "collapsed": false
   },
   "outputs": [
    {
     "data": {
      "text/plain": [
       "4    78737\n",
       "3    76241\n",
       "2    64907\n",
       "5    52095\n",
       "1    51538\n",
       "Name: MES_VENCIMENTO, dtype: int64"
      ]
     },
     "execution_count": 8,
     "metadata": {},
     "output_type": "execute_result"
    }
   ],
   "source": [
    "df_cobranca.MES_VENCIMENTO.value_counts()"
   ]
  },
  {
   "cell_type": "code",
   "execution_count": 9,
   "metadata": {
    "collapsed": false
   },
   "outputs": [
    {
     "data": {
      "text/plain": [
       "Index(['﻿cd_ClienteSAP', 'cd_Login', 'cd_provisioning', 'ds_FormaPagamento',\n",
       "       'ds_Periodicidade', 'fl_ServicoPai', 'mes_idade_cliente',\n",
       "       'mes_idade_provisioning', 'qtd_inadimplencia', 'qtd_produtos_cliente',\n",
       "       'valor_cliente', 'valor_provisioning', 'dt_vencimento',\n",
       "       'ANO_VENCIMENTO', 'MES_VENCIMENTO', 'DIA_VENCIMENTO', 'dt_pagamento',\n",
       "       'ANO_PAGAMENTO', 'MES_PAGAMENTO', 'DIA_PAGAMENTO', 'fl_pago',\n",
       "       'fl_cancelado', 'vl_cobranca', 'diferenca_dias'],\n",
       "      dtype='object')"
      ]
     },
     "execution_count": 9,
     "metadata": {},
     "output_type": "execute_result"
    }
   ],
   "source": [
    "df_cobranca.columns"
   ]
  },
  {
   "cell_type": "code",
   "execution_count": 10,
   "metadata": {
    "collapsed": false
   },
   "outputs": [
    {
     "data": {
      "text/html": [
       "<div>\n",
       "<table border=\"1\" class=\"dataframe\">\n",
       "  <thead>\n",
       "    <tr style=\"text-align: right;\">\n",
       "      <th></th>\n",
       "      <th>260255</th>\n",
       "    </tr>\n",
       "  </thead>\n",
       "  <tbody>\n",
       "    <tr>\n",
       "      <th>﻿cd_ClienteSAP</th>\n",
       "      <td>2000237715</td>\n",
       "    </tr>\n",
       "    <tr>\n",
       "      <th>cd_Login</th>\n",
       "      <td>arqueearquitetura</td>\n",
       "    </tr>\n",
       "    <tr>\n",
       "      <th>cd_provisioning</th>\n",
       "      <td>61441176</td>\n",
       "    </tr>\n",
       "    <tr>\n",
       "      <th>ds_FormaPagamento</th>\n",
       "      <td>Boleto Bancário Itaú</td>\n",
       "    </tr>\n",
       "    <tr>\n",
       "      <th>ds_Periodicidade</th>\n",
       "      <td>Trimestral</td>\n",
       "    </tr>\n",
       "    <tr>\n",
       "      <th>fl_ServicoPai</th>\n",
       "      <td>SIM</td>\n",
       "    </tr>\n",
       "    <tr>\n",
       "      <th>mes_idade_cliente</th>\n",
       "      <td>40</td>\n",
       "    </tr>\n",
       "    <tr>\n",
       "      <th>mes_idade_provisioning</th>\n",
       "      <td>40</td>\n",
       "    </tr>\n",
       "    <tr>\n",
       "      <th>qtd_inadimplencia</th>\n",
       "      <td>9</td>\n",
       "    </tr>\n",
       "    <tr>\n",
       "      <th>qtd_produtos_cliente</th>\n",
       "      <td>8</td>\n",
       "    </tr>\n",
       "    <tr>\n",
       "      <th>valor_cliente</th>\n",
       "      <td>35.3</td>\n",
       "    </tr>\n",
       "    <tr>\n",
       "      <th>valor_provisioning</th>\n",
       "      <td>35.3</td>\n",
       "    </tr>\n",
       "    <tr>\n",
       "      <th>dt_vencimento</th>\n",
       "      <td>2017-05-01 00:00:00</td>\n",
       "    </tr>\n",
       "    <tr>\n",
       "      <th>ANO_VENCIMENTO</th>\n",
       "      <td>2017</td>\n",
       "    </tr>\n",
       "    <tr>\n",
       "      <th>MES_VENCIMENTO</th>\n",
       "      <td>5</td>\n",
       "    </tr>\n",
       "    <tr>\n",
       "      <th>DIA_VENCIMENTO</th>\n",
       "      <td>1</td>\n",
       "    </tr>\n",
       "    <tr>\n",
       "      <th>dt_pagamento</th>\n",
       "      <td>2017-05-09 00:00:00</td>\n",
       "    </tr>\n",
       "    <tr>\n",
       "      <th>ANO_PAGAMENTO</th>\n",
       "      <td>2017</td>\n",
       "    </tr>\n",
       "    <tr>\n",
       "      <th>MES_PAGAMENTO</th>\n",
       "      <td>5</td>\n",
       "    </tr>\n",
       "    <tr>\n",
       "      <th>DIA_PAGAMENTO</th>\n",
       "      <td>9</td>\n",
       "    </tr>\n",
       "    <tr>\n",
       "      <th>fl_pago</th>\n",
       "      <td>1</td>\n",
       "    </tr>\n",
       "    <tr>\n",
       "      <th>fl_cancelado</th>\n",
       "      <td>0</td>\n",
       "    </tr>\n",
       "    <tr>\n",
       "      <th>vl_cobranca</th>\n",
       "      <td>105.76</td>\n",
       "    </tr>\n",
       "    <tr>\n",
       "      <th>diferenca_dias</th>\n",
       "      <td>8</td>\n",
       "    </tr>\n",
       "  </tbody>\n",
       "</table>\n",
       "</div>"
      ],
      "text/plain": [
       "                                      260255\n",
       "﻿cd_ClienteSAP                    2000237715\n",
       "cd_Login                   arqueearquitetura\n",
       "cd_provisioning                     61441176\n",
       "ds_FormaPagamento       Boleto Bancário Itaú\n",
       "ds_Periodicidade                  Trimestral\n",
       "fl_ServicoPai                            SIM\n",
       "mes_idade_cliente                         40\n",
       "mes_idade_provisioning                    40\n",
       "qtd_inadimplencia                          9\n",
       "qtd_produtos_cliente                       8\n",
       "valor_cliente                           35.3\n",
       "valor_provisioning                      35.3\n",
       "dt_vencimento            2017-05-01 00:00:00\n",
       "ANO_VENCIMENTO                          2017\n",
       "MES_VENCIMENTO                             5\n",
       "DIA_VENCIMENTO                             1\n",
       "dt_pagamento             2017-05-09 00:00:00\n",
       "ANO_PAGAMENTO                           2017\n",
       "MES_PAGAMENTO                              5\n",
       "DIA_PAGAMENTO                              9\n",
       "fl_pago                                    1\n",
       "fl_cancelado                               0\n",
       "vl_cobranca                           105.76\n",
       "diferenca_dias                             8"
      ]
     },
     "execution_count": 10,
     "metadata": {},
     "output_type": "execute_result"
    }
   ],
   "source": [
    "df_cobranca.sample().T"
   ]
  },
  {
   "cell_type": "code",
   "execution_count": 11,
   "metadata": {
    "collapsed": true
   },
   "outputs": [],
   "source": [
    "df_cobranca['Resposta'] = [1 if d> 0 else 0 for d in df_cobranca.diferenca_dias]"
   ]
  },
  {
   "cell_type": "code",
   "execution_count": 12,
   "metadata": {
    "collapsed": false
   },
   "outputs": [
    {
     "data": {
      "text/plain": [
       "0.7626530826723706"
      ]
     },
     "execution_count": 12,
     "metadata": {},
     "output_type": "execute_result"
    }
   ],
   "source": [
    "df_cobranca.Resposta.mean()"
   ]
  },
  {
   "cell_type": "code",
   "execution_count": 12,
   "metadata": {
    "collapsed": false
   },
   "outputs": [
    {
     "data": {
      "text/html": [
       "<div>\n",
       "<table border=\"1\" class=\"dataframe\">\n",
       "  <thead>\n",
       "    <tr style=\"text-align: right;\">\n",
       "      <th></th>\n",
       "      <th>179674</th>\n",
       "    </tr>\n",
       "  </thead>\n",
       "  <tbody>\n",
       "    <tr>\n",
       "      <th>﻿cd_ClienteSAP</th>\n",
       "      <td>1000329990</td>\n",
       "    </tr>\n",
       "    <tr>\n",
       "      <th>cd_Login</th>\n",
       "      <td>salmerao</td>\n",
       "    </tr>\n",
       "    <tr>\n",
       "      <th>cd_provisioning</th>\n",
       "      <td>6534901</td>\n",
       "    </tr>\n",
       "    <tr>\n",
       "      <th>ds_FormaPagamento</th>\n",
       "      <td>Boleto Bancário Itaú</td>\n",
       "    </tr>\n",
       "    <tr>\n",
       "      <th>ds_Periodicidade</th>\n",
       "      <td>Mensal</td>\n",
       "    </tr>\n",
       "    <tr>\n",
       "      <th>fl_ServicoPai</th>\n",
       "      <td>SIM</td>\n",
       "    </tr>\n",
       "    <tr>\n",
       "      <th>mes_idade_cliente</th>\n",
       "      <td>145</td>\n",
       "    </tr>\n",
       "    <tr>\n",
       "      <th>mes_idade_provisioning</th>\n",
       "      <td>42</td>\n",
       "    </tr>\n",
       "    <tr>\n",
       "      <th>qtd_inadimplencia</th>\n",
       "      <td>17</td>\n",
       "    </tr>\n",
       "    <tr>\n",
       "      <th>qtd_produtos_cliente</th>\n",
       "      <td>14</td>\n",
       "    </tr>\n",
       "    <tr>\n",
       "      <th>valor_cliente</th>\n",
       "      <td>233.8</td>\n",
       "    </tr>\n",
       "    <tr>\n",
       "      <th>valor_provisioning</th>\n",
       "      <td>175</td>\n",
       "    </tr>\n",
       "    <tr>\n",
       "      <th>dt_vencimento</th>\n",
       "      <td>2017-02-01 00:00:00</td>\n",
       "    </tr>\n",
       "    <tr>\n",
       "      <th>ANO_VENCIMENTO</th>\n",
       "      <td>2017</td>\n",
       "    </tr>\n",
       "    <tr>\n",
       "      <th>MES_VENCIMENTO</th>\n",
       "      <td>2</td>\n",
       "    </tr>\n",
       "    <tr>\n",
       "      <th>DIA_VENCIMENTO</th>\n",
       "      <td>1</td>\n",
       "    </tr>\n",
       "    <tr>\n",
       "      <th>dt_pagamento</th>\n",
       "      <td>2017-03-14 00:00:00</td>\n",
       "    </tr>\n",
       "    <tr>\n",
       "      <th>ANO_PAGAMENTO</th>\n",
       "      <td>2017</td>\n",
       "    </tr>\n",
       "    <tr>\n",
       "      <th>MES_PAGAMENTO</th>\n",
       "      <td>3</td>\n",
       "    </tr>\n",
       "    <tr>\n",
       "      <th>DIA_PAGAMENTO</th>\n",
       "      <td>14</td>\n",
       "    </tr>\n",
       "    <tr>\n",
       "      <th>fl_pago</th>\n",
       "      <td>1</td>\n",
       "    </tr>\n",
       "    <tr>\n",
       "      <th>fl_cancelado</th>\n",
       "      <td>0</td>\n",
       "    </tr>\n",
       "    <tr>\n",
       "      <th>vl_cobranca</th>\n",
       "      <td>175</td>\n",
       "    </tr>\n",
       "    <tr>\n",
       "      <th>diferenca_dias</th>\n",
       "      <td>41</td>\n",
       "    </tr>\n",
       "    <tr>\n",
       "      <th>Resposta</th>\n",
       "      <td>1</td>\n",
       "    </tr>\n",
       "  </tbody>\n",
       "</table>\n",
       "</div>"
      ],
      "text/plain": [
       "                                      179674\n",
       "﻿cd_ClienteSAP                    1000329990\n",
       "cd_Login                            salmerao\n",
       "cd_provisioning                      6534901\n",
       "ds_FormaPagamento       Boleto Bancário Itaú\n",
       "ds_Periodicidade                      Mensal\n",
       "fl_ServicoPai                            SIM\n",
       "mes_idade_cliente                        145\n",
       "mes_idade_provisioning                    42\n",
       "qtd_inadimplencia                         17\n",
       "qtd_produtos_cliente                      14\n",
       "valor_cliente                          233.8\n",
       "valor_provisioning                       175\n",
       "dt_vencimento            2017-02-01 00:00:00\n",
       "ANO_VENCIMENTO                          2017\n",
       "MES_VENCIMENTO                             2\n",
       "DIA_VENCIMENTO                             1\n",
       "dt_pagamento             2017-03-14 00:00:00\n",
       "ANO_PAGAMENTO                           2017\n",
       "MES_PAGAMENTO                              3\n",
       "DIA_PAGAMENTO                             14\n",
       "fl_pago                                    1\n",
       "fl_cancelado                               0\n",
       "vl_cobranca                              175\n",
       "diferenca_dias                            41\n",
       "Resposta                                   1"
      ]
     },
     "execution_count": 12,
     "metadata": {},
     "output_type": "execute_result"
    }
   ],
   "source": [
    "df_cobranca.sample().T"
   ]
  },
  {
   "cell_type": "code",
   "execution_count": 13,
   "metadata": {
    "collapsed": false
   },
   "outputs": [
    {
     "name": "stderr",
     "output_type": "stream",
     "text": [
      "D:\\Users\\felipe.santos\\AppData\\Local\\Continuum\\Anaconda3\\lib\\site-packages\\ipykernel\\__main__.py:1: FutureWarning: sort(columns=....) is deprecated, use sort_values(by=.....)\n",
      "  if __name__ == '__main__':\n"
     ]
    }
   ],
   "source": [
    "df_cobranca = df_cobranca.sort(['dt_vencimento'], ascending=[1])\n",
    "\n",
    "#df_cobranca = df_cobranca.groupby('cd_Login').apply(contagens_anteriores)\n",
    "#df_cobranca.rename(columns={'contagens_anteriores' : 'contagens_anteriores_cliente'}, inplace=True)\n",
    "\n",
    "#df_cobranca = df_cobranca.groupby('cd_provisioning').apply(contagens_anteriores)\n",
    "#df_cobranca.rename(columns={'contagens_anteriores' : 'contagens_anteriores_provisioning'}, inplace=True)"
   ]
  },
  {
   "cell_type": "code",
   "execution_count": 14,
   "metadata": {
    "collapsed": false
   },
   "outputs": [],
   "source": [
    "df_cobranca['AnoMes'] = [datetime(ano, mes, 1) for ano, mes in zip (df_cobranca.ANO_VENCIMENTO, df_cobranca.MES_VENCIMENTO)]\n",
    "df_cobranca['ChaveModelo'] = [c+ AnoMes for c, AnoMes in zip (df_cobranca.cd_Login, df_cobranca.AnoMes.astype(str))]"
   ]
  },
  {
   "cell_type": "code",
   "execution_count": 15,
   "metadata": {
    "collapsed": true
   },
   "outputs": [],
   "source": [
    "df_original = df_cobranca.copy() "
   ]
  },
  {
   "cell_type": "code",
   "execution_count": 16,
   "metadata": {
    "collapsed": true
   },
   "outputs": [],
   "source": [
    "#df_cobranca = df_original.copy() "
   ]
  },
  {
   "cell_type": "code",
   "execution_count": 17,
   "metadata": {
    "collapsed": true
   },
   "outputs": [],
   "source": [
    "df_cobranca['MRR_aux'] = df_cobranca.valor_cliente*df_cobranca.mes_idade_cliente\n",
    "dict_lista_aux = {'MRR_aux' : 'max'}\n",
    "aux_MRR = df_cobranca.groupby('cd_Login').agg(dict_lista_aux)\n",
    "    \n",
    "percentiles= [10,20,30,40,50,60,70,80,90]\n",
    "    \n",
    "Perc = cria_curva(percentiles, aux_MRR.MRR_aux)\n",
    "aux_MRR['Score_login'] = [marca_base(Perc, x) for x in aux_MRR.MRR_aux]"
   ]
  },
  {
   "cell_type": "code",
   "execution_count": 18,
   "metadata": {
    "collapsed": false
   },
   "outputs": [
    {
     "data": {
      "text/html": [
       "<div>\n",
       "<table border=\"1\" class=\"dataframe\">\n",
       "  <thead>\n",
       "    <tr style=\"text-align: right;\">\n",
       "      <th></th>\n",
       "      <th>MRR_aux</th>\n",
       "      <th>Score_login</th>\n",
       "    </tr>\n",
       "    <tr>\n",
       "      <th>cd_Login</th>\n",
       "      <th></th>\n",
       "      <th></th>\n",
       "    </tr>\n",
       "  </thead>\n",
       "  <tbody>\n",
       "    <tr>\n",
       "      <th>offtecnologia</th>\n",
       "      <td>2031.3</td>\n",
       "      <td>5</td>\n",
       "    </tr>\n",
       "  </tbody>\n",
       "</table>\n",
       "</div>"
      ],
      "text/plain": [
       "               MRR_aux  Score_login\n",
       "cd_Login                           \n",
       "offtecnologia   2031.3            5"
      ]
     },
     "execution_count": 18,
     "metadata": {},
     "output_type": "execute_result"
    }
   ],
   "source": [
    "aux_MRR.sample()"
   ]
  },
  {
   "cell_type": "code",
   "execution_count": 19,
   "metadata": {
    "collapsed": false
   },
   "outputs": [],
   "source": [
    "df_cobranca.set_index('cd_Login', inplace= True)"
   ]
  },
  {
   "cell_type": "code",
   "execution_count": 20,
   "metadata": {
    "collapsed": false
   },
   "outputs": [],
   "source": [
    "df_cobranca = pd.concat([df_cobranca, aux_MRR[['Score_login']]], axis= 1, join_axes=[df_cobranca.index])"
   ]
  },
  {
   "cell_type": "code",
   "execution_count": 21,
   "metadata": {
    "collapsed": true
   },
   "outputs": [],
   "source": [
    "lista_ds_FormaPagamento = df_cobranca.ds_FormaPagamento.unique()\n",
    "tamanho = len(lista_ds_FormaPagamento) \n",
    "df_cobranca['ds_FormaPagamento_indice'] = [marca_lista(lista_ds_FormaPagamento, tamanho, variavel) \n",
    "                                           for variavel in df_cobranca.ds_FormaPagamento]\n",
    "\n",
    "lista_ds_Periodicidade = df_cobranca.ds_Periodicidade.unique()\n",
    "tamanho = len(lista_ds_Periodicidade) \n",
    "df_cobranca['ds_Periodicidade_indice'] = [marca_lista(lista_ds_Periodicidade, tamanho, variavel) \n",
    "                                          for variavel in df_cobranca.ds_Periodicidade]\n",
    "\n",
    "lista_fl_ServicoPai = df_cobranca.fl_ServicoPai.unique()\n",
    "tamanho = len(lista_fl_ServicoPai) \n",
    "df_cobranca['fl_ServicoPai_indice'] = [marca_lista(lista_fl_ServicoPai, tamanho, variavel)\n",
    "                                       for variavel in df_cobranca.fl_ServicoPai]"
   ]
  },
  {
   "cell_type": "code",
   "execution_count": 22,
   "metadata": {
    "collapsed": false
   },
   "outputs": [
    {
     "data": {
      "text/html": [
       "<div>\n",
       "<table border=\"1\" class=\"dataframe\">\n",
       "  <thead>\n",
       "    <tr style=\"text-align: right;\">\n",
       "      <th>cd_Login</th>\n",
       "      <th>montariaecia</th>\n",
       "      <th>shelterit</th>\n",
       "    </tr>\n",
       "  </thead>\n",
       "  <tbody>\n",
       "    <tr>\n",
       "      <th>﻿cd_ClienteSAP</th>\n",
       "      <td>1002119501</td>\n",
       "      <td>1002301645</td>\n",
       "    </tr>\n",
       "    <tr>\n",
       "      <th>cd_provisioning</th>\n",
       "      <td>4690466</td>\n",
       "      <td>61957861</td>\n",
       "    </tr>\n",
       "    <tr>\n",
       "      <th>ds_FormaPagamento</th>\n",
       "      <td>Cartão de Crédito</td>\n",
       "      <td>Crédito em C/C</td>\n",
       "    </tr>\n",
       "    <tr>\n",
       "      <th>ds_Periodicidade</th>\n",
       "      <td>Trimestral</td>\n",
       "      <td>Mensal</td>\n",
       "    </tr>\n",
       "    <tr>\n",
       "      <th>fl_ServicoPai</th>\n",
       "      <td>SIM</td>\n",
       "      <td>SIM</td>\n",
       "    </tr>\n",
       "    <tr>\n",
       "      <th>mes_idade_cliente</th>\n",
       "      <td>77</td>\n",
       "      <td>69</td>\n",
       "    </tr>\n",
       "    <tr>\n",
       "      <th>mes_idade_provisioning</th>\n",
       "      <td>19</td>\n",
       "      <td>33</td>\n",
       "    </tr>\n",
       "    <tr>\n",
       "      <th>qtd_inadimplencia</th>\n",
       "      <td>8</td>\n",
       "      <td>34</td>\n",
       "    </tr>\n",
       "    <tr>\n",
       "      <th>qtd_produtos_cliente</th>\n",
       "      <td>3</td>\n",
       "      <td>30</td>\n",
       "    </tr>\n",
       "    <tr>\n",
       "      <th>valor_cliente</th>\n",
       "      <td>32.9</td>\n",
       "      <td>188.3</td>\n",
       "    </tr>\n",
       "    <tr>\n",
       "      <th>valor_provisioning</th>\n",
       "      <td>32.9</td>\n",
       "      <td>58.8</td>\n",
       "    </tr>\n",
       "    <tr>\n",
       "      <th>dt_vencimento</th>\n",
       "      <td>2017-03-15 00:00:00</td>\n",
       "      <td>2017-05-01 00:00:00</td>\n",
       "    </tr>\n",
       "    <tr>\n",
       "      <th>ANO_VENCIMENTO</th>\n",
       "      <td>2017</td>\n",
       "      <td>2017</td>\n",
       "    </tr>\n",
       "    <tr>\n",
       "      <th>MES_VENCIMENTO</th>\n",
       "      <td>3</td>\n",
       "      <td>5</td>\n",
       "    </tr>\n",
       "    <tr>\n",
       "      <th>DIA_VENCIMENTO</th>\n",
       "      <td>15</td>\n",
       "      <td>1</td>\n",
       "    </tr>\n",
       "    <tr>\n",
       "      <th>dt_pagamento</th>\n",
       "      <td>1900-01-01 00:00:00</td>\n",
       "      <td>2017-05-02 00:00:00</td>\n",
       "    </tr>\n",
       "    <tr>\n",
       "      <th>ANO_PAGAMENTO</th>\n",
       "      <td>1900</td>\n",
       "      <td>2017</td>\n",
       "    </tr>\n",
       "    <tr>\n",
       "      <th>MES_PAGAMENTO</th>\n",
       "      <td>1</td>\n",
       "      <td>5</td>\n",
       "    </tr>\n",
       "    <tr>\n",
       "      <th>DIA_PAGAMENTO</th>\n",
       "      <td>1</td>\n",
       "      <td>2</td>\n",
       "    </tr>\n",
       "    <tr>\n",
       "      <th>fl_pago</th>\n",
       "      <td>0</td>\n",
       "      <td>1</td>\n",
       "    </tr>\n",
       "    <tr>\n",
       "      <th>fl_cancelado</th>\n",
       "      <td>0</td>\n",
       "      <td>0</td>\n",
       "    </tr>\n",
       "    <tr>\n",
       "      <th>vl_cobranca</th>\n",
       "      <td>105.24</td>\n",
       "      <td>58.81</td>\n",
       "    </tr>\n",
       "    <tr>\n",
       "      <th>diferenca_dias</th>\n",
       "      <td>0</td>\n",
       "      <td>1</td>\n",
       "    </tr>\n",
       "    <tr>\n",
       "      <th>Resposta</th>\n",
       "      <td>0</td>\n",
       "      <td>1</td>\n",
       "    </tr>\n",
       "    <tr>\n",
       "      <th>contagens_anteriores_cliente</th>\n",
       "      <td>0</td>\n",
       "      <td>4</td>\n",
       "    </tr>\n",
       "    <tr>\n",
       "      <th>contagens_anteriores_provisioning</th>\n",
       "      <td>0</td>\n",
       "      <td>1</td>\n",
       "    </tr>\n",
       "    <tr>\n",
       "      <th>AnoMes</th>\n",
       "      <td>2017-03-01 00:00:00</td>\n",
       "      <td>2017-05-01 00:00:00</td>\n",
       "    </tr>\n",
       "    <tr>\n",
       "      <th>ChaveModelo</th>\n",
       "      <td>montariaecia2017-03-01</td>\n",
       "      <td>shelterit2017-05-01</td>\n",
       "    </tr>\n",
       "    <tr>\n",
       "      <th>MRR_aux</th>\n",
       "      <td>2533.3</td>\n",
       "      <td>12992.7</td>\n",
       "    </tr>\n",
       "    <tr>\n",
       "      <th>Score_login</th>\n",
       "      <td>5</td>\n",
       "      <td>10</td>\n",
       "    </tr>\n",
       "    <tr>\n",
       "      <th>ds_FormaPagamento_indice</th>\n",
       "      <td>3</td>\n",
       "      <td>1</td>\n",
       "    </tr>\n",
       "    <tr>\n",
       "      <th>ds_Periodicidade_indice</th>\n",
       "      <td>1</td>\n",
       "      <td>0</td>\n",
       "    </tr>\n",
       "    <tr>\n",
       "      <th>fl_ServicoPai_indice</th>\n",
       "      <td>2</td>\n",
       "      <td>2</td>\n",
       "    </tr>\n",
       "  </tbody>\n",
       "</table>\n",
       "</div>"
      ],
      "text/plain": [
       "cd_Login                                     montariaecia            shelterit\n",
       "﻿cd_ClienteSAP                                 1002119501           1002301645\n",
       "cd_provisioning                                   4690466             61957861\n",
       "ds_FormaPagamento                       Cartão de Crédito       Crédito em C/C\n",
       "ds_Periodicidade                               Trimestral               Mensal\n",
       "fl_ServicoPai                                         SIM                  SIM\n",
       "mes_idade_cliente                                      77                   69\n",
       "mes_idade_provisioning                                 19                   33\n",
       "qtd_inadimplencia                                       8                   34\n",
       "qtd_produtos_cliente                                    3                   30\n",
       "valor_cliente                                        32.9                188.3\n",
       "valor_provisioning                                   32.9                 58.8\n",
       "dt_vencimento                         2017-03-15 00:00:00  2017-05-01 00:00:00\n",
       "ANO_VENCIMENTO                                       2017                 2017\n",
       "MES_VENCIMENTO                                          3                    5\n",
       "DIA_VENCIMENTO                                         15                    1\n",
       "dt_pagamento                          1900-01-01 00:00:00  2017-05-02 00:00:00\n",
       "ANO_PAGAMENTO                                        1900                 2017\n",
       "MES_PAGAMENTO                                           1                    5\n",
       "DIA_PAGAMENTO                                           1                    2\n",
       "fl_pago                                                 0                    1\n",
       "fl_cancelado                                            0                    0\n",
       "vl_cobranca                                        105.24                58.81\n",
       "diferenca_dias                                          0                    1\n",
       "Resposta                                                0                    1\n",
       "contagens_anteriores_cliente                            0                    4\n",
       "contagens_anteriores_provisioning                       0                    1\n",
       "AnoMes                                2017-03-01 00:00:00  2017-05-01 00:00:00\n",
       "ChaveModelo                        montariaecia2017-03-01  shelterit2017-05-01\n",
       "MRR_aux                                            2533.3              12992.7\n",
       "Score_login                                             5                   10\n",
       "ds_FormaPagamento_indice                                3                    1\n",
       "ds_Periodicidade_indice                                 1                    0\n",
       "fl_ServicoPai_indice                                    2                    2"
      ]
     },
     "execution_count": 22,
     "metadata": {},
     "output_type": "execute_result"
    }
   ],
   "source": [
    "df_cobranca.sample(2).T"
   ]
  },
  {
   "cell_type": "code",
   "execution_count": 23,
   "metadata": {
    "collapsed": false
   },
   "outputs": [],
   "source": [
    "df_cobranca.fillna(0,inplace= True)"
   ]
  },
  {
   "cell_type": "code",
   "execution_count": 25,
   "metadata": {
    "collapsed": false
   },
   "outputs": [
    {
     "data": {
      "text/plain": [
       "Index(['﻿cd_ClienteSAP', 'cd_provisioning', 'ds_FormaPagamento',\n",
       "       'ds_Periodicidade', 'fl_ServicoPai', 'mes_idade_cliente',\n",
       "       'mes_idade_provisioning', 'qtd_inadimplencia', 'qtd_produtos_cliente',\n",
       "       'valor_cliente', 'valor_provisioning', 'dt_vencimento',\n",
       "       'ANO_VENCIMENTO', 'MES_VENCIMENTO', 'DIA_VENCIMENTO', 'dt_pagamento',\n",
       "       'ANO_PAGAMENTO', 'MES_PAGAMENTO', 'DIA_PAGAMENTO', 'fl_pago',\n",
       "       'fl_cancelado', 'vl_cobranca', 'diferenca_dias', 'Resposta',\n",
       "       'contagens_anteriores_cliente', 'contagens_anteriores_provisioning',\n",
       "       'AnoMes', 'ChaveModelo', 'MRR_aux', 'Score_login',\n",
       "       'ds_FormaPagamento_indice', 'ds_Periodicidade_indice',\n",
       "       'fl_ServicoPai_indice'],\n",
       "      dtype='object')"
      ]
     },
     "execution_count": 25,
     "metadata": {},
     "output_type": "execute_result"
    }
   ],
   "source": [
    "df_cobranca.columns"
   ]
  },
  {
   "cell_type": "code",
   "execution_count": 224,
   "metadata": {
    "collapsed": false
   },
   "outputs": [
    {
     "name": "stdout",
     "output_type": "stream",
     "text": [
      "Fold # 1\n",
      "train indices: [107739 107740 107741 ..., 323515 323516 323517]\n",
      "validation indices [     0      1      2 ..., 108146 108153 108157]\n",
      "AUC on fold # 1 : 0.842458972493 \n",
      "\n",
      "Fold # 2\n",
      "train indices: [     0      1      2 ..., 323515 323516 323517]\n",
      "validation indices [107739 107740 107741 ..., 215916 215917 215927]\n",
      "AUC on fold # 2 : 0.840428218164 \n",
      "\n",
      "Fold # 3\n",
      "train indices: [     0      1      2 ..., 215916 215917 215927]\n",
      "validation indices [215588 215591 215593 ..., 323515 323516 323517]\n",
      "AUC on fold # 3 : 0.83908209458 \n",
      "\n",
      "Average AUC on 3 folds: 0.840656428412\n"
     ]
    }
   ],
   "source": [
    "colunas =  ['mes_idade_cliente', 'mes_idade_provisioning',\n",
    "            'qtd_produtos_cliente',\n",
    "            'valor_cliente', 'valor_provisioning', \n",
    "            'MRR_aux', 'Score_login',\n",
    "            'ds_Periodicidade_indice', 'fl_ServicoPai_indice',\n",
    "            'Resposta']\n",
    "     \n",
    "     \n",
    "# shuffle rows\n",
    "X = df_cobranca[colunas].copy().sample(frac = 1)\n",
    "\n",
    "# create X and y matrices\n",
    "y = X.Resposta.values\n",
    "X = X.reset_index(drop=True).drop('Resposta', axis = 1).values\n",
    "\n",
    "# scaling\n",
    "scaler = StandardScaler()\n",
    "X = scaler.fit_transform(X)\n",
    "\n",
    "from sklearn.model_selection import StratifiedKFold\n",
    "skf = StratifiedKFold(n_splits=3)\n",
    "\n",
    "auc_list = []\n",
    "k = 1\n",
    "for train, valid in skf.split(X, y):\n",
    "    print('Fold #', k)\n",
    "    print(\"train indices: %s\\nvalidation indices %s\" % (train, valid))\n",
    "    clf = RandomForestClassifier(class_weight='balanced', n_estimators=500, max_depth=10)\n",
    "    clf.fit(X[train], y[train])\n",
    "    y_pred = clf.predict_proba(X[valid])\n",
    "    auc = roc_auc_score(y[valid], y_pred[:,1])\n",
    "    auc_list.append(auc)\n",
    "    print('AUC on fold #', k, ':', auc, '\\n')\n",
    "    k += 1\n",
    "    \n",
    "print('Average AUC on', k-1, 'folds:', np.mean(auc_list))  "
   ]
  },
  {
   "cell_type": "markdown",
   "metadata": {
    "collapsed": true
   },
   "source": [
    "# Marca Base "
   ]
  },
  {
   "cell_type": "code",
   "execution_count": 225,
   "metadata": {
    "collapsed": false
   },
   "outputs": [],
   "source": [
    "colunas =  ['mes_idade_cliente', 'mes_idade_provisioning',\n",
    "            'qtd_produtos_cliente',\n",
    "            'valor_cliente', 'valor_provisioning', \n",
    "            'MRR_aux', 'Score_login',\n",
    "            'ds_Periodicidade_indice', 'fl_ServicoPai_indice']\n",
    "     \n",
    "# shuffle rows\n",
    "X = df_cobranca[colunas].copy()\n",
    "X = scaler.fit_transform(X)"
   ]
  },
  {
   "cell_type": "code",
   "execution_count": 226,
   "metadata": {
    "collapsed": false
   },
   "outputs": [],
   "source": [
    "y_pred = clf.predict_proba(X)\n",
    "y_pred = pd.DataFrame(data=y_pred[:,1])\n",
    "y_pred.rename(columns= {0: 'Prob_Pagamento'}, inplace= True)"
   ]
  },
  {
   "cell_type": "code",
   "execution_count": 227,
   "metadata": {
    "collapsed": false
   },
   "outputs": [
    {
     "data": {
      "text/html": [
       "<div>\n",
       "<table border=\"1\" class=\"dataframe\">\n",
       "  <thead>\n",
       "    <tr style=\"text-align: right;\">\n",
       "      <th></th>\n",
       "      <th>Prob_Pagamento</th>\n",
       "    </tr>\n",
       "  </thead>\n",
       "  <tbody>\n",
       "    <tr>\n",
       "      <th>0</th>\n",
       "      <td>0.168674</td>\n",
       "    </tr>\n",
       "    <tr>\n",
       "      <th>1</th>\n",
       "      <td>0.243646</td>\n",
       "    </tr>\n",
       "    <tr>\n",
       "      <th>2</th>\n",
       "      <td>0.358051</td>\n",
       "    </tr>\n",
       "    <tr>\n",
       "      <th>3</th>\n",
       "      <td>0.612466</td>\n",
       "    </tr>\n",
       "    <tr>\n",
       "      <th>4</th>\n",
       "      <td>0.576266</td>\n",
       "    </tr>\n",
       "  </tbody>\n",
       "</table>\n",
       "</div>"
      ],
      "text/plain": [
       "   Prob_Pagamento\n",
       "0        0.168674\n",
       "1        0.243646\n",
       "2        0.358051\n",
       "3        0.612466\n",
       "4        0.576266"
      ]
     },
     "execution_count": 227,
     "metadata": {},
     "output_type": "execute_result"
    }
   ],
   "source": [
    "y_pred.head()"
   ]
  },
  {
   "cell_type": "code",
   "execution_count": 228,
   "metadata": {
    "collapsed": false
   },
   "outputs": [
    {
     "data": {
      "text/html": [
       "<div>\n",
       "<table border=\"1\" class=\"dataframe\">\n",
       "  <thead>\n",
       "    <tr style=\"text-align: right;\">\n",
       "      <th></th>\n",
       "      <th>﻿cd_ClienteSAP</th>\n",
       "      <th>cd_provisioning</th>\n",
       "      <th>ds_FormaPagamento</th>\n",
       "      <th>ds_Periodicidade</th>\n",
       "      <th>fl_ServicoPai</th>\n",
       "      <th>mes_idade_cliente</th>\n",
       "      <th>mes_idade_provisioning</th>\n",
       "      <th>qtd_inadimplencia</th>\n",
       "      <th>qtd_produtos_cliente</th>\n",
       "      <th>valor_cliente</th>\n",
       "      <th>...</th>\n",
       "      <th>Resposta</th>\n",
       "      <th>contagens_anteriores_cliente</th>\n",
       "      <th>contagens_anteriores_provisioning</th>\n",
       "      <th>AnoMes</th>\n",
       "      <th>ChaveModelo</th>\n",
       "      <th>MRR_aux</th>\n",
       "      <th>Score_login</th>\n",
       "      <th>ds_FormaPagamento_indice</th>\n",
       "      <th>ds_Periodicidade_indice</th>\n",
       "      <th>fl_ServicoPai_indice</th>\n",
       "    </tr>\n",
       "    <tr>\n",
       "      <th>cd_Login</th>\n",
       "      <th></th>\n",
       "      <th></th>\n",
       "      <th></th>\n",
       "      <th></th>\n",
       "      <th></th>\n",
       "      <th></th>\n",
       "      <th></th>\n",
       "      <th></th>\n",
       "      <th></th>\n",
       "      <th></th>\n",
       "      <th></th>\n",
       "      <th></th>\n",
       "      <th></th>\n",
       "      <th></th>\n",
       "      <th></th>\n",
       "      <th></th>\n",
       "      <th></th>\n",
       "      <th></th>\n",
       "      <th></th>\n",
       "      <th></th>\n",
       "      <th></th>\n",
       "    </tr>\n",
       "  </thead>\n",
       "  <tbody>\n",
       "    <tr>\n",
       "      <th>maximusidc</th>\n",
       "      <td>2000807834</td>\n",
       "      <td>64365107</td>\n",
       "      <td>Cupom de Desconto</td>\n",
       "      <td>Mensal</td>\n",
       "      <td>NAO</td>\n",
       "      <td>5.0</td>\n",
       "      <td>4</td>\n",
       "      <td>11</td>\n",
       "      <td>11</td>\n",
       "      <td>3258.8</td>\n",
       "      <td>...</td>\n",
       "      <td>1</td>\n",
       "      <td>0</td>\n",
       "      <td>0</td>\n",
       "      <td>2017-01-01</td>\n",
       "      <td>maximusidc2017-01-01</td>\n",
       "      <td>16294.0</td>\n",
       "      <td>10</td>\n",
       "      <td>0</td>\n",
       "      <td>0</td>\n",
       "      <td>0</td>\n",
       "    </tr>\n",
       "    <tr>\n",
       "      <th>gs3</th>\n",
       "      <td>2000509093</td>\n",
       "      <td>63457765</td>\n",
       "      <td>Crédito em C/C</td>\n",
       "      <td>Trimestral</td>\n",
       "      <td>nao</td>\n",
       "      <td>22.0</td>\n",
       "      <td>15</td>\n",
       "      <td>10</td>\n",
       "      <td>6</td>\n",
       "      <td>21.1</td>\n",
       "      <td>...</td>\n",
       "      <td>1</td>\n",
       "      <td>0</td>\n",
       "      <td>0</td>\n",
       "      <td>2017-01-01</td>\n",
       "      <td>gs32017-01-01</td>\n",
       "      <td>464.2</td>\n",
       "      <td>2</td>\n",
       "      <td>1</td>\n",
       "      <td>1</td>\n",
       "      <td>1</td>\n",
       "    </tr>\n",
       "    <tr>\n",
       "      <th>maxacunha</th>\n",
       "      <td>2000810263</td>\n",
       "      <td>64372479</td>\n",
       "      <td>Crédito em C/C</td>\n",
       "      <td>Mensal</td>\n",
       "      <td>NAO</td>\n",
       "      <td>4.0</td>\n",
       "      <td>4</td>\n",
       "      <td>8</td>\n",
       "      <td>8</td>\n",
       "      <td>90.9</td>\n",
       "      <td>...</td>\n",
       "      <td>1</td>\n",
       "      <td>0</td>\n",
       "      <td>0</td>\n",
       "      <td>2017-01-01</td>\n",
       "      <td>maxacunha2017-01-01</td>\n",
       "      <td>363.6</td>\n",
       "      <td>1</td>\n",
       "      <td>1</td>\n",
       "      <td>0</td>\n",
       "      <td>0</td>\n",
       "    </tr>\n",
       "    <tr>\n",
       "      <th>carlospanda</th>\n",
       "      <td>2000807683</td>\n",
       "      <td>64365130</td>\n",
       "      <td>Boleto Bancário Itaú</td>\n",
       "      <td>Anual</td>\n",
       "      <td>SIM</td>\n",
       "      <td>4.0</td>\n",
       "      <td>4</td>\n",
       "      <td>11</td>\n",
       "      <td>6</td>\n",
       "      <td>35.9</td>\n",
       "      <td>...</td>\n",
       "      <td>1</td>\n",
       "      <td>0</td>\n",
       "      <td>0</td>\n",
       "      <td>2017-01-01</td>\n",
       "      <td>carlospanda2017-01-01</td>\n",
       "      <td>143.6</td>\n",
       "      <td>1</td>\n",
       "      <td>2</td>\n",
       "      <td>2</td>\n",
       "      <td>2</td>\n",
       "    </tr>\n",
       "    <tr>\n",
       "      <th>enxovais87</th>\n",
       "      <td>2000809454</td>\n",
       "      <td>64364530</td>\n",
       "      <td>Boleto Bancário Itaú</td>\n",
       "      <td>Anual</td>\n",
       "      <td>SIM</td>\n",
       "      <td>4.0</td>\n",
       "      <td>4</td>\n",
       "      <td>1</td>\n",
       "      <td>1</td>\n",
       "      <td>79.9</td>\n",
       "      <td>...</td>\n",
       "      <td>1</td>\n",
       "      <td>0</td>\n",
       "      <td>0</td>\n",
       "      <td>2017-01-01</td>\n",
       "      <td>enxovais872017-01-01</td>\n",
       "      <td>319.6</td>\n",
       "      <td>1</td>\n",
       "      <td>2</td>\n",
       "      <td>2</td>\n",
       "      <td>2</td>\n",
       "    </tr>\n",
       "  </tbody>\n",
       "</table>\n",
       "<p>5 rows × 33 columns</p>\n",
       "</div>"
      ],
      "text/plain": [
       "             ﻿cd_ClienteSAP cd_provisioning     ds_FormaPagamento  \\\n",
       "cd_Login                                                            \n",
       "maximusidc       2000807834        64365107     Cupom de Desconto   \n",
       "gs3              2000509093        63457765        Crédito em C/C   \n",
       "maxacunha        2000810263        64372479        Crédito em C/C   \n",
       "carlospanda      2000807683        64365130  Boleto Bancário Itaú   \n",
       "enxovais87       2000809454        64364530  Boleto Bancário Itaú   \n",
       "\n",
       "            ds_Periodicidade fl_ServicoPai  mes_idade_cliente  \\\n",
       "cd_Login                                                        \n",
       "maximusidc            Mensal           NAO                5.0   \n",
       "gs3               Trimestral           nao               22.0   \n",
       "maxacunha             Mensal           NAO                4.0   \n",
       "carlospanda            Anual           SIM                4.0   \n",
       "enxovais87             Anual           SIM                4.0   \n",
       "\n",
       "             mes_idade_provisioning  qtd_inadimplencia  qtd_produtos_cliente  \\\n",
       "cd_Login                                                                       \n",
       "maximusidc                        4                 11                    11   \n",
       "gs3                              15                 10                     6   \n",
       "maxacunha                         4                  8                     8   \n",
       "carlospanda                       4                 11                     6   \n",
       "enxovais87                        4                  1                     1   \n",
       "\n",
       "             valor_cliente          ...           Resposta  \\\n",
       "cd_Login                            ...                      \n",
       "maximusidc          3258.8          ...                  1   \n",
       "gs3                   21.1          ...                  1   \n",
       "maxacunha             90.9          ...                  1   \n",
       "carlospanda           35.9          ...                  1   \n",
       "enxovais87            79.9          ...                  1   \n",
       "\n",
       "            contagens_anteriores_cliente  contagens_anteriores_provisioning  \\\n",
       "cd_Login                                                                      \n",
       "maximusidc                             0                                  0   \n",
       "gs3                                    0                                  0   \n",
       "maxacunha                              0                                  0   \n",
       "carlospanda                            0                                  0   \n",
       "enxovais87                             0                                  0   \n",
       "\n",
       "                AnoMes            ChaveModelo  MRR_aux  Score_login  \\\n",
       "cd_Login                                                              \n",
       "maximusidc  2017-01-01   maximusidc2017-01-01  16294.0           10   \n",
       "gs3         2017-01-01          gs32017-01-01    464.2            2   \n",
       "maxacunha   2017-01-01    maxacunha2017-01-01    363.6            1   \n",
       "carlospanda 2017-01-01  carlospanda2017-01-01    143.6            1   \n",
       "enxovais87  2017-01-01   enxovais872017-01-01    319.6            1   \n",
       "\n",
       "             ds_FormaPagamento_indice  ds_Periodicidade_indice  \\\n",
       "cd_Login                                                         \n",
       "maximusidc                          0                        0   \n",
       "gs3                                 1                        1   \n",
       "maxacunha                           1                        0   \n",
       "carlospanda                         2                        2   \n",
       "enxovais87                          2                        2   \n",
       "\n",
       "             fl_ServicoPai_indice  \n",
       "cd_Login                           \n",
       "maximusidc                      0  \n",
       "gs3                             1  \n",
       "maxacunha                       0  \n",
       "carlospanda                     2  \n",
       "enxovais87                      2  \n",
       "\n",
       "[5 rows x 33 columns]"
      ]
     },
     "execution_count": 228,
     "metadata": {},
     "output_type": "execute_result"
    }
   ],
   "source": [
    "df_cobranca.head()"
   ]
  },
  {
   "cell_type": "code",
   "execution_count": 229,
   "metadata": {
    "collapsed": false
   },
   "outputs": [],
   "source": [
    "df_consolida = pd.concat([df_cobranca.reset_index(), y_pred], axis=1)"
   ]
  },
  {
   "cell_type": "code",
   "execution_count": 230,
   "metadata": {
    "collapsed": false
   },
   "outputs": [
    {
     "data": {
      "text/html": [
       "<div>\n",
       "<table border=\"1\" class=\"dataframe\">\n",
       "  <thead>\n",
       "    <tr style=\"text-align: right;\">\n",
       "      <th></th>\n",
       "      <th>0</th>\n",
       "      <th>1</th>\n",
       "      <th>2</th>\n",
       "      <th>3</th>\n",
       "      <th>4</th>\n",
       "    </tr>\n",
       "  </thead>\n",
       "  <tbody>\n",
       "    <tr>\n",
       "      <th>cd_Login</th>\n",
       "      <td>maximusidc</td>\n",
       "      <td>gs3</td>\n",
       "      <td>maxacunha</td>\n",
       "      <td>carlospanda</td>\n",
       "      <td>enxovais87</td>\n",
       "    </tr>\n",
       "    <tr>\n",
       "      <th>﻿cd_ClienteSAP</th>\n",
       "      <td>2000807834</td>\n",
       "      <td>2000509093</td>\n",
       "      <td>2000810263</td>\n",
       "      <td>2000807683</td>\n",
       "      <td>2000809454</td>\n",
       "    </tr>\n",
       "    <tr>\n",
       "      <th>cd_provisioning</th>\n",
       "      <td>64365107</td>\n",
       "      <td>63457765</td>\n",
       "      <td>64372479</td>\n",
       "      <td>64365130</td>\n",
       "      <td>64364530</td>\n",
       "    </tr>\n",
       "    <tr>\n",
       "      <th>ds_FormaPagamento</th>\n",
       "      <td>Cupom de Desconto</td>\n",
       "      <td>Crédito em C/C</td>\n",
       "      <td>Crédito em C/C</td>\n",
       "      <td>Boleto Bancário Itaú</td>\n",
       "      <td>Boleto Bancário Itaú</td>\n",
       "    </tr>\n",
       "    <tr>\n",
       "      <th>ds_Periodicidade</th>\n",
       "      <td>Mensal</td>\n",
       "      <td>Trimestral</td>\n",
       "      <td>Mensal</td>\n",
       "      <td>Anual</td>\n",
       "      <td>Anual</td>\n",
       "    </tr>\n",
       "    <tr>\n",
       "      <th>fl_ServicoPai</th>\n",
       "      <td>NAO</td>\n",
       "      <td>nao</td>\n",
       "      <td>NAO</td>\n",
       "      <td>SIM</td>\n",
       "      <td>SIM</td>\n",
       "    </tr>\n",
       "    <tr>\n",
       "      <th>mes_idade_cliente</th>\n",
       "      <td>5</td>\n",
       "      <td>22</td>\n",
       "      <td>4</td>\n",
       "      <td>4</td>\n",
       "      <td>4</td>\n",
       "    </tr>\n",
       "    <tr>\n",
       "      <th>mes_idade_provisioning</th>\n",
       "      <td>4</td>\n",
       "      <td>15</td>\n",
       "      <td>4</td>\n",
       "      <td>4</td>\n",
       "      <td>4</td>\n",
       "    </tr>\n",
       "    <tr>\n",
       "      <th>qtd_inadimplencia</th>\n",
       "      <td>11</td>\n",
       "      <td>10</td>\n",
       "      <td>8</td>\n",
       "      <td>11</td>\n",
       "      <td>1</td>\n",
       "    </tr>\n",
       "    <tr>\n",
       "      <th>qtd_produtos_cliente</th>\n",
       "      <td>11</td>\n",
       "      <td>6</td>\n",
       "      <td>8</td>\n",
       "      <td>6</td>\n",
       "      <td>1</td>\n",
       "    </tr>\n",
       "    <tr>\n",
       "      <th>valor_cliente</th>\n",
       "      <td>3258.8</td>\n",
       "      <td>21.1</td>\n",
       "      <td>90.9</td>\n",
       "      <td>35.9</td>\n",
       "      <td>79.9</td>\n",
       "    </tr>\n",
       "    <tr>\n",
       "      <th>valor_provisioning</th>\n",
       "      <td>164</td>\n",
       "      <td>21.1</td>\n",
       "      <td>17.4</td>\n",
       "      <td>59.9</td>\n",
       "      <td>79.9</td>\n",
       "    </tr>\n",
       "    <tr>\n",
       "      <th>dt_vencimento</th>\n",
       "      <td>2017-01-02 00:00:00</td>\n",
       "      <td>2017-01-02 00:00:00</td>\n",
       "      <td>2017-01-02 00:00:00</td>\n",
       "      <td>2017-01-02 00:00:00</td>\n",
       "      <td>2017-01-02 00:00:00</td>\n",
       "    </tr>\n",
       "    <tr>\n",
       "      <th>ANO_VENCIMENTO</th>\n",
       "      <td>2017</td>\n",
       "      <td>2017</td>\n",
       "      <td>2017</td>\n",
       "      <td>2017</td>\n",
       "      <td>2017</td>\n",
       "    </tr>\n",
       "    <tr>\n",
       "      <th>MES_VENCIMENTO</th>\n",
       "      <td>1</td>\n",
       "      <td>1</td>\n",
       "      <td>1</td>\n",
       "      <td>1</td>\n",
       "      <td>1</td>\n",
       "    </tr>\n",
       "    <tr>\n",
       "      <th>DIA_VENCIMENTO</th>\n",
       "      <td>2</td>\n",
       "      <td>2</td>\n",
       "      <td>2</td>\n",
       "      <td>2</td>\n",
       "      <td>2</td>\n",
       "    </tr>\n",
       "    <tr>\n",
       "      <th>dt_pagamento</th>\n",
       "      <td>2017-01-12 00:00:00</td>\n",
       "      <td>2017-01-06 00:00:00</td>\n",
       "      <td>2017-02-01 00:00:00</td>\n",
       "      <td>2017-01-05 00:00:00</td>\n",
       "      <td>2017-01-05 00:00:00</td>\n",
       "    </tr>\n",
       "    <tr>\n",
       "      <th>ANO_PAGAMENTO</th>\n",
       "      <td>2017</td>\n",
       "      <td>2017</td>\n",
       "      <td>2017</td>\n",
       "      <td>2017</td>\n",
       "      <td>2017</td>\n",
       "    </tr>\n",
       "    <tr>\n",
       "      <th>MES_PAGAMENTO</th>\n",
       "      <td>1</td>\n",
       "      <td>1</td>\n",
       "      <td>2</td>\n",
       "      <td>1</td>\n",
       "      <td>1</td>\n",
       "    </tr>\n",
       "    <tr>\n",
       "      <th>DIA_PAGAMENTO</th>\n",
       "      <td>12</td>\n",
       "      <td>6</td>\n",
       "      <td>1</td>\n",
       "      <td>5</td>\n",
       "      <td>5</td>\n",
       "    </tr>\n",
       "    <tr>\n",
       "      <th>fl_pago</th>\n",
       "      <td>1</td>\n",
       "      <td>1</td>\n",
       "      <td>1</td>\n",
       "      <td>1</td>\n",
       "      <td>1</td>\n",
       "    </tr>\n",
       "    <tr>\n",
       "      <th>fl_cancelado</th>\n",
       "      <td>0</td>\n",
       "      <td>0</td>\n",
       "      <td>0</td>\n",
       "      <td>0</td>\n",
       "      <td>0</td>\n",
       "    </tr>\n",
       "    <tr>\n",
       "      <th>vl_cobranca</th>\n",
       "      <td>164</td>\n",
       "      <td>60</td>\n",
       "      <td>17.38</td>\n",
       "      <td>59.9</td>\n",
       "      <td>958.8</td>\n",
       "    </tr>\n",
       "    <tr>\n",
       "      <th>diferenca_dias</th>\n",
       "      <td>10</td>\n",
       "      <td>4</td>\n",
       "      <td>30</td>\n",
       "      <td>3</td>\n",
       "      <td>3</td>\n",
       "    </tr>\n",
       "    <tr>\n",
       "      <th>Resposta</th>\n",
       "      <td>1</td>\n",
       "      <td>1</td>\n",
       "      <td>1</td>\n",
       "      <td>1</td>\n",
       "      <td>1</td>\n",
       "    </tr>\n",
       "    <tr>\n",
       "      <th>contagens_anteriores_cliente</th>\n",
       "      <td>0</td>\n",
       "      <td>0</td>\n",
       "      <td>0</td>\n",
       "      <td>0</td>\n",
       "      <td>0</td>\n",
       "    </tr>\n",
       "    <tr>\n",
       "      <th>contagens_anteriores_provisioning</th>\n",
       "      <td>0</td>\n",
       "      <td>0</td>\n",
       "      <td>0</td>\n",
       "      <td>0</td>\n",
       "      <td>0</td>\n",
       "    </tr>\n",
       "    <tr>\n",
       "      <th>AnoMes</th>\n",
       "      <td>2017-01-01 00:00:00</td>\n",
       "      <td>2017-01-01 00:00:00</td>\n",
       "      <td>2017-01-01 00:00:00</td>\n",
       "      <td>2017-01-01 00:00:00</td>\n",
       "      <td>2017-01-01 00:00:00</td>\n",
       "    </tr>\n",
       "    <tr>\n",
       "      <th>ChaveModelo</th>\n",
       "      <td>maximusidc2017-01-01</td>\n",
       "      <td>gs32017-01-01</td>\n",
       "      <td>maxacunha2017-01-01</td>\n",
       "      <td>carlospanda2017-01-01</td>\n",
       "      <td>enxovais872017-01-01</td>\n",
       "    </tr>\n",
       "    <tr>\n",
       "      <th>MRR_aux</th>\n",
       "      <td>16294</td>\n",
       "      <td>464.2</td>\n",
       "      <td>363.6</td>\n",
       "      <td>143.6</td>\n",
       "      <td>319.6</td>\n",
       "    </tr>\n",
       "    <tr>\n",
       "      <th>Score_login</th>\n",
       "      <td>10</td>\n",
       "      <td>2</td>\n",
       "      <td>1</td>\n",
       "      <td>1</td>\n",
       "      <td>1</td>\n",
       "    </tr>\n",
       "    <tr>\n",
       "      <th>ds_FormaPagamento_indice</th>\n",
       "      <td>0</td>\n",
       "      <td>1</td>\n",
       "      <td>1</td>\n",
       "      <td>2</td>\n",
       "      <td>2</td>\n",
       "    </tr>\n",
       "    <tr>\n",
       "      <th>ds_Periodicidade_indice</th>\n",
       "      <td>0</td>\n",
       "      <td>1</td>\n",
       "      <td>0</td>\n",
       "      <td>2</td>\n",
       "      <td>2</td>\n",
       "    </tr>\n",
       "    <tr>\n",
       "      <th>fl_ServicoPai_indice</th>\n",
       "      <td>0</td>\n",
       "      <td>1</td>\n",
       "      <td>0</td>\n",
       "      <td>2</td>\n",
       "      <td>2</td>\n",
       "    </tr>\n",
       "    <tr>\n",
       "      <th>Prob_Pagamento</th>\n",
       "      <td>0.168674</td>\n",
       "      <td>0.243646</td>\n",
       "      <td>0.358051</td>\n",
       "      <td>0.612466</td>\n",
       "      <td>0.576266</td>\n",
       "    </tr>\n",
       "  </tbody>\n",
       "</table>\n",
       "</div>"
      ],
      "text/plain": [
       "                                                      0                    1  \\\n",
       "cd_Login                                     maximusidc                  gs3   \n",
       "﻿cd_ClienteSAP                               2000807834           2000509093   \n",
       "cd_provisioning                                64365107             63457765   \n",
       "ds_FormaPagamento                     Cupom de Desconto       Crédito em C/C   \n",
       "ds_Periodicidade                                 Mensal           Trimestral   \n",
       "fl_ServicoPai                                       NAO                  nao   \n",
       "mes_idade_cliente                                     5                   22   \n",
       "mes_idade_provisioning                                4                   15   \n",
       "qtd_inadimplencia                                    11                   10   \n",
       "qtd_produtos_cliente                                 11                    6   \n",
       "valor_cliente                                    3258.8                 21.1   \n",
       "valor_provisioning                                  164                 21.1   \n",
       "dt_vencimento                       2017-01-02 00:00:00  2017-01-02 00:00:00   \n",
       "ANO_VENCIMENTO                                     2017                 2017   \n",
       "MES_VENCIMENTO                                        1                    1   \n",
       "DIA_VENCIMENTO                                        2                    2   \n",
       "dt_pagamento                        2017-01-12 00:00:00  2017-01-06 00:00:00   \n",
       "ANO_PAGAMENTO                                      2017                 2017   \n",
       "MES_PAGAMENTO                                         1                    1   \n",
       "DIA_PAGAMENTO                                        12                    6   \n",
       "fl_pago                                               1                    1   \n",
       "fl_cancelado                                          0                    0   \n",
       "vl_cobranca                                         164                   60   \n",
       "diferenca_dias                                       10                    4   \n",
       "Resposta                                              1                    1   \n",
       "contagens_anteriores_cliente                          0                    0   \n",
       "contagens_anteriores_provisioning                     0                    0   \n",
       "AnoMes                              2017-01-01 00:00:00  2017-01-01 00:00:00   \n",
       "ChaveModelo                        maximusidc2017-01-01        gs32017-01-01   \n",
       "MRR_aux                                           16294                464.2   \n",
       "Score_login                                          10                    2   \n",
       "ds_FormaPagamento_indice                              0                    1   \n",
       "ds_Periodicidade_indice                               0                    1   \n",
       "fl_ServicoPai_indice                                  0                    1   \n",
       "Prob_Pagamento                                 0.168674             0.243646   \n",
       "\n",
       "                                                     2                      3  \\\n",
       "cd_Login                                     maxacunha            carlospanda   \n",
       "﻿cd_ClienteSAP                              2000810263             2000807683   \n",
       "cd_provisioning                               64372479               64365130   \n",
       "ds_FormaPagamento                       Crédito em C/C   Boleto Bancário Itaú   \n",
       "ds_Periodicidade                                Mensal                  Anual   \n",
       "fl_ServicoPai                                      NAO                    SIM   \n",
       "mes_idade_cliente                                    4                      4   \n",
       "mes_idade_provisioning                               4                      4   \n",
       "qtd_inadimplencia                                    8                     11   \n",
       "qtd_produtos_cliente                                 8                      6   \n",
       "valor_cliente                                     90.9                   35.9   \n",
       "valor_provisioning                                17.4                   59.9   \n",
       "dt_vencimento                      2017-01-02 00:00:00    2017-01-02 00:00:00   \n",
       "ANO_VENCIMENTO                                    2017                   2017   \n",
       "MES_VENCIMENTO                                       1                      1   \n",
       "DIA_VENCIMENTO                                       2                      2   \n",
       "dt_pagamento                       2017-02-01 00:00:00    2017-01-05 00:00:00   \n",
       "ANO_PAGAMENTO                                     2017                   2017   \n",
       "MES_PAGAMENTO                                        2                      1   \n",
       "DIA_PAGAMENTO                                        1                      5   \n",
       "fl_pago                                              1                      1   \n",
       "fl_cancelado                                         0                      0   \n",
       "vl_cobranca                                      17.38                   59.9   \n",
       "diferenca_dias                                      30                      3   \n",
       "Resposta                                             1                      1   \n",
       "contagens_anteriores_cliente                         0                      0   \n",
       "contagens_anteriores_provisioning                    0                      0   \n",
       "AnoMes                             2017-01-01 00:00:00    2017-01-01 00:00:00   \n",
       "ChaveModelo                        maxacunha2017-01-01  carlospanda2017-01-01   \n",
       "MRR_aux                                          363.6                  143.6   \n",
       "Score_login                                          1                      1   \n",
       "ds_FormaPagamento_indice                             1                      2   \n",
       "ds_Periodicidade_indice                              0                      2   \n",
       "fl_ServicoPai_indice                                 0                      2   \n",
       "Prob_Pagamento                                0.358051               0.612466   \n",
       "\n",
       "                                                      4  \n",
       "cd_Login                                     enxovais87  \n",
       "﻿cd_ClienteSAP                               2000809454  \n",
       "cd_provisioning                                64364530  \n",
       "ds_FormaPagamento                  Boleto Bancário Itaú  \n",
       "ds_Periodicidade                                  Anual  \n",
       "fl_ServicoPai                                       SIM  \n",
       "mes_idade_cliente                                     4  \n",
       "mes_idade_provisioning                                4  \n",
       "qtd_inadimplencia                                     1  \n",
       "qtd_produtos_cliente                                  1  \n",
       "valor_cliente                                      79.9  \n",
       "valor_provisioning                                 79.9  \n",
       "dt_vencimento                       2017-01-02 00:00:00  \n",
       "ANO_VENCIMENTO                                     2017  \n",
       "MES_VENCIMENTO                                        1  \n",
       "DIA_VENCIMENTO                                        2  \n",
       "dt_pagamento                        2017-01-05 00:00:00  \n",
       "ANO_PAGAMENTO                                      2017  \n",
       "MES_PAGAMENTO                                         1  \n",
       "DIA_PAGAMENTO                                         5  \n",
       "fl_pago                                               1  \n",
       "fl_cancelado                                          0  \n",
       "vl_cobranca                                       958.8  \n",
       "diferenca_dias                                        3  \n",
       "Resposta                                              1  \n",
       "contagens_anteriores_cliente                          0  \n",
       "contagens_anteriores_provisioning                     0  \n",
       "AnoMes                              2017-01-01 00:00:00  \n",
       "ChaveModelo                        enxovais872017-01-01  \n",
       "MRR_aux                                           319.6  \n",
       "Score_login                                           1  \n",
       "ds_FormaPagamento_indice                              2  \n",
       "ds_Periodicidade_indice                               2  \n",
       "fl_ServicoPai_indice                                  2  \n",
       "Prob_Pagamento                                 0.576266  "
      ]
     },
     "execution_count": 230,
     "metadata": {},
     "output_type": "execute_result"
    }
   ],
   "source": [
    "df_consolida.head().T"
   ]
  },
  {
   "cell_type": "code",
   "execution_count": 231,
   "metadata": {
    "collapsed": false
   },
   "outputs": [],
   "source": [
    "percentiles = list()\n",
    "inicio = 0\n",
    "fim = 100\n",
    "salto = 0.25\n",
    "aux = round((fim - inicio)/salto)\n",
    "for i in range(aux):\n",
    "    percentiles.append((inicio +i*salto))\n",
    "Perc = cria_curva(percentiles, df_consolida.Prob_Pagamento)\n",
    "df_consolida['Prob_Grupo'] = [marca_base(Perc, x) for x in df_consolida.Prob_Pagamento]\n",
    "dict_lista_aux = {'cd_Login' : 'count',\n",
    "                  'Prob_Pagamento' : 'min',\n",
    "                  'Resposta' : 'mean'}\n",
    "RESUMO = df_consolida.groupby('Prob_Grupo').agg(dict_lista_aux)\n",
    "RESUMO.sort_values(['Prob_Pagamento'], ascending= 0 ,inplace=True)\n",
    "RESUMO.Prob_Pagamento = round(RESUMO.Prob_Pagamento, ndigits = 2)\n",
    "RESUMO['Resposta_aux'] = [p*q for p, q in zip (RESUMO.Resposta, RESUMO.cd_Login)]\n",
    "RESUMO['acumulado'] = RESUMO.cd_Login.cumsum()\n",
    "RESUMO['Prob_acumulado'] = RESUMO.Resposta_aux.cumsum()\n",
    "RESUMO['Resposta_acumulado'] = [p/q for p, q in zip (RESUMO.Prob_acumulado, RESUMO.acumulado)]\n",
    "RESUMO['Prob_Pagamento_aux'] = [p*q for p, q in zip (RESUMO.Prob_Pagamento, RESUMO.cd_Login)]\n",
    "RESUMO['acumulado'] = RESUMO.cd_Login.cumsum()\n",
    "RESUMO['Prob_acumulado'] = RESUMO.Prob_Pagamento_aux.cumsum()\n",
    "RESUMO['Prob_up_acumulado'] = [p/q for p, q in zip (RESUMO.Prob_acumulado, RESUMO.acumulado)]\n",
    "\n",
    "RESUMO['cd_Login_perc'] = RESUMO.cd_Login/RESUMO.cd_Login.sum()\n",
    "RESUMO.reset_index(inplace= True)"
   ]
  },
  {
   "cell_type": "code",
   "execution_count": 232,
   "metadata": {
    "collapsed": false
   },
   "outputs": [
    {
     "data": {
      "text/html": [
       "<div>\n",
       "<table border=\"1\" class=\"dataframe\">\n",
       "  <thead>\n",
       "    <tr style=\"text-align: right;\">\n",
       "      <th></th>\n",
       "      <th>Prob_Grupo</th>\n",
       "      <th>Prob_Pagamento</th>\n",
       "      <th>Resposta</th>\n",
       "      <th>cd_Login</th>\n",
       "      <th>Resposta_aux</th>\n",
       "      <th>acumulado</th>\n",
       "      <th>Prob_acumulado</th>\n",
       "      <th>Resposta_acumulado</th>\n",
       "      <th>Prob_Pagamento_aux</th>\n",
       "      <th>Prob_up_acumulado</th>\n",
       "      <th>cd_Login_perc</th>\n",
       "    </tr>\n",
       "  </thead>\n",
       "  <tbody>\n",
       "    <tr>\n",
       "      <th>0</th>\n",
       "      <td>401</td>\n",
       "      <td>0.85</td>\n",
       "      <td>0.991347</td>\n",
       "      <td>809</td>\n",
       "      <td>802.0</td>\n",
       "      <td>809</td>\n",
       "      <td>687.65</td>\n",
       "      <td>0.991347</td>\n",
       "      <td>687.65</td>\n",
       "      <td>0.850000</td>\n",
       "      <td>0.002501</td>\n",
       "    </tr>\n",
       "    <tr>\n",
       "      <th>1</th>\n",
       "      <td>400</td>\n",
       "      <td>0.84</td>\n",
       "      <td>0.979012</td>\n",
       "      <td>810</td>\n",
       "      <td>793.0</td>\n",
       "      <td>1619</td>\n",
       "      <td>1368.05</td>\n",
       "      <td>0.985176</td>\n",
       "      <td>680.40</td>\n",
       "      <td>0.844997</td>\n",
       "      <td>0.002504</td>\n",
       "    </tr>\n",
       "    <tr>\n",
       "      <th>2</th>\n",
       "      <td>399</td>\n",
       "      <td>0.84</td>\n",
       "      <td>0.982822</td>\n",
       "      <td>815</td>\n",
       "      <td>801.0</td>\n",
       "      <td>2434</td>\n",
       "      <td>2052.65</td>\n",
       "      <td>0.984388</td>\n",
       "      <td>684.60</td>\n",
       "      <td>0.843324</td>\n",
       "      <td>0.002519</td>\n",
       "    </tr>\n",
       "    <tr>\n",
       "      <th>3</th>\n",
       "      <td>398</td>\n",
       "      <td>0.84</td>\n",
       "      <td>0.983791</td>\n",
       "      <td>802</td>\n",
       "      <td>789.0</td>\n",
       "      <td>3236</td>\n",
       "      <td>2726.33</td>\n",
       "      <td>0.984240</td>\n",
       "      <td>673.68</td>\n",
       "      <td>0.842500</td>\n",
       "      <td>0.002479</td>\n",
       "    </tr>\n",
       "    <tr>\n",
       "      <th>4</th>\n",
       "      <td>397</td>\n",
       "      <td>0.84</td>\n",
       "      <td>0.971535</td>\n",
       "      <td>808</td>\n",
       "      <td>785.0</td>\n",
       "      <td>4044</td>\n",
       "      <td>3405.05</td>\n",
       "      <td>0.981701</td>\n",
       "      <td>678.72</td>\n",
       "      <td>0.842000</td>\n",
       "      <td>0.002498</td>\n",
       "    </tr>\n",
       "  </tbody>\n",
       "</table>\n",
       "</div>"
      ],
      "text/plain": [
       "   Prob_Grupo  Prob_Pagamento  Resposta  cd_Login  Resposta_aux  acumulado  \\\n",
       "0         401            0.85  0.991347       809         802.0        809   \n",
       "1         400            0.84  0.979012       810         793.0       1619   \n",
       "2         399            0.84  0.982822       815         801.0       2434   \n",
       "3         398            0.84  0.983791       802         789.0       3236   \n",
       "4         397            0.84  0.971535       808         785.0       4044   \n",
       "\n",
       "   Prob_acumulado  Resposta_acumulado  Prob_Pagamento_aux  Prob_up_acumulado  \\\n",
       "0          687.65            0.991347              687.65           0.850000   \n",
       "1         1368.05            0.985176              680.40           0.844997   \n",
       "2         2052.65            0.984388              684.60           0.843324   \n",
       "3         2726.33            0.984240              673.68           0.842500   \n",
       "4         3405.05            0.981701              678.72           0.842000   \n",
       "\n",
       "   cd_Login_perc  \n",
       "0       0.002501  \n",
       "1       0.002504  \n",
       "2       0.002519  \n",
       "3       0.002479  \n",
       "4       0.002498  "
      ]
     },
     "execution_count": 232,
     "metadata": {},
     "output_type": "execute_result"
    }
   ],
   "source": [
    "RESUMO.head()"
   ]
  },
  {
   "cell_type": "code",
   "execution_count": 233,
   "metadata": {
    "collapsed": false
   },
   "outputs": [
    {
     "data": {
      "text/plain": [
       "<matplotlib.axes._subplots.AxesSubplot at 0x641b44a8>"
      ]
     },
     "execution_count": 233,
     "metadata": {},
     "output_type": "execute_result"
    },
    {
     "data": {
      "image/png": "[encoded data removed]",
      "text/plain": [
       "<matplotlib.figure.Figure at 0x75dfa0b8>"
      ]
     },
     "metadata": {},
     "output_type": "display_data"
    }
   ],
   "source": [
    "RESUMO.Resposta.plot()\n",
    "RESUMO.Resposta_acumulado.plot()\n",
    "RESUMO.Prob_up_acumulado.plot()"
   ]
  },
  {
   "cell_type": "code",
   "execution_count": 234,
   "metadata": {
    "collapsed": false
   },
   "outputs": [
    {
     "data": {
      "text/plain": [
       "Index(['cd_Login', '﻿cd_ClienteSAP', 'cd_provisioning', 'ds_FormaPagamento',\n",
       "       'ds_Periodicidade', 'fl_ServicoPai', 'mes_idade_cliente',\n",
       "       'mes_idade_provisioning', 'qtd_inadimplencia', 'qtd_produtos_cliente',\n",
       "       'valor_cliente', 'valor_provisioning', 'dt_vencimento',\n",
       "       'ANO_VENCIMENTO', 'MES_VENCIMENTO', 'DIA_VENCIMENTO', 'dt_pagamento',\n",
       "       'ANO_PAGAMENTO', 'MES_PAGAMENTO', 'DIA_PAGAMENTO', 'fl_pago',\n",
       "       'fl_cancelado', 'vl_cobranca', 'diferenca_dias', 'Resposta',\n",
       "       'contagens_anteriores_cliente', 'contagens_anteriores_provisioning',\n",
       "       'AnoMes', 'ChaveModelo', 'MRR_aux', 'Score_login',\n",
       "       'ds_FormaPagamento_indice', 'ds_Periodicidade_indice',\n",
       "       'fl_ServicoPai_indice', 'Prob_Pagamento', 'Prob_Grupo'],\n",
       "      dtype='object')"
      ]
     },
     "execution_count": 234,
     "metadata": {},
     "output_type": "execute_result"
    }
   ],
   "source": [
    "df_consolida.columns"
   ]
  },
  {
   "cell_type": "code",
   "execution_count": 235,
   "metadata": {
    "collapsed": false
   },
   "outputs": [
    {
     "data": {
      "text/plain": [
       "(132885, 36)"
      ]
     },
     "execution_count": 235,
     "metadata": {},
     "output_type": "execute_result"
    }
   ],
   "source": [
    "df_consolida.sort_values(['dt_vencimento'], ascending= 0 ,inplace=True)\n",
    "df_consolida[df_consolida.cd_Login.duplicated(keep= 'first') == False].shape"
   ]
  },
  {
   "cell_type": "markdown",
   "metadata": {
    "collapsed": true
   },
   "source": [
    "# Cortando em Decis"
   ]
  },
  {
   "cell_type": "code",
   "execution_count": 236,
   "metadata": {
    "collapsed": false
   },
   "outputs": [
    {
     "name": "stderr",
     "output_type": "stream",
     "text": [
      "D:\\Users\\felipe.santos\\AppData\\Local\\Continuum\\Anaconda3\\lib\\site-packages\\ipykernel\\__main__.py:7: FutureWarning: sort(columns=....) is deprecated, use sort_values(by=.....)\n"
     ]
    },
    {
     "data": {
      "text/html": [
       "<div>\n",
       "<table border=\"1\" class=\"dataframe\">\n",
       "  <thead>\n",
       "    <tr style=\"text-align: right;\">\n",
       "      <th></th>\n",
       "      <th>index</th>\n",
       "      <th>cd_Login</th>\n",
       "      <th>Prob_Pagamento</th>\n",
       "      <th>Score_login</th>\n",
       "      <th>cd_provisioning</th>\n",
       "      <th>Resposta</th>\n",
       "    </tr>\n",
       "  </thead>\n",
       "  <tbody>\n",
       "    <tr>\n",
       "      <th>0</th>\n",
       "      <td>0</td>\n",
       "      <td>idealreservas</td>\n",
       "      <td>0.014023</td>\n",
       "      <td>2</td>\n",
       "      <td>1</td>\n",
       "      <td>0</td>\n",
       "    </tr>\n",
       "    <tr>\n",
       "      <th>1</th>\n",
       "      <td>1</td>\n",
       "      <td>setejr</td>\n",
       "      <td>0.014023</td>\n",
       "      <td>2</td>\n",
       "      <td>1</td>\n",
       "      <td>0</td>\n",
       "    </tr>\n",
       "    <tr>\n",
       "      <th>2</th>\n",
       "      <td>2</td>\n",
       "      <td>outmind</td>\n",
       "      <td>0.014341</td>\n",
       "      <td>2</td>\n",
       "      <td>1</td>\n",
       "      <td>0</td>\n",
       "    </tr>\n",
       "    <tr>\n",
       "      <th>3</th>\n",
       "      <td>3</td>\n",
       "      <td>miguelerafael</td>\n",
       "      <td>0.014526</td>\n",
       "      <td>2</td>\n",
       "      <td>1</td>\n",
       "      <td>0</td>\n",
       "    </tr>\n",
       "    <tr>\n",
       "      <th>4</th>\n",
       "      <td>4</td>\n",
       "      <td>bentoag</td>\n",
       "      <td>0.014526</td>\n",
       "      <td>2</td>\n",
       "      <td>1</td>\n",
       "      <td>0</td>\n",
       "    </tr>\n",
       "    <tr>\n",
       "      <th>5</th>\n",
       "      <td>5</td>\n",
       "      <td>servstartup</td>\n",
       "      <td>0.014526</td>\n",
       "      <td>2</td>\n",
       "      <td>1</td>\n",
       "      <td>0</td>\n",
       "    </tr>\n",
       "    <tr>\n",
       "      <th>6</th>\n",
       "      <td>6</td>\n",
       "      <td>cris106</td>\n",
       "      <td>0.014526</td>\n",
       "      <td>2</td>\n",
       "      <td>1</td>\n",
       "      <td>0</td>\n",
       "    </tr>\n",
       "    <tr>\n",
       "      <th>7</th>\n",
       "      <td>7</td>\n",
       "      <td>blogdevroots</td>\n",
       "      <td>0.014526</td>\n",
       "      <td>2</td>\n",
       "      <td>1</td>\n",
       "      <td>0</td>\n",
       "    </tr>\n",
       "    <tr>\n",
       "      <th>8</th>\n",
       "      <td>8</td>\n",
       "      <td>mfachurch</td>\n",
       "      <td>0.014526</td>\n",
       "      <td>2</td>\n",
       "      <td>1</td>\n",
       "      <td>0</td>\n",
       "    </tr>\n",
       "    <tr>\n",
       "      <th>9</th>\n",
       "      <td>9</td>\n",
       "      <td>royalbrows</td>\n",
       "      <td>0.014526</td>\n",
       "      <td>2</td>\n",
       "      <td>1</td>\n",
       "      <td>0</td>\n",
       "    </tr>\n",
       "  </tbody>\n",
       "</table>\n",
       "</div>"
      ],
      "text/plain": [
       "   index       cd_Login  Prob_Pagamento  Score_login  cd_provisioning  \\\n",
       "0      0  idealreservas        0.014023            2                1   \n",
       "1      1         setejr        0.014023            2                1   \n",
       "2      2        outmind        0.014341            2                1   \n",
       "3      3  miguelerafael        0.014526            2                1   \n",
       "4      4        bentoag        0.014526            2                1   \n",
       "5      5    servstartup        0.014526            2                1   \n",
       "6      6        cris106        0.014526            2                1   \n",
       "7      7   blogdevroots        0.014526            2                1   \n",
       "8      8      mfachurch        0.014526            2                1   \n",
       "9      9     royalbrows        0.014526            2                1   \n",
       "\n",
       "   Resposta  \n",
       "0         0  \n",
       "1         0  \n",
       "2         0  \n",
       "3         0  \n",
       "4         0  \n",
       "5         0  \n",
       "6         0  \n",
       "7         0  \n",
       "8         0  \n",
       "9         0  "
      ]
     },
     "execution_count": 236,
     "metadata": {},
     "output_type": "execute_result"
    }
   ],
   "source": [
    "dict_lista_aux = {'cd_provisioning' : 'count',\n",
    "                  'Prob_Pagamento' : 'mean',\n",
    "                  'Score_login': 'max',\n",
    "                  'Resposta' : 'max'}\n",
    "\n",
    "df_cobranca_aplicacao = df_consolida.reset_index().groupby('cd_Login').agg(dict_lista_aux)\n",
    "df_cobranca_aplicacao = df_cobranca_aplicacao.sort(['Prob_Pagamento'], ascending=[1])\n",
    "df_cobranca_aplicacao.reset_index(inplace= True)\n",
    "df_cobranca_aplicacao.reset_index(inplace= True)\n",
    "df_cobranca_aplicacao.head(10)"
   ]
  },
  {
   "cell_type": "code",
   "execution_count": 237,
   "metadata": {
    "collapsed": false
   },
   "outputs": [
    {
     "data": {
      "text/plain": [
       "[13288, 26576, 39864, 53152, 66440, 79728, 93016, 106304, 119592]"
      ]
     },
     "execution_count": 237,
     "metadata": {},
     "output_type": "execute_result"
    }
   ],
   "source": [
    "c1 = int(0.1*df_cobranca_aplicacao.index.max())\n",
    "\n",
    "\n",
    "Clusters = [c1, \n",
    "            2*c1,\n",
    "            3*c1,\n",
    "            4*c1,\n",
    "            5*c1,\n",
    "            6*c1,\n",
    "            7*c1,\n",
    "            8*c1,\n",
    "            9*c1]\n",
    "\n",
    "Clusters"
   ]
  },
  {
   "cell_type": "code",
   "execution_count": 238,
   "metadata": {
    "collapsed": true
   },
   "outputs": [],
   "source": [
    "df_cobranca_aplicacao['Cluster'] = [marca_base(Clusters, x) for x in df_cobranca_aplicacao.index]"
   ]
  },
  {
   "cell_type": "code",
   "execution_count": 239,
   "metadata": {
    "collapsed": false
   },
   "outputs": [
    {
     "data": {
      "text/html": [
       "<div>\n",
       "<table border=\"1\" class=\"dataframe\">\n",
       "  <thead>\n",
       "    <tr style=\"text-align: right;\">\n",
       "      <th></th>\n",
       "      <th>index</th>\n",
       "      <th>cd_Login</th>\n",
       "      <th>Prob_Pagamento</th>\n",
       "      <th>Score_login</th>\n",
       "      <th>cd_provisioning</th>\n",
       "      <th>Resposta</th>\n",
       "      <th>Cluster</th>\n",
       "    </tr>\n",
       "  </thead>\n",
       "  <tbody>\n",
       "    <tr>\n",
       "      <th>11623</th>\n",
       "      <td>11623</td>\n",
       "      <td>equipamentos1</td>\n",
       "      <td>0.095456</td>\n",
       "      <td>2</td>\n",
       "      <td>1</td>\n",
       "      <td>0</td>\n",
       "      <td>1</td>\n",
       "    </tr>\n",
       "    <tr>\n",
       "      <th>106766</th>\n",
       "      <td>106766</td>\n",
       "      <td>centermat</td>\n",
       "      <td>0.789318</td>\n",
       "      <td>8</td>\n",
       "      <td>1</td>\n",
       "      <td>0</td>\n",
       "      <td>9</td>\n",
       "    </tr>\n",
       "    <tr>\n",
       "      <th>92238</th>\n",
       "      <td>92238</td>\n",
       "      <td>validedigital</td>\n",
       "      <td>0.721702</td>\n",
       "      <td>1</td>\n",
       "      <td>2</td>\n",
       "      <td>1</td>\n",
       "      <td>7</td>\n",
       "    </tr>\n",
       "    <tr>\n",
       "      <th>72819</th>\n",
       "      <td>72819</td>\n",
       "      <td>ajwebdesigner</td>\n",
       "      <td>0.631662</td>\n",
       "      <td>5</td>\n",
       "      <td>3</td>\n",
       "      <td>1</td>\n",
       "      <td>6</td>\n",
       "    </tr>\n",
       "    <tr>\n",
       "      <th>74683</th>\n",
       "      <td>74683</td>\n",
       "      <td>zoomfoccus</td>\n",
       "      <td>0.641310</td>\n",
       "      <td>8</td>\n",
       "      <td>4</td>\n",
       "      <td>1</td>\n",
       "      <td>6</td>\n",
       "    </tr>\n",
       "    <tr>\n",
       "      <th>48214</th>\n",
       "      <td>48214</td>\n",
       "      <td>dbsite1</td>\n",
       "      <td>0.469130</td>\n",
       "      <td>7</td>\n",
       "      <td>22</td>\n",
       "      <td>1</td>\n",
       "      <td>4</td>\n",
       "    </tr>\n",
       "    <tr>\n",
       "      <th>63457</th>\n",
       "      <td>63457</td>\n",
       "      <td>acnetonline</td>\n",
       "      <td>0.594420</td>\n",
       "      <td>10</td>\n",
       "      <td>6</td>\n",
       "      <td>0</td>\n",
       "      <td>5</td>\n",
       "    </tr>\n",
       "    <tr>\n",
       "      <th>76678</th>\n",
       "      <td>76678</td>\n",
       "      <td>lyons17686</td>\n",
       "      <td>0.650202</td>\n",
       "      <td>5</td>\n",
       "      <td>1</td>\n",
       "      <td>1</td>\n",
       "      <td>6</td>\n",
       "    </tr>\n",
       "    <tr>\n",
       "      <th>63491</th>\n",
       "      <td>63491</td>\n",
       "      <td>aboulafc</td>\n",
       "      <td>0.594552</td>\n",
       "      <td>4</td>\n",
       "      <td>1</td>\n",
       "      <td>1</td>\n",
       "      <td>5</td>\n",
       "    </tr>\n",
       "    <tr>\n",
       "      <th>63975</th>\n",
       "      <td>63975</td>\n",
       "      <td>proset</td>\n",
       "      <td>0.597242</td>\n",
       "      <td>4</td>\n",
       "      <td>1</td>\n",
       "      <td>1</td>\n",
       "      <td>5</td>\n",
       "    </tr>\n",
       "  </tbody>\n",
       "</table>\n",
       "</div>"
      ],
      "text/plain": [
       "         index       cd_Login  Prob_Pagamento  Score_login  cd_provisioning  \\\n",
       "11623    11623  equipamentos1        0.095456            2                1   \n",
       "106766  106766      centermat        0.789318            8                1   \n",
       "92238    92238  validedigital        0.721702            1                2   \n",
       "72819    72819  ajwebdesigner        0.631662            5                3   \n",
       "74683    74683     zoomfoccus        0.641310            8                4   \n",
       "48214    48214        dbsite1        0.469130            7               22   \n",
       "63457    63457    acnetonline        0.594420           10                6   \n",
       "76678    76678     lyons17686        0.650202            5                1   \n",
       "63491    63491       aboulafc        0.594552            4                1   \n",
       "63975    63975         proset        0.597242            4                1   \n",
       "\n",
       "        Resposta  Cluster  \n",
       "11623          0        1  \n",
       "106766         0        9  \n",
       "92238          1        7  \n",
       "72819          1        6  \n",
       "74683          1        6  \n",
       "48214          1        4  \n",
       "63457          0        5  \n",
       "76678          1        6  \n",
       "63491          1        5  \n",
       "63975          1        5  "
      ]
     },
     "execution_count": 239,
     "metadata": {},
     "output_type": "execute_result"
    }
   ],
   "source": [
    "df_cobranca_aplicacao.sample(10)"
   ]
  },
  {
   "cell_type": "code",
   "execution_count": 240,
   "metadata": {
    "collapsed": false
   },
   "outputs": [
    {
     "data": {
      "text/html": [
       "<div>\n",
       "<table border=\"1\" class=\"dataframe\">\n",
       "  <thead>\n",
       "    <tr style=\"text-align: right;\">\n",
       "      <th>Score_login</th>\n",
       "      <th>1</th>\n",
       "      <th>2</th>\n",
       "      <th>3</th>\n",
       "      <th>4</th>\n",
       "      <th>5</th>\n",
       "      <th>6</th>\n",
       "      <th>7</th>\n",
       "      <th>8</th>\n",
       "      <th>9</th>\n",
       "      <th>10</th>\n",
       "    </tr>\n",
       "    <tr>\n",
       "      <th>Cluster</th>\n",
       "      <th></th>\n",
       "      <th></th>\n",
       "      <th></th>\n",
       "      <th></th>\n",
       "      <th></th>\n",
       "      <th></th>\n",
       "      <th></th>\n",
       "      <th></th>\n",
       "      <th></th>\n",
       "      <th></th>\n",
       "    </tr>\n",
       "  </thead>\n",
       "  <tbody>\n",
       "    <tr>\n",
       "      <th>9</th>\n",
       "      <td>0.977778</td>\n",
       "      <td>1.000000</td>\n",
       "      <td>1.000000</td>\n",
       "      <td>0.955932</td>\n",
       "      <td>0.966997</td>\n",
       "      <td>0.975788</td>\n",
       "      <td>0.967118</td>\n",
       "      <td>0.977316</td>\n",
       "      <td>0.967707</td>\n",
       "      <td>0.958910</td>\n",
       "    </tr>\n",
       "    <tr>\n",
       "      <th>8</th>\n",
       "      <td>0.961538</td>\n",
       "      <td>1.000000</td>\n",
       "      <td>0.955556</td>\n",
       "      <td>0.990783</td>\n",
       "      <td>0.969796</td>\n",
       "      <td>0.962944</td>\n",
       "      <td>0.966647</td>\n",
       "      <td>0.947026</td>\n",
       "      <td>0.949787</td>\n",
       "      <td>0.956837</td>\n",
       "    </tr>\n",
       "    <tr>\n",
       "      <th>7</th>\n",
       "      <td>0.911111</td>\n",
       "      <td>0.948617</td>\n",
       "      <td>0.966767</td>\n",
       "      <td>0.957182</td>\n",
       "      <td>0.932638</td>\n",
       "      <td>0.931774</td>\n",
       "      <td>0.927358</td>\n",
       "      <td>0.929967</td>\n",
       "      <td>0.932275</td>\n",
       "      <td>0.909560</td>\n",
       "    </tr>\n",
       "    <tr>\n",
       "      <th>6</th>\n",
       "      <td>0.934783</td>\n",
       "      <td>0.974359</td>\n",
       "      <td>0.931437</td>\n",
       "      <td>0.911256</td>\n",
       "      <td>0.905232</td>\n",
       "      <td>0.900939</td>\n",
       "      <td>0.912717</td>\n",
       "      <td>0.910626</td>\n",
       "      <td>0.900893</td>\n",
       "      <td>0.897741</td>\n",
       "    </tr>\n",
       "    <tr>\n",
       "      <th>5</th>\n",
       "      <td>0.948718</td>\n",
       "      <td>0.926042</td>\n",
       "      <td>0.893575</td>\n",
       "      <td>0.878165</td>\n",
       "      <td>0.871257</td>\n",
       "      <td>0.878261</td>\n",
       "      <td>0.860032</td>\n",
       "      <td>0.872363</td>\n",
       "      <td>0.877212</td>\n",
       "      <td>0.847775</td>\n",
       "    </tr>\n",
       "    <tr>\n",
       "      <th>4</th>\n",
       "      <td>0.825553</td>\n",
       "      <td>0.804132</td>\n",
       "      <td>0.800514</td>\n",
       "      <td>0.767694</td>\n",
       "      <td>0.756026</td>\n",
       "      <td>0.743455</td>\n",
       "      <td>0.736383</td>\n",
       "      <td>0.727742</td>\n",
       "      <td>0.694891</td>\n",
       "      <td>0.698198</td>\n",
       "    </tr>\n",
       "    <tr>\n",
       "      <th>3</th>\n",
       "      <td>0.674089</td>\n",
       "      <td>0.651233</td>\n",
       "      <td>0.619547</td>\n",
       "      <td>0.530494</td>\n",
       "      <td>0.486218</td>\n",
       "      <td>0.495392</td>\n",
       "      <td>0.484375</td>\n",
       "      <td>0.432950</td>\n",
       "      <td>0.510280</td>\n",
       "      <td>0.490119</td>\n",
       "    </tr>\n",
       "    <tr>\n",
       "      <th>2</th>\n",
       "      <td>0.414005</td>\n",
       "      <td>0.339991</td>\n",
       "      <td>0.295374</td>\n",
       "      <td>0.282819</td>\n",
       "      <td>0.301047</td>\n",
       "      <td>0.292154</td>\n",
       "      <td>0.242857</td>\n",
       "      <td>0.297753</td>\n",
       "      <td>0.318766</td>\n",
       "      <td>0.203209</td>\n",
       "    </tr>\n",
       "    <tr>\n",
       "      <th>1</th>\n",
       "      <td>0.138861</td>\n",
       "      <td>0.052174</td>\n",
       "      <td>0.104455</td>\n",
       "      <td>0.070946</td>\n",
       "      <td>0.076752</td>\n",
       "      <td>0.102985</td>\n",
       "      <td>0.122830</td>\n",
       "      <td>0.136150</td>\n",
       "      <td>0.044693</td>\n",
       "      <td>0.096154</td>\n",
       "    </tr>\n",
       "    <tr>\n",
       "      <th>0</th>\n",
       "      <td>NaN</td>\n",
       "      <td>NaN</td>\n",
       "      <td>NaN</td>\n",
       "      <td>NaN</td>\n",
       "      <td>NaN</td>\n",
       "      <td>NaN</td>\n",
       "      <td>NaN</td>\n",
       "      <td>NaN</td>\n",
       "      <td>NaN</td>\n",
       "      <td>NaN</td>\n",
       "    </tr>\n",
       "  </tbody>\n",
       "</table>\n",
       "</div>"
      ],
      "text/plain": [
       "Score_login        1         2         3         4         5         6   \\\n",
       "Cluster                                                                   \n",
       "9            0.977778  1.000000  1.000000  0.955932  0.966997  0.975788   \n",
       "8            0.961538  1.000000  0.955556  0.990783  0.969796  0.962944   \n",
       "7            0.911111  0.948617  0.966767  0.957182  0.932638  0.931774   \n",
       "6            0.934783  0.974359  0.931437  0.911256  0.905232  0.900939   \n",
       "5            0.948718  0.926042  0.893575  0.878165  0.871257  0.878261   \n",
       "4            0.825553  0.804132  0.800514  0.767694  0.756026  0.743455   \n",
       "3            0.674089  0.651233  0.619547  0.530494  0.486218  0.495392   \n",
       "2            0.414005  0.339991  0.295374  0.282819  0.301047  0.292154   \n",
       "1            0.138861  0.052174  0.104455  0.070946  0.076752  0.102985   \n",
       "0                 NaN       NaN       NaN       NaN       NaN       NaN   \n",
       "\n",
       "Score_login        7         8         9         10  \n",
       "Cluster                                              \n",
       "9            0.967118  0.977316  0.967707  0.958910  \n",
       "8            0.966647  0.947026  0.949787  0.956837  \n",
       "7            0.927358  0.929967  0.932275  0.909560  \n",
       "6            0.912717  0.910626  0.900893  0.897741  \n",
       "5            0.860032  0.872363  0.877212  0.847775  \n",
       "4            0.736383  0.727742  0.694891  0.698198  \n",
       "3            0.484375  0.432950  0.510280  0.490119  \n",
       "2            0.242857  0.297753  0.318766  0.203209  \n",
       "1            0.122830  0.136150  0.044693  0.096154  \n",
       "0                 NaN       NaN       NaN       NaN  "
      ]
     },
     "execution_count": 240,
     "metadata": {},
     "output_type": "execute_result"
    },
    {
     "data": {
      "image/png": "[encoded data removed]",
      "text/plain": [
       "<matplotlib.figure.Figure at 0x76660c50>"
      ]
     },
     "metadata": {},
     "output_type": "display_data"
    }
   ],
   "source": [
    "agg_dict_heatmap = {'Resposta' : 'mean'}\n",
    "heatmap = df_cobranca_aplicacao.groupby(['Cluster','Score_login']).agg(agg_dict_heatmap).copy()\n",
    "heatmap.reset_index(inplace= True)\n",
    "heatmap = heatmap.pivot('Cluster','Score_login', 'Resposta').copy()\n",
    "heatmap = heatmap.reindex(range(len(heatmap)- 1, -1,-1))\n",
    "sns.heatmap(heatmap, annot=False, linewidths=.5) \n",
    "heatmap"
   ]
  },
  {
   "cell_type": "code",
   "execution_count": 241,
   "metadata": {
    "collapsed": false
   },
   "outputs": [
    {
     "data": {
      "text/plain": [
       "[<matplotlib.lines.Line2D at 0x4b2031d0>]"
      ]
     },
     "execution_count": 241,
     "metadata": {},
     "output_type": "execute_result"
    },
    {
     "data": {
      "image/png": "[encoded data removed]",
      "text/plain": [
       "<matplotlib.figure.Figure at 0x75dfacf8>"
      ]
     },
     "metadata": {},
     "output_type": "display_data"
    }
   ],
   "source": [
    "agg_dict_heatmap = {'Resposta' : 'mean'}\n",
    "plt.plot(df_cobranca_aplicacao.groupby(['Cluster']).agg(agg_dict_heatmap),'r') # plotting t,a separately"
   ]
  },
  {
   "cell_type": "code",
   "execution_count": 242,
   "metadata": {
    "collapsed": false
   },
   "outputs": [
    {
     "data": {
      "text/html": [
       "<div>\n",
       "<table border=\"1\" class=\"dataframe\">\n",
       "  <thead>\n",
       "    <tr style=\"text-align: right;\">\n",
       "      <th>Score_login</th>\n",
       "      <th>1</th>\n",
       "      <th>2</th>\n",
       "      <th>3</th>\n",
       "      <th>4</th>\n",
       "      <th>5</th>\n",
       "      <th>6</th>\n",
       "      <th>7</th>\n",
       "      <th>8</th>\n",
       "      <th>9</th>\n",
       "      <th>10</th>\n",
       "    </tr>\n",
       "    <tr>\n",
       "      <th>Cluster</th>\n",
       "      <th></th>\n",
       "      <th></th>\n",
       "      <th></th>\n",
       "      <th></th>\n",
       "      <th></th>\n",
       "      <th></th>\n",
       "      <th></th>\n",
       "      <th></th>\n",
       "      <th></th>\n",
       "      <th></th>\n",
       "    </tr>\n",
       "  </thead>\n",
       "  <tbody>\n",
       "    <tr>\n",
       "      <th>9</th>\n",
       "      <td>45.0</td>\n",
       "      <td>1.0</td>\n",
       "      <td>3.0</td>\n",
       "      <td>2065.0</td>\n",
       "      <td>2121.0</td>\n",
       "      <td>1776.0</td>\n",
       "      <td>1551.0</td>\n",
       "      <td>1587.0</td>\n",
       "      <td>1827.0</td>\n",
       "      <td>2312.0</td>\n",
       "    </tr>\n",
       "    <tr>\n",
       "      <th>8</th>\n",
       "      <td>52.0</td>\n",
       "      <td>2.0</td>\n",
       "      <td>315.0</td>\n",
       "      <td>651.0</td>\n",
       "      <td>1523.0</td>\n",
       "      <td>1916.0</td>\n",
       "      <td>1709.0</td>\n",
       "      <td>2152.0</td>\n",
       "      <td>2350.0</td>\n",
       "      <td>2618.0</td>\n",
       "    </tr>\n",
       "    <tr>\n",
       "      <th>7</th>\n",
       "      <td>45.0</td>\n",
       "      <td>253.0</td>\n",
       "      <td>331.0</td>\n",
       "      <td>724.0</td>\n",
       "      <td>1054.0</td>\n",
       "      <td>1539.0</td>\n",
       "      <td>2354.0</td>\n",
       "      <td>2713.0</td>\n",
       "      <td>2141.0</td>\n",
       "      <td>2134.0</td>\n",
       "    </tr>\n",
       "    <tr>\n",
       "      <th>6</th>\n",
       "      <td>46.0</td>\n",
       "      <td>156.0</td>\n",
       "      <td>1371.0</td>\n",
       "      <td>2141.0</td>\n",
       "      <td>2332.0</td>\n",
       "      <td>2130.0</td>\n",
       "      <td>1730.0</td>\n",
       "      <td>1421.0</td>\n",
       "      <td>1120.0</td>\n",
       "      <td>841.0</td>\n",
       "    </tr>\n",
       "    <tr>\n",
       "      <th>5</th>\n",
       "      <td>156.0</td>\n",
       "      <td>960.0</td>\n",
       "      <td>2537.0</td>\n",
       "      <td>2528.0</td>\n",
       "      <td>1670.0</td>\n",
       "      <td>1495.0</td>\n",
       "      <td>1236.0</td>\n",
       "      <td>948.0</td>\n",
       "      <td>904.0</td>\n",
       "      <td>854.0</td>\n",
       "    </tr>\n",
       "    <tr>\n",
       "      <th>4</th>\n",
       "      <td>1221.0</td>\n",
       "      <td>2420.0</td>\n",
       "      <td>2336.0</td>\n",
       "      <td>1752.0</td>\n",
       "      <td>1369.0</td>\n",
       "      <td>1146.0</td>\n",
       "      <td>918.0</td>\n",
       "      <td>775.0</td>\n",
       "      <td>685.0</td>\n",
       "      <td>666.0</td>\n",
       "    </tr>\n",
       "    <tr>\n",
       "      <th>3</th>\n",
       "      <td>1976.0</td>\n",
       "      <td>4298.0</td>\n",
       "      <td>2384.0</td>\n",
       "      <td>1033.0</td>\n",
       "      <td>907.0</td>\n",
       "      <td>868.0</td>\n",
       "      <td>512.0</td>\n",
       "      <td>522.0</td>\n",
       "      <td>535.0</td>\n",
       "      <td>253.0</td>\n",
       "    </tr>\n",
       "    <tr>\n",
       "      <th>2</th>\n",
       "      <td>5198.0</td>\n",
       "      <td>2203.0</td>\n",
       "      <td>1967.0</td>\n",
       "      <td>1135.0</td>\n",
       "      <td>764.0</td>\n",
       "      <td>599.0</td>\n",
       "      <td>490.0</td>\n",
       "      <td>356.0</td>\n",
       "      <td>389.0</td>\n",
       "      <td>187.0</td>\n",
       "    </tr>\n",
       "    <tr>\n",
       "      <th>1</th>\n",
       "      <td>4004.0</td>\n",
       "      <td>3105.0</td>\n",
       "      <td>2020.0</td>\n",
       "      <td>1184.0</td>\n",
       "      <td>899.0</td>\n",
       "      <td>670.0</td>\n",
       "      <td>749.0</td>\n",
       "      <td>426.0</td>\n",
       "      <td>179.0</td>\n",
       "      <td>52.0</td>\n",
       "    </tr>\n",
       "    <tr>\n",
       "      <th>0</th>\n",
       "      <td>NaN</td>\n",
       "      <td>NaN</td>\n",
       "      <td>NaN</td>\n",
       "      <td>NaN</td>\n",
       "      <td>NaN</td>\n",
       "      <td>NaN</td>\n",
       "      <td>NaN</td>\n",
       "      <td>NaN</td>\n",
       "      <td>NaN</td>\n",
       "      <td>NaN</td>\n",
       "    </tr>\n",
       "  </tbody>\n",
       "</table>\n",
       "</div>"
      ],
      "text/plain": [
       "Score_login      1       2       3       4       5       6       7       8   \\\n",
       "Cluster                                                                       \n",
       "9              45.0     1.0     3.0  2065.0  2121.0  1776.0  1551.0  1587.0   \n",
       "8              52.0     2.0   315.0   651.0  1523.0  1916.0  1709.0  2152.0   \n",
       "7              45.0   253.0   331.0   724.0  1054.0  1539.0  2354.0  2713.0   \n",
       "6              46.0   156.0  1371.0  2141.0  2332.0  2130.0  1730.0  1421.0   \n",
       "5             156.0   960.0  2537.0  2528.0  1670.0  1495.0  1236.0   948.0   \n",
       "4            1221.0  2420.0  2336.0  1752.0  1369.0  1146.0   918.0   775.0   \n",
       "3            1976.0  4298.0  2384.0  1033.0   907.0   868.0   512.0   522.0   \n",
       "2            5198.0  2203.0  1967.0  1135.0   764.0   599.0   490.0   356.0   \n",
       "1            4004.0  3105.0  2020.0  1184.0   899.0   670.0   749.0   426.0   \n",
       "0               NaN     NaN     NaN     NaN     NaN     NaN     NaN     NaN   \n",
       "\n",
       "Score_login      9       10  \n",
       "Cluster                      \n",
       "9            1827.0  2312.0  \n",
       "8            2350.0  2618.0  \n",
       "7            2141.0  2134.0  \n",
       "6            1120.0   841.0  \n",
       "5             904.0   854.0  \n",
       "4             685.0   666.0  \n",
       "3             535.0   253.0  \n",
       "2             389.0   187.0  \n",
       "1             179.0    52.0  \n",
       "0               NaN     NaN  "
      ]
     },
     "execution_count": 242,
     "metadata": {},
     "output_type": "execute_result"
    },
    {
     "data": {
      "image/png": "[encoded data removed]",
      "text/plain": [
       "<matplotlib.figure.Figure at 0x71509c18>"
      ]
     },
     "metadata": {},
     "output_type": "display_data"
    }
   ],
   "source": [
    "agg_dict_heatmap = {'cd_Login' : 'count'}\n",
    "heatmap = df_cobranca_aplicacao.groupby(['Cluster','Score_login']).agg(agg_dict_heatmap).copy()\n",
    "heatmap.reset_index(inplace= True)\n",
    "heatmap = heatmap.pivot('Cluster','Score_login', 'cd_Login').copy()\n",
    "heatmap = heatmap.reindex(range(len(heatmap)- 1, -1,-1))\n",
    "sns.heatmap(heatmap, annot=False, linewidths=.5) \n",
    "heatmap"
   ]
  },
  {
   "cell_type": "code",
   "execution_count": 243,
   "metadata": {
    "collapsed": false
   },
   "outputs": [],
   "source": [
    "def cria_grupo(n1, n2):\n",
    "    if n1 <= 3 and n2 <=5:\n",
    "        return 'Grupo1: d+7'\n",
    "    else:\n",
    "        if n1 > 3 and n2 <=5:\n",
    "            return 'Grupo2: d+10'\n",
    "        else:\n",
    "            if n1<= 6 and n2 >5:\n",
    "                return 'Grupo3: d+15'\n",
    "            else:\n",
    "                if n1 > 6 and n2 >6:\n",
    "                    return 'Grupo4: d+30'            "
   ]
  },
  {
   "cell_type": "code",
   "execution_count": 244,
   "metadata": {
    "collapsed": false
   },
   "outputs": [],
   "source": [
    "df_cobranca_aplicacao['GrupoDesativacao'] = [cria_grupo(n1, n2) for n1, n2 in \n",
    "                                             zip (df_cobranca_aplicacao.Cluster,df_cobranca_aplicacao.Score_login)]"
   ]
  },
  {
   "cell_type": "code",
   "execution_count": 245,
   "metadata": {
    "collapsed": false
   },
   "outputs": [
    {
     "data": {
      "text/html": [
       "<div>\n",
       "<table border=\"1\" class=\"dataframe\">\n",
       "  <thead>\n",
       "    <tr style=\"text-align: right;\">\n",
       "      <th></th>\n",
       "      <th>index</th>\n",
       "      <th>cd_Login</th>\n",
       "      <th>Prob_Pagamento</th>\n",
       "      <th>Score_login</th>\n",
       "      <th>cd_provisioning</th>\n",
       "      <th>Resposta</th>\n",
       "      <th>Cluster</th>\n",
       "      <th>GrupoDesativacao</th>\n",
       "    </tr>\n",
       "  </thead>\n",
       "  <tbody>\n",
       "    <tr>\n",
       "      <th>0</th>\n",
       "      <td>0</td>\n",
       "      <td>idealreservas</td>\n",
       "      <td>0.014023</td>\n",
       "      <td>2</td>\n",
       "      <td>1</td>\n",
       "      <td>0</td>\n",
       "      <td>1</td>\n",
       "      <td>Grupo1: d+7</td>\n",
       "    </tr>\n",
       "    <tr>\n",
       "      <th>1</th>\n",
       "      <td>1</td>\n",
       "      <td>setejr</td>\n",
       "      <td>0.014023</td>\n",
       "      <td>2</td>\n",
       "      <td>1</td>\n",
       "      <td>0</td>\n",
       "      <td>1</td>\n",
       "      <td>Grupo1: d+7</td>\n",
       "    </tr>\n",
       "    <tr>\n",
       "      <th>2</th>\n",
       "      <td>2</td>\n",
       "      <td>outmind</td>\n",
       "      <td>0.014341</td>\n",
       "      <td>2</td>\n",
       "      <td>1</td>\n",
       "      <td>0</td>\n",
       "      <td>1</td>\n",
       "      <td>Grupo1: d+7</td>\n",
       "    </tr>\n",
       "    <tr>\n",
       "      <th>3</th>\n",
       "      <td>3</td>\n",
       "      <td>miguelerafael</td>\n",
       "      <td>0.014526</td>\n",
       "      <td>2</td>\n",
       "      <td>1</td>\n",
       "      <td>0</td>\n",
       "      <td>1</td>\n",
       "      <td>Grupo1: d+7</td>\n",
       "    </tr>\n",
       "    <tr>\n",
       "      <th>4</th>\n",
       "      <td>4</td>\n",
       "      <td>bentoag</td>\n",
       "      <td>0.014526</td>\n",
       "      <td>2</td>\n",
       "      <td>1</td>\n",
       "      <td>0</td>\n",
       "      <td>1</td>\n",
       "      <td>Grupo1: d+7</td>\n",
       "    </tr>\n",
       "  </tbody>\n",
       "</table>\n",
       "</div>"
      ],
      "text/plain": [
       "   index       cd_Login  Prob_Pagamento  Score_login  cd_provisioning  \\\n",
       "0      0  idealreservas        0.014023            2                1   \n",
       "1      1         setejr        0.014023            2                1   \n",
       "2      2        outmind        0.014341            2                1   \n",
       "3      3  miguelerafael        0.014526            2                1   \n",
       "4      4        bentoag        0.014526            2                1   \n",
       "\n",
       "   Resposta  Cluster GrupoDesativacao  \n",
       "0         0        1      Grupo1: d+7  \n",
       "1         0        1      Grupo1: d+7  \n",
       "2         0        1      Grupo1: d+7  \n",
       "3         0        1      Grupo1: d+7  \n",
       "4         0        1      Grupo1: d+7  "
      ]
     },
     "execution_count": 245,
     "metadata": {},
     "output_type": "execute_result"
    }
   ],
   "source": [
    "df_cobranca_aplicacao.head()"
   ]
  },
  {
   "cell_type": "code",
   "execution_count": 246,
   "metadata": {
    "collapsed": false
   },
   "outputs": [
    {
     "data": {
      "text/plain": [
       "False    132885\n",
       "Name: cd_Login, dtype: int64"
      ]
     },
     "execution_count": 246,
     "metadata": {},
     "output_type": "execute_result"
    }
   ],
   "source": [
    "df_cobranca_aplicacao.cd_Login.duplicated().value_counts()"
   ]
  },
  {
   "cell_type": "code",
   "execution_count": 247,
   "metadata": {
    "collapsed": false
   },
   "outputs": [],
   "source": [
    "agg_dict_heatmap = {'cd_Login' : 'count',\n",
    "                    'Resposta' : 'mean'}\n",
    "\n",
    "relatorio = df_cobranca_aplicacao.groupby(['GrupoDesativacao']).agg(agg_dict_heatmap).copy()\n",
    "relatorio['Tamanho%'] = relatorio.cd_Login/relatorio.cd_Login.sum()"
   ]
  },
  {
   "cell_type": "code",
   "execution_count": 248,
   "metadata": {
    "collapsed": false
   },
   "outputs": [
    {
     "data": {
      "text/html": [
       "<div>\n",
       "<table border=\"1\" class=\"dataframe\">\n",
       "  <thead>\n",
       "    <tr style=\"text-align: right;\">\n",
       "      <th></th>\n",
       "      <th>Resposta</th>\n",
       "      <th>Tamanho%</th>\n",
       "    </tr>\n",
       "    <tr>\n",
       "      <th>GrupoDesativacao</th>\n",
       "      <th></th>\n",
       "      <th></th>\n",
       "    </tr>\n",
       "  </thead>\n",
       "  <tbody>\n",
       "    <tr>\n",
       "      <th>Grupo1: d+7</th>\n",
       "      <td>0.354083</td>\n",
       "      <td>0.261822</td>\n",
       "    </tr>\n",
       "    <tr>\n",
       "      <th>Grupo2: d+10</th>\n",
       "      <td>0.889810</td>\n",
       "      <td>0.262700</td>\n",
       "    </tr>\n",
       "    <tr>\n",
       "      <th>Grupo3: d+15</th>\n",
       "      <td>0.693439</td>\n",
       "      <td>0.187250</td>\n",
       "    </tr>\n",
       "    <tr>\n",
       "      <th>Grupo4: d+30</th>\n",
       "      <td>0.956801</td>\n",
       "      <td>0.288228</td>\n",
       "    </tr>\n",
       "  </tbody>\n",
       "</table>\n",
       "</div>"
      ],
      "text/plain": [
       "                  Resposta  Tamanho%\n",
       "GrupoDesativacao                    \n",
       "Grupo1: d+7       0.354083  0.261822\n",
       "Grupo2: d+10      0.889810  0.262700\n",
       "Grupo3: d+15      0.693439  0.187250\n",
       "Grupo4: d+30      0.956801  0.288228"
      ]
     },
     "execution_count": 248,
     "metadata": {},
     "output_type": "execute_result"
    }
   ],
   "source": [
    "relatorio[['Resposta', 'Tamanho%']]"
   ]
  },
  {
   "cell_type": "markdown",
   "metadata": {},
   "source": [
    "# Aplicação 24/08/2017"
   ]
  },
  {
   "cell_type": "code",
   "execution_count": 249,
   "metadata": {
    "collapsed": false
   },
   "outputs": [
    {
     "data": {
      "text/html": [
       "<div>\n",
       "<table border=\"1\" class=\"dataframe\">\n",
       "  <thead>\n",
       "    <tr style=\"text-align: right;\">\n",
       "      <th>cd_Login</th>\n",
       "      <th>elaconduz</th>\n",
       "    </tr>\n",
       "  </thead>\n",
       "  <tbody>\n",
       "    <tr>\n",
       "      <th>mes_idade_cliente</th>\n",
       "      <td>41.0</td>\n",
       "    </tr>\n",
       "    <tr>\n",
       "      <th>mes_idade_provisioning</th>\n",
       "      <td>41.0</td>\n",
       "    </tr>\n",
       "    <tr>\n",
       "      <th>qtd_produtos_cliente</th>\n",
       "      <td>6.0</td>\n",
       "    </tr>\n",
       "    <tr>\n",
       "      <th>valor_cliente</th>\n",
       "      <td>35.2</td>\n",
       "    </tr>\n",
       "    <tr>\n",
       "      <th>valor_provisioning</th>\n",
       "      <td>35.2</td>\n",
       "    </tr>\n",
       "    <tr>\n",
       "      <th>MRR_aux</th>\n",
       "      <td>1443.2</td>\n",
       "    </tr>\n",
       "    <tr>\n",
       "      <th>Score_login</th>\n",
       "      <td>4.0</td>\n",
       "    </tr>\n",
       "    <tr>\n",
       "      <th>ds_Periodicidade_indice</th>\n",
       "      <td>1.0</td>\n",
       "    </tr>\n",
       "    <tr>\n",
       "      <th>fl_ServicoPai_indice</th>\n",
       "      <td>2.0</td>\n",
       "    </tr>\n",
       "  </tbody>\n",
       "</table>\n",
       "</div>"
      ],
      "text/plain": [
       "cd_Login                 elaconduz\n",
       "mes_idade_cliente             41.0\n",
       "mes_idade_provisioning        41.0\n",
       "qtd_produtos_cliente           6.0\n",
       "valor_cliente                 35.2\n",
       "valor_provisioning            35.2\n",
       "MRR_aux                     1443.2\n",
       "Score_login                    4.0\n",
       "ds_Periodicidade_indice        1.0\n",
       "fl_ServicoPai_indice           2.0"
      ]
     },
     "execution_count": 249,
     "metadata": {},
     "output_type": "execute_result"
    }
   ],
   "source": [
    "df_cobranca[colunas].sample().T"
   ]
  },
  {
   "cell_type": "code",
   "execution_count": 250,
   "metadata": {
    "collapsed": false
   },
   "outputs": [],
   "source": [
    "LoginsCiclo_20082017 = pd.read_csv('./Logins.txt', header= None)"
   ]
  },
  {
   "cell_type": "code",
   "execution_count": 251,
   "metadata": {
    "collapsed": false
   },
   "outputs": [],
   "source": [
    "LoginsCiclo_20082017.rename(columns={0 : 'cd_Login'}, inplace=True)"
   ]
  },
  {
   "cell_type": "code",
   "execution_count": 252,
   "metadata": {
    "collapsed": false
   },
   "outputs": [
    {
     "data": {
      "text/plain": [
       "False    12060\n",
       "True      8602\n",
       "Name: cd_Login, dtype: int64"
      ]
     },
     "execution_count": 252,
     "metadata": {},
     "output_type": "execute_result"
    }
   ],
   "source": [
    "LoginsCiclo_20082017.cd_Login.duplicated().value_counts()"
   ]
  },
  {
   "cell_type": "code",
   "execution_count": 253,
   "metadata": {
    "collapsed": false
   },
   "outputs": [],
   "source": [
    "LoginsCiclo_20082017 = LoginsCiclo_20082017[LoginsCiclo_20082017.cd_Login.duplicated(keep= 'first') == False].copy()"
   ]
  },
  {
   "cell_type": "code",
   "execution_count": 254,
   "metadata": {
    "collapsed": false
   },
   "outputs": [
    {
     "data": {
      "text/html": [
       "<div>\n",
       "<table border=\"1\" class=\"dataframe\">\n",
       "  <thead>\n",
       "    <tr style=\"text-align: right;\">\n",
       "      <th></th>\n",
       "      <th>cd_Login</th>\n",
       "    </tr>\n",
       "  </thead>\n",
       "  <tbody>\n",
       "    <tr>\n",
       "      <th>0</th>\n",
       "      <td>elofarma</td>\n",
       "    </tr>\n",
       "    <tr>\n",
       "      <th>3</th>\n",
       "      <td>eticatel</td>\n",
       "    </tr>\n",
       "    <tr>\n",
       "      <th>4</th>\n",
       "      <td>premixbrasil</td>\n",
       "    </tr>\n",
       "    <tr>\n",
       "      <th>5</th>\n",
       "      <td>lgfaustino</td>\n",
       "    </tr>\n",
       "    <tr>\n",
       "      <th>6</th>\n",
       "      <td>j2solution</td>\n",
       "    </tr>\n",
       "  </tbody>\n",
       "</table>\n",
       "</div>"
      ],
      "text/plain": [
       "               cd_Login\n",
       "0  elofarma            \n",
       "3  eticatel            \n",
       "4  premixbrasil        \n",
       "5  lgfaustino          \n",
       "6  j2solution          "
      ]
     },
     "execution_count": 254,
     "metadata": {},
     "output_type": "execute_result"
    }
   ],
   "source": [
    "LoginsCiclo_20082017.head()"
   ]
  },
  {
   "cell_type": "code",
   "execution_count": 255,
   "metadata": {
    "collapsed": false
   },
   "outputs": [
    {
     "data": {
      "text/plain": [
       "(12060, 1)"
      ]
     },
     "execution_count": 255,
     "metadata": {},
     "output_type": "execute_result"
    }
   ],
   "source": [
    "LoginsCiclo_20082017.shape"
   ]
  },
  {
   "cell_type": "code",
   "execution_count": 256,
   "metadata": {
    "collapsed": true
   },
   "outputs": [],
   "source": [
    "df_base = pd.read_csv('D:/Users/felipe.santos/Desktop/Algoritmos/AlgoritmosTodosProdutos/Churn_Consumo_Recomendacao_18.08.2017.csv'\n",
    "                      , error_bad_lines = False\n",
    "                      , sep=';'\n",
    "                      , dtype= {7: str}\n",
    "                      , encoding='latin-1'\n",
    "                      , header = 0)"
   ]
  },
  {
   "cell_type": "code",
   "execution_count": 258,
   "metadata": {
    "collapsed": true
   },
   "outputs": [],
   "source": [
    "tamanho = len(lista_ds_Periodicidade) \n",
    "df_base['ds_Periodicidade_indice'] = [marca_lista(lista_ds_Periodicidade, tamanho, variavel) \n",
    "                                          for variavel in df_base.ds_Periodicidade]\n",
    "\n",
    "tamanho = len(lista_fl_ServicoPai) \n",
    "df_base['fl_ServicoPai_indice'] = [marca_lista(lista_fl_ServicoPai, tamanho, variavel)\n",
    "                                       for variavel in df_base.fl_ServicoPai]"
   ]
  },
  {
   "cell_type": "code",
   "execution_count": 259,
   "metadata": {
    "collapsed": false
   },
   "outputs": [],
   "source": [
    "def diff_month(d1, d2):\n",
    "    return (d1.year - d2.year)*12 + d1.month - d2.month\n",
    "\n",
    "def periodicidade(x):\n",
    "    if x == 'Trienal':\n",
    "        return 36    \n",
    "    elif x == 'Anual':\n",
    "        return 12\n",
    "    elif x == 'Semestral':\n",
    "        return 6\n",
    "    elif x == 'Trimestral':\n",
    "        return 3\n",
    "    else: \n",
    "        return 1\n",
    "\n",
    "def marca_lista(lista, tamanho, variavel):\n",
    "    i = 0\n",
    "    for i in range(tamanho):\n",
    "        if variavel == lista[i]: return i\n",
    "                \n",
    "def cria_curva(percentiles, variavel):\n",
    "    Perc = list()\n",
    "    for i in range(len(percentiles)):\n",
    "        Perc.append(np.percentile(variavel, percentiles[i]))\n",
    "    return Perc\n",
    "\n",
    "def marca_base(Perc, x):\n",
    "    if x >= Perc[(len(Perc)-1)]:\n",
    "        return len(Perc) +1\n",
    "    else:\n",
    "        for i in range(len(Perc)):\n",
    "            if x < Perc[i]:\n",
    "                return i + 1\n",
    "            \n",
    "            \n",
    "            \n",
    "            \n",
    "df_base['Status'] = ['ativo' if s in ['Ativo', 'Atendido', 'Em ativação',\n",
    "                                      'Aguardando ativação'] else 'inativo'\n",
    "                     for s in df_base.Status]\n",
    "\n",
    "\n",
    "df_base['fl_Dev'] = df_base['fl_Dev'].astype(float,)\n",
    "\n",
    "df_base = df_base[(df_base.nr_PrecoMensal > '0,00')].copy()\n",
    "df_base.sort_values(['Instalacao'], ascending= 1 ,inplace=True)\n",
    "df_base.drop_duplicates(['Provisioning'], keep='last', inplace= True)\n",
    "col_datas = ['Data_Desativacao', 'Data_Fim', 'Instalacao', 'dt_Reativacao', 'Primeiro_Servico_LW']\n",
    "converte_datetime(df_base, col_datas)\n",
    "df_base['Data_Fim_flag'] = [1 if d_fim != datetime(1900,1,1) else 0 for d_fim in df_base.Data_Fim]\n",
    "df_base['Data_Desativacao_flag'] = [1 if f_des != datetime(1900,1,1) else 0 for f_des in df_base.Data_Desativacao]\n",
    "df_base['Data_Desativacao_flag'] = [1 if f_des != datetime(1900,1,1) else 0 for f_des in df_base.Data_Desativacao]\n",
    "df_base['Data_churn'] = df_base[['Data_Fim', 'Data_Desativacao']].min(axis = 1).astype('datetime64[ns]')\n",
    "df_base['Data_churn'] = [d_fim if ((d_des < d_rea < d_fim) & f_fim & f_des) else d_chu\n",
    "                              for d_des, d_rea, d_fim, f_fim, f_des, d_chu in \n",
    "                              zip(df_base.Data_Desativacao, df_base.dt_Reativacao, \n",
    "                                  df_base.Data_Fim, df_base.Data_Fim_flag, \n",
    "                                  df_base.Data_Desativacao_flag, df_base.Data_churn)]\n",
    "df_base['Data_churn_flag'] = [1 if d > datetime(1900, 1, 1) else 0 for d in df_base.Data_churn]\n",
    "\n",
    "#######################################\n",
    "\n",
    "df_base = df_base[df_base.Primeiro_Servico_LW >= datetime(1990,1,1)].copy()  #\n",
    "\n",
    "#######################################\n",
    "\n",
    "\n",
    "df_base['Primeiro_Servico_LW_AnoMes'] = [datetime(d.year, d.month, 1) for d in df_base.Primeiro_Servico_LW]\n",
    "df_base['Instalacao_AnoMes'] = [datetime(d.year, d.month, 1) for d in df_base.Instalacao]\n",
    "df_base['Data_churn_AnoMes'] = [datetime(d.year, d.month, 1) for d in df_base.Data_churn]\n",
    "df_base['fl_ServicoPai'] = [1 if s in ['SIM', 'Sim', 'sim'] else 0 for s in df_base.fl_ServicoPai]\n",
    "df_base['fl_GerenteConta'] = [0 if s== 1 else 1 for s in df_base.id_GerenteConta]\n",
    "df_base['nr_PrecoMensal'] = [x.replace(',', '.') for x in df_base.nr_PrecoMensal]\n",
    "df_base['nr_PrecoMensal'] = df_base.nr_PrecoMensal.astype(float)\n",
    "df_base['MesesParaChurn'] = [diff_month(ch, ins) if ch > datetime(1900, 1, 1) else 0\n",
    "                           for ch, ins in  zip(df_base.Data_churn, df_base.Instalacao)]\n",
    "df_base['FlagChurn'] = [1 if d!= 0 else 0 for d in df_base.MesesParaChurn]"
   ]
  },
  {
   "cell_type": "code",
   "execution_count": 260,
   "metadata": {
    "collapsed": false
   },
   "outputs": [
    {
     "data": {
      "text/plain": [
       "Index(['Provisioning', 'cd_ChaveCliente', 'nr_PrecoMensal', 'ds_Periodicidade',\n",
       "       'Instalacao', 'Primeiro_Servico_LW', 'dt_Reativacao', 'fl_ServicoPai',\n",
       "       'id_GerenteConta', 'Servico', 'fl_Dev', 'Perfil', 'classificacao',\n",
       "       'Status', 'Data_Fim', 'Data_Desativacao', 'ds_Periodicidade_indice',\n",
       "       'fl_ServicoPai_indice', 'Data_Fim_flag', 'Data_Desativacao_flag',\n",
       "       'Data_churn', 'Data_churn_flag', 'Primeiro_Servico_LW_AnoMes',\n",
       "       'Instalacao_AnoMes', 'Data_churn_AnoMes', 'fl_GerenteConta',\n",
       "       'MesesParaChurn', 'FlagChurn'],\n",
       "      dtype='object')"
      ]
     },
     "execution_count": 260,
     "metadata": {},
     "output_type": "execute_result"
    }
   ],
   "source": [
    "df_base.columns"
   ]
  },
  {
   "cell_type": "code",
   "execution_count": 261,
   "metadata": {
    "collapsed": true
   },
   "outputs": [],
   "source": [
    "HelpFlose = pd.read_csv('./HelpFlose.csv', header = 0, sep=';')\n",
    "HelpFlose.rename(columns={'cd_Cliente' : 'cd_Login', 'cd_Provisioning':'Provisioning'}, inplace=True)"
   ]
  },
  {
   "cell_type": "code",
   "execution_count": 262,
   "metadata": {
    "collapsed": false
   },
   "outputs": [
    {
     "data": {
      "text/html": [
       "<div>\n",
       "<table border=\"1\" class=\"dataframe\">\n",
       "  <thead>\n",
       "    <tr style=\"text-align: right;\">\n",
       "      <th></th>\n",
       "      <th>cd_Login</th>\n",
       "      <th>Provisioning</th>\n",
       "    </tr>\n",
       "  </thead>\n",
       "  <tbody>\n",
       "    <tr>\n",
       "      <th>196649</th>\n",
       "      <td>netestudio1</td>\n",
       "      <td>8764512</td>\n",
       "    </tr>\n",
       "    <tr>\n",
       "      <th>170810</th>\n",
       "      <td>cpditb</td>\n",
       "      <td>61925411</td>\n",
       "    </tr>\n",
       "    <tr>\n",
       "      <th>93815</th>\n",
       "      <td>reatoscomunicacao</td>\n",
       "      <td>63532635</td>\n",
       "    </tr>\n",
       "    <tr>\n",
       "      <th>225572</th>\n",
       "      <td>amixel</td>\n",
       "      <td>8328800</td>\n",
       "    </tr>\n",
       "    <tr>\n",
       "      <th>162569</th>\n",
       "      <td>oabpi</td>\n",
       "      <td>63470598</td>\n",
       "    </tr>\n",
       "    <tr>\n",
       "      <th>130446</th>\n",
       "      <td>impercap</td>\n",
       "      <td>60631886</td>\n",
       "    </tr>\n",
       "    <tr>\n",
       "      <th>177514</th>\n",
       "      <td>dnadobrasil</td>\n",
       "      <td>6287228</td>\n",
       "    </tr>\n",
       "    <tr>\n",
       "      <th>202491</th>\n",
       "      <td>w3telecom</td>\n",
       "      <td>60719449</td>\n",
       "    </tr>\n",
       "    <tr>\n",
       "      <th>86673</th>\n",
       "      <td>marfcontabilidade</td>\n",
       "      <td>68472</td>\n",
       "    </tr>\n",
       "    <tr>\n",
       "      <th>114997</th>\n",
       "      <td>verbe</td>\n",
       "      <td>63419484</td>\n",
       "    </tr>\n",
       "  </tbody>\n",
       "</table>\n",
       "</div>"
      ],
      "text/plain": [
       "                 cd_Login  Provisioning\n",
       "196649        netestudio1       8764512\n",
       "170810             cpditb      61925411\n",
       "93815   reatoscomunicacao      63532635\n",
       "225572             amixel       8328800\n",
       "162569              oabpi      63470598\n",
       "130446           impercap      60631886\n",
       "177514        dnadobrasil       6287228\n",
       "202491          w3telecom      60719449\n",
       "86673   marfcontabilidade         68472\n",
       "114997              verbe      63419484"
      ]
     },
     "execution_count": 262,
     "metadata": {},
     "output_type": "execute_result"
    }
   ],
   "source": [
    "HelpFlose.sample(10)"
   ]
  },
  {
   "cell_type": "code",
   "execution_count": 263,
   "metadata": {
    "collapsed": false
   },
   "outputs": [
    {
     "data": {
      "text/plain": [
       "False    250525\n",
       "True         32\n",
       "Name: Provisioning, dtype: int64"
      ]
     },
     "execution_count": 263,
     "metadata": {},
     "output_type": "execute_result"
    }
   ],
   "source": [
    "HelpFlose.Provisioning.duplicated().value_counts()"
   ]
  },
  {
   "cell_type": "code",
   "execution_count": 264,
   "metadata": {
    "collapsed": false
   },
   "outputs": [
    {
     "data": {
      "text/plain": [
       "True     238502\n",
       "False     12055\n",
       "Name: cd_Login, dtype: int64"
      ]
     },
     "execution_count": 264,
     "metadata": {},
     "output_type": "execute_result"
    }
   ],
   "source": [
    "HelpFlose.cd_Login.duplicated().value_counts()"
   ]
  },
  {
   "cell_type": "code",
   "execution_count": 265,
   "metadata": {
    "collapsed": false
   },
   "outputs": [
    {
     "data": {
      "text/plain": [
       "(43782, 3)"
      ]
     },
     "execution_count": 265,
     "metadata": {},
     "output_type": "execute_result"
    }
   ],
   "source": [
    "HelpFlose = pd.merge(df_base[['Provisioning','cd_ChaveCliente']], HelpFlose, how='inner', on=['Provisioning'])\n",
    "HelpFlose.shape"
   ]
  },
  {
   "cell_type": "code",
   "execution_count": 266,
   "metadata": {
    "collapsed": false
   },
   "outputs": [
    {
     "data": {
      "text/html": [
       "<div>\n",
       "<table border=\"1\" class=\"dataframe\">\n",
       "  <thead>\n",
       "    <tr style=\"text-align: right;\">\n",
       "      <th></th>\n",
       "      <th>Provisioning</th>\n",
       "      <th>cd_ChaveCliente</th>\n",
       "      <th>cd_Login</th>\n",
       "    </tr>\n",
       "  </thead>\n",
       "  <tbody>\n",
       "    <tr>\n",
       "      <th>7638</th>\n",
       "      <td>411282</td>\n",
       "      <td>__09054570000139__</td>\n",
       "      <td>marko1</td>\n",
       "    </tr>\n",
       "  </tbody>\n",
       "</table>\n",
       "</div>"
      ],
      "text/plain": [
       "      Provisioning     cd_ChaveCliente cd_Login\n",
       "7638        411282  __09054570000139__   marko1"
      ]
     },
     "execution_count": 266,
     "metadata": {},
     "output_type": "execute_result"
    }
   ],
   "source": [
    "HelpFlose.sample()"
   ]
  },
  {
   "cell_type": "code",
   "execution_count": 267,
   "metadata": {
    "collapsed": false
   },
   "outputs": [
    {
     "data": {
      "text/plain": [
       "False    43782\n",
       "Name: Provisioning, dtype: int64"
      ]
     },
     "execution_count": 267,
     "metadata": {},
     "output_type": "execute_result"
    }
   ],
   "source": [
    "HelpFlose.Provisioning.duplicated().value_counts()"
   ]
  },
  {
   "cell_type": "code",
   "execution_count": 268,
   "metadata": {
    "collapsed": false
   },
   "outputs": [
    {
     "data": {
      "text/plain": [
       "True     31760\n",
       "False    12022\n",
       "Name: cd_Login, dtype: int64"
      ]
     },
     "execution_count": 268,
     "metadata": {},
     "output_type": "execute_result"
    }
   ],
   "source": [
    "HelpFlose.cd_Login.duplicated().value_counts()"
   ]
  },
  {
   "cell_type": "code",
   "execution_count": 269,
   "metadata": {
    "collapsed": false
   },
   "outputs": [
    {
     "data": {
      "text/plain": [
       "False    12022\n",
       "Name: cd_Login, dtype: int64"
      ]
     },
     "execution_count": 269,
     "metadata": {},
     "output_type": "execute_result"
    }
   ],
   "source": [
    "HelpFlose = HelpFlose[HelpFlose.cd_Login.duplicated(keep= 'first') == False].copy()\n",
    "HelpFlose.cd_Login.duplicated().value_counts()"
   ]
  },
  {
   "cell_type": "code",
   "execution_count": 270,
   "metadata": {
    "collapsed": false
   },
   "outputs": [
    {
     "data": {
      "text/plain": [
       "Index(['Provisioning', 'cd_ChaveCliente', 'cd_Login'], dtype='object')"
      ]
     },
     "execution_count": 270,
     "metadata": {},
     "output_type": "execute_result"
    }
   ],
   "source": [
    "HelpFlose.columns"
   ]
  },
  {
   "cell_type": "code",
   "execution_count": 271,
   "metadata": {
    "collapsed": false
   },
   "outputs": [
    {
     "data": {
      "text/plain": [
       "Index(['Provisioning', 'cd_ChaveCliente', 'nr_PrecoMensal', 'ds_Periodicidade',\n",
       "       'Instalacao', 'Primeiro_Servico_LW', 'dt_Reativacao', 'fl_ServicoPai',\n",
       "       'id_GerenteConta', 'Servico', 'fl_Dev', 'Perfil', 'classificacao',\n",
       "       'Status', 'Data_Fim', 'Data_Desativacao', 'ds_Periodicidade_indice',\n",
       "       'fl_ServicoPai_indice', 'Data_Fim_flag', 'Data_Desativacao_flag',\n",
       "       'Data_churn', 'Data_churn_flag', 'Primeiro_Servico_LW_AnoMes',\n",
       "       'Instalacao_AnoMes', 'Data_churn_AnoMes', 'fl_GerenteConta',\n",
       "       'MesesParaChurn', 'FlagChurn'],\n",
       "      dtype='object')"
      ]
     },
     "execution_count": 271,
     "metadata": {},
     "output_type": "execute_result"
    }
   ],
   "source": [
    "df_base.columns"
   ]
  },
  {
   "cell_type": "code",
   "execution_count": 272,
   "metadata": {
    "collapsed": false
   },
   "outputs": [],
   "source": [
    "df_base = pd.merge(df_base, HelpFlose[['cd_ChaveCliente', 'cd_Login']], how='inner', on=['cd_ChaveCliente'])"
   ]
  },
  {
   "cell_type": "code",
   "execution_count": 273,
   "metadata": {
    "collapsed": false
   },
   "outputs": [
    {
     "data": {
      "text/plain": [
       "Index(['Provisioning', 'cd_ChaveCliente', 'nr_PrecoMensal', 'ds_Periodicidade',\n",
       "       'Instalacao', 'Primeiro_Servico_LW', 'dt_Reativacao', 'fl_ServicoPai',\n",
       "       'id_GerenteConta', 'Servico', 'fl_Dev', 'Perfil', 'classificacao',\n",
       "       'Status', 'Data_Fim', 'Data_Desativacao', 'ds_Periodicidade_indice',\n",
       "       'fl_ServicoPai_indice', 'Data_Fim_flag', 'Data_Desativacao_flag',\n",
       "       'Data_churn', 'Data_churn_flag', 'Primeiro_Servico_LW_AnoMes',\n",
       "       'Instalacao_AnoMes', 'Data_churn_AnoMes', 'fl_GerenteConta',\n",
       "       'MesesParaChurn', 'FlagChurn', 'cd_Login'],\n",
       "      dtype='object')"
      ]
     },
     "execution_count": 273,
     "metadata": {},
     "output_type": "execute_result"
    }
   ],
   "source": [
    "df_base.columns"
   ]
  },
  {
   "cell_type": "code",
   "execution_count": 274,
   "metadata": {
    "collapsed": true
   },
   "outputs": [],
   "source": [
    "df_base['mes_idade_cliente'] = [diff_month(df_base.Instalacao.max(), d) for d in df_base.Primeiro_Servico_LW]\n",
    "df_base['mes_idade_provisioning'] = [diff_month(df_base.Instalacao.max(), d) for d in df_base.Instalacao]"
   ]
  },
  {
   "cell_type": "code",
   "execution_count": 275,
   "metadata": {
    "collapsed": true
   },
   "outputs": [],
   "source": [
    "df_base.rename(columns={'nr_PrecoMensal' : 'valor_provisioning'}, inplace=True)\n",
    "df_base['valor_cliente'] = df_base.valor_provisioning\n",
    "df_base['MRR_aux'] = df_base.valor_cliente*df_base.mes_idade_provisioning"
   ]
  },
  {
   "cell_type": "code",
   "execution_count": 281,
   "metadata": {
    "collapsed": false
   },
   "outputs": [],
   "source": [
    "agg_dict = {'Provisioning' : 'count',\n",
    "            'mes_idade_cliente': 'max',\n",
    "            'mes_idade_provisioning': 'mean',\n",
    "            'valor_provisioning': 'mean',\n",
    "            'valor_cliente': 'sum',\n",
    "            'MRR_aux': 'sum',\n",
    "            'fl_ServicoPai_indice': 'max',\n",
    "            'ds_Periodicidade_indice': 'max'}\n",
    "\n",
    "df_basefinal = df_base.groupby(['cd_Login']).agg(agg_dict).copy()"
   ]
  },
  {
   "cell_type": "code",
   "execution_count": 282,
   "metadata": {
    "collapsed": false
   },
   "outputs": [
    {
     "data": {
      "text/html": [
       "<div>\n",
       "<table border=\"1\" class=\"dataframe\">\n",
       "  <thead>\n",
       "    <tr style=\"text-align: right;\">\n",
       "      <th>cd_Login</th>\n",
       "      <th>athenaseguros</th>\n",
       "    </tr>\n",
       "  </thead>\n",
       "  <tbody>\n",
       "    <tr>\n",
       "      <th>mes_idade_cliente</th>\n",
       "      <td>156.0</td>\n",
       "    </tr>\n",
       "    <tr>\n",
       "      <th>ds_Periodicidade_indice</th>\n",
       "      <td>1.0</td>\n",
       "    </tr>\n",
       "    <tr>\n",
       "      <th>valor_cliente</th>\n",
       "      <td>35.3</td>\n",
       "    </tr>\n",
       "    <tr>\n",
       "      <th>valor_provisioning</th>\n",
       "      <td>35.3</td>\n",
       "    </tr>\n",
       "    <tr>\n",
       "      <th>MRR_aux</th>\n",
       "      <td>776.6</td>\n",
       "    </tr>\n",
       "    <tr>\n",
       "      <th>mes_idade_provisioning</th>\n",
       "      <td>22.0</td>\n",
       "    </tr>\n",
       "    <tr>\n",
       "      <th>qtd_produtos_cliente</th>\n",
       "      <td>1.0</td>\n",
       "    </tr>\n",
       "    <tr>\n",
       "      <th>fl_ServicoPai_indice</th>\n",
       "      <td>2.0</td>\n",
       "    </tr>\n",
       "  </tbody>\n",
       "</table>\n",
       "</div>"
      ],
      "text/plain": [
       "cd_Login                 athenaseguros\n",
       "mes_idade_cliente                156.0\n",
       "ds_Periodicidade_indice            1.0\n",
       "valor_cliente                     35.3\n",
       "valor_provisioning                35.3\n",
       "MRR_aux                          776.6\n",
       "mes_idade_provisioning            22.0\n",
       "qtd_produtos_cliente               1.0\n",
       "fl_ServicoPai_indice               2.0"
      ]
     },
     "execution_count": 282,
     "metadata": {},
     "output_type": "execute_result"
    }
   ],
   "source": [
    "df_basefinal.rename(columns={'Provisioning' : 'qtd_produtos_cliente'}, inplace=True)\n",
    "df_basefinal.sample().T"
   ]
  },
  {
   "cell_type": "code",
   "execution_count": 283,
   "metadata": {
    "collapsed": true
   },
   "outputs": [],
   "source": [
    "percentiles= [10,20,30,40,50,60,70,80,90]\n",
    "    \n",
    "Perc = cria_curva(percentiles, df_basefinal.MRR_aux)\n",
    "df_basefinal['Score_login'] = [marca_base(Perc, x) for x in df_basefinal.MRR_aux]"
   ]
  },
  {
   "cell_type": "code",
   "execution_count": 284,
   "metadata": {
    "collapsed": false
   },
   "outputs": [
    {
     "data": {
      "text/html": [
       "<div>\n",
       "<table border=\"1\" class=\"dataframe\">\n",
       "  <thead>\n",
       "    <tr style=\"text-align: right;\">\n",
       "      <th>cd_Login</th>\n",
       "      <th>mfranetto</th>\n",
       "    </tr>\n",
       "  </thead>\n",
       "  <tbody>\n",
       "    <tr>\n",
       "      <th>mes_idade_cliente</th>\n",
       "      <td>88.000000</td>\n",
       "    </tr>\n",
       "    <tr>\n",
       "      <th>ds_Periodicidade_indice</th>\n",
       "      <td>2.000000</td>\n",
       "    </tr>\n",
       "    <tr>\n",
       "      <th>valor_cliente</th>\n",
       "      <td>175.700000</td>\n",
       "    </tr>\n",
       "    <tr>\n",
       "      <th>valor_provisioning</th>\n",
       "      <td>58.566667</td>\n",
       "    </tr>\n",
       "    <tr>\n",
       "      <th>MRR_aux</th>\n",
       "      <td>7906.500000</td>\n",
       "    </tr>\n",
       "    <tr>\n",
       "      <th>mes_idade_provisioning</th>\n",
       "      <td>45.000000</td>\n",
       "    </tr>\n",
       "    <tr>\n",
       "      <th>qtd_produtos_cliente</th>\n",
       "      <td>3.000000</td>\n",
       "    </tr>\n",
       "    <tr>\n",
       "      <th>fl_ServicoPai_indice</th>\n",
       "      <td>2.000000</td>\n",
       "    </tr>\n",
       "    <tr>\n",
       "      <th>Score_login</th>\n",
       "      <td>7.000000</td>\n",
       "    </tr>\n",
       "  </tbody>\n",
       "</table>\n",
       "</div>"
      ],
      "text/plain": [
       "cd_Login                   mfranetto\n",
       "mes_idade_cliente          88.000000\n",
       "ds_Periodicidade_indice     2.000000\n",
       "valor_cliente             175.700000\n",
       "valor_provisioning         58.566667\n",
       "MRR_aux                  7906.500000\n",
       "mes_idade_provisioning     45.000000\n",
       "qtd_produtos_cliente        3.000000\n",
       "fl_ServicoPai_indice        2.000000\n",
       "Score_login                 7.000000"
      ]
     },
     "execution_count": 284,
     "metadata": {},
     "output_type": "execute_result"
    }
   ],
   "source": [
    "df_basefinal.sample().T"
   ]
  },
  {
   "cell_type": "code",
   "execution_count": 285,
   "metadata": {
    "collapsed": false
   },
   "outputs": [],
   "source": [
    "colunas =  ['mes_idade_cliente', 'mes_idade_provisioning',\n",
    "            'qtd_produtos_cliente',\n",
    "            'valor_cliente', 'valor_provisioning', \n",
    "            'MRR_aux', 'Score_login',\n",
    "            'ds_Periodicidade_indice', 'fl_ServicoPai_indice']\n",
    "     \n",
    "# shuffle rows\n",
    "X = df_basefinal[colunas].copy()\n",
    "X = scaler.fit_transform(X)"
   ]
  },
  {
   "cell_type": "code",
   "execution_count": 286,
   "metadata": {
    "collapsed": false
   },
   "outputs": [],
   "source": [
    "y_pred = clf.predict_proba(X)\n",
    "y_pred = pd.DataFrame(data=y_pred[:,1])\n",
    "y_pred.rename(columns= {0: 'Prob_Pagamento'}, inplace= True)"
   ]
  },
  {
   "cell_type": "code",
   "execution_count": 287,
   "metadata": {
    "collapsed": false
   },
   "outputs": [
    {
     "data": {
      "text/html": [
       "<div>\n",
       "<table border=\"1\" class=\"dataframe\">\n",
       "  <thead>\n",
       "    <tr style=\"text-align: right;\">\n",
       "      <th></th>\n",
       "      <th>Prob_Pagamento</th>\n",
       "    </tr>\n",
       "  </thead>\n",
       "  <tbody>\n",
       "    <tr>\n",
       "      <th>0</th>\n",
       "      <td>0.634499</td>\n",
       "    </tr>\n",
       "    <tr>\n",
       "      <th>1</th>\n",
       "      <td>0.638513</td>\n",
       "    </tr>\n",
       "    <tr>\n",
       "      <th>2</th>\n",
       "      <td>0.775946</td>\n",
       "    </tr>\n",
       "    <tr>\n",
       "      <th>3</th>\n",
       "      <td>0.771423</td>\n",
       "    </tr>\n",
       "    <tr>\n",
       "      <th>4</th>\n",
       "      <td>0.791706</td>\n",
       "    </tr>\n",
       "  </tbody>\n",
       "</table>\n",
       "</div>"
      ],
      "text/plain": [
       "   Prob_Pagamento\n",
       "0        0.634499\n",
       "1        0.638513\n",
       "2        0.775946\n",
       "3        0.771423\n",
       "4        0.791706"
      ]
     },
     "execution_count": 287,
     "metadata": {},
     "output_type": "execute_result"
    }
   ],
   "source": [
    "y_pred.head()"
   ]
  },
  {
   "cell_type": "code",
   "execution_count": 288,
   "metadata": {
    "collapsed": false
   },
   "outputs": [],
   "source": [
    "df_basefinal = pd.concat([df_basefinal.reset_index(), y_pred], axis=1)"
   ]
  },
  {
   "cell_type": "code",
   "execution_count": 289,
   "metadata": {
    "collapsed": false
   },
   "outputs": [
    {
     "data": {
      "text/html": [
       "<div>\n",
       "<table border=\"1\" class=\"dataframe\">\n",
       "  <thead>\n",
       "    <tr style=\"text-align: right;\">\n",
       "      <th></th>\n",
       "      <th>0</th>\n",
       "      <th>1</th>\n",
       "      <th>2</th>\n",
       "      <th>3</th>\n",
       "      <th>4</th>\n",
       "    </tr>\n",
       "  </thead>\n",
       "  <tbody>\n",
       "    <tr>\n",
       "      <th>cd_Login</th>\n",
       "      <td>5asec_idc</td>\n",
       "      <td>ADMMAGIFLUX</td>\n",
       "      <td>AFPM</td>\n",
       "      <td>AG3TELECOM</td>\n",
       "      <td>AGSPecas</td>\n",
       "    </tr>\n",
       "    <tr>\n",
       "      <th>mes_idade_cliente</th>\n",
       "      <td>146</td>\n",
       "      <td>72</td>\n",
       "      <td>59</td>\n",
       "      <td>71</td>\n",
       "      <td>80</td>\n",
       "    </tr>\n",
       "    <tr>\n",
       "      <th>ds_Periodicidade_indice</th>\n",
       "      <td>1</td>\n",
       "      <td>2</td>\n",
       "      <td>1</td>\n",
       "      <td>2</td>\n",
       "      <td>0</td>\n",
       "    </tr>\n",
       "    <tr>\n",
       "      <th>valor_cliente</th>\n",
       "      <td>5871.9</td>\n",
       "      <td>115.8</td>\n",
       "      <td>238.8</td>\n",
       "      <td>90.1</td>\n",
       "      <td>108.8</td>\n",
       "    </tr>\n",
       "    <tr>\n",
       "      <th>valor_provisioning</th>\n",
       "      <td>533.809</td>\n",
       "      <td>38.6</td>\n",
       "      <td>47.76</td>\n",
       "      <td>45.05</td>\n",
       "      <td>54.4</td>\n",
       "    </tr>\n",
       "    <tr>\n",
       "      <th>MRR_aux</th>\n",
       "      <td>49812.6</td>\n",
       "      <td>3051</td>\n",
       "      <td>7535.6</td>\n",
       "      <td>6397.1</td>\n",
       "      <td>3996</td>\n",
       "    </tr>\n",
       "    <tr>\n",
       "      <th>mes_idade_provisioning</th>\n",
       "      <td>19.5455</td>\n",
       "      <td>20</td>\n",
       "      <td>42.6</td>\n",
       "      <td>71</td>\n",
       "      <td>36</td>\n",
       "    </tr>\n",
       "    <tr>\n",
       "      <th>qtd_produtos_cliente</th>\n",
       "      <td>11</td>\n",
       "      <td>3</td>\n",
       "      <td>5</td>\n",
       "      <td>2</td>\n",
       "      <td>2</td>\n",
       "    </tr>\n",
       "    <tr>\n",
       "      <th>fl_ServicoPai_indice</th>\n",
       "      <td>2</td>\n",
       "      <td>2</td>\n",
       "      <td>2</td>\n",
       "      <td>2</td>\n",
       "      <td>2</td>\n",
       "    </tr>\n",
       "    <tr>\n",
       "      <th>Score_login</th>\n",
       "      <td>10</td>\n",
       "      <td>4</td>\n",
       "      <td>7</td>\n",
       "      <td>7</td>\n",
       "      <td>5</td>\n",
       "    </tr>\n",
       "    <tr>\n",
       "      <th>Prob_Pagamento</th>\n",
       "      <td>0.634499</td>\n",
       "      <td>0.638513</td>\n",
       "      <td>0.775946</td>\n",
       "      <td>0.771423</td>\n",
       "      <td>0.791706</td>\n",
       "    </tr>\n",
       "  </tbody>\n",
       "</table>\n",
       "</div>"
      ],
      "text/plain": [
       "                                 0            1         2           3  \\\n",
       "cd_Login                 5asec_idc  ADMMAGIFLUX      AFPM  AG3TELECOM   \n",
       "mes_idade_cliente              146           72        59          71   \n",
       "ds_Periodicidade_indice          1            2         1           2   \n",
       "valor_cliente               5871.9        115.8     238.8        90.1   \n",
       "valor_provisioning         533.809         38.6     47.76       45.05   \n",
       "MRR_aux                    49812.6         3051    7535.6      6397.1   \n",
       "mes_idade_provisioning     19.5455           20      42.6          71   \n",
       "qtd_produtos_cliente            11            3         5           2   \n",
       "fl_ServicoPai_indice             2            2         2           2   \n",
       "Score_login                     10            4         7           7   \n",
       "Prob_Pagamento            0.634499     0.638513  0.775946    0.771423   \n",
       "\n",
       "                                4  \n",
       "cd_Login                 AGSPecas  \n",
       "mes_idade_cliente              80  \n",
       "ds_Periodicidade_indice         0  \n",
       "valor_cliente               108.8  \n",
       "valor_provisioning           54.4  \n",
       "MRR_aux                      3996  \n",
       "mes_idade_provisioning         36  \n",
       "qtd_produtos_cliente            2  \n",
       "fl_ServicoPai_indice            2  \n",
       "Score_login                     5  \n",
       "Prob_Pagamento           0.791706  "
      ]
     },
     "execution_count": 289,
     "metadata": {},
     "output_type": "execute_result"
    }
   ],
   "source": [
    "df_basefinal.head().T"
   ]
  },
  {
   "cell_type": "code",
   "execution_count": 292,
   "metadata": {
    "collapsed": false
   },
   "outputs": [],
   "source": [
    "df_basefinal.reset_index(inplace= True)"
   ]
  },
  {
   "cell_type": "code",
   "execution_count": 293,
   "metadata": {
    "collapsed": false
   },
   "outputs": [
    {
     "data": {
      "text/plain": [
       "[1202, 2404, 3606, 4808, 6010, 7212, 8414, 9616, 10818]"
      ]
     },
     "execution_count": 293,
     "metadata": {},
     "output_type": "execute_result"
    }
   ],
   "source": [
    "c1 = int(0.1*df_basefinal.index.max())\n",
    "\n",
    "\n",
    "Clusters = [c1, \n",
    "            2*c1,\n",
    "            3*c1,\n",
    "            4*c1,\n",
    "            5*c1,\n",
    "            6*c1,\n",
    "            7*c1,\n",
    "            8*c1,\n",
    "            9*c1]\n",
    "\n",
    "Clusters"
   ]
  },
  {
   "cell_type": "code",
   "execution_count": 294,
   "metadata": {
    "collapsed": true
   },
   "outputs": [],
   "source": [
    "df_basefinal['Cluster'] = [marca_base(Clusters, x) for x in df_basefinal.index]"
   ]
  },
  {
   "cell_type": "code",
   "execution_count": 298,
   "metadata": {
    "collapsed": false
   },
   "outputs": [
    {
     "data": {
      "text/plain": [
       "10    1204\n",
       "7     1202\n",
       "6     1202\n",
       "5     1202\n",
       "4     1202\n",
       "3     1202\n",
       "2     1202\n",
       "9     1202\n",
       "1     1202\n",
       "8     1202\n",
       "Name: Cluster, dtype: int64"
      ]
     },
     "execution_count": 298,
     "metadata": {},
     "output_type": "execute_result"
    }
   ],
   "source": [
    "df_basefinal.Cluster.value_counts()"
   ]
  },
  {
   "cell_type": "code",
   "execution_count": 300,
   "metadata": {
    "collapsed": false
   },
   "outputs": [
    {
     "data": {
      "text/html": [
       "<div>\n",
       "<table border=\"1\" class=\"dataframe\">\n",
       "  <thead>\n",
       "    <tr style=\"text-align: right;\">\n",
       "      <th>Score_login</th>\n",
       "      <th>1</th>\n",
       "      <th>2</th>\n",
       "      <th>3</th>\n",
       "      <th>4</th>\n",
       "      <th>5</th>\n",
       "      <th>6</th>\n",
       "      <th>7</th>\n",
       "      <th>8</th>\n",
       "      <th>9</th>\n",
       "      <th>10</th>\n",
       "    </tr>\n",
       "    <tr>\n",
       "      <th>Cluster</th>\n",
       "      <th></th>\n",
       "      <th></th>\n",
       "      <th></th>\n",
       "      <th></th>\n",
       "      <th></th>\n",
       "      <th></th>\n",
       "      <th></th>\n",
       "      <th></th>\n",
       "      <th></th>\n",
       "      <th></th>\n",
       "    </tr>\n",
       "  </thead>\n",
       "  <tbody>\n",
       "    <tr>\n",
       "      <th>1</th>\n",
       "      <td>116</td>\n",
       "      <td>126</td>\n",
       "      <td>117</td>\n",
       "      <td>126</td>\n",
       "      <td>111</td>\n",
       "      <td>130</td>\n",
       "      <td>122</td>\n",
       "      <td>115</td>\n",
       "      <td>130</td>\n",
       "      <td>109</td>\n",
       "    </tr>\n",
       "    <tr>\n",
       "      <th>2</th>\n",
       "      <td>115</td>\n",
       "      <td>122</td>\n",
       "      <td>135</td>\n",
       "      <td>107</td>\n",
       "      <td>138</td>\n",
       "      <td>115</td>\n",
       "      <td>125</td>\n",
       "      <td>124</td>\n",
       "      <td>116</td>\n",
       "      <td>105</td>\n",
       "    </tr>\n",
       "    <tr>\n",
       "      <th>3</th>\n",
       "      <td>141</td>\n",
       "      <td>106</td>\n",
       "      <td>120</td>\n",
       "      <td>113</td>\n",
       "      <td>99</td>\n",
       "      <td>126</td>\n",
       "      <td>129</td>\n",
       "      <td>95</td>\n",
       "      <td>141</td>\n",
       "      <td>132</td>\n",
       "    </tr>\n",
       "    <tr>\n",
       "      <th>4</th>\n",
       "      <td>137</td>\n",
       "      <td>122</td>\n",
       "      <td>125</td>\n",
       "      <td>107</td>\n",
       "      <td>124</td>\n",
       "      <td>117</td>\n",
       "      <td>117</td>\n",
       "      <td>120</td>\n",
       "      <td>113</td>\n",
       "      <td>120</td>\n",
       "    </tr>\n",
       "    <tr>\n",
       "      <th>5</th>\n",
       "      <td>120</td>\n",
       "      <td>119</td>\n",
       "      <td>117</td>\n",
       "      <td>127</td>\n",
       "      <td>113</td>\n",
       "      <td>137</td>\n",
       "      <td>110</td>\n",
       "      <td>117</td>\n",
       "      <td>118</td>\n",
       "      <td>124</td>\n",
       "    </tr>\n",
       "    <tr>\n",
       "      <th>6</th>\n",
       "      <td>121</td>\n",
       "      <td>149</td>\n",
       "      <td>135</td>\n",
       "      <td>126</td>\n",
       "      <td>121</td>\n",
       "      <td>109</td>\n",
       "      <td>107</td>\n",
       "      <td>131</td>\n",
       "      <td>103</td>\n",
       "      <td>100</td>\n",
       "    </tr>\n",
       "    <tr>\n",
       "      <th>7</th>\n",
       "      <td>127</td>\n",
       "      <td>106</td>\n",
       "      <td>112</td>\n",
       "      <td>121</td>\n",
       "      <td>122</td>\n",
       "      <td>132</td>\n",
       "      <td>123</td>\n",
       "      <td>127</td>\n",
       "      <td>117</td>\n",
       "      <td>115</td>\n",
       "    </tr>\n",
       "    <tr>\n",
       "      <th>8</th>\n",
       "      <td>102</td>\n",
       "      <td>112</td>\n",
       "      <td>108</td>\n",
       "      <td>138</td>\n",
       "      <td>134</td>\n",
       "      <td>111</td>\n",
       "      <td>127</td>\n",
       "      <td>115</td>\n",
       "      <td>119</td>\n",
       "      <td>136</td>\n",
       "    </tr>\n",
       "    <tr>\n",
       "      <th>9</th>\n",
       "      <td>109</td>\n",
       "      <td>114</td>\n",
       "      <td>111</td>\n",
       "      <td>126</td>\n",
       "      <td>122</td>\n",
       "      <td>115</td>\n",
       "      <td>126</td>\n",
       "      <td>129</td>\n",
       "      <td>122</td>\n",
       "      <td>128</td>\n",
       "    </tr>\n",
       "    <tr>\n",
       "      <th>10</th>\n",
       "      <td>115</td>\n",
       "      <td>126</td>\n",
       "      <td>117</td>\n",
       "      <td>110</td>\n",
       "      <td>124</td>\n",
       "      <td>107</td>\n",
       "      <td>119</td>\n",
       "      <td>129</td>\n",
       "      <td>123</td>\n",
       "      <td>134</td>\n",
       "    </tr>\n",
       "  </tbody>\n",
       "</table>\n",
       "</div>"
      ],
      "text/plain": [
       "Score_login   1    2    3    4    5    6    7    8    9    10\n",
       "Cluster                                                      \n",
       "1            116  126  117  126  111  130  122  115  130  109\n",
       "2            115  122  135  107  138  115  125  124  116  105\n",
       "3            141  106  120  113   99  126  129   95  141  132\n",
       "4            137  122  125  107  124  117  117  120  113  120\n",
       "5            120  119  117  127  113  137  110  117  118  124\n",
       "6            121  149  135  126  121  109  107  131  103  100\n",
       "7            127  106  112  121  122  132  123  127  117  115\n",
       "8            102  112  108  138  134  111  127  115  119  136\n",
       "9            109  114  111  126  122  115  126  129  122  128\n",
       "10           115  126  117  110  124  107  119  129  123  134"
      ]
     },
     "execution_count": 300,
     "metadata": {},
     "output_type": "execute_result"
    },
    {
     "data": {
      "image/png": "[encoded data removed]",
      "text/plain": [
       "<matplotlib.figure.Figure at 0x4b995c88>"
      ]
     },
     "metadata": {},
     "output_type": "display_data"
    }
   ],
   "source": [
    "agg_dict_heatmap = {'cd_Login' : 'count'}\n",
    "heatmap = df_basefinal.groupby(['Cluster','Score_login']).agg(agg_dict_heatmap).copy()\n",
    "heatmap.reset_index(inplace= True)\n",
    "heatmap = heatmap.pivot('Cluster','Score_login', 'cd_Login').copy()\n",
    "sns.heatmap(heatmap, annot=False, linewidths=.5) \n",
    "heatmap"
   ]
  },
  {
   "cell_type": "code",
   "execution_count": 301,
   "metadata": {
    "collapsed": false
   },
   "outputs": [],
   "source": [
    "df_basefinal['GrupoDesativacao'] = [cria_grupo(n1, n2) for n1, n2 in zip (df_basefinal.Cluster,df_basefinal.Score_login)]"
   ]
  },
  {
   "cell_type": "code",
   "execution_count": 303,
   "metadata": {
    "collapsed": false
   },
   "outputs": [
    {
     "data": {
      "text/html": [
       "<div>\n",
       "<table border=\"1\" class=\"dataframe\">\n",
       "  <thead>\n",
       "    <tr style=\"text-align: right;\">\n",
       "      <th></th>\n",
       "      <th>0</th>\n",
       "      <th>1</th>\n",
       "      <th>2</th>\n",
       "      <th>3</th>\n",
       "      <th>4</th>\n",
       "    </tr>\n",
       "  </thead>\n",
       "  <tbody>\n",
       "    <tr>\n",
       "      <th>index</th>\n",
       "      <td>0</td>\n",
       "      <td>1</td>\n",
       "      <td>2</td>\n",
       "      <td>3</td>\n",
       "      <td>4</td>\n",
       "    </tr>\n",
       "    <tr>\n",
       "      <th>cd_Login</th>\n",
       "      <td>5asec_idc</td>\n",
       "      <td>ADMMAGIFLUX</td>\n",
       "      <td>AFPM</td>\n",
       "      <td>AG3TELECOM</td>\n",
       "      <td>AGSPecas</td>\n",
       "    </tr>\n",
       "    <tr>\n",
       "      <th>mes_idade_cliente</th>\n",
       "      <td>146</td>\n",
       "      <td>72</td>\n",
       "      <td>59</td>\n",
       "      <td>71</td>\n",
       "      <td>80</td>\n",
       "    </tr>\n",
       "    <tr>\n",
       "      <th>ds_Periodicidade_indice</th>\n",
       "      <td>1</td>\n",
       "      <td>2</td>\n",
       "      <td>1</td>\n",
       "      <td>2</td>\n",
       "      <td>0</td>\n",
       "    </tr>\n",
       "    <tr>\n",
       "      <th>valor_cliente</th>\n",
       "      <td>5871.9</td>\n",
       "      <td>115.8</td>\n",
       "      <td>238.8</td>\n",
       "      <td>90.1</td>\n",
       "      <td>108.8</td>\n",
       "    </tr>\n",
       "    <tr>\n",
       "      <th>valor_provisioning</th>\n",
       "      <td>533.809</td>\n",
       "      <td>38.6</td>\n",
       "      <td>47.76</td>\n",
       "      <td>45.05</td>\n",
       "      <td>54.4</td>\n",
       "    </tr>\n",
       "    <tr>\n",
       "      <th>MRR_aux</th>\n",
       "      <td>49812.6</td>\n",
       "      <td>3051</td>\n",
       "      <td>7535.6</td>\n",
       "      <td>6397.1</td>\n",
       "      <td>3996</td>\n",
       "    </tr>\n",
       "    <tr>\n",
       "      <th>mes_idade_provisioning</th>\n",
       "      <td>19.5455</td>\n",
       "      <td>20</td>\n",
       "      <td>42.6</td>\n",
       "      <td>71</td>\n",
       "      <td>36</td>\n",
       "    </tr>\n",
       "    <tr>\n",
       "      <th>qtd_produtos_cliente</th>\n",
       "      <td>11</td>\n",
       "      <td>3</td>\n",
       "      <td>5</td>\n",
       "      <td>2</td>\n",
       "      <td>2</td>\n",
       "    </tr>\n",
       "    <tr>\n",
       "      <th>fl_ServicoPai_indice</th>\n",
       "      <td>2</td>\n",
       "      <td>2</td>\n",
       "      <td>2</td>\n",
       "      <td>2</td>\n",
       "      <td>2</td>\n",
       "    </tr>\n",
       "    <tr>\n",
       "      <th>Score_login</th>\n",
       "      <td>10</td>\n",
       "      <td>4</td>\n",
       "      <td>7</td>\n",
       "      <td>7</td>\n",
       "      <td>5</td>\n",
       "    </tr>\n",
       "    <tr>\n",
       "      <th>Prob_Pagamento</th>\n",
       "      <td>0.634499</td>\n",
       "      <td>0.638513</td>\n",
       "      <td>0.775946</td>\n",
       "      <td>0.771423</td>\n",
       "      <td>0.791706</td>\n",
       "    </tr>\n",
       "    <tr>\n",
       "      <th>Cluster</th>\n",
       "      <td>1</td>\n",
       "      <td>1</td>\n",
       "      <td>1</td>\n",
       "      <td>1</td>\n",
       "      <td>1</td>\n",
       "    </tr>\n",
       "    <tr>\n",
       "      <th>GrupoDesativacao</th>\n",
       "      <td>Grupo3: d+15</td>\n",
       "      <td>Grupo1: d+7</td>\n",
       "      <td>Grupo3: d+15</td>\n",
       "      <td>Grupo3: d+15</td>\n",
       "      <td>Grupo1: d+7</td>\n",
       "    </tr>\n",
       "  </tbody>\n",
       "</table>\n",
       "</div>"
      ],
      "text/plain": [
       "                                    0            1             2  \\\n",
       "index                               0            1             2   \n",
       "cd_Login                    5asec_idc  ADMMAGIFLUX          AFPM   \n",
       "mes_idade_cliente                 146           72            59   \n",
       "ds_Periodicidade_indice             1            2             1   \n",
       "valor_cliente                  5871.9        115.8         238.8   \n",
       "valor_provisioning            533.809         38.6         47.76   \n",
       "MRR_aux                       49812.6         3051        7535.6   \n",
       "mes_idade_provisioning        19.5455           20          42.6   \n",
       "qtd_produtos_cliente               11            3             5   \n",
       "fl_ServicoPai_indice                2            2             2   \n",
       "Score_login                        10            4             7   \n",
       "Prob_Pagamento               0.634499     0.638513      0.775946   \n",
       "Cluster                             1            1             1   \n",
       "GrupoDesativacao         Grupo3: d+15  Grupo1: d+7  Grupo3: d+15   \n",
       "\n",
       "                                    3            4  \n",
       "index                               3            4  \n",
       "cd_Login                   AG3TELECOM     AGSPecas  \n",
       "mes_idade_cliente                  71           80  \n",
       "ds_Periodicidade_indice             2            0  \n",
       "valor_cliente                    90.1        108.8  \n",
       "valor_provisioning              45.05         54.4  \n",
       "MRR_aux                        6397.1         3996  \n",
       "mes_idade_provisioning             71           36  \n",
       "qtd_produtos_cliente                2            2  \n",
       "fl_ServicoPai_indice                2            2  \n",
       "Score_login                         7            5  \n",
       "Prob_Pagamento               0.771423     0.791706  \n",
       "Cluster                             1            1  \n",
       "GrupoDesativacao         Grupo3: d+15  Grupo1: d+7  "
      ]
     },
     "execution_count": 303,
     "metadata": {},
     "output_type": "execute_result"
    }
   ],
   "source": [
    "df_basefinal.head().T"
   ]
  },
  {
   "cell_type": "code",
   "execution_count": 304,
   "metadata": {
    "collapsed": false
   },
   "outputs": [
    {
     "data": {
      "text/plain": [
       "False    12022\n",
       "Name: cd_Login, dtype: int64"
      ]
     },
     "execution_count": 304,
     "metadata": {},
     "output_type": "execute_result"
    }
   ],
   "source": [
    "df_basefinal.cd_Login.duplicated().value_counts()"
   ]
  },
  {
   "cell_type": "code",
   "execution_count": 305,
   "metadata": {
    "collapsed": false
   },
   "outputs": [],
   "source": [
    "agg_dict_heatmap = {'cd_Login' : 'count'}\n",
    "\n",
    "relatorio = df_basefinal.groupby(['GrupoDesativacao']).agg(agg_dict_heatmap).copy()\n",
    "relatorio['Tamanho%'] = relatorio.cd_Login/relatorio.cd_Login.sum()"
   ]
  },
  {
   "cell_type": "code",
   "execution_count": 307,
   "metadata": {
    "collapsed": false
   },
   "outputs": [
    {
     "data": {
      "text/html": [
       "<div>\n",
       "<table border=\"1\" class=\"dataframe\">\n",
       "  <thead>\n",
       "    <tr style=\"text-align: right;\">\n",
       "      <th></th>\n",
       "      <th>Tamanho%</th>\n",
       "    </tr>\n",
       "    <tr>\n",
       "      <th>GrupoDesativacao</th>\n",
       "      <th></th>\n",
       "    </tr>\n",
       "  </thead>\n",
       "  <tbody>\n",
       "    <tr>\n",
       "      <th>Grupo1: d+7</th>\n",
       "      <td>0.155058</td>\n",
       "    </tr>\n",
       "    <tr>\n",
       "      <th>Grupo2: d+10</th>\n",
       "      <td>0.365060</td>\n",
       "    </tr>\n",
       "    <tr>\n",
       "      <th>Grupo3: d+15</th>\n",
       "      <td>0.307779</td>\n",
       "    </tr>\n",
       "    <tr>\n",
       "      <th>Grupo4: d+30</th>\n",
       "      <td>0.172103</td>\n",
       "    </tr>\n",
       "  </tbody>\n",
       "</table>\n",
       "</div>"
      ],
      "text/plain": [
       "                  Tamanho%\n",
       "GrupoDesativacao          \n",
       "Grupo1: d+7       0.155058\n",
       "Grupo2: d+10      0.365060\n",
       "Grupo3: d+15      0.307779\n",
       "Grupo4: d+30      0.172103"
      ]
     },
     "execution_count": 307,
     "metadata": {},
     "output_type": "execute_result"
    }
   ],
   "source": [
    "relatorio[['Tamanho%']]"
   ]
  },
  {
   "cell_type": "code",
   "execution_count": 308,
   "metadata": {
    "collapsed": false
   },
   "outputs": [
    {
     "data": {
      "text/plain": [
       "Index(['index', 'cd_Login', 'mes_idade_cliente', 'ds_Periodicidade_indice',\n",
       "       'valor_cliente', 'valor_provisioning', 'MRR_aux',\n",
       "       'mes_idade_provisioning', 'qtd_produtos_cliente',\n",
       "       'fl_ServicoPai_indice', 'Score_login', 'Prob_Pagamento', 'Cluster',\n",
       "       'GrupoDesativacao'],\n",
       "      dtype='object')"
      ]
     },
     "execution_count": 308,
     "metadata": {},
     "output_type": "execute_result"
    }
   ],
   "source": [
    "df_basefinal.columns"
   ]
  },
  {
   "cell_type": "code",
   "execution_count": 310,
   "metadata": {
    "collapsed": false
   },
   "outputs": [
    {
     "data": {
      "text/html": [
       "<div>\n",
       "<table border=\"1\" class=\"dataframe\">\n",
       "  <thead>\n",
       "    <tr style=\"text-align: right;\">\n",
       "      <th>GrupoDesativacao</th>\n",
       "      <th>Grupo1: d+7</th>\n",
       "      <th>Grupo2: d+10</th>\n",
       "      <th>Grupo3: d+15</th>\n",
       "      <th>Grupo4: d+30</th>\n",
       "    </tr>\n",
       "  </thead>\n",
       "  <tbody>\n",
       "    <tr>\n",
       "      <th>Prob_Pagamento</th>\n",
       "      <td>0.610955</td>\n",
       "      <td>0.615231</td>\n",
       "      <td>0.718848</td>\n",
       "      <td>0.718606</td>\n",
       "    </tr>\n",
       "    <tr>\n",
       "      <th>valor_provisioning</th>\n",
       "      <td>47.768365</td>\n",
       "      <td>46.513109</td>\n",
       "      <td>78.891136</td>\n",
       "      <td>87.538694</td>\n",
       "    </tr>\n",
       "    <tr>\n",
       "      <th>valor_cliente</th>\n",
       "      <td>110.936384</td>\n",
       "      <td>96.049196</td>\n",
       "      <td>1026.913483</td>\n",
       "      <td>1016.595078</td>\n",
       "    </tr>\n",
       "    <tr>\n",
       "      <th>MRR_aux</th>\n",
       "      <td>1920.936217</td>\n",
       "      <td>1980.571320</td>\n",
       "      <td>49375.912156</td>\n",
       "      <td>45179.172267</td>\n",
       "    </tr>\n",
       "    <tr>\n",
       "      <th>qtd_produtos_cliente</th>\n",
       "      <td>2.023438</td>\n",
       "      <td>2.030339</td>\n",
       "      <td>11.736295</td>\n",
       "      <td>11.172951</td>\n",
       "    </tr>\n",
       "    <tr>\n",
       "      <th>Cluster</th>\n",
       "      <td>1.990513</td>\n",
       "      <td>6.963261</td>\n",
       "      <td>3.464436</td>\n",
       "      <td>8.519356</td>\n",
       "    </tr>\n",
       "    <tr>\n",
       "      <th>mes_idade_provisioning</th>\n",
       "      <td>26.776489</td>\n",
       "      <td>27.087882</td>\n",
       "      <td>53.108501</td>\n",
       "      <td>51.312649</td>\n",
       "    </tr>\n",
       "    <tr>\n",
       "      <th>mes_idade_cliente</th>\n",
       "      <td>61.069196</td>\n",
       "      <td>60.000237</td>\n",
       "      <td>104.695811</td>\n",
       "      <td>107.786325</td>\n",
       "    </tr>\n",
       "    <tr>\n",
       "      <th>Score_login</th>\n",
       "      <td>2.968750</td>\n",
       "      <td>3.015406</td>\n",
       "      <td>7.978353</td>\n",
       "      <td>8.508798</td>\n",
       "    </tr>\n",
       "    <tr>\n",
       "      <th>cd_Login</th>\n",
       "      <td>1792.000000</td>\n",
       "      <td>4219.000000</td>\n",
       "      <td>3557.000000</td>\n",
       "      <td>1989.000000</td>\n",
       "    </tr>\n",
       "  </tbody>\n",
       "</table>\n",
       "</div>"
      ],
      "text/plain": [
       "GrupoDesativacao        Grupo1: d+7  Grupo2: d+10  Grupo3: d+15  Grupo4: d+30\n",
       "Prob_Pagamento             0.610955      0.615231      0.718848      0.718606\n",
       "valor_provisioning        47.768365     46.513109     78.891136     87.538694\n",
       "valor_cliente            110.936384     96.049196   1026.913483   1016.595078\n",
       "MRR_aux                 1920.936217   1980.571320  49375.912156  45179.172267\n",
       "qtd_produtos_cliente       2.023438      2.030339     11.736295     11.172951\n",
       "Cluster                    1.990513      6.963261      3.464436      8.519356\n",
       "mes_idade_provisioning    26.776489     27.087882     53.108501     51.312649\n",
       "mes_idade_cliente         61.069196     60.000237    104.695811    107.786325\n",
       "Score_login                2.968750      3.015406      7.978353      8.508798\n",
       "cd_Login                1792.000000   4219.000000   3557.000000   1989.000000"
      ]
     },
     "execution_count": 310,
     "metadata": {},
     "output_type": "execute_result"
    }
   ],
   "source": [
    "agg_dict_heatmap = {'cd_Login' : 'count',\n",
    "                    'mes_idade_cliente' : 'mean',\n",
    "                    'valor_cliente' : 'mean',\n",
    "                    'valor_provisioning' : 'mean',\n",
    "                    'MRR_aux' : 'mean',\n",
    "                    'mes_idade_provisioning' : 'mean',\n",
    "                    'qtd_produtos_cliente' : 'mean',\n",
    "                    'Score_login' : 'mean',\n",
    "                    'Prob_Pagamento' : 'mean',\n",
    "                    'Cluster' : 'mean'}\n",
    "\n",
    "relatorio = df_basefinal.groupby(['GrupoDesativacao']).agg(agg_dict_heatmap).copy()\n",
    "relatorio.T"
   ]
  },
  {
   "cell_type": "code",
   "execution_count": 311,
   "metadata": {
    "collapsed": false
   },
   "outputs": [
    {
     "data": {
      "text/plain": [
       "False    12022\n",
       "Name: cd_Login, dtype: int64"
      ]
     },
     "execution_count": 311,
     "metadata": {},
     "output_type": "execute_result"
    }
   ],
   "source": [
    "df_basefinal.cd_Login.duplicated().value_counts()"
   ]
  },
  {
   "cell_type": "code",
   "execution_count": null,
   "metadata": {
    "collapsed": true
   },
   "outputs": [],
   "source": []
  },
  {
   "cell_type": "code",
   "execution_count": null,
   "metadata": {
    "collapsed": true
   },
   "outputs": [],
   "source": []
  },
  {
   "cell_type": "code",
   "execution_count": null,
   "metadata": {
    "collapsed": true
   },
   "outputs": [],
   "source": []
  },
  {
   "cell_type": "code",
   "execution_count": null,
   "metadata": {
    "collapsed": true
   },
   "outputs": [],
   "source": [
    "Mode "
   ]
  },
  {
   "cell_type": "code",
   "execution_count": 80,
   "metadata": {
    "collapsed": false
   },
   "outputs": [
    {
     "data": {
      "text/plain": [
       "(37, 8)"
      ]
     },
     "execution_count": 80,
     "metadata": {},
     "output_type": "execute_result"
    }
   ],
   "source": [
    "result = pd.merge(LoginsCiclo_20082017, df_cobranca_aplicacao, how='inner', on=['cd_Login'])\n",
    "\n",
    "result.shape"
   ]
  },
  {
   "cell_type": "code",
   "execution_count": 81,
   "metadata": {
    "collapsed": false
   },
   "outputs": [
    {
     "data": {
      "text/html": [
       "<div>\n",
       "<table border=\"1\" class=\"dataframe\">\n",
       "  <thead>\n",
       "    <tr style=\"text-align: right;\">\n",
       "      <th></th>\n",
       "      <th>cd_Login</th>\n",
       "      <th>index</th>\n",
       "      <th>Prob_Pagamento</th>\n",
       "      <th>Score_login</th>\n",
       "      <th>cd_provisioning</th>\n",
       "      <th>Resposta</th>\n",
       "      <th>Cluster</th>\n",
       "      <th>GrupoDesativacao</th>\n",
       "    </tr>\n",
       "  </thead>\n",
       "  <tbody>\n",
       "    <tr>\n",
       "      <th>3</th>\n",
       "      <td>comercialaltodofarol</td>\n",
       "      <td>92782</td>\n",
       "      <td>0.728486</td>\n",
       "      <td>8</td>\n",
       "      <td>1</td>\n",
       "      <td>1</td>\n",
       "      <td>7</td>\n",
       "      <td>Grupo4: d+30</td>\n",
       "    </tr>\n",
       "  </tbody>\n",
       "</table>\n",
       "</div>"
      ],
      "text/plain": [
       "               cd_Login  index  Prob_Pagamento  Score_login  cd_provisioning  \\\n",
       "3  comercialaltodofarol  92782        0.728486            8                1   \n",
       "\n",
       "   Resposta  Cluster GrupoDesativacao  \n",
       "3         1        7     Grupo4: d+30  "
      ]
     },
     "execution_count": 81,
     "metadata": {},
     "output_type": "execute_result"
    }
   ],
   "source": [
    "result.sample()"
   ]
  },
  {
   "cell_type": "code",
   "execution_count": null,
   "metadata": {
    "collapsed": true
   },
   "outputs": [],
   "source": []
  },
  {
   "cell_type": "code",
   "execution_count": null,
   "metadata": {
    "collapsed": true
   },
   "outputs": [],
   "source": []
  },
  {
   "cell_type": "code",
   "execution_count": null,
   "metadata": {
    "collapsed": true
   },
   "outputs": [],
   "source": []
  },
  {
   "cell_type": "code",
   "execution_count": null,
   "metadata": {
    "collapsed": true
   },
   "outputs": [],
   "source": []
  },
  {
   "cell_type": "code",
   "execution_count": null,
   "metadata": {
    "collapsed": true
   },
   "outputs": [],
   "source": []
  },
  {
   "cell_type": "code",
   "execution_count": null,
   "metadata": {
    "collapsed": true
   },
   "outputs": [],
   "source": []
  },
  {
   "cell_type": "code",
   "execution_count": null,
   "metadata": {
    "collapsed": true
   },
   "outputs": [],
   "source": []
  },
  {
   "cell_type": "code",
   "execution_count": null,
   "metadata": {
    "collapsed": true
   },
   "outputs": [],
   "source": []
  },
  {
   "cell_type": "code",
   "execution_count": null,
   "metadata": {
    "collapsed": true
   },
   "outputs": [],
   "source": []
  },
  {
   "cell_type": "code",
   "execution_count": null,
   "metadata": {
    "collapsed": true
   },
   "outputs": [],
   "source": []
  },
  {
   "cell_type": "code",
   "execution_count": null,
   "metadata": {
    "collapsed": true
   },
   "outputs": [],
   "source": []
  }
 ],
 "metadata": {
  "anaconda-cloud": {},
  "kernelspec": {
   "display_name": "Python [default]",
   "language": "python",
   "name": "python3"
  },
  "language_info": {
   "codemirror_mode": {
    "name": "ipython",
    "version": 3
   },
   "file_extension": ".py",
   "mimetype": "text/x-python",
   "name": "python",
   "nbconvert_exporter": "python",
   "pygments_lexer": "ipython3",
   "version": "3.5.2"
  }
 },
 "nbformat": 4,
 "nbformat_minor": 1
}
