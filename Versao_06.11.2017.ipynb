{
 "cells": [
  {
   "cell_type": "code",
   "execution_count": 1,
   "metadata": {
    "collapsed": false
   },
   "outputs": [
    {
     "name": "stderr",
     "output_type": "stream",
     "text": [
      "D:\\Users\\felipe.santos\\AppData\\Local\\Continuum\\Anaconda3\\lib\\site-packages\\sklearn\\cross_validation.py:44: DeprecationWarning: This module was deprecated in version 0.18 in favor of the model_selection module into which all the refactored classes and functions are moved. Also note that the interface of the new CV iterators are different from that of this module. This module will be removed in 0.20.\n",
      "  \"This module will be removed in 0.20.\", DeprecationWarning)\n"
     ]
    }
   ],
   "source": [
    "import pandas as pd\n",
    "from datetime import datetime, timedelta, date\n",
    "from random import randint\n",
    "import numpy as np\n",
    "import csv\n",
    "from random import randint\n",
    "import pickle\n",
    "%matplotlib inline\n",
    "import matplotlib.pyplot as plt\n",
    "plt.style.use('ggplot')\n",
    "import seaborn as sns\n",
    "import os\n",
    "import sklearn\n",
    "from sklearn.preprocessing import LabelEncoder\n",
    "from sklearn.preprocessing import StandardScaler\n",
    "from sklearn.neighbors import KNeighborsClassifier\n",
    "from sklearn.ensemble import RandomForestClassifier\n",
    "from sklearn.model_selection import StratifiedKFold\n",
    "#from sklearn.model_selection import KFold\n",
    "from sklearn.cross_validation import KFold, StratifiedKFold\n",
    "from sklearn.metrics import roc_auc_score, f1_score\n",
    "from sklearn.preprocessing import LabelEncoder\n",
    "from sklearn.linear_model import LogisticRegression\n",
    "import IPython\n",
    "import unidecode \n",
    "from funcoes_uteis import *\n",
    "import seaborn as sns\n",
    "import pandas.core.algorithms as algos\n",
    "from scipy.stats import kendalltau\n",
    "from pylab import plot, show, savefig, xlim, figure, \\\n",
    "                hold, ylim, legend, boxplot, setp, axes"
   ]
  },
  {
   "cell_type": "code",
   "execution_count": 2,
   "metadata": {
    "collapsed": true
   },
   "outputs": [],
   "source": [
    "def marca_base(Perc, x):\n",
    "    if x >= Perc[(len(Perc)-1)]:\n",
    "        return len(Perc) +1\n",
    "    else:\n",
    "        for i in range(len(Perc)):\n",
    "            if x < Perc[i]:\n",
    "                return i + 1\n",
    "\n",
    "def marca_lista(lista, tamanho, variavel):\n",
    "    i = 0\n",
    "    for i in range(tamanho):\n",
    "        if variavel == lista[i]: return i\n",
    "        \n",
    "            \n",
    "def contagens_anteriores(um_df):\n",
    "    um_df['contagens_anteriores'] = range(len(um_df))\n",
    "    return um_df\n",
    "\n",
    "def cria_curva(percentiles, vetor):\n",
    "    Perc = list()\n",
    "    for i in range(len(percentiles)):\n",
    "        Perc.append(np.percentile(vetor, percentiles[i]))\n",
    "    return Perc"
   ]
  },
  {
   "cell_type": "markdown",
   "metadata": {},
   "source": [
    "# Cobrança"
   ]
  },
  {
   "cell_type": "code",
   "execution_count": 3,
   "metadata": {
    "collapsed": false
   },
   "outputs": [],
   "source": [
    "#df_cobranca = pd.read_csv('./Carga_Modelo_Cobranca_20171105.csv', sep = ';', error_bad_lines = False, encoding='latin-1')\n",
    "\n",
    "df_cobranca = pd.read_csv('./base_fe_20170522.csv', sep = ';', \n",
    "                          header = 0, \n",
    "                          dtype= {2: str})"
   ]
  },
  {
   "cell_type": "code",
   "execution_count": 4,
   "metadata": {
    "collapsed": false
   },
   "outputs": [
    {
     "data": {
      "text/html": [
       "<div>\n",
       "<table border=\"1\" class=\"dataframe\">\n",
       "  <thead>\n",
       "    <tr style=\"text-align: right;\">\n",
       "      <th></th>\n",
       "      <th>93981</th>\n",
       "    </tr>\n",
       "  </thead>\n",
       "  <tbody>\n",
       "    <tr>\n",
       "      <th>﻿cd_ClienteSAP</th>\n",
       "      <td>1000128542</td>\n",
       "    </tr>\n",
       "    <tr>\n",
       "      <th>cd_Login</th>\n",
       "      <td>borjaealvarenga</td>\n",
       "    </tr>\n",
       "    <tr>\n",
       "      <th>cd_provisioning</th>\n",
       "      <td>277607</td>\n",
       "    </tr>\n",
       "    <tr>\n",
       "      <th>ds_FormaPagamento</th>\n",
       "      <td>Boleto Bancário Itaú</td>\n",
       "    </tr>\n",
       "    <tr>\n",
       "      <th>ds_Periodicidade</th>\n",
       "      <td>Mensal</td>\n",
       "    </tr>\n",
       "    <tr>\n",
       "      <th>fl_ServicoPai</th>\n",
       "      <td>SIM</td>\n",
       "    </tr>\n",
       "    <tr>\n",
       "      <th>mes_idade_cliente</th>\n",
       "      <td>214</td>\n",
       "    </tr>\n",
       "    <tr>\n",
       "      <th>mes_idade_provisioning</th>\n",
       "      <td>42</td>\n",
       "    </tr>\n",
       "    <tr>\n",
       "      <th>qtd_inadimplencia</th>\n",
       "      <td>6</td>\n",
       "    </tr>\n",
       "    <tr>\n",
       "      <th>qtd_produtos_cliente</th>\n",
       "      <td>5</td>\n",
       "    </tr>\n",
       "    <tr>\n",
       "      <th>valor_cliente</th>\n",
       "      <td>117,70</td>\n",
       "    </tr>\n",
       "    <tr>\n",
       "      <th>valor_provisioning</th>\n",
       "      <td>35,2</td>\n",
       "    </tr>\n",
       "    <tr>\n",
       "      <th>dt_vencimento</th>\n",
       "      <td>2017-02-10 00:00:00.000</td>\n",
       "    </tr>\n",
       "    <tr>\n",
       "      <th>ANO_VENCIMENTO</th>\n",
       "      <td>2017</td>\n",
       "    </tr>\n",
       "    <tr>\n",
       "      <th>MES_VENCIMENTO</th>\n",
       "      <td>2</td>\n",
       "    </tr>\n",
       "    <tr>\n",
       "      <th>DIA_VENCIMENTO</th>\n",
       "      <td>10</td>\n",
       "    </tr>\n",
       "    <tr>\n",
       "      <th>dt_pagamento</th>\n",
       "      <td>2017-02-24 00:00:00.000</td>\n",
       "    </tr>\n",
       "    <tr>\n",
       "      <th>ANO_PAGAMENTO</th>\n",
       "      <td>2017</td>\n",
       "    </tr>\n",
       "    <tr>\n",
       "      <th>MES_PAGAMENTO</th>\n",
       "      <td>2</td>\n",
       "    </tr>\n",
       "    <tr>\n",
       "      <th>DIA_PAGAMENTO</th>\n",
       "      <td>24</td>\n",
       "    </tr>\n",
       "    <tr>\n",
       "      <th>fl_pago</th>\n",
       "      <td>1</td>\n",
       "    </tr>\n",
       "    <tr>\n",
       "      <th>fl_cancelado</th>\n",
       "      <td>0</td>\n",
       "    </tr>\n",
       "    <tr>\n",
       "      <th>vl_cobranca</th>\n",
       "      <td>35.24</td>\n",
       "    </tr>\n",
       "  </tbody>\n",
       "</table>\n",
       "</div>"
      ],
      "text/plain": [
       "                                          93981\n",
       "﻿cd_ClienteSAP                       1000128542\n",
       "cd_Login                        borjaealvarenga\n",
       "cd_provisioning                          277607\n",
       "ds_FormaPagamento          Boleto Bancário Itaú\n",
       "ds_Periodicidade                         Mensal\n",
       "fl_ServicoPai                               SIM\n",
       "mes_idade_cliente                           214\n",
       "mes_idade_provisioning                       42\n",
       "qtd_inadimplencia                             6\n",
       "qtd_produtos_cliente                          5\n",
       "valor_cliente                            117,70\n",
       "valor_provisioning                         35,2\n",
       "dt_vencimento           2017-02-10 00:00:00.000\n",
       "ANO_VENCIMENTO                             2017\n",
       "MES_VENCIMENTO                                2\n",
       "DIA_VENCIMENTO                               10\n",
       "dt_pagamento            2017-02-24 00:00:00.000\n",
       "ANO_PAGAMENTO                              2017\n",
       "MES_PAGAMENTO                                 2\n",
       "DIA_PAGAMENTO                                24\n",
       "fl_pago                                       1\n",
       "fl_cancelado                                  0\n",
       "vl_cobranca                               35.24"
      ]
     },
     "execution_count": 4,
     "metadata": {},
     "output_type": "execute_result"
    }
   ],
   "source": [
    "df_cobranca.sample().T"
   ]
  },
  {
   "cell_type": "code",
   "execution_count": 5,
   "metadata": {
    "collapsed": false
   },
   "outputs": [],
   "source": [
    "df_cobranca.fillna(0, inplace= True)\n",
    "df_cobranca['valor_cliente'] = [x.replace(',', '.') for x in df_cobranca.valor_cliente]\n",
    "df_cobranca['valor_cliente'] = df_cobranca.valor_cliente.astype(float)\n",
    "df_cobranca['valor_provisioning'] = [x.replace(',', '.') for x in df_cobranca.valor_provisioning]\n",
    "df_cobranca['valor_provisioning'] = df_cobranca.valor_provisioning.astype(float)"
   ]
  },
  {
   "cell_type": "code",
   "execution_count": 6,
   "metadata": {
    "collapsed": true
   },
   "outputs": [],
   "source": [
    "col_datas = ['dt_pagamento', 'dt_vencimento']\n",
    "converte_datetime(df_cobranca, col_datas)"
   ]
  },
  {
   "cell_type": "code",
   "execution_count": 7,
   "metadata": {
    "collapsed": false
   },
   "outputs": [],
   "source": [
    "df_cobranca['diferenca_dias'] = [abs((d2 - d1).days) if d2.year == 2017 else 0 \n",
    "                                 for d1, d2 in zip (df_cobranca.dt_vencimento,df_cobranca.dt_pagamento)]"
   ]
  },
  {
   "cell_type": "code",
   "execution_count": 8,
   "metadata": {
    "collapsed": false
   },
   "outputs": [
    {
     "name": "stderr",
     "output_type": "stream",
     "text": [
      "D:\\Users\\felipe.santos\\AppData\\Local\\Continuum\\Anaconda3\\lib\\site-packages\\ipykernel\\__main__.py:1: FutureWarning: sort(columns=....) is deprecated, use sort_values(by=.....)\n",
      "  if __name__ == '__main__':\n"
     ]
    }
   ],
   "source": [
    "df_cobranca = df_cobranca.sort(['dt_vencimento'], ascending=[1])"
   ]
  },
  {
   "cell_type": "code",
   "execution_count": 9,
   "metadata": {
    "collapsed": false
   },
   "outputs": [
    {
     "data": {
      "text/plain": [
       "4    78737\n",
       "3    76241\n",
       "2    64907\n",
       "5    52095\n",
       "1    51538\n",
       "Name: MES_VENCIMENTO, dtype: int64"
      ]
     },
     "execution_count": 9,
     "metadata": {},
     "output_type": "execute_result"
    }
   ],
   "source": [
    "df_cobranca.MES_VENCIMENTO.value_counts()"
   ]
  },
  {
   "cell_type": "code",
   "execution_count": 11,
   "metadata": {
    "collapsed": false
   },
   "outputs": [
    {
     "data": {
      "text/plain": [
       "Index(['﻿cd_ClienteSAP', 'cd_Login', 'cd_provisioning', 'ds_FormaPagamento',\n",
       "       'ds_Periodicidade', 'fl_ServicoPai', 'mes_idade_cliente',\n",
       "       'mes_idade_provisioning', 'qtd_inadimplencia', 'qtd_produtos_cliente',\n",
       "       'valor_cliente', 'valor_provisioning', 'dt_vencimento',\n",
       "       'ANO_VENCIMENTO', 'MES_VENCIMENTO', 'DIA_VENCIMENTO', 'dt_pagamento',\n",
       "       'ANO_PAGAMENTO', 'MES_PAGAMENTO', 'DIA_PAGAMENTO', 'fl_pago',\n",
       "       'fl_cancelado', 'vl_cobranca', 'diferenca_dias'],\n",
       "      dtype='object')"
      ]
     },
     "execution_count": 11,
     "metadata": {},
     "output_type": "execute_result"
    }
   ],
   "source": [
    "df_cobranca.columns"
   ]
  },
  {
   "cell_type": "code",
   "execution_count": 12,
   "metadata": {
    "collapsed": false
   },
   "outputs": [
    {
     "data": {
      "text/html": [
       "<div>\n",
       "<table border=\"1\" class=\"dataframe\">\n",
       "  <thead>\n",
       "    <tr style=\"text-align: right;\">\n",
       "      <th></th>\n",
       "      <th>925</th>\n",
       "    </tr>\n",
       "  </thead>\n",
       "  <tbody>\n",
       "    <tr>\n",
       "      <th>﻿cd_ClienteSAP</th>\n",
       "      <td>2000592847</td>\n",
       "    </tr>\n",
       "    <tr>\n",
       "      <th>cd_Login</th>\n",
       "      <td>renanpetra</td>\n",
       "    </tr>\n",
       "    <tr>\n",
       "      <th>cd_provisioning</th>\n",
       "      <td>63221646</td>\n",
       "    </tr>\n",
       "    <tr>\n",
       "      <th>ds_FormaPagamento</th>\n",
       "      <td>Boleto Bancário Itaú</td>\n",
       "    </tr>\n",
       "    <tr>\n",
       "      <th>ds_Periodicidade</th>\n",
       "      <td>Mensal</td>\n",
       "    </tr>\n",
       "    <tr>\n",
       "      <th>fl_ServicoPai</th>\n",
       "      <td>nao</td>\n",
       "    </tr>\n",
       "    <tr>\n",
       "      <th>mes_idade_cliente</th>\n",
       "      <td>17</td>\n",
       "    </tr>\n",
       "    <tr>\n",
       "      <th>mes_idade_provisioning</th>\n",
       "      <td>17</td>\n",
       "    </tr>\n",
       "    <tr>\n",
       "      <th>qtd_inadimplencia</th>\n",
       "      <td>3</td>\n",
       "    </tr>\n",
       "    <tr>\n",
       "      <th>qtd_produtos_cliente</th>\n",
       "      <td>2</td>\n",
       "    </tr>\n",
       "    <tr>\n",
       "      <th>valor_cliente</th>\n",
       "      <td>29</td>\n",
       "    </tr>\n",
       "    <tr>\n",
       "      <th>valor_provisioning</th>\n",
       "      <td>29</td>\n",
       "    </tr>\n",
       "    <tr>\n",
       "      <th>dt_vencimento</th>\n",
       "      <td>2017-01-05 00:00:00</td>\n",
       "    </tr>\n",
       "    <tr>\n",
       "      <th>ANO_VENCIMENTO</th>\n",
       "      <td>2017</td>\n",
       "    </tr>\n",
       "    <tr>\n",
       "      <th>MES_VENCIMENTO</th>\n",
       "      <td>1</td>\n",
       "    </tr>\n",
       "    <tr>\n",
       "      <th>DIA_VENCIMENTO</th>\n",
       "      <td>5</td>\n",
       "    </tr>\n",
       "    <tr>\n",
       "      <th>dt_pagamento</th>\n",
       "      <td>2017-01-09 00:00:00</td>\n",
       "    </tr>\n",
       "    <tr>\n",
       "      <th>ANO_PAGAMENTO</th>\n",
       "      <td>2017</td>\n",
       "    </tr>\n",
       "    <tr>\n",
       "      <th>MES_PAGAMENTO</th>\n",
       "      <td>1</td>\n",
       "    </tr>\n",
       "    <tr>\n",
       "      <th>DIA_PAGAMENTO</th>\n",
       "      <td>9</td>\n",
       "    </tr>\n",
       "    <tr>\n",
       "      <th>fl_pago</th>\n",
       "      <td>1</td>\n",
       "    </tr>\n",
       "    <tr>\n",
       "      <th>fl_cancelado</th>\n",
       "      <td>0</td>\n",
       "    </tr>\n",
       "    <tr>\n",
       "      <th>vl_cobranca</th>\n",
       "      <td>29</td>\n",
       "    </tr>\n",
       "    <tr>\n",
       "      <th>diferenca_dias</th>\n",
       "      <td>4</td>\n",
       "    </tr>\n",
       "  </tbody>\n",
       "</table>\n",
       "</div>"
      ],
      "text/plain": [
       "                                         925\n",
       "﻿cd_ClienteSAP                    2000592847\n",
       "cd_Login                          renanpetra\n",
       "cd_provisioning                     63221646\n",
       "ds_FormaPagamento       Boleto Bancário Itaú\n",
       "ds_Periodicidade                      Mensal\n",
       "fl_ServicoPai                            nao\n",
       "mes_idade_cliente                         17\n",
       "mes_idade_provisioning                    17\n",
       "qtd_inadimplencia                          3\n",
       "qtd_produtos_cliente                       2\n",
       "valor_cliente                             29\n",
       "valor_provisioning                        29\n",
       "dt_vencimento            2017-01-05 00:00:00\n",
       "ANO_VENCIMENTO                          2017\n",
       "MES_VENCIMENTO                             1\n",
       "DIA_VENCIMENTO                             5\n",
       "dt_pagamento             2017-01-09 00:00:00\n",
       "ANO_PAGAMENTO                           2017\n",
       "MES_PAGAMENTO                              1\n",
       "DIA_PAGAMENTO                              9\n",
       "fl_pago                                    1\n",
       "fl_cancelado                               0\n",
       "vl_cobranca                               29\n",
       "diferenca_dias                             4"
      ]
     },
     "execution_count": 12,
     "metadata": {},
     "output_type": "execute_result"
    }
   ],
   "source": [
    "df_cobranca.sample().T"
   ]
  },
  {
   "cell_type": "code",
   "execution_count": 13,
   "metadata": {
    "collapsed": true
   },
   "outputs": [],
   "source": [
    "df_cobranca['Resposta'] = [1 if d> 0 else 0 for d in df_cobranca.diferenca_dias]"
   ]
  },
  {
   "cell_type": "code",
   "execution_count": 14,
   "metadata": {
    "collapsed": false
   },
   "outputs": [
    {
     "data": {
      "text/plain": [
       "0.7626530826723706"
      ]
     },
     "execution_count": 14,
     "metadata": {},
     "output_type": "execute_result"
    }
   ],
   "source": [
    "df_cobranca.Resposta.mean()"
   ]
  },
  {
   "cell_type": "code",
   "execution_count": 15,
   "metadata": {
    "collapsed": false
   },
   "outputs": [
    {
     "data": {
      "text/html": [
       "<div>\n",
       "<table border=\"1\" class=\"dataframe\">\n",
       "  <thead>\n",
       "    <tr style=\"text-align: right;\">\n",
       "      <th></th>\n",
       "      <th>154856</th>\n",
       "    </tr>\n",
       "  </thead>\n",
       "  <tbody>\n",
       "    <tr>\n",
       "      <th>﻿cd_ClienteSAP</th>\n",
       "      <td>1002050060</td>\n",
       "    </tr>\n",
       "    <tr>\n",
       "      <th>cd_Login</th>\n",
       "      <td>danutaartpack</td>\n",
       "    </tr>\n",
       "    <tr>\n",
       "      <th>cd_provisioning</th>\n",
       "      <td>4421847</td>\n",
       "    </tr>\n",
       "    <tr>\n",
       "      <th>ds_FormaPagamento</th>\n",
       "      <td>Boleto Bancário Itaú</td>\n",
       "    </tr>\n",
       "    <tr>\n",
       "      <th>ds_Periodicidade</th>\n",
       "      <td>Mensal</td>\n",
       "    </tr>\n",
       "    <tr>\n",
       "      <th>fl_ServicoPai</th>\n",
       "      <td>SIM</td>\n",
       "    </tr>\n",
       "    <tr>\n",
       "      <th>mes_idade_cliente</th>\n",
       "      <td>80</td>\n",
       "    </tr>\n",
       "    <tr>\n",
       "      <th>mes_idade_provisioning</th>\n",
       "      <td>80</td>\n",
       "    </tr>\n",
       "    <tr>\n",
       "      <th>qtd_inadimplencia</th>\n",
       "      <td>1</td>\n",
       "    </tr>\n",
       "    <tr>\n",
       "      <th>qtd_produtos_cliente</th>\n",
       "      <td>1</td>\n",
       "    </tr>\n",
       "    <tr>\n",
       "      <th>valor_cliente</th>\n",
       "      <td>50</td>\n",
       "    </tr>\n",
       "    <tr>\n",
       "      <th>valor_provisioning</th>\n",
       "      <td>50</td>\n",
       "    </tr>\n",
       "    <tr>\n",
       "      <th>dt_vencimento</th>\n",
       "      <td>2017-01-25 00:00:00</td>\n",
       "    </tr>\n",
       "    <tr>\n",
       "      <th>ANO_VENCIMENTO</th>\n",
       "      <td>2017</td>\n",
       "    </tr>\n",
       "    <tr>\n",
       "      <th>MES_VENCIMENTO</th>\n",
       "      <td>1</td>\n",
       "    </tr>\n",
       "    <tr>\n",
       "      <th>DIA_VENCIMENTO</th>\n",
       "      <td>25</td>\n",
       "    </tr>\n",
       "    <tr>\n",
       "      <th>dt_pagamento</th>\n",
       "      <td>2017-01-26 00:00:00</td>\n",
       "    </tr>\n",
       "    <tr>\n",
       "      <th>ANO_PAGAMENTO</th>\n",
       "      <td>2017</td>\n",
       "    </tr>\n",
       "    <tr>\n",
       "      <th>MES_PAGAMENTO</th>\n",
       "      <td>1</td>\n",
       "    </tr>\n",
       "    <tr>\n",
       "      <th>DIA_PAGAMENTO</th>\n",
       "      <td>26</td>\n",
       "    </tr>\n",
       "    <tr>\n",
       "      <th>fl_pago</th>\n",
       "      <td>1</td>\n",
       "    </tr>\n",
       "    <tr>\n",
       "      <th>fl_cancelado</th>\n",
       "      <td>0</td>\n",
       "    </tr>\n",
       "    <tr>\n",
       "      <th>vl_cobranca</th>\n",
       "      <td>50</td>\n",
       "    </tr>\n",
       "    <tr>\n",
       "      <th>diferenca_dias</th>\n",
       "      <td>1</td>\n",
       "    </tr>\n",
       "    <tr>\n",
       "      <th>Resposta</th>\n",
       "      <td>1</td>\n",
       "    </tr>\n",
       "  </tbody>\n",
       "</table>\n",
       "</div>"
      ],
      "text/plain": [
       "                                      154856\n",
       "﻿cd_ClienteSAP                    1002050060\n",
       "cd_Login                       danutaartpack\n",
       "cd_provisioning                      4421847\n",
       "ds_FormaPagamento       Boleto Bancário Itaú\n",
       "ds_Periodicidade                      Mensal\n",
       "fl_ServicoPai                            SIM\n",
       "mes_idade_cliente                         80\n",
       "mes_idade_provisioning                    80\n",
       "qtd_inadimplencia                          1\n",
       "qtd_produtos_cliente                       1\n",
       "valor_cliente                             50\n",
       "valor_provisioning                        50\n",
       "dt_vencimento            2017-01-25 00:00:00\n",
       "ANO_VENCIMENTO                          2017\n",
       "MES_VENCIMENTO                             1\n",
       "DIA_VENCIMENTO                            25\n",
       "dt_pagamento             2017-01-26 00:00:00\n",
       "ANO_PAGAMENTO                           2017\n",
       "MES_PAGAMENTO                              1\n",
       "DIA_PAGAMENTO                             26\n",
       "fl_pago                                    1\n",
       "fl_cancelado                               0\n",
       "vl_cobranca                               50\n",
       "diferenca_dias                             1\n",
       "Resposta                                   1"
      ]
     },
     "execution_count": 15,
     "metadata": {},
     "output_type": "execute_result"
    }
   ],
   "source": [
    "df_cobranca.sample().T"
   ]
  },
  {
   "cell_type": "code",
   "execution_count": 16,
   "metadata": {
    "collapsed": false
   },
   "outputs": [
    {
     "name": "stderr",
     "output_type": "stream",
     "text": [
      "D:\\Users\\felipe.santos\\AppData\\Local\\Continuum\\Anaconda3\\lib\\site-packages\\ipykernel\\__main__.py:1: FutureWarning: sort(columns=....) is deprecated, use sort_values(by=.....)\n",
      "  if __name__ == '__main__':\n"
     ]
    }
   ],
   "source": [
    "df_cobranca = df_cobranca.sort(['dt_vencimento'], ascending=[1])\n",
    "\n",
    "#df_cobranca = df_cobranca.groupby('cd_Login').apply(contagens_anteriores)\n",
    "#df_cobranca.rename(columns={'contagens_anteriores' : 'contagens_anteriores_cliente'}, inplace=True)\n",
    "\n",
    "#df_cobranca = df_cobranca.groupby('cd_provisioning').apply(contagens_anteriores)\n",
    "#df_cobranca.rename(columns={'contagens_anteriores' : 'contagens_anteriores_provisioning'}, inplace=True)"
   ]
  },
  {
   "cell_type": "code",
   "execution_count": 17,
   "metadata": {
    "collapsed": false
   },
   "outputs": [],
   "source": [
    "df_cobranca['AnoMes'] = [datetime(ano, mes, 1) for ano, mes in zip (df_cobranca.ANO_VENCIMENTO, df_cobranca.MES_VENCIMENTO)]\n",
    "df_cobranca['ChaveModelo'] = [c+ AnoMes for c, AnoMes in zip (df_cobranca.cd_Login, df_cobranca.AnoMes.astype(str))]"
   ]
  },
  {
   "cell_type": "code",
   "execution_count": 18,
   "metadata": {
    "collapsed": true
   },
   "outputs": [],
   "source": [
    "df_original = df_cobranca.copy() "
   ]
  },
  {
   "cell_type": "code",
   "execution_count": 19,
   "metadata": {
    "collapsed": true
   },
   "outputs": [],
   "source": [
    "#df_cobranca = df_original.copy() "
   ]
  },
  {
   "cell_type": "code",
   "execution_count": 20,
   "metadata": {
    "collapsed": true
   },
   "outputs": [],
   "source": [
    "df_cobranca['MRR_aux'] = df_cobranca.valor_cliente*df_cobranca.mes_idade_cliente\n",
    "dict_lista_aux = {'MRR_aux' : 'max'}\n",
    "aux_MRR = df_cobranca.groupby('cd_Login').agg(dict_lista_aux)\n",
    "    \n",
    "percentiles= [10,20,30,40,50,60,70,80,90]\n",
    "    \n",
    "Perc = cria_curva(percentiles, aux_MRR.MRR_aux)\n",
    "aux_MRR['Score_login'] = [marca_base(Perc, x) for x in aux_MRR.MRR_aux]"
   ]
  },
  {
   "cell_type": "code",
   "execution_count": 21,
   "metadata": {
    "collapsed": false
   },
   "outputs": [
    {
     "data": {
      "text/html": [
       "<div>\n",
       "<table border=\"1\" class=\"dataframe\">\n",
       "  <thead>\n",
       "    <tr style=\"text-align: right;\">\n",
       "      <th></th>\n",
       "      <th>MRR_aux</th>\n",
       "      <th>Score_login</th>\n",
       "    </tr>\n",
       "    <tr>\n",
       "      <th>cd_Login</th>\n",
       "      <th></th>\n",
       "      <th></th>\n",
       "    </tr>\n",
       "  </thead>\n",
       "  <tbody>\n",
       "    <tr>\n",
       "      <th>zinialimentos</th>\n",
       "      <td>2954.9</td>\n",
       "      <td>6</td>\n",
       "    </tr>\n",
       "  </tbody>\n",
       "</table>\n",
       "</div>"
      ],
      "text/plain": [
       "               MRR_aux  Score_login\n",
       "cd_Login                           \n",
       "zinialimentos   2954.9            6"
      ]
     },
     "execution_count": 21,
     "metadata": {},
     "output_type": "execute_result"
    }
   ],
   "source": [
    "aux_MRR.sample()"
   ]
  },
  {
   "cell_type": "code",
   "execution_count": 22,
   "metadata": {
    "collapsed": false
   },
   "outputs": [],
   "source": [
    "df_cobranca.set_index('cd_Login', inplace= True)"
   ]
  },
  {
   "cell_type": "code",
   "execution_count": 23,
   "metadata": {
    "collapsed": false
   },
   "outputs": [],
   "source": [
    "df_cobranca = pd.concat([df_cobranca, aux_MRR[['Score_login']]], axis= 1, join_axes=[df_cobranca.index])"
   ]
  },
  {
   "cell_type": "code",
   "execution_count": 24,
   "metadata": {
    "collapsed": true
   },
   "outputs": [],
   "source": [
    "lista_ds_FormaPagamento = df_cobranca.ds_FormaPagamento.unique()\n",
    "tamanho = len(lista_ds_FormaPagamento) \n",
    "df_cobranca['ds_FormaPagamento_indice'] = [marca_lista(lista_ds_FormaPagamento, tamanho, variavel) \n",
    "                                           for variavel in df_cobranca.ds_FormaPagamento]\n",
    "\n",
    "lista_ds_Periodicidade = df_cobranca.ds_Periodicidade.unique()\n",
    "tamanho = len(lista_ds_Periodicidade) \n",
    "df_cobranca['ds_Periodicidade_indice'] = [marca_lista(lista_ds_Periodicidade, tamanho, variavel) \n",
    "                                          for variavel in df_cobranca.ds_Periodicidade]\n",
    "\n",
    "lista_fl_ServicoPai = df_cobranca.fl_ServicoPai.unique()\n",
    "tamanho = len(lista_fl_ServicoPai) \n",
    "df_cobranca['fl_ServicoPai_indice'] = [marca_lista(lista_fl_ServicoPai, tamanho, variavel)\n",
    "                                       for variavel in df_cobranca.fl_ServicoPai]"
   ]
  },
  {
   "cell_type": "code",
   "execution_count": 25,
   "metadata": {
    "collapsed": false
   },
   "outputs": [
    {
     "data": {
      "text/html": [
       "<div>\n",
       "<table border=\"1\" class=\"dataframe\">\n",
       "  <thead>\n",
       "    <tr style=\"text-align: right;\">\n",
       "      <th>cd_Login</th>\n",
       "      <th>onfbasil</th>\n",
       "      <th>stoflex</th>\n",
       "    </tr>\n",
       "  </thead>\n",
       "  <tbody>\n",
       "    <tr>\n",
       "      <th>﻿cd_ClienteSAP</th>\n",
       "      <td>1001076296</td>\n",
       "      <td>1000226465</td>\n",
       "    </tr>\n",
       "    <tr>\n",
       "      <th>cd_provisioning</th>\n",
       "      <td>2782650</td>\n",
       "      <td>8104090</td>\n",
       "    </tr>\n",
       "    <tr>\n",
       "      <th>ds_FormaPagamento</th>\n",
       "      <td>Boleto Bancário Itaú</td>\n",
       "      <td>Crédito em C/C</td>\n",
       "    </tr>\n",
       "    <tr>\n",
       "      <th>ds_Periodicidade</th>\n",
       "      <td>Mensal</td>\n",
       "      <td>Mensal</td>\n",
       "    </tr>\n",
       "    <tr>\n",
       "      <th>fl_ServicoPai</th>\n",
       "      <td>SIM</td>\n",
       "      <td>SIM</td>\n",
       "    </tr>\n",
       "    <tr>\n",
       "      <th>mes_idade_cliente</th>\n",
       "      <td>103</td>\n",
       "      <td>157</td>\n",
       "    </tr>\n",
       "    <tr>\n",
       "      <th>mes_idade_provisioning</th>\n",
       "      <td>42</td>\n",
       "      <td>42</td>\n",
       "    </tr>\n",
       "    <tr>\n",
       "      <th>qtd_inadimplencia</th>\n",
       "      <td>9</td>\n",
       "      <td>7</td>\n",
       "    </tr>\n",
       "    <tr>\n",
       "      <th>qtd_produtos_cliente</th>\n",
       "      <td>8</td>\n",
       "      <td>6</td>\n",
       "    </tr>\n",
       "    <tr>\n",
       "      <th>valor_cliente</th>\n",
       "      <td>70.6</td>\n",
       "      <td>79.9</td>\n",
       "    </tr>\n",
       "    <tr>\n",
       "      <th>valor_provisioning</th>\n",
       "      <td>70.6</td>\n",
       "      <td>50</td>\n",
       "    </tr>\n",
       "    <tr>\n",
       "      <th>dt_vencimento</th>\n",
       "      <td>2017-03-25 00:00:00</td>\n",
       "      <td>2017-02-15 00:00:00</td>\n",
       "    </tr>\n",
       "    <tr>\n",
       "      <th>ANO_VENCIMENTO</th>\n",
       "      <td>2017</td>\n",
       "      <td>2017</td>\n",
       "    </tr>\n",
       "    <tr>\n",
       "      <th>MES_VENCIMENTO</th>\n",
       "      <td>3</td>\n",
       "      <td>2</td>\n",
       "    </tr>\n",
       "    <tr>\n",
       "      <th>DIA_VENCIMENTO</th>\n",
       "      <td>25</td>\n",
       "      <td>15</td>\n",
       "    </tr>\n",
       "    <tr>\n",
       "      <th>dt_pagamento</th>\n",
       "      <td>2017-04-12 00:00:00</td>\n",
       "      <td>2017-03-15 00:00:00</td>\n",
       "    </tr>\n",
       "    <tr>\n",
       "      <th>ANO_PAGAMENTO</th>\n",
       "      <td>2017</td>\n",
       "      <td>2017</td>\n",
       "    </tr>\n",
       "    <tr>\n",
       "      <th>MES_PAGAMENTO</th>\n",
       "      <td>4</td>\n",
       "      <td>3</td>\n",
       "    </tr>\n",
       "    <tr>\n",
       "      <th>DIA_PAGAMENTO</th>\n",
       "      <td>12</td>\n",
       "      <td>15</td>\n",
       "    </tr>\n",
       "    <tr>\n",
       "      <th>fl_pago</th>\n",
       "      <td>1</td>\n",
       "      <td>1</td>\n",
       "    </tr>\n",
       "    <tr>\n",
       "      <th>fl_cancelado</th>\n",
       "      <td>0</td>\n",
       "      <td>0</td>\n",
       "    </tr>\n",
       "    <tr>\n",
       "      <th>vl_cobranca</th>\n",
       "      <td>70.63</td>\n",
       "      <td>50</td>\n",
       "    </tr>\n",
       "    <tr>\n",
       "      <th>diferenca_dias</th>\n",
       "      <td>18</td>\n",
       "      <td>28</td>\n",
       "    </tr>\n",
       "    <tr>\n",
       "      <th>Resposta</th>\n",
       "      <td>1</td>\n",
       "      <td>1</td>\n",
       "    </tr>\n",
       "    <tr>\n",
       "      <th>AnoMes</th>\n",
       "      <td>2017-03-01 00:00:00</td>\n",
       "      <td>2017-02-01 00:00:00</td>\n",
       "    </tr>\n",
       "    <tr>\n",
       "      <th>ChaveModelo</th>\n",
       "      <td>onfbasil2017-03-01</td>\n",
       "      <td>stoflex2017-02-01</td>\n",
       "    </tr>\n",
       "    <tr>\n",
       "      <th>MRR_aux</th>\n",
       "      <td>7271.8</td>\n",
       "      <td>12544.3</td>\n",
       "    </tr>\n",
       "    <tr>\n",
       "      <th>Score_login</th>\n",
       "      <td>9</td>\n",
       "      <td>10</td>\n",
       "    </tr>\n",
       "    <tr>\n",
       "      <th>ds_FormaPagamento_indice</th>\n",
       "      <td>2</td>\n",
       "      <td>1</td>\n",
       "    </tr>\n",
       "    <tr>\n",
       "      <th>ds_Periodicidade_indice</th>\n",
       "      <td>0</td>\n",
       "      <td>0</td>\n",
       "    </tr>\n",
       "    <tr>\n",
       "      <th>fl_ServicoPai_indice</th>\n",
       "      <td>2</td>\n",
       "      <td>2</td>\n",
       "    </tr>\n",
       "  </tbody>\n",
       "</table>\n",
       "</div>"
      ],
      "text/plain": [
       "cd_Login                              onfbasil              stoflex\n",
       "﻿cd_ClienteSAP                      1001076296           1000226465\n",
       "cd_provisioning                        2782650              8104090\n",
       "ds_FormaPagamento         Boleto Bancário Itaú       Crédito em C/C\n",
       "ds_Periodicidade                        Mensal               Mensal\n",
       "fl_ServicoPai                              SIM                  SIM\n",
       "mes_idade_cliente                          103                  157\n",
       "mes_idade_provisioning                      42                   42\n",
       "qtd_inadimplencia                            9                    7\n",
       "qtd_produtos_cliente                         8                    6\n",
       "valor_cliente                             70.6                 79.9\n",
       "valor_provisioning                        70.6                   50\n",
       "dt_vencimento              2017-03-25 00:00:00  2017-02-15 00:00:00\n",
       "ANO_VENCIMENTO                            2017                 2017\n",
       "MES_VENCIMENTO                               3                    2\n",
       "DIA_VENCIMENTO                              25                   15\n",
       "dt_pagamento               2017-04-12 00:00:00  2017-03-15 00:00:00\n",
       "ANO_PAGAMENTO                             2017                 2017\n",
       "MES_PAGAMENTO                                4                    3\n",
       "DIA_PAGAMENTO                               12                   15\n",
       "fl_pago                                      1                    1\n",
       "fl_cancelado                                 0                    0\n",
       "vl_cobranca                              70.63                   50\n",
       "diferenca_dias                              18                   28\n",
       "Resposta                                     1                    1\n",
       "AnoMes                     2017-03-01 00:00:00  2017-02-01 00:00:00\n",
       "ChaveModelo                 onfbasil2017-03-01    stoflex2017-02-01\n",
       "MRR_aux                                 7271.8              12544.3\n",
       "Score_login                                  9                   10\n",
       "ds_FormaPagamento_indice                     2                    1\n",
       "ds_Periodicidade_indice                      0                    0\n",
       "fl_ServicoPai_indice                         2                    2"
      ]
     },
     "execution_count": 25,
     "metadata": {},
     "output_type": "execute_result"
    }
   ],
   "source": [
    "df_cobranca.sample(2).T"
   ]
  },
  {
   "cell_type": "code",
   "execution_count": 26,
   "metadata": {
    "collapsed": false
   },
   "outputs": [],
   "source": [
    "df_cobranca.fillna(0,inplace= True)"
   ]
  },
  {
   "cell_type": "code",
   "execution_count": 27,
   "metadata": {
    "collapsed": false
   },
   "outputs": [
    {
     "data": {
      "text/plain": [
       "Index(['﻿cd_ClienteSAP', 'cd_provisioning', 'ds_FormaPagamento',\n",
       "       'ds_Periodicidade', 'fl_ServicoPai', 'mes_idade_cliente',\n",
       "       'mes_idade_provisioning', 'qtd_inadimplencia', 'qtd_produtos_cliente',\n",
       "       'valor_cliente', 'valor_provisioning', 'dt_vencimento',\n",
       "       'ANO_VENCIMENTO', 'MES_VENCIMENTO', 'DIA_VENCIMENTO', 'dt_pagamento',\n",
       "       'ANO_PAGAMENTO', 'MES_PAGAMENTO', 'DIA_PAGAMENTO', 'fl_pago',\n",
       "       'fl_cancelado', 'vl_cobranca', 'diferenca_dias', 'Resposta', 'AnoMes',\n",
       "       'ChaveModelo', 'MRR_aux', 'Score_login', 'ds_FormaPagamento_indice',\n",
       "       'ds_Periodicidade_indice', 'fl_ServicoPai_indice'],\n",
       "      dtype='object')"
      ]
     },
     "execution_count": 27,
     "metadata": {},
     "output_type": "execute_result"
    }
   ],
   "source": [
    "df_cobranca.columns"
   ]
  },
  {
   "cell_type": "code",
   "execution_count": 28,
   "metadata": {
    "collapsed": false
   },
   "outputs": [
    {
     "name": "stdout",
     "output_type": "stream",
     "text": [
      "Fold # 1\n",
      "train indices: [107613 107616 107618 ..., 323515 323516 323517]\n",
      "validation indices [     0      1      2 ..., 107916 107919 107921]\n",
      "AUC on fold # 1 : 0.840716367801 \n",
      "\n",
      "Fold # 2\n",
      "train indices: [     0      1      2 ..., 323515 323516 323517]\n",
      "validation indices [107613 107616 107618 ..., 215946 215947 215948]\n",
      "AUC on fold # 2 : 0.84245773959 \n",
      "\n",
      "Fold # 3\n",
      "train indices: [     0      1      2 ..., 215946 215947 215948]\n",
      "validation indices [214764 214772 214775 ..., 323515 323516 323517]\n",
      "AUC on fold # 3 : 0.838792868298 \n",
      "\n",
      "Average AUC on 3 folds: 0.840655658563\n"
     ]
    }
   ],
   "source": [
    "colunas =  ['mes_idade_cliente', 'mes_idade_provisioning',\n",
    "            'qtd_produtos_cliente',\n",
    "            'valor_cliente', 'valor_provisioning', \n",
    "            'MRR_aux', 'Score_login',\n",
    "            'ds_Periodicidade_indice', 'fl_ServicoPai_indice',\n",
    "            'Resposta']\n",
    "     \n",
    "     \n",
    "# shuffle rows\n",
    "X = df_cobranca[colunas].copy().sample(frac = 1)\n",
    "\n",
    "# create X and y matrices\n",
    "y = X.Resposta.values\n",
    "X = X.reset_index(drop=True).drop('Resposta', axis = 1).values\n",
    "\n",
    "# scaling\n",
    "scaler = StandardScaler()\n",
    "X = scaler.fit_transform(X)\n",
    "\n",
    "from sklearn.model_selection import StratifiedKFold\n",
    "skf = StratifiedKFold(n_splits=3)\n",
    "\n",
    "auc_list = []\n",
    "k = 1\n",
    "for train, valid in skf.split(X, y):\n",
    "    print('Fold #', k)\n",
    "    print(\"train indices: %s\\nvalidation indices %s\" % (train, valid))\n",
    "    clf = RandomForestClassifier(class_weight='balanced', n_estimators=500, max_depth=10)\n",
    "    clf.fit(X[train], y[train])\n",
    "    y_pred = clf.predict_proba(X[valid])\n",
    "    auc = roc_auc_score(y[valid], y_pred[:,1])\n",
    "    auc_list.append(auc)\n",
    "    print('AUC on fold #', k, ':', auc, '\\n')\n",
    "    k += 1\n",
    "    \n",
    "print('Average AUC on', k-1, 'folds:', np.mean(auc_list))  "
   ]
  },
  {
   "cell_type": "markdown",
   "metadata": {
    "collapsed": true
   },
   "source": [
    "# Marca Base "
   ]
  },
  {
   "cell_type": "code",
   "execution_count": 29,
   "metadata": {
    "collapsed": false
   },
   "outputs": [],
   "source": [
    "colunas =  ['mes_idade_cliente', 'mes_idade_provisioning',\n",
    "            'qtd_produtos_cliente',\n",
    "            'valor_cliente', 'valor_provisioning', \n",
    "            'MRR_aux', 'Score_login',\n",
    "            'ds_Periodicidade_indice', 'fl_ServicoPai_indice']\n",
    "     \n",
    "# shuffle rows\n",
    "X = df_cobranca[colunas].copy()\n",
    "X = scaler.fit_transform(X)"
   ]
  },
  {
   "cell_type": "code",
   "execution_count": 30,
   "metadata": {
    "collapsed": false
   },
   "outputs": [],
   "source": [
    "y_pred = clf.predict_proba(X)\n",
    "y_pred = pd.DataFrame(data=y_pred[:,1])\n",
    "y_pred.rename(columns= {0: 'Prob_Pagamento'}, inplace= True)"
   ]
  },
  {
   "cell_type": "code",
   "execution_count": 31,
   "metadata": {
    "collapsed": false
   },
   "outputs": [
    {
     "data": {
      "text/html": [
       "<div>\n",
       "<table border=\"1\" class=\"dataframe\">\n",
       "  <thead>\n",
       "    <tr style=\"text-align: right;\">\n",
       "      <th></th>\n",
       "      <th>Prob_Pagamento</th>\n",
       "    </tr>\n",
       "  </thead>\n",
       "  <tbody>\n",
       "    <tr>\n",
       "      <th>0</th>\n",
       "      <td>0.181321</td>\n",
       "    </tr>\n",
       "    <tr>\n",
       "      <th>1</th>\n",
       "      <td>0.318735</td>\n",
       "    </tr>\n",
       "    <tr>\n",
       "      <th>2</th>\n",
       "      <td>0.353981</td>\n",
       "    </tr>\n",
       "    <tr>\n",
       "      <th>3</th>\n",
       "      <td>0.674961</td>\n",
       "    </tr>\n",
       "    <tr>\n",
       "      <th>4</th>\n",
       "      <td>0.601031</td>\n",
       "    </tr>\n",
       "  </tbody>\n",
       "</table>\n",
       "</div>"
      ],
      "text/plain": [
       "   Prob_Pagamento\n",
       "0        0.181321\n",
       "1        0.318735\n",
       "2        0.353981\n",
       "3        0.674961\n",
       "4        0.601031"
      ]
     },
     "execution_count": 31,
     "metadata": {},
     "output_type": "execute_result"
    }
   ],
   "source": [
    "y_pred.head()"
   ]
  },
  {
   "cell_type": "code",
   "execution_count": 32,
   "metadata": {
    "collapsed": false
   },
   "outputs": [
    {
     "data": {
      "text/html": [
       "<div>\n",
       "<table border=\"1\" class=\"dataframe\">\n",
       "  <thead>\n",
       "    <tr style=\"text-align: right;\">\n",
       "      <th></th>\n",
       "      <th>﻿cd_ClienteSAP</th>\n",
       "      <th>cd_provisioning</th>\n",
       "      <th>ds_FormaPagamento</th>\n",
       "      <th>ds_Periodicidade</th>\n",
       "      <th>fl_ServicoPai</th>\n",
       "      <th>mes_idade_cliente</th>\n",
       "      <th>mes_idade_provisioning</th>\n",
       "      <th>qtd_inadimplencia</th>\n",
       "      <th>qtd_produtos_cliente</th>\n",
       "      <th>valor_cliente</th>\n",
       "      <th>...</th>\n",
       "      <th>vl_cobranca</th>\n",
       "      <th>diferenca_dias</th>\n",
       "      <th>Resposta</th>\n",
       "      <th>AnoMes</th>\n",
       "      <th>ChaveModelo</th>\n",
       "      <th>MRR_aux</th>\n",
       "      <th>Score_login</th>\n",
       "      <th>ds_FormaPagamento_indice</th>\n",
       "      <th>ds_Periodicidade_indice</th>\n",
       "      <th>fl_ServicoPai_indice</th>\n",
       "    </tr>\n",
       "    <tr>\n",
       "      <th>cd_Login</th>\n",
       "      <th></th>\n",
       "      <th></th>\n",
       "      <th></th>\n",
       "      <th></th>\n",
       "      <th></th>\n",
       "      <th></th>\n",
       "      <th></th>\n",
       "      <th></th>\n",
       "      <th></th>\n",
       "      <th></th>\n",
       "      <th></th>\n",
       "      <th></th>\n",
       "      <th></th>\n",
       "      <th></th>\n",
       "      <th></th>\n",
       "      <th></th>\n",
       "      <th></th>\n",
       "      <th></th>\n",
       "      <th></th>\n",
       "      <th></th>\n",
       "      <th></th>\n",
       "    </tr>\n",
       "  </thead>\n",
       "  <tbody>\n",
       "    <tr>\n",
       "      <th>maximusidc</th>\n",
       "      <td>2000807834</td>\n",
       "      <td>64365107</td>\n",
       "      <td>Cupom de Desconto</td>\n",
       "      <td>Mensal</td>\n",
       "      <td>NAO</td>\n",
       "      <td>5.0</td>\n",
       "      <td>4</td>\n",
       "      <td>11</td>\n",
       "      <td>11</td>\n",
       "      <td>3258.8</td>\n",
       "      <td>...</td>\n",
       "      <td>164.00</td>\n",
       "      <td>10</td>\n",
       "      <td>1</td>\n",
       "      <td>2017-01-01</td>\n",
       "      <td>maximusidc2017-01-01</td>\n",
       "      <td>16294.0</td>\n",
       "      <td>10</td>\n",
       "      <td>0</td>\n",
       "      <td>0</td>\n",
       "      <td>0</td>\n",
       "    </tr>\n",
       "    <tr>\n",
       "      <th>gs3</th>\n",
       "      <td>2000509093</td>\n",
       "      <td>63457765</td>\n",
       "      <td>Crédito em C/C</td>\n",
       "      <td>Trimestral</td>\n",
       "      <td>nao</td>\n",
       "      <td>22.0</td>\n",
       "      <td>15</td>\n",
       "      <td>10</td>\n",
       "      <td>6</td>\n",
       "      <td>21.1</td>\n",
       "      <td>...</td>\n",
       "      <td>60.00</td>\n",
       "      <td>4</td>\n",
       "      <td>1</td>\n",
       "      <td>2017-01-01</td>\n",
       "      <td>gs32017-01-01</td>\n",
       "      <td>464.2</td>\n",
       "      <td>2</td>\n",
       "      <td>1</td>\n",
       "      <td>1</td>\n",
       "      <td>1</td>\n",
       "    </tr>\n",
       "    <tr>\n",
       "      <th>maxacunha</th>\n",
       "      <td>2000810263</td>\n",
       "      <td>64372479</td>\n",
       "      <td>Crédito em C/C</td>\n",
       "      <td>Mensal</td>\n",
       "      <td>NAO</td>\n",
       "      <td>4.0</td>\n",
       "      <td>4</td>\n",
       "      <td>8</td>\n",
       "      <td>8</td>\n",
       "      <td>90.9</td>\n",
       "      <td>...</td>\n",
       "      <td>17.38</td>\n",
       "      <td>30</td>\n",
       "      <td>1</td>\n",
       "      <td>2017-01-01</td>\n",
       "      <td>maxacunha2017-01-01</td>\n",
       "      <td>363.6</td>\n",
       "      <td>1</td>\n",
       "      <td>1</td>\n",
       "      <td>0</td>\n",
       "      <td>0</td>\n",
       "    </tr>\n",
       "    <tr>\n",
       "      <th>carlospanda</th>\n",
       "      <td>2000807683</td>\n",
       "      <td>64365130</td>\n",
       "      <td>Boleto Bancário Itaú</td>\n",
       "      <td>Anual</td>\n",
       "      <td>SIM</td>\n",
       "      <td>4.0</td>\n",
       "      <td>4</td>\n",
       "      <td>11</td>\n",
       "      <td>6</td>\n",
       "      <td>35.9</td>\n",
       "      <td>...</td>\n",
       "      <td>59.90</td>\n",
       "      <td>3</td>\n",
       "      <td>1</td>\n",
       "      <td>2017-01-01</td>\n",
       "      <td>carlospanda2017-01-01</td>\n",
       "      <td>143.6</td>\n",
       "      <td>1</td>\n",
       "      <td>2</td>\n",
       "      <td>2</td>\n",
       "      <td>2</td>\n",
       "    </tr>\n",
       "    <tr>\n",
       "      <th>enxovais87</th>\n",
       "      <td>2000809454</td>\n",
       "      <td>64364530</td>\n",
       "      <td>Boleto Bancário Itaú</td>\n",
       "      <td>Anual</td>\n",
       "      <td>SIM</td>\n",
       "      <td>4.0</td>\n",
       "      <td>4</td>\n",
       "      <td>1</td>\n",
       "      <td>1</td>\n",
       "      <td>79.9</td>\n",
       "      <td>...</td>\n",
       "      <td>958.80</td>\n",
       "      <td>3</td>\n",
       "      <td>1</td>\n",
       "      <td>2017-01-01</td>\n",
       "      <td>enxovais872017-01-01</td>\n",
       "      <td>319.6</td>\n",
       "      <td>1</td>\n",
       "      <td>2</td>\n",
       "      <td>2</td>\n",
       "      <td>2</td>\n",
       "    </tr>\n",
       "  </tbody>\n",
       "</table>\n",
       "<p>5 rows × 31 columns</p>\n",
       "</div>"
      ],
      "text/plain": [
       "             ﻿cd_ClienteSAP cd_provisioning     ds_FormaPagamento  \\\n",
       "cd_Login                                                            \n",
       "maximusidc       2000807834        64365107     Cupom de Desconto   \n",
       "gs3              2000509093        63457765        Crédito em C/C   \n",
       "maxacunha        2000810263        64372479        Crédito em C/C   \n",
       "carlospanda      2000807683        64365130  Boleto Bancário Itaú   \n",
       "enxovais87       2000809454        64364530  Boleto Bancário Itaú   \n",
       "\n",
       "            ds_Periodicidade fl_ServicoPai  mes_idade_cliente  \\\n",
       "cd_Login                                                        \n",
       "maximusidc            Mensal           NAO                5.0   \n",
       "gs3               Trimestral           nao               22.0   \n",
       "maxacunha             Mensal           NAO                4.0   \n",
       "carlospanda            Anual           SIM                4.0   \n",
       "enxovais87             Anual           SIM                4.0   \n",
       "\n",
       "             mes_idade_provisioning  qtd_inadimplencia  qtd_produtos_cliente  \\\n",
       "cd_Login                                                                       \n",
       "maximusidc                        4                 11                    11   \n",
       "gs3                              15                 10                     6   \n",
       "maxacunha                         4                  8                     8   \n",
       "carlospanda                       4                 11                     6   \n",
       "enxovais87                        4                  1                     1   \n",
       "\n",
       "             valor_cliente          ...           vl_cobranca diferenca_dias  \\\n",
       "cd_Login                            ...                                        \n",
       "maximusidc          3258.8          ...                164.00             10   \n",
       "gs3                   21.1          ...                 60.00              4   \n",
       "maxacunha             90.9          ...                 17.38             30   \n",
       "carlospanda           35.9          ...                 59.90              3   \n",
       "enxovais87            79.9          ...                958.80              3   \n",
       "\n",
       "             Resposta     AnoMes            ChaveModelo  MRR_aux  Score_login  \\\n",
       "cd_Login                                                                        \n",
       "maximusidc          1 2017-01-01   maximusidc2017-01-01  16294.0           10   \n",
       "gs3                 1 2017-01-01          gs32017-01-01    464.2            2   \n",
       "maxacunha           1 2017-01-01    maxacunha2017-01-01    363.6            1   \n",
       "carlospanda         1 2017-01-01  carlospanda2017-01-01    143.6            1   \n",
       "enxovais87          1 2017-01-01   enxovais872017-01-01    319.6            1   \n",
       "\n",
       "             ds_FormaPagamento_indice  ds_Periodicidade_indice  \\\n",
       "cd_Login                                                         \n",
       "maximusidc                          0                        0   \n",
       "gs3                                 1                        1   \n",
       "maxacunha                           1                        0   \n",
       "carlospanda                         2                        2   \n",
       "enxovais87                          2                        2   \n",
       "\n",
       "             fl_ServicoPai_indice  \n",
       "cd_Login                           \n",
       "maximusidc                      0  \n",
       "gs3                             1  \n",
       "maxacunha                       0  \n",
       "carlospanda                     2  \n",
       "enxovais87                      2  \n",
       "\n",
       "[5 rows x 31 columns]"
      ]
     },
     "execution_count": 32,
     "metadata": {},
     "output_type": "execute_result"
    }
   ],
   "source": [
    "df_cobranca.head()"
   ]
  },
  {
   "cell_type": "code",
   "execution_count": 33,
   "metadata": {
    "collapsed": false
   },
   "outputs": [],
   "source": [
    "df_consolida = pd.concat([df_cobranca.reset_index(), y_pred], axis=1)"
   ]
  },
  {
   "cell_type": "code",
   "execution_count": 34,
   "metadata": {
    "collapsed": false
   },
   "outputs": [
    {
     "data": {
      "text/html": [
       "<div>\n",
       "<table border=\"1\" class=\"dataframe\">\n",
       "  <thead>\n",
       "    <tr style=\"text-align: right;\">\n",
       "      <th></th>\n",
       "      <th>0</th>\n",
       "      <th>1</th>\n",
       "      <th>2</th>\n",
       "      <th>3</th>\n",
       "      <th>4</th>\n",
       "    </tr>\n",
       "  </thead>\n",
       "  <tbody>\n",
       "    <tr>\n",
       "      <th>cd_Login</th>\n",
       "      <td>maximusidc</td>\n",
       "      <td>gs3</td>\n",
       "      <td>maxacunha</td>\n",
       "      <td>carlospanda</td>\n",
       "      <td>enxovais87</td>\n",
       "    </tr>\n",
       "    <tr>\n",
       "      <th>﻿cd_ClienteSAP</th>\n",
       "      <td>2000807834</td>\n",
       "      <td>2000509093</td>\n",
       "      <td>2000810263</td>\n",
       "      <td>2000807683</td>\n",
       "      <td>2000809454</td>\n",
       "    </tr>\n",
       "    <tr>\n",
       "      <th>cd_provisioning</th>\n",
       "      <td>64365107</td>\n",
       "      <td>63457765</td>\n",
       "      <td>64372479</td>\n",
       "      <td>64365130</td>\n",
       "      <td>64364530</td>\n",
       "    </tr>\n",
       "    <tr>\n",
       "      <th>ds_FormaPagamento</th>\n",
       "      <td>Cupom de Desconto</td>\n",
       "      <td>Crédito em C/C</td>\n",
       "      <td>Crédito em C/C</td>\n",
       "      <td>Boleto Bancário Itaú</td>\n",
       "      <td>Boleto Bancário Itaú</td>\n",
       "    </tr>\n",
       "    <tr>\n",
       "      <th>ds_Periodicidade</th>\n",
       "      <td>Mensal</td>\n",
       "      <td>Trimestral</td>\n",
       "      <td>Mensal</td>\n",
       "      <td>Anual</td>\n",
       "      <td>Anual</td>\n",
       "    </tr>\n",
       "    <tr>\n",
       "      <th>fl_ServicoPai</th>\n",
       "      <td>NAO</td>\n",
       "      <td>nao</td>\n",
       "      <td>NAO</td>\n",
       "      <td>SIM</td>\n",
       "      <td>SIM</td>\n",
       "    </tr>\n",
       "    <tr>\n",
       "      <th>mes_idade_cliente</th>\n",
       "      <td>5</td>\n",
       "      <td>22</td>\n",
       "      <td>4</td>\n",
       "      <td>4</td>\n",
       "      <td>4</td>\n",
       "    </tr>\n",
       "    <tr>\n",
       "      <th>mes_idade_provisioning</th>\n",
       "      <td>4</td>\n",
       "      <td>15</td>\n",
       "      <td>4</td>\n",
       "      <td>4</td>\n",
       "      <td>4</td>\n",
       "    </tr>\n",
       "    <tr>\n",
       "      <th>qtd_inadimplencia</th>\n",
       "      <td>11</td>\n",
       "      <td>10</td>\n",
       "      <td>8</td>\n",
       "      <td>11</td>\n",
       "      <td>1</td>\n",
       "    </tr>\n",
       "    <tr>\n",
       "      <th>qtd_produtos_cliente</th>\n",
       "      <td>11</td>\n",
       "      <td>6</td>\n",
       "      <td>8</td>\n",
       "      <td>6</td>\n",
       "      <td>1</td>\n",
       "    </tr>\n",
       "    <tr>\n",
       "      <th>valor_cliente</th>\n",
       "      <td>3258.8</td>\n",
       "      <td>21.1</td>\n",
       "      <td>90.9</td>\n",
       "      <td>35.9</td>\n",
       "      <td>79.9</td>\n",
       "    </tr>\n",
       "    <tr>\n",
       "      <th>valor_provisioning</th>\n",
       "      <td>164</td>\n",
       "      <td>21.1</td>\n",
       "      <td>17.4</td>\n",
       "      <td>59.9</td>\n",
       "      <td>79.9</td>\n",
       "    </tr>\n",
       "    <tr>\n",
       "      <th>dt_vencimento</th>\n",
       "      <td>2017-01-02 00:00:00</td>\n",
       "      <td>2017-01-02 00:00:00</td>\n",
       "      <td>2017-01-02 00:00:00</td>\n",
       "      <td>2017-01-02 00:00:00</td>\n",
       "      <td>2017-01-02 00:00:00</td>\n",
       "    </tr>\n",
       "    <tr>\n",
       "      <th>ANO_VENCIMENTO</th>\n",
       "      <td>2017</td>\n",
       "      <td>2017</td>\n",
       "      <td>2017</td>\n",
       "      <td>2017</td>\n",
       "      <td>2017</td>\n",
       "    </tr>\n",
       "    <tr>\n",
       "      <th>MES_VENCIMENTO</th>\n",
       "      <td>1</td>\n",
       "      <td>1</td>\n",
       "      <td>1</td>\n",
       "      <td>1</td>\n",
       "      <td>1</td>\n",
       "    </tr>\n",
       "    <tr>\n",
       "      <th>DIA_VENCIMENTO</th>\n",
       "      <td>2</td>\n",
       "      <td>2</td>\n",
       "      <td>2</td>\n",
       "      <td>2</td>\n",
       "      <td>2</td>\n",
       "    </tr>\n",
       "    <tr>\n",
       "      <th>dt_pagamento</th>\n",
       "      <td>2017-01-12 00:00:00</td>\n",
       "      <td>2017-01-06 00:00:00</td>\n",
       "      <td>2017-02-01 00:00:00</td>\n",
       "      <td>2017-01-05 00:00:00</td>\n",
       "      <td>2017-01-05 00:00:00</td>\n",
       "    </tr>\n",
       "    <tr>\n",
       "      <th>ANO_PAGAMENTO</th>\n",
       "      <td>2017</td>\n",
       "      <td>2017</td>\n",
       "      <td>2017</td>\n",
       "      <td>2017</td>\n",
       "      <td>2017</td>\n",
       "    </tr>\n",
       "    <tr>\n",
       "      <th>MES_PAGAMENTO</th>\n",
       "      <td>1</td>\n",
       "      <td>1</td>\n",
       "      <td>2</td>\n",
       "      <td>1</td>\n",
       "      <td>1</td>\n",
       "    </tr>\n",
       "    <tr>\n",
       "      <th>DIA_PAGAMENTO</th>\n",
       "      <td>12</td>\n",
       "      <td>6</td>\n",
       "      <td>1</td>\n",
       "      <td>5</td>\n",
       "      <td>5</td>\n",
       "    </tr>\n",
       "    <tr>\n",
       "      <th>fl_pago</th>\n",
       "      <td>1</td>\n",
       "      <td>1</td>\n",
       "      <td>1</td>\n",
       "      <td>1</td>\n",
       "      <td>1</td>\n",
       "    </tr>\n",
       "    <tr>\n",
       "      <th>fl_cancelado</th>\n",
       "      <td>0</td>\n",
       "      <td>0</td>\n",
       "      <td>0</td>\n",
       "      <td>0</td>\n",
       "      <td>0</td>\n",
       "    </tr>\n",
       "    <tr>\n",
       "      <th>vl_cobranca</th>\n",
       "      <td>164</td>\n",
       "      <td>60</td>\n",
       "      <td>17.38</td>\n",
       "      <td>59.9</td>\n",
       "      <td>958.8</td>\n",
       "    </tr>\n",
       "    <tr>\n",
       "      <th>diferenca_dias</th>\n",
       "      <td>10</td>\n",
       "      <td>4</td>\n",
       "      <td>30</td>\n",
       "      <td>3</td>\n",
       "      <td>3</td>\n",
       "    </tr>\n",
       "    <tr>\n",
       "      <th>Resposta</th>\n",
       "      <td>1</td>\n",
       "      <td>1</td>\n",
       "      <td>1</td>\n",
       "      <td>1</td>\n",
       "      <td>1</td>\n",
       "    </tr>\n",
       "    <tr>\n",
       "      <th>AnoMes</th>\n",
       "      <td>2017-01-01 00:00:00</td>\n",
       "      <td>2017-01-01 00:00:00</td>\n",
       "      <td>2017-01-01 00:00:00</td>\n",
       "      <td>2017-01-01 00:00:00</td>\n",
       "      <td>2017-01-01 00:00:00</td>\n",
       "    </tr>\n",
       "    <tr>\n",
       "      <th>ChaveModelo</th>\n",
       "      <td>maximusidc2017-01-01</td>\n",
       "      <td>gs32017-01-01</td>\n",
       "      <td>maxacunha2017-01-01</td>\n",
       "      <td>carlospanda2017-01-01</td>\n",
       "      <td>enxovais872017-01-01</td>\n",
       "    </tr>\n",
       "    <tr>\n",
       "      <th>MRR_aux</th>\n",
       "      <td>16294</td>\n",
       "      <td>464.2</td>\n",
       "      <td>363.6</td>\n",
       "      <td>143.6</td>\n",
       "      <td>319.6</td>\n",
       "    </tr>\n",
       "    <tr>\n",
       "      <th>Score_login</th>\n",
       "      <td>10</td>\n",
       "      <td>2</td>\n",
       "      <td>1</td>\n",
       "      <td>1</td>\n",
       "      <td>1</td>\n",
       "    </tr>\n",
       "    <tr>\n",
       "      <th>ds_FormaPagamento_indice</th>\n",
       "      <td>0</td>\n",
       "      <td>1</td>\n",
       "      <td>1</td>\n",
       "      <td>2</td>\n",
       "      <td>2</td>\n",
       "    </tr>\n",
       "    <tr>\n",
       "      <th>ds_Periodicidade_indice</th>\n",
       "      <td>0</td>\n",
       "      <td>1</td>\n",
       "      <td>0</td>\n",
       "      <td>2</td>\n",
       "      <td>2</td>\n",
       "    </tr>\n",
       "    <tr>\n",
       "      <th>fl_ServicoPai_indice</th>\n",
       "      <td>0</td>\n",
       "      <td>1</td>\n",
       "      <td>0</td>\n",
       "      <td>2</td>\n",
       "      <td>2</td>\n",
       "    </tr>\n",
       "    <tr>\n",
       "      <th>Prob_Pagamento</th>\n",
       "      <td>0.181321</td>\n",
       "      <td>0.318735</td>\n",
       "      <td>0.353981</td>\n",
       "      <td>0.674961</td>\n",
       "      <td>0.601031</td>\n",
       "    </tr>\n",
       "  </tbody>\n",
       "</table>\n",
       "</div>"
      ],
      "text/plain": [
       "                                             0                    1  \\\n",
       "cd_Login                            maximusidc                  gs3   \n",
       "﻿cd_ClienteSAP                      2000807834           2000509093   \n",
       "cd_provisioning                       64365107             63457765   \n",
       "ds_FormaPagamento            Cupom de Desconto       Crédito em C/C   \n",
       "ds_Periodicidade                        Mensal           Trimestral   \n",
       "fl_ServicoPai                              NAO                  nao   \n",
       "mes_idade_cliente                            5                   22   \n",
       "mes_idade_provisioning                       4                   15   \n",
       "qtd_inadimplencia                           11                   10   \n",
       "qtd_produtos_cliente                        11                    6   \n",
       "valor_cliente                           3258.8                 21.1   \n",
       "valor_provisioning                         164                 21.1   \n",
       "dt_vencimento              2017-01-02 00:00:00  2017-01-02 00:00:00   \n",
       "ANO_VENCIMENTO                            2017                 2017   \n",
       "MES_VENCIMENTO                               1                    1   \n",
       "DIA_VENCIMENTO                               2                    2   \n",
       "dt_pagamento               2017-01-12 00:00:00  2017-01-06 00:00:00   \n",
       "ANO_PAGAMENTO                             2017                 2017   \n",
       "MES_PAGAMENTO                                1                    1   \n",
       "DIA_PAGAMENTO                               12                    6   \n",
       "fl_pago                                      1                    1   \n",
       "fl_cancelado                                 0                    0   \n",
       "vl_cobranca                                164                   60   \n",
       "diferenca_dias                              10                    4   \n",
       "Resposta                                     1                    1   \n",
       "AnoMes                     2017-01-01 00:00:00  2017-01-01 00:00:00   \n",
       "ChaveModelo               maximusidc2017-01-01        gs32017-01-01   \n",
       "MRR_aux                                  16294                464.2   \n",
       "Score_login                                 10                    2   \n",
       "ds_FormaPagamento_indice                     0                    1   \n",
       "ds_Periodicidade_indice                      0                    1   \n",
       "fl_ServicoPai_indice                         0                    1   \n",
       "Prob_Pagamento                        0.181321             0.318735   \n",
       "\n",
       "                                            2                      3  \\\n",
       "cd_Login                            maxacunha            carlospanda   \n",
       "﻿cd_ClienteSAP                     2000810263             2000807683   \n",
       "cd_provisioning                      64372479               64365130   \n",
       "ds_FormaPagamento              Crédito em C/C   Boleto Bancário Itaú   \n",
       "ds_Periodicidade                       Mensal                  Anual   \n",
       "fl_ServicoPai                             NAO                    SIM   \n",
       "mes_idade_cliente                           4                      4   \n",
       "mes_idade_provisioning                      4                      4   \n",
       "qtd_inadimplencia                           8                     11   \n",
       "qtd_produtos_cliente                        8                      6   \n",
       "valor_cliente                            90.9                   35.9   \n",
       "valor_provisioning                       17.4                   59.9   \n",
       "dt_vencimento             2017-01-02 00:00:00    2017-01-02 00:00:00   \n",
       "ANO_VENCIMENTO                           2017                   2017   \n",
       "MES_VENCIMENTO                              1                      1   \n",
       "DIA_VENCIMENTO                              2                      2   \n",
       "dt_pagamento              2017-02-01 00:00:00    2017-01-05 00:00:00   \n",
       "ANO_PAGAMENTO                            2017                   2017   \n",
       "MES_PAGAMENTO                               2                      1   \n",
       "DIA_PAGAMENTO                               1                      5   \n",
       "fl_pago                                     1                      1   \n",
       "fl_cancelado                                0                      0   \n",
       "vl_cobranca                             17.38                   59.9   \n",
       "diferenca_dias                             30                      3   \n",
       "Resposta                                    1                      1   \n",
       "AnoMes                    2017-01-01 00:00:00    2017-01-01 00:00:00   \n",
       "ChaveModelo               maxacunha2017-01-01  carlospanda2017-01-01   \n",
       "MRR_aux                                 363.6                  143.6   \n",
       "Score_login                                 1                      1   \n",
       "ds_FormaPagamento_indice                    1                      2   \n",
       "ds_Periodicidade_indice                     0                      2   \n",
       "fl_ServicoPai_indice                        0                      2   \n",
       "Prob_Pagamento                       0.353981               0.674961   \n",
       "\n",
       "                                             4  \n",
       "cd_Login                            enxovais87  \n",
       "﻿cd_ClienteSAP                      2000809454  \n",
       "cd_provisioning                       64364530  \n",
       "ds_FormaPagamento         Boleto Bancário Itaú  \n",
       "ds_Periodicidade                         Anual  \n",
       "fl_ServicoPai                              SIM  \n",
       "mes_idade_cliente                            4  \n",
       "mes_idade_provisioning                       4  \n",
       "qtd_inadimplencia                            1  \n",
       "qtd_produtos_cliente                         1  \n",
       "valor_cliente                             79.9  \n",
       "valor_provisioning                        79.9  \n",
       "dt_vencimento              2017-01-02 00:00:00  \n",
       "ANO_VENCIMENTO                            2017  \n",
       "MES_VENCIMENTO                               1  \n",
       "DIA_VENCIMENTO                               2  \n",
       "dt_pagamento               2017-01-05 00:00:00  \n",
       "ANO_PAGAMENTO                             2017  \n",
       "MES_PAGAMENTO                                1  \n",
       "DIA_PAGAMENTO                                5  \n",
       "fl_pago                                      1  \n",
       "fl_cancelado                                 0  \n",
       "vl_cobranca                              958.8  \n",
       "diferenca_dias                               3  \n",
       "Resposta                                     1  \n",
       "AnoMes                     2017-01-01 00:00:00  \n",
       "ChaveModelo               enxovais872017-01-01  \n",
       "MRR_aux                                  319.6  \n",
       "Score_login                                  1  \n",
       "ds_FormaPagamento_indice                     2  \n",
       "ds_Periodicidade_indice                      2  \n",
       "fl_ServicoPai_indice                         2  \n",
       "Prob_Pagamento                        0.601031  "
      ]
     },
     "execution_count": 34,
     "metadata": {},
     "output_type": "execute_result"
    }
   ],
   "source": [
    "df_consolida.head().T"
   ]
  },
  {
   "cell_type": "code",
   "execution_count": 35,
   "metadata": {
    "collapsed": false
   },
   "outputs": [],
   "source": [
    "percentiles = list()\n",
    "inicio = 0\n",
    "fim = 100\n",
    "salto = 0.25\n",
    "aux = round((fim - inicio)/salto)\n",
    "for i in range(aux):\n",
    "    percentiles.append((inicio +i*salto))\n",
    "Perc = cria_curva(percentiles, df_consolida.Prob_Pagamento)\n",
    "df_consolida['Prob_Grupo'] = [marca_base(Perc, x) for x in df_consolida.Prob_Pagamento]\n",
    "dict_lista_aux = {'cd_Login' : 'count',\n",
    "                  'Prob_Pagamento' : 'min',\n",
    "                  'Resposta' : 'mean'}\n",
    "RESUMO = df_consolida.groupby('Prob_Grupo').agg(dict_lista_aux)\n",
    "RESUMO.sort_values(['Prob_Pagamento'], ascending= 0 ,inplace=True)\n",
    "RESUMO.Prob_Pagamento = round(RESUMO.Prob_Pagamento, ndigits = 2)\n",
    "RESUMO['Resposta_aux'] = [p*q for p, q in zip (RESUMO.Resposta, RESUMO.cd_Login)]\n",
    "RESUMO['acumulado'] = RESUMO.cd_Login.cumsum()\n",
    "RESUMO['Prob_acumulado'] = RESUMO.Resposta_aux.cumsum()\n",
    "RESUMO['Resposta_acumulado'] = [p/q for p, q in zip (RESUMO.Prob_acumulado, RESUMO.acumulado)]\n",
    "RESUMO['Prob_Pagamento_aux'] = [p*q for p, q in zip (RESUMO.Prob_Pagamento, RESUMO.cd_Login)]\n",
    "RESUMO['acumulado'] = RESUMO.cd_Login.cumsum()\n",
    "RESUMO['Prob_acumulado'] = RESUMO.Prob_Pagamento_aux.cumsum()\n",
    "RESUMO['Prob_up_acumulado'] = [p/q for p, q in zip (RESUMO.Prob_acumulado, RESUMO.acumulado)]\n",
    "\n",
    "RESUMO['cd_Login_perc'] = RESUMO.cd_Login/RESUMO.cd_Login.sum()\n",
    "RESUMO.reset_index(inplace= True)"
   ]
  },
  {
   "cell_type": "code",
   "execution_count": 36,
   "metadata": {
    "collapsed": false
   },
   "outputs": [
    {
     "data": {
      "text/html": [
       "<div>\n",
       "<table border=\"1\" class=\"dataframe\">\n",
       "  <thead>\n",
       "    <tr style=\"text-align: right;\">\n",
       "      <th></th>\n",
       "      <th>Prob_Grupo</th>\n",
       "      <th>Prob_Pagamento</th>\n",
       "      <th>cd_Login</th>\n",
       "      <th>Resposta</th>\n",
       "      <th>Resposta_aux</th>\n",
       "      <th>acumulado</th>\n",
       "      <th>Prob_acumulado</th>\n",
       "      <th>Resposta_acumulado</th>\n",
       "      <th>Prob_Pagamento_aux</th>\n",
       "      <th>Prob_up_acumulado</th>\n",
       "      <th>cd_Login_perc</th>\n",
       "    </tr>\n",
       "  </thead>\n",
       "  <tbody>\n",
       "    <tr>\n",
       "      <th>0</th>\n",
       "      <td>401</td>\n",
       "      <td>0.85</td>\n",
       "      <td>810</td>\n",
       "      <td>0.992593</td>\n",
       "      <td>804.0</td>\n",
       "      <td>810</td>\n",
       "      <td>688.50</td>\n",
       "      <td>0.992593</td>\n",
       "      <td>688.50</td>\n",
       "      <td>0.850000</td>\n",
       "      <td>0.002504</td>\n",
       "    </tr>\n",
       "    <tr>\n",
       "      <th>1</th>\n",
       "      <td>400</td>\n",
       "      <td>0.84</td>\n",
       "      <td>808</td>\n",
       "      <td>0.988861</td>\n",
       "      <td>799.0</td>\n",
       "      <td>1618</td>\n",
       "      <td>1367.22</td>\n",
       "      <td>0.990729</td>\n",
       "      <td>678.72</td>\n",
       "      <td>0.845006</td>\n",
       "      <td>0.002498</td>\n",
       "    </tr>\n",
       "    <tr>\n",
       "      <th>2</th>\n",
       "      <td>399</td>\n",
       "      <td>0.84</td>\n",
       "      <td>809</td>\n",
       "      <td>0.978986</td>\n",
       "      <td>792.0</td>\n",
       "      <td>2427</td>\n",
       "      <td>2046.78</td>\n",
       "      <td>0.986815</td>\n",
       "      <td>679.56</td>\n",
       "      <td>0.843337</td>\n",
       "      <td>0.002501</td>\n",
       "    </tr>\n",
       "    <tr>\n",
       "      <th>3</th>\n",
       "      <td>398</td>\n",
       "      <td>0.84</td>\n",
       "      <td>815</td>\n",
       "      <td>0.981595</td>\n",
       "      <td>800.0</td>\n",
       "      <td>3242</td>\n",
       "      <td>2731.38</td>\n",
       "      <td>0.985503</td>\n",
       "      <td>684.60</td>\n",
       "      <td>0.842498</td>\n",
       "      <td>0.002519</td>\n",
       "    </tr>\n",
       "    <tr>\n",
       "      <th>4</th>\n",
       "      <td>397</td>\n",
       "      <td>0.84</td>\n",
       "      <td>804</td>\n",
       "      <td>0.971393</td>\n",
       "      <td>781.0</td>\n",
       "      <td>4046</td>\n",
       "      <td>3406.74</td>\n",
       "      <td>0.982699</td>\n",
       "      <td>675.36</td>\n",
       "      <td>0.842002</td>\n",
       "      <td>0.002485</td>\n",
       "    </tr>\n",
       "  </tbody>\n",
       "</table>\n",
       "</div>"
      ],
      "text/plain": [
       "   Prob_Grupo  Prob_Pagamento  cd_Login  Resposta  Resposta_aux  acumulado  \\\n",
       "0         401            0.85       810  0.992593         804.0        810   \n",
       "1         400            0.84       808  0.988861         799.0       1618   \n",
       "2         399            0.84       809  0.978986         792.0       2427   \n",
       "3         398            0.84       815  0.981595         800.0       3242   \n",
       "4         397            0.84       804  0.971393         781.0       4046   \n",
       "\n",
       "   Prob_acumulado  Resposta_acumulado  Prob_Pagamento_aux  Prob_up_acumulado  \\\n",
       "0          688.50            0.992593              688.50           0.850000   \n",
       "1         1367.22            0.990729              678.72           0.845006   \n",
       "2         2046.78            0.986815              679.56           0.843337   \n",
       "3         2731.38            0.985503              684.60           0.842498   \n",
       "4         3406.74            0.982699              675.36           0.842002   \n",
       "\n",
       "   cd_Login_perc  \n",
       "0       0.002504  \n",
       "1       0.002498  \n",
       "2       0.002501  \n",
       "3       0.002519  \n",
       "4       0.002485  "
      ]
     },
     "execution_count": 36,
     "metadata": {},
     "output_type": "execute_result"
    }
   ],
   "source": [
    "RESUMO.head()"
   ]
  },
  {
   "cell_type": "code",
   "execution_count": 37,
   "metadata": {
    "collapsed": false
   },
   "outputs": [
    {
     "data": {
      "text/plain": [
       "<matplotlib.axes._subplots.AxesSubplot at 0x1660ea90>"
      ]
     },
     "execution_count": 37,
     "metadata": {},
     "output_type": "execute_result"
    },
    {
     "data": {
      "image/png": "[encoded data removed]",
      "text/plain": [
       "<matplotlib.figure.Figure at 0x163d8f98>"
      ]
     },
     "metadata": {},
     "output_type": "display_data"
    }
   ],
   "source": [
    "RESUMO.Resposta.plot()\n",
    "RESUMO.Resposta_acumulado.plot()\n",
    "RESUMO.Prob_up_acumulado.plot()"
   ]
  },
  {
   "cell_type": "code",
   "execution_count": 38,
   "metadata": {
    "collapsed": false
   },
   "outputs": [
    {
     "data": {
      "text/plain": [
       "Index(['cd_Login', '﻿cd_ClienteSAP', 'cd_provisioning', 'ds_FormaPagamento',\n",
       "       'ds_Periodicidade', 'fl_ServicoPai', 'mes_idade_cliente',\n",
       "       'mes_idade_provisioning', 'qtd_inadimplencia', 'qtd_produtos_cliente',\n",
       "       'valor_cliente', 'valor_provisioning', 'dt_vencimento',\n",
       "       'ANO_VENCIMENTO', 'MES_VENCIMENTO', 'DIA_VENCIMENTO', 'dt_pagamento',\n",
       "       'ANO_PAGAMENTO', 'MES_PAGAMENTO', 'DIA_PAGAMENTO', 'fl_pago',\n",
       "       'fl_cancelado', 'vl_cobranca', 'diferenca_dias', 'Resposta', 'AnoMes',\n",
       "       'ChaveModelo', 'MRR_aux', 'Score_login', 'ds_FormaPagamento_indice',\n",
       "       'ds_Periodicidade_indice', 'fl_ServicoPai_indice', 'Prob_Pagamento',\n",
       "       'Prob_Grupo'],\n",
       "      dtype='object')"
      ]
     },
     "execution_count": 38,
     "metadata": {},
     "output_type": "execute_result"
    }
   ],
   "source": [
    "df_consolida.columns"
   ]
  },
  {
   "cell_type": "code",
   "execution_count": 39,
   "metadata": {
    "collapsed": false
   },
   "outputs": [
    {
     "data": {
      "text/plain": [
       "(132885, 34)"
      ]
     },
     "execution_count": 39,
     "metadata": {},
     "output_type": "execute_result"
    }
   ],
   "source": [
    "df_consolida.sort_values(['dt_vencimento'], ascending= 0 ,inplace=True)\n",
    "df_consolida[df_consolida.cd_Login.duplicated(keep= 'first') == False].shape"
   ]
  },
  {
   "cell_type": "markdown",
   "metadata": {
    "collapsed": true
   },
   "source": [
    "# Cortando em Decis"
   ]
  },
  {
   "cell_type": "code",
   "execution_count": 40,
   "metadata": {
    "collapsed": false
   },
   "outputs": [
    {
     "name": "stderr",
     "output_type": "stream",
     "text": [
      "D:\\Users\\felipe.santos\\AppData\\Local\\Continuum\\Anaconda3\\lib\\site-packages\\ipykernel\\__main__.py:7: FutureWarning: sort(columns=....) is deprecated, use sort_values(by=.....)\n"
     ]
    },
    {
     "data": {
      "text/html": [
       "<div>\n",
       "<table border=\"1\" class=\"dataframe\">\n",
       "  <thead>\n",
       "    <tr style=\"text-align: right;\">\n",
       "      <th></th>\n",
       "      <th>index</th>\n",
       "      <th>cd_Login</th>\n",
       "      <th>cd_provisioning</th>\n",
       "      <th>Prob_Pagamento</th>\n",
       "      <th>Score_login</th>\n",
       "      <th>Resposta</th>\n",
       "    </tr>\n",
       "  </thead>\n",
       "  <tbody>\n",
       "    <tr>\n",
       "      <th>0</th>\n",
       "      <td>0</td>\n",
       "      <td>arteempauta</td>\n",
       "      <td>1</td>\n",
       "      <td>0.014666</td>\n",
       "      <td>2</td>\n",
       "      <td>0</td>\n",
       "    </tr>\n",
       "    <tr>\n",
       "      <th>1</th>\n",
       "      <td>1</td>\n",
       "      <td>josehmota</td>\n",
       "      <td>1</td>\n",
       "      <td>0.014666</td>\n",
       "      <td>2</td>\n",
       "      <td>0</td>\n",
       "    </tr>\n",
       "    <tr>\n",
       "      <th>2</th>\n",
       "      <td>2</td>\n",
       "      <td>marchesani</td>\n",
       "      <td>1</td>\n",
       "      <td>0.014666</td>\n",
       "      <td>2</td>\n",
       "      <td>0</td>\n",
       "    </tr>\n",
       "    <tr>\n",
       "      <th>3</th>\n",
       "      <td>3</td>\n",
       "      <td>ederpsa</td>\n",
       "      <td>1</td>\n",
       "      <td>0.014666</td>\n",
       "      <td>2</td>\n",
       "      <td>0</td>\n",
       "    </tr>\n",
       "    <tr>\n",
       "      <th>4</th>\n",
       "      <td>4</td>\n",
       "      <td>transportesadonai</td>\n",
       "      <td>1</td>\n",
       "      <td>0.014666</td>\n",
       "      <td>2</td>\n",
       "      <td>0</td>\n",
       "    </tr>\n",
       "    <tr>\n",
       "      <th>5</th>\n",
       "      <td>5</td>\n",
       "      <td>liberjus</td>\n",
       "      <td>1</td>\n",
       "      <td>0.014666</td>\n",
       "      <td>2</td>\n",
       "      <td>0</td>\n",
       "    </tr>\n",
       "    <tr>\n",
       "      <th>6</th>\n",
       "      <td>6</td>\n",
       "      <td>moveisvitorino</td>\n",
       "      <td>1</td>\n",
       "      <td>0.014666</td>\n",
       "      <td>2</td>\n",
       "      <td>0</td>\n",
       "    </tr>\n",
       "    <tr>\n",
       "      <th>7</th>\n",
       "      <td>7</td>\n",
       "      <td>teleskleiton</td>\n",
       "      <td>1</td>\n",
       "      <td>0.014666</td>\n",
       "      <td>2</td>\n",
       "      <td>0</td>\n",
       "    </tr>\n",
       "    <tr>\n",
       "      <th>8</th>\n",
       "      <td>8</td>\n",
       "      <td>kellysousa</td>\n",
       "      <td>1</td>\n",
       "      <td>0.014666</td>\n",
       "      <td>2</td>\n",
       "      <td>0</td>\n",
       "    </tr>\n",
       "    <tr>\n",
       "      <th>9</th>\n",
       "      <td>9</td>\n",
       "      <td>admsgbvilajulia</td>\n",
       "      <td>1</td>\n",
       "      <td>0.014666</td>\n",
       "      <td>2</td>\n",
       "      <td>0</td>\n",
       "    </tr>\n",
       "  </tbody>\n",
       "</table>\n",
       "</div>"
      ],
      "text/plain": [
       "   index           cd_Login  cd_provisioning  Prob_Pagamento  Score_login  \\\n",
       "0      0        arteempauta                1        0.014666            2   \n",
       "1      1          josehmota                1        0.014666            2   \n",
       "2      2         marchesani                1        0.014666            2   \n",
       "3      3            ederpsa                1        0.014666            2   \n",
       "4      4  transportesadonai                1        0.014666            2   \n",
       "5      5           liberjus                1        0.014666            2   \n",
       "6      6     moveisvitorino                1        0.014666            2   \n",
       "7      7       teleskleiton                1        0.014666            2   \n",
       "8      8         kellysousa                1        0.014666            2   \n",
       "9      9    admsgbvilajulia                1        0.014666            2   \n",
       "\n",
       "   Resposta  \n",
       "0         0  \n",
       "1         0  \n",
       "2         0  \n",
       "3         0  \n",
       "4         0  \n",
       "5         0  \n",
       "6         0  \n",
       "7         0  \n",
       "8         0  \n",
       "9         0  "
      ]
     },
     "execution_count": 40,
     "metadata": {},
     "output_type": "execute_result"
    }
   ],
   "source": [
    "dict_lista_aux = {'cd_provisioning' : 'count',\n",
    "                  'Prob_Pagamento' : 'mean',\n",
    "                  'Score_login': 'max',\n",
    "                  'Resposta' : 'max'}\n",
    "\n",
    "df_cobranca_aplicacao = df_consolida.reset_index().groupby('cd_Login').agg(dict_lista_aux)\n",
    "df_cobranca_aplicacao = df_cobranca_aplicacao.sort(['Prob_Pagamento'], ascending=[1])\n",
    "df_cobranca_aplicacao.reset_index(inplace= True)\n",
    "df_cobranca_aplicacao.reset_index(inplace= True)\n",
    "df_cobranca_aplicacao.head(10)"
   ]
  },
  {
   "cell_type": "code",
   "execution_count": 41,
   "metadata": {
    "collapsed": false
   },
   "outputs": [
    {
     "data": {
      "text/plain": [
       "[13288, 26576, 39864, 53152, 66440, 79728, 93016, 106304, 119592]"
      ]
     },
     "execution_count": 41,
     "metadata": {},
     "output_type": "execute_result"
    }
   ],
   "source": [
    "c1 = int(0.1*df_cobranca_aplicacao.index.max())\n",
    "\n",
    "\n",
    "Clusters = [c1, \n",
    "            2*c1,\n",
    "            3*c1,\n",
    "            4*c1,\n",
    "            5*c1,\n",
    "            6*c1,\n",
    "            7*c1,\n",
    "            8*c1,\n",
    "            9*c1]\n",
    "\n",
    "Clusters"
   ]
  },
  {
   "cell_type": "code",
   "execution_count": 42,
   "metadata": {
    "collapsed": true
   },
   "outputs": [],
   "source": [
    "df_cobranca_aplicacao['Cluster'] = [marca_base(Clusters, x) for x in df_cobranca_aplicacao.index]"
   ]
  },
  {
   "cell_type": "code",
   "execution_count": 43,
   "metadata": {
    "collapsed": false
   },
   "outputs": [
    {
     "data": {
      "text/html": [
       "<div>\n",
       "<table border=\"1\" class=\"dataframe\">\n",
       "  <thead>\n",
       "    <tr style=\"text-align: right;\">\n",
       "      <th></th>\n",
       "      <th>index</th>\n",
       "      <th>cd_Login</th>\n",
       "      <th>cd_provisioning</th>\n",
       "      <th>Prob_Pagamento</th>\n",
       "      <th>Score_login</th>\n",
       "      <th>Resposta</th>\n",
       "      <th>Cluster</th>\n",
       "    </tr>\n",
       "  </thead>\n",
       "  <tbody>\n",
       "    <tr>\n",
       "      <th>102205</th>\n",
       "      <td>102205</td>\n",
       "      <td>spkan</td>\n",
       "      <td>2</td>\n",
       "      <td>0.773355</td>\n",
       "      <td>7</td>\n",
       "      <td>1</td>\n",
       "      <td>8</td>\n",
       "    </tr>\n",
       "    <tr>\n",
       "      <th>13821</th>\n",
       "      <td>13821</td>\n",
       "      <td>gladistony</td>\n",
       "      <td>10</td>\n",
       "      <td>0.112041</td>\n",
       "      <td>1</td>\n",
       "      <td>1</td>\n",
       "      <td>2</td>\n",
       "    </tr>\n",
       "    <tr>\n",
       "      <th>29237</th>\n",
       "      <td>29237</td>\n",
       "      <td>hdsaudio</td>\n",
       "      <td>1</td>\n",
       "      <td>0.273526</td>\n",
       "      <td>4</td>\n",
       "      <td>1</td>\n",
       "      <td>3</td>\n",
       "    </tr>\n",
       "    <tr>\n",
       "      <th>2562</th>\n",
       "      <td>2562</td>\n",
       "      <td>foxcargo</td>\n",
       "      <td>1</td>\n",
       "      <td>0.035502</td>\n",
       "      <td>2</td>\n",
       "      <td>0</td>\n",
       "      <td>1</td>\n",
       "    </tr>\n",
       "    <tr>\n",
       "      <th>122102</th>\n",
       "      <td>122102</td>\n",
       "      <td>tsurudobrasil</td>\n",
       "      <td>3</td>\n",
       "      <td>0.820270</td>\n",
       "      <td>10</td>\n",
       "      <td>1</td>\n",
       "      <td>10</td>\n",
       "    </tr>\n",
       "    <tr>\n",
       "      <th>47161</th>\n",
       "      <td>47161</td>\n",
       "      <td>informaticaferj-idc</td>\n",
       "      <td>1</td>\n",
       "      <td>0.452631</td>\n",
       "      <td>10</td>\n",
       "      <td>0</td>\n",
       "      <td>4</td>\n",
       "    </tr>\n",
       "    <tr>\n",
       "      <th>120136</th>\n",
       "      <td>120136</td>\n",
       "      <td>expressfactoring</td>\n",
       "      <td>7</td>\n",
       "      <td>0.816793</td>\n",
       "      <td>10</td>\n",
       "      <td>1</td>\n",
       "      <td>10</td>\n",
       "    </tr>\n",
       "    <tr>\n",
       "      <th>115996</th>\n",
       "      <td>115996</td>\n",
       "      <td>colonia</td>\n",
       "      <td>1</td>\n",
       "      <td>0.808529</td>\n",
       "      <td>7</td>\n",
       "      <td>1</td>\n",
       "      <td>9</td>\n",
       "    </tr>\n",
       "    <tr>\n",
       "      <th>58532</th>\n",
       "      <td>58532</td>\n",
       "      <td>ligacomp</td>\n",
       "      <td>1</td>\n",
       "      <td>0.565779</td>\n",
       "      <td>7</td>\n",
       "      <td>1</td>\n",
       "      <td>5</td>\n",
       "    </tr>\n",
       "    <tr>\n",
       "      <th>127127</th>\n",
       "      <td>127127</td>\n",
       "      <td>claudiaaraujo</td>\n",
       "      <td>4</td>\n",
       "      <td>0.827270</td>\n",
       "      <td>9</td>\n",
       "      <td>1</td>\n",
       "      <td>10</td>\n",
       "    </tr>\n",
       "  </tbody>\n",
       "</table>\n",
       "</div>"
      ],
      "text/plain": [
       "         index             cd_Login  cd_provisioning  Prob_Pagamento  \\\n",
       "102205  102205                spkan                2        0.773355   \n",
       "13821    13821           gladistony               10        0.112041   \n",
       "29237    29237             hdsaudio                1        0.273526   \n",
       "2562      2562             foxcargo                1        0.035502   \n",
       "122102  122102        tsurudobrasil                3        0.820270   \n",
       "47161    47161  informaticaferj-idc                1        0.452631   \n",
       "120136  120136     expressfactoring                7        0.816793   \n",
       "115996  115996              colonia                1        0.808529   \n",
       "58532    58532             ligacomp                1        0.565779   \n",
       "127127  127127        claudiaaraujo                4        0.827270   \n",
       "\n",
       "        Score_login  Resposta  Cluster  \n",
       "102205            7         1        8  \n",
       "13821             1         1        2  \n",
       "29237             4         1        3  \n",
       "2562              2         0        1  \n",
       "122102           10         1       10  \n",
       "47161            10         0        4  \n",
       "120136           10         1       10  \n",
       "115996            7         1        9  \n",
       "58532             7         1        5  \n",
       "127127            9         1       10  "
      ]
     },
     "execution_count": 43,
     "metadata": {},
     "output_type": "execute_result"
    }
   ],
   "source": [
    "df_cobranca_aplicacao.sample(10)"
   ]
  },
  {
   "cell_type": "code",
   "execution_count": 44,
   "metadata": {
    "collapsed": false
   },
   "outputs": [
    {
     "data": {
      "text/html": [
       "<div>\n",
       "<table border=\"1\" class=\"dataframe\">\n",
       "  <thead>\n",
       "    <tr style=\"text-align: right;\">\n",
       "      <th>Score_login</th>\n",
       "      <th>1</th>\n",
       "      <th>2</th>\n",
       "      <th>3</th>\n",
       "      <th>4</th>\n",
       "      <th>5</th>\n",
       "      <th>6</th>\n",
       "      <th>7</th>\n",
       "      <th>8</th>\n",
       "      <th>9</th>\n",
       "      <th>10</th>\n",
       "    </tr>\n",
       "    <tr>\n",
       "      <th>Cluster</th>\n",
       "      <th></th>\n",
       "      <th></th>\n",
       "      <th></th>\n",
       "      <th></th>\n",
       "      <th></th>\n",
       "      <th></th>\n",
       "      <th></th>\n",
       "      <th></th>\n",
       "      <th></th>\n",
       "      <th></th>\n",
       "    </tr>\n",
       "  </thead>\n",
       "  <tbody>\n",
       "    <tr>\n",
       "      <th>9</th>\n",
       "      <td>0.951220</td>\n",
       "      <td>1.000000</td>\n",
       "      <td>1.000000</td>\n",
       "      <td>0.960449</td>\n",
       "      <td>0.966346</td>\n",
       "      <td>0.979375</td>\n",
       "      <td>0.971840</td>\n",
       "      <td>0.978388</td>\n",
       "      <td>0.971967</td>\n",
       "      <td>0.963850</td>\n",
       "    </tr>\n",
       "    <tr>\n",
       "      <th>8</th>\n",
       "      <td>0.969231</td>\n",
       "      <td>0.950617</td>\n",
       "      <td>0.952077</td>\n",
       "      <td>0.971888</td>\n",
       "      <td>0.968211</td>\n",
       "      <td>0.962578</td>\n",
       "      <td>0.961124</td>\n",
       "      <td>0.947442</td>\n",
       "      <td>0.951078</td>\n",
       "      <td>0.952179</td>\n",
       "    </tr>\n",
       "    <tr>\n",
       "      <th>7</th>\n",
       "      <td>0.891304</td>\n",
       "      <td>0.981818</td>\n",
       "      <td>0.967626</td>\n",
       "      <td>0.945155</td>\n",
       "      <td>0.919758</td>\n",
       "      <td>0.939601</td>\n",
       "      <td>0.936160</td>\n",
       "      <td>0.928626</td>\n",
       "      <td>0.932715</td>\n",
       "      <td>0.913676</td>\n",
       "    </tr>\n",
       "    <tr>\n",
       "      <th>6</th>\n",
       "      <td>0.942857</td>\n",
       "      <td>0.942085</td>\n",
       "      <td>0.940000</td>\n",
       "      <td>0.892350</td>\n",
       "      <td>0.903534</td>\n",
       "      <td>0.905429</td>\n",
       "      <td>0.913994</td>\n",
       "      <td>0.916245</td>\n",
       "      <td>0.901961</td>\n",
       "      <td>0.902954</td>\n",
       "    </tr>\n",
       "    <tr>\n",
       "      <th>5</th>\n",
       "      <td>0.973856</td>\n",
       "      <td>0.906360</td>\n",
       "      <td>0.891767</td>\n",
       "      <td>0.886777</td>\n",
       "      <td>0.882818</td>\n",
       "      <td>0.863736</td>\n",
       "      <td>0.859400</td>\n",
       "      <td>0.857573</td>\n",
       "      <td>0.870614</td>\n",
       "      <td>0.840528</td>\n",
       "    </tr>\n",
       "    <tr>\n",
       "      <th>4</th>\n",
       "      <td>0.830798</td>\n",
       "      <td>0.803571</td>\n",
       "      <td>0.802003</td>\n",
       "      <td>0.765455</td>\n",
       "      <td>0.767556</td>\n",
       "      <td>0.746748</td>\n",
       "      <td>0.740581</td>\n",
       "      <td>0.740691</td>\n",
       "      <td>0.705882</td>\n",
       "      <td>0.710145</td>\n",
       "    </tr>\n",
       "    <tr>\n",
       "      <th>3</th>\n",
       "      <td>0.681065</td>\n",
       "      <td>0.636676</td>\n",
       "      <td>0.619272</td>\n",
       "      <td>0.536160</td>\n",
       "      <td>0.489605</td>\n",
       "      <td>0.491192</td>\n",
       "      <td>0.452303</td>\n",
       "      <td>0.454867</td>\n",
       "      <td>0.548845</td>\n",
       "      <td>0.524590</td>\n",
       "    </tr>\n",
       "    <tr>\n",
       "      <th>2</th>\n",
       "      <td>0.397031</td>\n",
       "      <td>0.358185</td>\n",
       "      <td>0.314796</td>\n",
       "      <td>0.267117</td>\n",
       "      <td>0.297700</td>\n",
       "      <td>0.305606</td>\n",
       "      <td>0.260181</td>\n",
       "      <td>0.286136</td>\n",
       "      <td>0.295385</td>\n",
       "      <td>0.210526</td>\n",
       "    </tr>\n",
       "    <tr>\n",
       "      <th>1</th>\n",
       "      <td>0.137750</td>\n",
       "      <td>0.054966</td>\n",
       "      <td>0.101953</td>\n",
       "      <td>0.075232</td>\n",
       "      <td>0.083969</td>\n",
       "      <td>0.100904</td>\n",
       "      <td>0.128032</td>\n",
       "      <td>0.142202</td>\n",
       "      <td>0.160448</td>\n",
       "      <td>0.125000</td>\n",
       "    </tr>\n",
       "    <tr>\n",
       "      <th>0</th>\n",
       "      <td>NaN</td>\n",
       "      <td>NaN</td>\n",
       "      <td>NaN</td>\n",
       "      <td>NaN</td>\n",
       "      <td>NaN</td>\n",
       "      <td>NaN</td>\n",
       "      <td>NaN</td>\n",
       "      <td>NaN</td>\n",
       "      <td>NaN</td>\n",
       "      <td>NaN</td>\n",
       "    </tr>\n",
       "  </tbody>\n",
       "</table>\n",
       "</div>"
      ],
      "text/plain": [
       "Score_login        1         2         3         4         5         6   \\\n",
       "Cluster                                                                   \n",
       "9            0.951220  1.000000  1.000000  0.960449  0.966346  0.979375   \n",
       "8            0.969231  0.950617  0.952077  0.971888  0.968211  0.962578   \n",
       "7            0.891304  0.981818  0.967626  0.945155  0.919758  0.939601   \n",
       "6            0.942857  0.942085  0.940000  0.892350  0.903534  0.905429   \n",
       "5            0.973856  0.906360  0.891767  0.886777  0.882818  0.863736   \n",
       "4            0.830798  0.803571  0.802003  0.765455  0.767556  0.746748   \n",
       "3            0.681065  0.636676  0.619272  0.536160  0.489605  0.491192   \n",
       "2            0.397031  0.358185  0.314796  0.267117  0.297700  0.305606   \n",
       "1            0.137750  0.054966  0.101953  0.075232  0.083969  0.100904   \n",
       "0                 NaN       NaN       NaN       NaN       NaN       NaN   \n",
       "\n",
       "Score_login        7         8         9         10  \n",
       "Cluster                                              \n",
       "9            0.971840  0.978388  0.971967  0.963850  \n",
       "8            0.961124  0.947442  0.951078  0.952179  \n",
       "7            0.936160  0.928626  0.932715  0.913676  \n",
       "6            0.913994  0.916245  0.901961  0.902954  \n",
       "5            0.859400  0.857573  0.870614  0.840528  \n",
       "4            0.740581  0.740691  0.705882  0.710145  \n",
       "3            0.452303  0.454867  0.548845  0.524590  \n",
       "2            0.260181  0.286136  0.295385  0.210526  \n",
       "1            0.128032  0.142202  0.160448  0.125000  \n",
       "0                 NaN       NaN       NaN       NaN  "
      ]
     },
     "execution_count": 44,
     "metadata": {},
     "output_type": "execute_result"
    },
    {
     "data": {
      "image/png": "[encoded data removed]",
      "text/plain": [
       "<matplotlib.figure.Figure at 0x17a56860>"
      ]
     },
     "metadata": {},
     "output_type": "display_data"
    }
   ],
   "source": [
    "agg_dict_heatmap = {'Resposta' : 'mean'}\n",
    "heatmap = df_cobranca_aplicacao.groupby(['Cluster','Score_login']).agg(agg_dict_heatmap).copy()\n",
    "heatmap.reset_index(inplace= True)\n",
    "heatmap = heatmap.pivot('Cluster','Score_login', 'Resposta').copy()\n",
    "heatmap = heatmap.reindex(range(len(heatmap)- 1, -1,-1))\n",
    "sns.heatmap(heatmap, annot=False, linewidths=.5) \n",
    "heatmap"
   ]
  },
  {
   "cell_type": "code",
   "execution_count": 45,
   "metadata": {
    "collapsed": false
   },
   "outputs": [
    {
     "data": {
      "text/plain": [
       "[<matplotlib.lines.Line2D at 0x1348ee80>]"
      ]
     },
     "execution_count": 45,
     "metadata": {},
     "output_type": "execute_result"
    },
    {
     "data": {
      "image/png": "[encoded data removed]",
      "text/plain": [
       "<matplotlib.figure.Figure at 0x11f917b8>"
      ]
     },
     "metadata": {},
     "output_type": "display_data"
    }
   ],
   "source": [
    "agg_dict_heatmap = {'Resposta' : 'mean'}\n",
    "plt.plot(df_cobranca_aplicacao.groupby(['Cluster']).agg(agg_dict_heatmap),'r') # plotting t,a separately"
   ]
  },
  {
   "cell_type": "code",
   "execution_count": 46,
   "metadata": {
    "collapsed": false
   },
   "outputs": [
    {
     "data": {
      "text/html": [
       "<div>\n",
       "<table border=\"1\" class=\"dataframe\">\n",
       "  <thead>\n",
       "    <tr style=\"text-align: right;\">\n",
       "      <th>Score_login</th>\n",
       "      <th>1</th>\n",
       "      <th>2</th>\n",
       "      <th>3</th>\n",
       "      <th>4</th>\n",
       "      <th>5</th>\n",
       "      <th>6</th>\n",
       "      <th>7</th>\n",
       "      <th>8</th>\n",
       "      <th>9</th>\n",
       "      <th>10</th>\n",
       "    </tr>\n",
       "    <tr>\n",
       "      <th>Cluster</th>\n",
       "      <th></th>\n",
       "      <th></th>\n",
       "      <th></th>\n",
       "      <th></th>\n",
       "      <th></th>\n",
       "      <th></th>\n",
       "      <th></th>\n",
       "      <th></th>\n",
       "      <th></th>\n",
       "      <th></th>\n",
       "    </tr>\n",
       "  </thead>\n",
       "  <tbody>\n",
       "    <tr>\n",
       "      <th>9</th>\n",
       "      <td>41.0</td>\n",
       "      <td>2.0</td>\n",
       "      <td>6.0</td>\n",
       "      <td>2048.0</td>\n",
       "      <td>2080.0</td>\n",
       "      <td>1697.0</td>\n",
       "      <td>1527.0</td>\n",
       "      <td>1712.0</td>\n",
       "      <td>1962.0</td>\n",
       "      <td>2213.0</td>\n",
       "    </tr>\n",
       "    <tr>\n",
       "      <th>8</th>\n",
       "      <td>65.0</td>\n",
       "      <td>81.0</td>\n",
       "      <td>313.0</td>\n",
       "      <td>747.0</td>\n",
       "      <td>1101.0</td>\n",
       "      <td>1924.0</td>\n",
       "      <td>1672.0</td>\n",
       "      <td>2150.0</td>\n",
       "      <td>2412.0</td>\n",
       "      <td>2823.0</td>\n",
       "    </tr>\n",
       "    <tr>\n",
       "      <th>7</th>\n",
       "      <td>46.0</td>\n",
       "      <td>110.0</td>\n",
       "      <td>278.0</td>\n",
       "      <td>1094.0</td>\n",
       "      <td>1159.0</td>\n",
       "      <td>1606.0</td>\n",
       "      <td>2005.0</td>\n",
       "      <td>2634.0</td>\n",
       "      <td>2155.0</td>\n",
       "      <td>2201.0</td>\n",
       "    </tr>\n",
       "    <tr>\n",
       "      <th>6</th>\n",
       "      <td>35.0</td>\n",
       "      <td>259.0</td>\n",
       "      <td>1250.0</td>\n",
       "      <td>1830.0</td>\n",
       "      <td>2405.0</td>\n",
       "      <td>2284.0</td>\n",
       "      <td>2058.0</td>\n",
       "      <td>1385.0</td>\n",
       "      <td>1071.0</td>\n",
       "      <td>711.0</td>\n",
       "    </tr>\n",
       "    <tr>\n",
       "      <th>5</th>\n",
       "      <td>153.0</td>\n",
       "      <td>1132.0</td>\n",
       "      <td>2818.0</td>\n",
       "      <td>2420.0</td>\n",
       "      <td>1391.0</td>\n",
       "      <td>1365.0</td>\n",
       "      <td>1266.0</td>\n",
       "      <td>997.0</td>\n",
       "      <td>912.0</td>\n",
       "      <td>834.0</td>\n",
       "    </tr>\n",
       "    <tr>\n",
       "      <th>4</th>\n",
       "      <td>1052.0</td>\n",
       "      <td>2744.0</td>\n",
       "      <td>2197.0</td>\n",
       "      <td>1650.0</td>\n",
       "      <td>1424.0</td>\n",
       "      <td>1153.0</td>\n",
       "      <td>929.0</td>\n",
       "      <td>752.0</td>\n",
       "      <td>697.0</td>\n",
       "      <td>690.0</td>\n",
       "    </tr>\n",
       "    <tr>\n",
       "      <th>3</th>\n",
       "      <td>2292.0</td>\n",
       "      <td>3490.0</td>\n",
       "      <td>2335.0</td>\n",
       "      <td>1203.0</td>\n",
       "      <td>962.0</td>\n",
       "      <td>965.0</td>\n",
       "      <td>608.0</td>\n",
       "      <td>565.0</td>\n",
       "      <td>563.0</td>\n",
       "      <td>305.0</td>\n",
       "    </tr>\n",
       "    <tr>\n",
       "      <th>2</th>\n",
       "      <td>5254.0</td>\n",
       "      <td>2468.0</td>\n",
       "      <td>1960.0</td>\n",
       "      <td>1037.0</td>\n",
       "      <td>739.0</td>\n",
       "      <td>553.0</td>\n",
       "      <td>442.0</td>\n",
       "      <td>339.0</td>\n",
       "      <td>325.0</td>\n",
       "      <td>171.0</td>\n",
       "    </tr>\n",
       "    <tr>\n",
       "      <th>1</th>\n",
       "      <td>3804.0</td>\n",
       "      <td>3111.0</td>\n",
       "      <td>2099.0</td>\n",
       "      <td>1183.0</td>\n",
       "      <td>917.0</td>\n",
       "      <td>664.0</td>\n",
       "      <td>742.0</td>\n",
       "      <td>436.0</td>\n",
       "      <td>268.0</td>\n",
       "      <td>64.0</td>\n",
       "    </tr>\n",
       "    <tr>\n",
       "      <th>0</th>\n",
       "      <td>NaN</td>\n",
       "      <td>NaN</td>\n",
       "      <td>NaN</td>\n",
       "      <td>NaN</td>\n",
       "      <td>NaN</td>\n",
       "      <td>NaN</td>\n",
       "      <td>NaN</td>\n",
       "      <td>NaN</td>\n",
       "      <td>NaN</td>\n",
       "      <td>NaN</td>\n",
       "    </tr>\n",
       "  </tbody>\n",
       "</table>\n",
       "</div>"
      ],
      "text/plain": [
       "Score_login      1       2       3       4       5       6       7       8   \\\n",
       "Cluster                                                                       \n",
       "9              41.0     2.0     6.0  2048.0  2080.0  1697.0  1527.0  1712.0   \n",
       "8              65.0    81.0   313.0   747.0  1101.0  1924.0  1672.0  2150.0   \n",
       "7              46.0   110.0   278.0  1094.0  1159.0  1606.0  2005.0  2634.0   \n",
       "6              35.0   259.0  1250.0  1830.0  2405.0  2284.0  2058.0  1385.0   \n",
       "5             153.0  1132.0  2818.0  2420.0  1391.0  1365.0  1266.0   997.0   \n",
       "4            1052.0  2744.0  2197.0  1650.0  1424.0  1153.0   929.0   752.0   \n",
       "3            2292.0  3490.0  2335.0  1203.0   962.0   965.0   608.0   565.0   \n",
       "2            5254.0  2468.0  1960.0  1037.0   739.0   553.0   442.0   339.0   \n",
       "1            3804.0  3111.0  2099.0  1183.0   917.0   664.0   742.0   436.0   \n",
       "0               NaN     NaN     NaN     NaN     NaN     NaN     NaN     NaN   \n",
       "\n",
       "Score_login      9       10  \n",
       "Cluster                      \n",
       "9            1962.0  2213.0  \n",
       "8            2412.0  2823.0  \n",
       "7            2155.0  2201.0  \n",
       "6            1071.0   711.0  \n",
       "5             912.0   834.0  \n",
       "4             697.0   690.0  \n",
       "3             563.0   305.0  \n",
       "2             325.0   171.0  \n",
       "1             268.0    64.0  \n",
       "0               NaN     NaN  "
      ]
     },
     "execution_count": 46,
     "metadata": {},
     "output_type": "execute_result"
    },
    {
     "data": {
      "image/png": "[encoded data removed]",
      "text/plain": [
       "<matplotlib.figure.Figure at 0x1349abe0>"
      ]
     },
     "metadata": {},
     "output_type": "display_data"
    }
   ],
   "source": [
    "agg_dict_heatmap = {'cd_Login' : 'count'}\n",
    "heatmap = df_cobranca_aplicacao.groupby(['Cluster','Score_login']).agg(agg_dict_heatmap).copy()\n",
    "heatmap.reset_index(inplace= True)\n",
    "heatmap = heatmap.pivot('Cluster','Score_login', 'cd_Login').copy()\n",
    "heatmap = heatmap.reindex(range(len(heatmap)- 1, -1,-1))\n",
    "sns.heatmap(heatmap, annot=False, linewidths=.5) \n",
    "heatmap"
   ]
  },
  {
   "cell_type": "code",
   "execution_count": 47,
   "metadata": {
    "collapsed": false
   },
   "outputs": [],
   "source": [
    "def cria_grupo(n1, n2):\n",
    "    if n1 <= 3 and n2 <=5:\n",
    "        return 'Grupo1: d+7'\n",
    "    else:\n",
    "        if n1 > 3 and n2 <=5:\n",
    "            return 'Grupo2: d+10'\n",
    "        else:\n",
    "            if n1<= 6 and n2 >5:\n",
    "                return 'Grupo3: d+15'\n",
    "            else:\n",
    "                if n1 > 6 and n2 >6:\n",
    "                    return 'Grupo4: d+30'            "
   ]
  },
  {
   "cell_type": "code",
   "execution_count": 48,
   "metadata": {
    "collapsed": false
   },
   "outputs": [],
   "source": [
    "df_cobranca_aplicacao['GrupoDesativacao'] = [cria_grupo(n1, n2) for n1, n2 in \n",
    "                                             zip (df_cobranca_aplicacao.Cluster,df_cobranca_aplicacao.Score_login)]"
   ]
  },
  {
   "cell_type": "code",
   "execution_count": 49,
   "metadata": {
    "collapsed": false
   },
   "outputs": [
    {
     "data": {
      "text/html": [
       "<div>\n",
       "<table border=\"1\" class=\"dataframe\">\n",
       "  <thead>\n",
       "    <tr style=\"text-align: right;\">\n",
       "      <th></th>\n",
       "      <th>index</th>\n",
       "      <th>cd_Login</th>\n",
       "      <th>cd_provisioning</th>\n",
       "      <th>Prob_Pagamento</th>\n",
       "      <th>Score_login</th>\n",
       "      <th>Resposta</th>\n",
       "      <th>Cluster</th>\n",
       "      <th>GrupoDesativacao</th>\n",
       "    </tr>\n",
       "  </thead>\n",
       "  <tbody>\n",
       "    <tr>\n",
       "      <th>0</th>\n",
       "      <td>0</td>\n",
       "      <td>arteempauta</td>\n",
       "      <td>1</td>\n",
       "      <td>0.014666</td>\n",
       "      <td>2</td>\n",
       "      <td>0</td>\n",
       "      <td>1</td>\n",
       "      <td>Grupo1: d+7</td>\n",
       "    </tr>\n",
       "    <tr>\n",
       "      <th>1</th>\n",
       "      <td>1</td>\n",
       "      <td>josehmota</td>\n",
       "      <td>1</td>\n",
       "      <td>0.014666</td>\n",
       "      <td>2</td>\n",
       "      <td>0</td>\n",
       "      <td>1</td>\n",
       "      <td>Grupo1: d+7</td>\n",
       "    </tr>\n",
       "    <tr>\n",
       "      <th>2</th>\n",
       "      <td>2</td>\n",
       "      <td>marchesani</td>\n",
       "      <td>1</td>\n",
       "      <td>0.014666</td>\n",
       "      <td>2</td>\n",
       "      <td>0</td>\n",
       "      <td>1</td>\n",
       "      <td>Grupo1: d+7</td>\n",
       "    </tr>\n",
       "    <tr>\n",
       "      <th>3</th>\n",
       "      <td>3</td>\n",
       "      <td>ederpsa</td>\n",
       "      <td>1</td>\n",
       "      <td>0.014666</td>\n",
       "      <td>2</td>\n",
       "      <td>0</td>\n",
       "      <td>1</td>\n",
       "      <td>Grupo1: d+7</td>\n",
       "    </tr>\n",
       "    <tr>\n",
       "      <th>4</th>\n",
       "      <td>4</td>\n",
       "      <td>transportesadonai</td>\n",
       "      <td>1</td>\n",
       "      <td>0.014666</td>\n",
       "      <td>2</td>\n",
       "      <td>0</td>\n",
       "      <td>1</td>\n",
       "      <td>Grupo1: d+7</td>\n",
       "    </tr>\n",
       "  </tbody>\n",
       "</table>\n",
       "</div>"
      ],
      "text/plain": [
       "   index           cd_Login  cd_provisioning  Prob_Pagamento  Score_login  \\\n",
       "0      0        arteempauta                1        0.014666            2   \n",
       "1      1          josehmota                1        0.014666            2   \n",
       "2      2         marchesani                1        0.014666            2   \n",
       "3      3            ederpsa                1        0.014666            2   \n",
       "4      4  transportesadonai                1        0.014666            2   \n",
       "\n",
       "   Resposta  Cluster GrupoDesativacao  \n",
       "0         0        1      Grupo1: d+7  \n",
       "1         0        1      Grupo1: d+7  \n",
       "2         0        1      Grupo1: d+7  \n",
       "3         0        1      Grupo1: d+7  \n",
       "4         0        1      Grupo1: d+7  "
      ]
     },
     "execution_count": 49,
     "metadata": {},
     "output_type": "execute_result"
    }
   ],
   "source": [
    "df_cobranca_aplicacao.head()"
   ]
  },
  {
   "cell_type": "code",
   "execution_count": 50,
   "metadata": {
    "collapsed": false
   },
   "outputs": [
    {
     "data": {
      "text/plain": [
       "False    132885\n",
       "Name: cd_Login, dtype: int64"
      ]
     },
     "execution_count": 50,
     "metadata": {},
     "output_type": "execute_result"
    }
   ],
   "source": [
    "df_cobranca_aplicacao.cd_Login.duplicated().value_counts()"
   ]
  },
  {
   "cell_type": "code",
   "execution_count": 51,
   "metadata": {
    "collapsed": false
   },
   "outputs": [],
   "source": [
    "agg_dict_heatmap = {'cd_Login' : 'count',\n",
    "                    'Resposta' : 'mean'}\n",
    "\n",
    "relatorio = df_cobranca_aplicacao.groupby(['GrupoDesativacao']).agg(agg_dict_heatmap).copy()\n",
    "relatorio['Tamanho%'] = relatorio.cd_Login/relatorio.cd_Login.sum()"
   ]
  },
  {
   "cell_type": "code",
   "execution_count": 52,
   "metadata": {
    "collapsed": false
   },
   "outputs": [
    {
     "data": {
      "text/html": [
       "<div>\n",
       "<table border=\"1\" class=\"dataframe\">\n",
       "  <thead>\n",
       "    <tr style=\"text-align: right;\">\n",
       "      <th></th>\n",
       "      <th>Resposta</th>\n",
       "      <th>Tamanho%</th>\n",
       "    </tr>\n",
       "    <tr>\n",
       "      <th>GrupoDesativacao</th>\n",
       "      <th></th>\n",
       "      <th></th>\n",
       "    </tr>\n",
       "  </thead>\n",
       "  <tbody>\n",
       "    <tr>\n",
       "      <th>Grupo1: d+7</th>\n",
       "      <td>0.350155</td>\n",
       "      <td>0.259900</td>\n",
       "    </tr>\n",
       "    <tr>\n",
       "      <th>Grupo2: d+10</th>\n",
       "      <td>0.890096</td>\n",
       "      <td>0.264307</td>\n",
       "    </tr>\n",
       "    <tr>\n",
       "      <th>Grupo3: d+15</th>\n",
       "      <td>0.696442</td>\n",
       "      <td>0.190760</td>\n",
       "    </tr>\n",
       "    <tr>\n",
       "      <th>Grupo4: d+30</th>\n",
       "      <td>0.957786</td>\n",
       "      <td>0.285033</td>\n",
       "    </tr>\n",
       "  </tbody>\n",
       "</table>\n",
       "</div>"
      ],
      "text/plain": [
       "                  Resposta  Tamanho%\n",
       "GrupoDesativacao                    \n",
       "Grupo1: d+7       0.350155  0.259900\n",
       "Grupo2: d+10      0.890096  0.264307\n",
       "Grupo3: d+15      0.696442  0.190760\n",
       "Grupo4: d+30      0.957786  0.285033"
      ]
     },
     "execution_count": 52,
     "metadata": {},
     "output_type": "execute_result"
    }
   ],
   "source": [
    "relatorio[['Resposta', 'Tamanho%']]"
   ]
  },
  {
   "cell_type": "markdown",
   "metadata": {},
   "source": [
    "# Aplicação 06/11/2017"
   ]
  },
  {
   "cell_type": "code",
   "execution_count": 86,
   "metadata": {
    "collapsed": true
   },
   "outputs": [],
   "source": [
    "df_cobranca_atual = pd.read_csv('./Carga_Modelo_Cobranca_20171105.csv', sep = ';', error_bad_lines = False, encoding='latin-1')"
   ]
  },
  {
   "cell_type": "code",
   "execution_count": 87,
   "metadata": {
    "collapsed": false
   },
   "outputs": [],
   "source": [
    "df_cobranca_atual.fillna(0, inplace= True)\n",
    "df_cobranca_atual['valor_cliente'] = [x.replace(',', '.') for x in df_cobranca_atual.valor_cliente]\n",
    "df_cobranca_atual['valor_cliente'] = df_cobranca_atual.valor_cliente.astype(float)\n",
    "df_cobranca_atual['valor_provisioning'] = [x.replace(',', '.') for x in df_cobranca_atual.valor_provisioning]\n",
    "df_cobranca_atual['valor_provisioning'] = df_cobranca_atual.valor_provisioning.astype(float)"
   ]
  },
  {
   "cell_type": "code",
   "execution_count": 88,
   "metadata": {
    "collapsed": true
   },
   "outputs": [],
   "source": [
    "col_datas = ['dt_pagamento', 'dt_vencimento']\n",
    "converte_datetime(df_cobranca_atual, col_datas)"
   ]
  },
  {
   "cell_type": "code",
   "execution_count": 89,
   "metadata": {
    "collapsed": true
   },
   "outputs": [],
   "source": [
    "df_cobranca_atual['diferenca_dias'] = [abs((d2 - d1).days) if d2.year == 2017 else 0 \n",
    "                                       for d1, d2 in zip (df_cobranca_atual.dt_vencimento,df_cobranca_atual.dt_pagamento)]"
   ]
  },
  {
   "cell_type": "code",
   "execution_count": 90,
   "metadata": {
    "collapsed": false
   },
   "outputs": [
    {
     "name": "stderr",
     "output_type": "stream",
     "text": [
      "D:\\Users\\felipe.santos\\AppData\\Local\\Continuum\\Anaconda3\\lib\\site-packages\\ipykernel\\__main__.py:1: FutureWarning: sort(columns=....) is deprecated, use sort_values(by=.....)\n",
      "  if __name__ == '__main__':\n"
     ]
    }
   ],
   "source": [
    "df_cobranca_atual = df_cobranca_atual.sort(['dt_vencimento'], ascending=[1])"
   ]
  },
  {
   "cell_type": "code",
   "execution_count": 91,
   "metadata": {
    "collapsed": false
   },
   "outputs": [
    {
     "data": {
      "text/plain": [
       "Index(['cd_Login', 'cd_provisioning', 'valor_provisioning',\n",
       "       'mes_idade_provisioning', 'mes_idade_cliente', 'ds_FormaPagamento',\n",
       "       'ds_Periodicidade', 'valor_cliente', 'qtd_produtos_cliente',\n",
       "       'cd_ClienteSAP', 'dt_vencimento', 'ANO_VENCIMENTO', 'MES_VENCIMENTO',\n",
       "       'DIA_VENCIMENTO', 'dt_pagamento', 'ANO_PAGAMENTO', 'MES_PAGAMENTO',\n",
       "       'DIA_PAGAMENTO', 'fl_pago', 'fl_cancelado', 'vl_cobranca',\n",
       "       'qtd_inadimplencia', 'fl_ServicoPai', 'diferenca_dias'],\n",
       "      dtype='object')"
      ]
     },
     "execution_count": 91,
     "metadata": {},
     "output_type": "execute_result"
    }
   ],
   "source": [
    "df_cobranca_atual.columns"
   ]
  },
  {
   "cell_type": "code",
   "execution_count": 92,
   "metadata": {
    "collapsed": true
   },
   "outputs": [],
   "source": [
    "df_cobranca_atual['AnoMes'] = [datetime(ano, mes, 1) for ano, mes in zip (df_cobranca_atual.ANO_VENCIMENTO, df_cobranca_atual.MES_VENCIMENTO)]\n",
    "df_cobranca_atual['ChaveModelo'] = [c+ AnoMes for c, AnoMes in zip (df_cobranca_atual.cd_Login, df_cobranca_atual.AnoMes.astype(str))]"
   ]
  },
  {
   "cell_type": "code",
   "execution_count": 93,
   "metadata": {
    "collapsed": true
   },
   "outputs": [],
   "source": [
    "df_cobranca_atual['MRR_aux'] = df_cobranca_atual.valor_cliente*df_cobranca_atual.mes_idade_cliente\n",
    "dict_lista_aux = {'MRR_aux' : 'max'}\n",
    "aux_MRR = df_cobranca_atual.groupby('cd_Login').agg(dict_lista_aux)\n",
    "    \n",
    "percentiles= [10,20,30,40,50,60,70,80,90]\n",
    "    \n",
    "Perc = cria_curva(percentiles, aux_MRR.MRR_aux)\n",
    "aux_MRR['Score_login'] = [marca_base(Perc, x) for x in aux_MRR.MRR_aux]"
   ]
  },
  {
   "cell_type": "code",
   "execution_count": 94,
   "metadata": {
    "collapsed": true
   },
   "outputs": [],
   "source": [
    "df_cobranca_atual.set_index('cd_Login', inplace= True)"
   ]
  },
  {
   "cell_type": "code",
   "execution_count": 95,
   "metadata": {
    "collapsed": true
   },
   "outputs": [],
   "source": [
    "df_cobranca_atual = pd.concat([df_cobranca_atual, aux_MRR[['Score_login']]], axis= 1, join_axes=[df_cobranca_atual.index])"
   ]
  },
  {
   "cell_type": "code",
   "execution_count": 96,
   "metadata": {
    "collapsed": false
   },
   "outputs": [
    {
     "data": {
      "text/plain": [
       "Index(['cd_provisioning', 'valor_provisioning', 'mes_idade_provisioning',\n",
       "       'mes_idade_cliente', 'ds_FormaPagamento', 'ds_Periodicidade',\n",
       "       'valor_cliente', 'qtd_produtos_cliente', 'cd_ClienteSAP',\n",
       "       'dt_vencimento', 'ANO_VENCIMENTO', 'MES_VENCIMENTO', 'DIA_VENCIMENTO',\n",
       "       'dt_pagamento', 'ANO_PAGAMENTO', 'MES_PAGAMENTO', 'DIA_PAGAMENTO',\n",
       "       'fl_pago', 'fl_cancelado', 'vl_cobranca', 'qtd_inadimplencia',\n",
       "       'fl_ServicoPai', 'diferenca_dias', 'AnoMes', 'ChaveModelo', 'MRR_aux',\n",
       "       'Score_login'],\n",
       "      dtype='object')"
      ]
     },
     "execution_count": 96,
     "metadata": {},
     "output_type": "execute_result"
    }
   ],
   "source": [
    "df_cobranca_atual.columns"
   ]
  },
  {
   "cell_type": "code",
   "execution_count": 97,
   "metadata": {
    "collapsed": false
   },
   "outputs": [
    {
     "data": {
      "text/plain": [
       "['mes_idade_cliente',\n",
       " 'mes_idade_provisioning',\n",
       " 'qtd_produtos_cliente',\n",
       " 'valor_cliente',\n",
       " 'valor_provisioning',\n",
       " 'MRR_aux',\n",
       " 'Score_login',\n",
       " 'ds_Periodicidade_indice',\n",
       " 'fl_ServicoPai_indice']"
      ]
     },
     "execution_count": 97,
     "metadata": {},
     "output_type": "execute_result"
    }
   ],
   "source": [
    "colunas"
   ]
  },
  {
   "cell_type": "code",
   "execution_count": 98,
   "metadata": {
    "collapsed": true
   },
   "outputs": [],
   "source": [
    "tamanho = len(lista_ds_Periodicidade) \n",
    "df_cobranca_atual['ds_Periodicidade_indice'] = [marca_lista(lista_ds_Periodicidade, tamanho, variavel) \n",
    "                                               for variavel in df_cobranca_atual.ds_Periodicidade]\n",
    "\n",
    "tamanho = len(lista_fl_ServicoPai) \n",
    "df_cobranca_atual['fl_ServicoPai_indice'] = [marca_lista(lista_fl_ServicoPai, tamanho, variavel)\n",
    "                                             for variavel in df_cobranca_atual.fl_ServicoPai]"
   ]
  },
  {
   "cell_type": "code",
   "execution_count": 99,
   "metadata": {
    "collapsed": false
   },
   "outputs": [
    {
     "data": {
      "text/html": [
       "<div>\n",
       "<table border=\"1\" class=\"dataframe\">\n",
       "  <thead>\n",
       "    <tr style=\"text-align: right;\">\n",
       "      <th></th>\n",
       "      <th>mes_idade_cliente</th>\n",
       "      <th>mes_idade_provisioning</th>\n",
       "      <th>qtd_produtos_cliente</th>\n",
       "      <th>valor_cliente</th>\n",
       "      <th>valor_provisioning</th>\n",
       "      <th>MRR_aux</th>\n",
       "      <th>Score_login</th>\n",
       "      <th>ds_Periodicidade_indice</th>\n",
       "      <th>fl_ServicoPai_indice</th>\n",
       "    </tr>\n",
       "    <tr>\n",
       "      <th>cd_Login</th>\n",
       "      <th></th>\n",
       "      <th></th>\n",
       "      <th></th>\n",
       "      <th></th>\n",
       "      <th></th>\n",
       "      <th></th>\n",
       "      <th></th>\n",
       "      <th></th>\n",
       "      <th></th>\n",
       "    </tr>\n",
       "  </thead>\n",
       "  <tbody>\n",
       "    <tr>\n",
       "      <th>gmtechenergy</th>\n",
       "      <td>0</td>\n",
       "      <td>0</td>\n",
       "      <td>2</td>\n",
       "      <td>84.8</td>\n",
       "      <td>24.900000</td>\n",
       "      <td>0.0</td>\n",
       "      <td>1</td>\n",
       "      <td>1</td>\n",
       "      <td>2</td>\n",
       "    </tr>\n",
       "    <tr>\n",
       "      <th>lytux</th>\n",
       "      <td>3</td>\n",
       "      <td>0</td>\n",
       "      <td>88</td>\n",
       "      <td>17.9</td>\n",
       "      <td>17.900000</td>\n",
       "      <td>53.7</td>\n",
       "      <td>1</td>\n",
       "      <td>0</td>\n",
       "      <td>2</td>\n",
       "    </tr>\n",
       "    <tr>\n",
       "      <th>lytux</th>\n",
       "      <td>3</td>\n",
       "      <td>0</td>\n",
       "      <td>88</td>\n",
       "      <td>17.9</td>\n",
       "      <td>17.900000</td>\n",
       "      <td>53.7</td>\n",
       "      <td>1</td>\n",
       "      <td>0</td>\n",
       "      <td>2</td>\n",
       "    </tr>\n",
       "    <tr>\n",
       "      <th>mauriciomaf</th>\n",
       "      <td>28</td>\n",
       "      <td>1</td>\n",
       "      <td>5</td>\n",
       "      <td>24.9</td>\n",
       "      <td>59.900002</td>\n",
       "      <td>697.2</td>\n",
       "      <td>2</td>\n",
       "      <td>2</td>\n",
       "      <td>2</td>\n",
       "    </tr>\n",
       "    <tr>\n",
       "      <th>hbsc</th>\n",
       "      <td>0</td>\n",
       "      <td>0</td>\n",
       "      <td>1</td>\n",
       "      <td>59.9</td>\n",
       "      <td>59.900002</td>\n",
       "      <td>0.0</td>\n",
       "      <td>1</td>\n",
       "      <td>2</td>\n",
       "      <td>2</td>\n",
       "    </tr>\n",
       "  </tbody>\n",
       "</table>\n",
       "</div>"
      ],
      "text/plain": [
       "              mes_idade_cliente  mes_idade_provisioning  qtd_produtos_cliente  \\\n",
       "cd_Login                                                                        \n",
       "gmtechenergy                  0                       0                     2   \n",
       "lytux                         3                       0                    88   \n",
       "lytux                         3                       0                    88   \n",
       "mauriciomaf                  28                       1                     5   \n",
       "hbsc                          0                       0                     1   \n",
       "\n",
       "              valor_cliente  valor_provisioning  MRR_aux  Score_login  \\\n",
       "cd_Login                                                                \n",
       "gmtechenergy           84.8           24.900000      0.0            1   \n",
       "lytux                  17.9           17.900000     53.7            1   \n",
       "lytux                  17.9           17.900000     53.7            1   \n",
       "mauriciomaf            24.9           59.900002    697.2            2   \n",
       "hbsc                   59.9           59.900002      0.0            1   \n",
       "\n",
       "              ds_Periodicidade_indice  fl_ServicoPai_indice  \n",
       "cd_Login                                                     \n",
       "gmtechenergy                        1                     2  \n",
       "lytux                               0                     2  \n",
       "lytux                               0                     2  \n",
       "mauriciomaf                         2                     2  \n",
       "hbsc                                2                     2  "
      ]
     },
     "execution_count": 99,
     "metadata": {},
     "output_type": "execute_result"
    }
   ],
   "source": [
    "df_cobranca_atual[colunas].head()"
   ]
  },
  {
   "cell_type": "code",
   "execution_count": 100,
   "metadata": {
    "collapsed": true
   },
   "outputs": [],
   "source": [
    "X = df_cobranca_atual[colunas].copy()\n",
    "X = scaler.fit_transform(X)\n",
    "y_pred = clf.predict_proba(X)\n",
    "y_pred = pd.DataFrame(data=y_pred[:,1])\n",
    "y_pred.rename(columns= {0: 'Prob_Pagamento'}, inplace= True)\n",
    "df_cobranca_atual = pd.concat([df_cobranca_atual.reset_index(), y_pred], axis=1)"
   ]
  },
  {
   "cell_type": "code",
   "execution_count": 102,
   "metadata": {
    "collapsed": false
   },
   "outputs": [
    {
     "name": "stderr",
     "output_type": "stream",
     "text": [
      "D:\\Users\\felipe.santos\\AppData\\Local\\Continuum\\Anaconda3\\lib\\site-packages\\ipykernel\\__main__.py:1: FutureWarning: sort(columns=....) is deprecated, use sort_values(by=.....)\n",
      "  if __name__ == '__main__':\n"
     ]
    }
   ],
   "source": [
    "df_cobranca_atual.sort(['Prob_Pagamento'], ascending=[1], inplace= True)"
   ]
  },
  {
   "cell_type": "code",
   "execution_count": 103,
   "metadata": {
    "collapsed": true
   },
   "outputs": [],
   "source": [
    "df_cobranca_atual.reset_index(inplace= True)"
   ]
  },
  {
   "cell_type": "code",
   "execution_count": 104,
   "metadata": {
    "collapsed": false
   },
   "outputs": [
    {
     "data": {
      "text/plain": [
       "[8206, 16412, 24618, 32824, 41030, 49236, 57442, 65648, 73854]"
      ]
     },
     "execution_count": 104,
     "metadata": {},
     "output_type": "execute_result"
    }
   ],
   "source": [
    "c1 = int(0.1*df_cobranca_atual.index.max())\n",
    "\n",
    "\n",
    "Clusters = [c1, \n",
    "            2*c1,\n",
    "            3*c1,\n",
    "            4*c1,\n",
    "            5*c1,\n",
    "            6*c1,\n",
    "            7*c1,\n",
    "            8*c1,\n",
    "            9*c1]\n",
    "\n",
    "Clusters"
   ]
  },
  {
   "cell_type": "code",
   "execution_count": 105,
   "metadata": {
    "collapsed": true
   },
   "outputs": [],
   "source": [
    "df_cobranca_atual['Cluster'] = [marca_base(Clusters, x) for x in df_cobranca_atual.index]"
   ]
  },
  {
   "cell_type": "code",
   "execution_count": 106,
   "metadata": {
    "collapsed": false
   },
   "outputs": [
    {
     "data": {
      "text/plain": [
       "10    8213\n",
       "9     8206\n",
       "8     8206\n",
       "7     8206\n",
       "6     8206\n",
       "5     8206\n",
       "4     8206\n",
       "3     8206\n",
       "2     8206\n",
       "1     8206\n",
       "Name: Cluster, dtype: int64"
      ]
     },
     "execution_count": 106,
     "metadata": {},
     "output_type": "execute_result"
    }
   ],
   "source": [
    "df_cobranca_atual.Cluster.value_counts()"
   ]
  },
  {
   "cell_type": "code",
   "execution_count": 107,
   "metadata": {
    "collapsed": false
   },
   "outputs": [
    {
     "data": {
      "text/html": [
       "<div>\n",
       "<table border=\"1\" class=\"dataframe\">\n",
       "  <thead>\n",
       "    <tr style=\"text-align: right;\">\n",
       "      <th>Score_login</th>\n",
       "      <th>1</th>\n",
       "      <th>2</th>\n",
       "      <th>3</th>\n",
       "      <th>4</th>\n",
       "      <th>5</th>\n",
       "      <th>6</th>\n",
       "      <th>7</th>\n",
       "      <th>8</th>\n",
       "      <th>9</th>\n",
       "      <th>10</th>\n",
       "    </tr>\n",
       "    <tr>\n",
       "      <th>Cluster</th>\n",
       "      <th></th>\n",
       "      <th></th>\n",
       "      <th></th>\n",
       "      <th></th>\n",
       "      <th></th>\n",
       "      <th></th>\n",
       "      <th></th>\n",
       "      <th></th>\n",
       "      <th></th>\n",
       "      <th></th>\n",
       "    </tr>\n",
       "  </thead>\n",
       "  <tbody>\n",
       "    <tr>\n",
       "      <th>1</th>\n",
       "      <td>289.0</td>\n",
       "      <td>1230.0</td>\n",
       "      <td>898.0</td>\n",
       "      <td>724.0</td>\n",
       "      <td>693.0</td>\n",
       "      <td>743.0</td>\n",
       "      <td>969.0</td>\n",
       "      <td>1081.0</td>\n",
       "      <td>821.0</td>\n",
       "      <td>758.0</td>\n",
       "    </tr>\n",
       "    <tr>\n",
       "      <th>2</th>\n",
       "      <td>593.0</td>\n",
       "      <td>1746.0</td>\n",
       "      <td>984.0</td>\n",
       "      <td>657.0</td>\n",
       "      <td>790.0</td>\n",
       "      <td>988.0</td>\n",
       "      <td>834.0</td>\n",
       "      <td>393.0</td>\n",
       "      <td>257.0</td>\n",
       "      <td>964.0</td>\n",
       "    </tr>\n",
       "    <tr>\n",
       "      <th>3</th>\n",
       "      <td>2429.0</td>\n",
       "      <td>1254.0</td>\n",
       "      <td>692.0</td>\n",
       "      <td>800.0</td>\n",
       "      <td>419.0</td>\n",
       "      <td>427.0</td>\n",
       "      <td>389.0</td>\n",
       "      <td>427.0</td>\n",
       "      <td>389.0</td>\n",
       "      <td>980.0</td>\n",
       "    </tr>\n",
       "    <tr>\n",
       "      <th>4</th>\n",
       "      <td>1658.0</td>\n",
       "      <td>788.0</td>\n",
       "      <td>1219.0</td>\n",
       "      <td>652.0</td>\n",
       "      <td>627.0</td>\n",
       "      <td>555.0</td>\n",
       "      <td>495.0</td>\n",
       "      <td>548.0</td>\n",
       "      <td>659.0</td>\n",
       "      <td>1005.0</td>\n",
       "    </tr>\n",
       "    <tr>\n",
       "      <th>5</th>\n",
       "      <td>472.0</td>\n",
       "      <td>577.0</td>\n",
       "      <td>1660.0</td>\n",
       "      <td>786.0</td>\n",
       "      <td>820.0</td>\n",
       "      <td>679.0</td>\n",
       "      <td>794.0</td>\n",
       "      <td>603.0</td>\n",
       "      <td>653.0</td>\n",
       "      <td>1162.0</td>\n",
       "    </tr>\n",
       "    <tr>\n",
       "      <th>6</th>\n",
       "      <td>142.0</td>\n",
       "      <td>287.0</td>\n",
       "      <td>411.0</td>\n",
       "      <td>1260.0</td>\n",
       "      <td>526.0</td>\n",
       "      <td>499.0</td>\n",
       "      <td>707.0</td>\n",
       "      <td>1199.0</td>\n",
       "      <td>1294.0</td>\n",
       "      <td>1881.0</td>\n",
       "    </tr>\n",
       "    <tr>\n",
       "      <th>7</th>\n",
       "      <td>144.0</td>\n",
       "      <td>17.0</td>\n",
       "      <td>33.0</td>\n",
       "      <td>237.0</td>\n",
       "      <td>806.0</td>\n",
       "      <td>1246.0</td>\n",
       "      <td>1043.0</td>\n",
       "      <td>445.0</td>\n",
       "      <td>1075.0</td>\n",
       "      <td>3160.0</td>\n",
       "    </tr>\n",
       "    <tr>\n",
       "      <th>8</th>\n",
       "      <td>113.0</td>\n",
       "      <td>NaN</td>\n",
       "      <td>1.0</td>\n",
       "      <td>835.0</td>\n",
       "      <td>692.0</td>\n",
       "      <td>667.0</td>\n",
       "      <td>761.0</td>\n",
       "      <td>1135.0</td>\n",
       "      <td>735.0</td>\n",
       "      <td>3267.0</td>\n",
       "    </tr>\n",
       "    <tr>\n",
       "      <th>9</th>\n",
       "      <td>NaN</td>\n",
       "      <td>NaN</td>\n",
       "      <td>NaN</td>\n",
       "      <td>NaN</td>\n",
       "      <td>650.0</td>\n",
       "      <td>523.0</td>\n",
       "      <td>842.0</td>\n",
       "      <td>1445.0</td>\n",
       "      <td>1911.0</td>\n",
       "      <td>2835.0</td>\n",
       "    </tr>\n",
       "    <tr>\n",
       "      <th>10</th>\n",
       "      <td>NaN</td>\n",
       "      <td>NaN</td>\n",
       "      <td>NaN</td>\n",
       "      <td>NaN</td>\n",
       "      <td>NaN</td>\n",
       "      <td>NaN</td>\n",
       "      <td>3.0</td>\n",
       "      <td>972.0</td>\n",
       "      <td>2891.0</td>\n",
       "      <td>4347.0</td>\n",
       "    </tr>\n",
       "  </tbody>\n",
       "</table>\n",
       "</div>"
      ],
      "text/plain": [
       "Score_login      1       2       3       4      5       6       7       8   \\\n",
       "Cluster                                                                      \n",
       "1             289.0  1230.0   898.0   724.0  693.0   743.0   969.0  1081.0   \n",
       "2             593.0  1746.0   984.0   657.0  790.0   988.0   834.0   393.0   \n",
       "3            2429.0  1254.0   692.0   800.0  419.0   427.0   389.0   427.0   \n",
       "4            1658.0   788.0  1219.0   652.0  627.0   555.0   495.0   548.0   \n",
       "5             472.0   577.0  1660.0   786.0  820.0   679.0   794.0   603.0   \n",
       "6             142.0   287.0   411.0  1260.0  526.0   499.0   707.0  1199.0   \n",
       "7             144.0    17.0    33.0   237.0  806.0  1246.0  1043.0   445.0   \n",
       "8             113.0     NaN     1.0   835.0  692.0   667.0   761.0  1135.0   \n",
       "9               NaN     NaN     NaN     NaN  650.0   523.0   842.0  1445.0   \n",
       "10              NaN     NaN     NaN     NaN    NaN     NaN     3.0   972.0   \n",
       "\n",
       "Score_login      9       10  \n",
       "Cluster                      \n",
       "1             821.0   758.0  \n",
       "2             257.0   964.0  \n",
       "3             389.0   980.0  \n",
       "4             659.0  1005.0  \n",
       "5             653.0  1162.0  \n",
       "6            1294.0  1881.0  \n",
       "7            1075.0  3160.0  \n",
       "8             735.0  3267.0  \n",
       "9            1911.0  2835.0  \n",
       "10           2891.0  4347.0  "
      ]
     },
     "execution_count": 107,
     "metadata": {},
     "output_type": "execute_result"
    },
    {
     "data": {
      "image/png": "[encoded data removed]",
      "text/plain": [
       "<matplotlib.figure.Figure at 0x1ad5b7b8>"
      ]
     },
     "metadata": {},
     "output_type": "display_data"
    }
   ],
   "source": [
    "agg_dict_heatmap = {'cd_Login' : 'count'}\n",
    "heatmap = df_cobranca_atual.groupby(['Cluster','Score_login']).agg(agg_dict_heatmap).copy()\n",
    "heatmap.reset_index(inplace= True)\n",
    "heatmap = heatmap.pivot('Cluster','Score_login', 'cd_Login').copy()\n",
    "sns.heatmap(heatmap, annot=False, linewidths=.5) \n",
    "heatmap"
   ]
  },
  {
   "cell_type": "code",
   "execution_count": 109,
   "metadata": {
    "collapsed": false
   },
   "outputs": [
    {
     "data": {
      "text/html": [
       "<div>\n",
       "<table border=\"1\" class=\"dataframe\">\n",
       "  <thead>\n",
       "    <tr style=\"text-align: right;\">\n",
       "      <th></th>\n",
       "      <th>0</th>\n",
       "      <th>1</th>\n",
       "      <th>2</th>\n",
       "      <th>3</th>\n",
       "      <th>4</th>\n",
       "    </tr>\n",
       "  </thead>\n",
       "  <tbody>\n",
       "    <tr>\n",
       "      <th>index</th>\n",
       "      <td>43015</td>\n",
       "      <td>22164</td>\n",
       "      <td>22165</td>\n",
       "      <td>13765</td>\n",
       "      <td>80078</td>\n",
       "    </tr>\n",
       "    <tr>\n",
       "      <th>cd_Login</th>\n",
       "      <td>marketingck</td>\n",
       "      <td>grupoflecha</td>\n",
       "      <td>grupoflecha</td>\n",
       "      <td>lutroiani</td>\n",
       "      <td>relevopaulista</td>\n",
       "    </tr>\n",
       "    <tr>\n",
       "      <th>cd_provisioning</th>\n",
       "      <td>63133038</td>\n",
       "      <td>63231398</td>\n",
       "      <td>63231399</td>\n",
       "      <td>6554470</td>\n",
       "      <td>3439953</td>\n",
       "    </tr>\n",
       "    <tr>\n",
       "      <th>valor_provisioning</th>\n",
       "      <td>21.7</td>\n",
       "      <td>49.9</td>\n",
       "      <td>49.9</td>\n",
       "      <td>40</td>\n",
       "      <td>40</td>\n",
       "    </tr>\n",
       "    <tr>\n",
       "      <th>mes_idade_provisioning</th>\n",
       "      <td>24</td>\n",
       "      <td>23</td>\n",
       "      <td>23</td>\n",
       "      <td>22</td>\n",
       "      <td>22</td>\n",
       "    </tr>\n",
       "    <tr>\n",
       "      <th>mes_idade_cliente</th>\n",
       "      <td>31</td>\n",
       "      <td>27</td>\n",
       "      <td>27</td>\n",
       "      <td>99</td>\n",
       "      <td>95</td>\n",
       "    </tr>\n",
       "    <tr>\n",
       "      <th>ds_FormaPagamento</th>\n",
       "      <td>Boleto/Duplicata</td>\n",
       "      <td>CartÆo de Crdito</td>\n",
       "      <td>CartÆo de Crdito</td>\n",
       "      <td>Boleto/Duplicata</td>\n",
       "      <td>CartÆo de Crdito</td>\n",
       "    </tr>\n",
       "    <tr>\n",
       "      <th>ds_Periodicidade</th>\n",
       "      <td>Anual</td>\n",
       "      <td>Anual</td>\n",
       "      <td>Anual</td>\n",
       "      <td>Anual</td>\n",
       "      <td>Anual</td>\n",
       "    </tr>\n",
       "    <tr>\n",
       "      <th>valor_cliente</th>\n",
       "      <td>196.7</td>\n",
       "      <td>170.8</td>\n",
       "      <td>170.8</td>\n",
       "      <td>32.9</td>\n",
       "      <td>31.2</td>\n",
       "    </tr>\n",
       "    <tr>\n",
       "      <th>qtd_produtos_cliente</th>\n",
       "      <td>2</td>\n",
       "      <td>4</td>\n",
       "      <td>4</td>\n",
       "      <td>4</td>\n",
       "      <td>3</td>\n",
       "    </tr>\n",
       "    <tr>\n",
       "      <th>cd_ClienteSAP</th>\n",
       "      <td>2000436637</td>\n",
       "      <td>2000515998</td>\n",
       "      <td>2000515998</td>\n",
       "      <td>1001524256</td>\n",
       "      <td>1001780336</td>\n",
       "    </tr>\n",
       "    <tr>\n",
       "      <th>dt_vencimento</th>\n",
       "      <td>2017-11-15 00:00:00</td>\n",
       "      <td>2017-11-10 00:00:00</td>\n",
       "      <td>2017-11-10 00:00:00</td>\n",
       "      <td>2017-11-10 00:00:00</td>\n",
       "      <td>2017-11-20 00:00:00</td>\n",
       "    </tr>\n",
       "    <tr>\n",
       "      <th>ANO_VENCIMENTO</th>\n",
       "      <td>2017</td>\n",
       "      <td>2017</td>\n",
       "      <td>2017</td>\n",
       "      <td>2017</td>\n",
       "      <td>2017</td>\n",
       "    </tr>\n",
       "    <tr>\n",
       "      <th>MES_VENCIMENTO</th>\n",
       "      <td>11</td>\n",
       "      <td>11</td>\n",
       "      <td>11</td>\n",
       "      <td>11</td>\n",
       "      <td>11</td>\n",
       "    </tr>\n",
       "    <tr>\n",
       "      <th>DIA_VENCIMENTO</th>\n",
       "      <td>15</td>\n",
       "      <td>10</td>\n",
       "      <td>10</td>\n",
       "      <td>10</td>\n",
       "      <td>20</td>\n",
       "    </tr>\n",
       "    <tr>\n",
       "      <th>dt_pagamento</th>\n",
       "      <td>1900-01-01 00:00:00</td>\n",
       "      <td>1900-01-01 00:00:00</td>\n",
       "      <td>1900-01-01 00:00:00</td>\n",
       "      <td>1900-01-01 00:00:00</td>\n",
       "      <td>1900-01-01 00:00:00</td>\n",
       "    </tr>\n",
       "    <tr>\n",
       "      <th>ANO_PAGAMENTO</th>\n",
       "      <td>1900</td>\n",
       "      <td>1900</td>\n",
       "      <td>1900</td>\n",
       "      <td>1900</td>\n",
       "      <td>1900</td>\n",
       "    </tr>\n",
       "    <tr>\n",
       "      <th>MES_PAGAMENTO</th>\n",
       "      <td>1</td>\n",
       "      <td>1</td>\n",
       "      <td>1</td>\n",
       "      <td>1</td>\n",
       "      <td>1</td>\n",
       "    </tr>\n",
       "    <tr>\n",
       "      <th>DIA_PAGAMENTO</th>\n",
       "      <td>1</td>\n",
       "      <td>1</td>\n",
       "      <td>1</td>\n",
       "      <td>1</td>\n",
       "      <td>1</td>\n",
       "    </tr>\n",
       "    <tr>\n",
       "      <th>fl_pago</th>\n",
       "      <td>0</td>\n",
       "      <td>0</td>\n",
       "      <td>0</td>\n",
       "      <td>0</td>\n",
       "      <td>0</td>\n",
       "    </tr>\n",
       "    <tr>\n",
       "      <th>fl_cancelado</th>\n",
       "      <td>0</td>\n",
       "      <td>0</td>\n",
       "      <td>0</td>\n",
       "      <td>1</td>\n",
       "      <td>0</td>\n",
       "    </tr>\n",
       "    <tr>\n",
       "      <th>vl_cobranca</th>\n",
       "      <td>260,17</td>\n",
       "      <td>54,90</td>\n",
       "      <td>54,90</td>\n",
       "      <td>40,00</td>\n",
       "      <td>54,90</td>\n",
       "    </tr>\n",
       "    <tr>\n",
       "      <th>qtd_inadimplencia</th>\n",
       "      <td>2</td>\n",
       "      <td>35</td>\n",
       "      <td>35</td>\n",
       "      <td>20</td>\n",
       "      <td>6</td>\n",
       "    </tr>\n",
       "    <tr>\n",
       "      <th>fl_ServicoPai</th>\n",
       "      <td>SIM</td>\n",
       "      <td>SIM</td>\n",
       "      <td>SIM</td>\n",
       "      <td>SIM</td>\n",
       "      <td>SIM</td>\n",
       "    </tr>\n",
       "    <tr>\n",
       "      <th>diferenca_dias</th>\n",
       "      <td>0</td>\n",
       "      <td>0</td>\n",
       "      <td>0</td>\n",
       "      <td>0</td>\n",
       "      <td>0</td>\n",
       "    </tr>\n",
       "    <tr>\n",
       "      <th>AnoMes</th>\n",
       "      <td>2017-11-01 00:00:00</td>\n",
       "      <td>2017-11-01 00:00:00</td>\n",
       "      <td>2017-11-01 00:00:00</td>\n",
       "      <td>2017-11-01 00:00:00</td>\n",
       "      <td>2017-11-01 00:00:00</td>\n",
       "    </tr>\n",
       "    <tr>\n",
       "      <th>ChaveModelo</th>\n",
       "      <td>marketingck2017-11-01</td>\n",
       "      <td>grupoflecha2017-11-01</td>\n",
       "      <td>grupoflecha2017-11-01</td>\n",
       "      <td>lutroiani2017-11-01</td>\n",
       "      <td>relevopaulista2017-11-01</td>\n",
       "    </tr>\n",
       "    <tr>\n",
       "      <th>MRR_aux</th>\n",
       "      <td>6097.7</td>\n",
       "      <td>4611.6</td>\n",
       "      <td>4611.6</td>\n",
       "      <td>3257.1</td>\n",
       "      <td>2964</td>\n",
       "    </tr>\n",
       "    <tr>\n",
       "      <th>Score_login</th>\n",
       "      <td>7</td>\n",
       "      <td>6</td>\n",
       "      <td>6</td>\n",
       "      <td>5</td>\n",
       "      <td>5</td>\n",
       "    </tr>\n",
       "    <tr>\n",
       "      <th>ds_Periodicidade_indice</th>\n",
       "      <td>2</td>\n",
       "      <td>2</td>\n",
       "      <td>2</td>\n",
       "      <td>2</td>\n",
       "      <td>2</td>\n",
       "    </tr>\n",
       "    <tr>\n",
       "      <th>fl_ServicoPai_indice</th>\n",
       "      <td>2</td>\n",
       "      <td>2</td>\n",
       "      <td>2</td>\n",
       "      <td>2</td>\n",
       "      <td>2</td>\n",
       "    </tr>\n",
       "    <tr>\n",
       "      <th>Prob_Pagamento</th>\n",
       "      <td>0.0496931</td>\n",
       "      <td>0.055047</td>\n",
       "      <td>0.055047</td>\n",
       "      <td>0.0604079</td>\n",
       "      <td>0.0624955</td>\n",
       "    </tr>\n",
       "    <tr>\n",
       "      <th>Cluster</th>\n",
       "      <td>1</td>\n",
       "      <td>1</td>\n",
       "      <td>1</td>\n",
       "      <td>1</td>\n",
       "      <td>1</td>\n",
       "    </tr>\n",
       "  </tbody>\n",
       "</table>\n",
       "</div>"
      ],
      "text/plain": [
       "                                             0                      1  \\\n",
       "index                                    43015                  22164   \n",
       "cd_Login                           marketingck            grupoflecha   \n",
       "cd_provisioning                       63133038               63231398   \n",
       "valor_provisioning                        21.7                   49.9   \n",
       "mes_idade_provisioning                      24                     23   \n",
       "mes_idade_cliente                           31                     27   \n",
       "ds_FormaPagamento             Boleto/Duplicata      CartÆo de Crdito   \n",
       "ds_Periodicidade                         Anual                  Anual   \n",
       "valor_cliente                            196.7                  170.8   \n",
       "qtd_produtos_cliente                         2                      4   \n",
       "cd_ClienteSAP                       2000436637             2000515998   \n",
       "dt_vencimento              2017-11-15 00:00:00    2017-11-10 00:00:00   \n",
       "ANO_VENCIMENTO                            2017                   2017   \n",
       "MES_VENCIMENTO                              11                     11   \n",
       "DIA_VENCIMENTO                              15                     10   \n",
       "dt_pagamento               1900-01-01 00:00:00    1900-01-01 00:00:00   \n",
       "ANO_PAGAMENTO                             1900                   1900   \n",
       "MES_PAGAMENTO                                1                      1   \n",
       "DIA_PAGAMENTO                                1                      1   \n",
       "fl_pago                                      0                      0   \n",
       "fl_cancelado                                 0                      0   \n",
       "vl_cobranca                             260,17                  54,90   \n",
       "qtd_inadimplencia                            2                     35   \n",
       "fl_ServicoPai                              SIM                    SIM   \n",
       "diferenca_dias                               0                      0   \n",
       "AnoMes                     2017-11-01 00:00:00    2017-11-01 00:00:00   \n",
       "ChaveModelo              marketingck2017-11-01  grupoflecha2017-11-01   \n",
       "MRR_aux                                 6097.7                 4611.6   \n",
       "Score_login                                  7                      6   \n",
       "ds_Periodicidade_indice                      2                      2   \n",
       "fl_ServicoPai_indice                         2                      2   \n",
       "Prob_Pagamento                       0.0496931               0.055047   \n",
       "Cluster                                      1                      1   \n",
       "\n",
       "                                             2                    3  \\\n",
       "index                                    22165                13765   \n",
       "cd_Login                           grupoflecha            lutroiani   \n",
       "cd_provisioning                       63231399              6554470   \n",
       "valor_provisioning                        49.9                   40   \n",
       "mes_idade_provisioning                      23                   22   \n",
       "mes_idade_cliente                           27                   99   \n",
       "ds_FormaPagamento            CartÆo de Crdito     Boleto/Duplicata   \n",
       "ds_Periodicidade                         Anual                Anual   \n",
       "valor_cliente                            170.8                 32.9   \n",
       "qtd_produtos_cliente                         4                    4   \n",
       "cd_ClienteSAP                       2000515998           1001524256   \n",
       "dt_vencimento              2017-11-10 00:00:00  2017-11-10 00:00:00   \n",
       "ANO_VENCIMENTO                            2017                 2017   \n",
       "MES_VENCIMENTO                              11                   11   \n",
       "DIA_VENCIMENTO                              10                   10   \n",
       "dt_pagamento               1900-01-01 00:00:00  1900-01-01 00:00:00   \n",
       "ANO_PAGAMENTO                             1900                 1900   \n",
       "MES_PAGAMENTO                                1                    1   \n",
       "DIA_PAGAMENTO                                1                    1   \n",
       "fl_pago                                      0                    0   \n",
       "fl_cancelado                                 0                    1   \n",
       "vl_cobranca                              54,90                40,00   \n",
       "qtd_inadimplencia                           35                   20   \n",
       "fl_ServicoPai                              SIM                  SIM   \n",
       "diferenca_dias                               0                    0   \n",
       "AnoMes                     2017-11-01 00:00:00  2017-11-01 00:00:00   \n",
       "ChaveModelo              grupoflecha2017-11-01  lutroiani2017-11-01   \n",
       "MRR_aux                                 4611.6               3257.1   \n",
       "Score_login                                  6                    5   \n",
       "ds_Periodicidade_indice                      2                    2   \n",
       "fl_ServicoPai_indice                         2                    2   \n",
       "Prob_Pagamento                        0.055047            0.0604079   \n",
       "Cluster                                      1                    1   \n",
       "\n",
       "                                                4  \n",
       "index                                       80078  \n",
       "cd_Login                           relevopaulista  \n",
       "cd_provisioning                           3439953  \n",
       "valor_provisioning                             40  \n",
       "mes_idade_provisioning                         22  \n",
       "mes_idade_cliente                              95  \n",
       "ds_FormaPagamento               CartÆo de Crdito  \n",
       "ds_Periodicidade                            Anual  \n",
       "valor_cliente                                31.2  \n",
       "qtd_produtos_cliente                            3  \n",
       "cd_ClienteSAP                          1001780336  \n",
       "dt_vencimento                 2017-11-20 00:00:00  \n",
       "ANO_VENCIMENTO                               2017  \n",
       "MES_VENCIMENTO                                 11  \n",
       "DIA_VENCIMENTO                                 20  \n",
       "dt_pagamento                  1900-01-01 00:00:00  \n",
       "ANO_PAGAMENTO                                1900  \n",
       "MES_PAGAMENTO                                   1  \n",
       "DIA_PAGAMENTO                                   1  \n",
       "fl_pago                                         0  \n",
       "fl_cancelado                                    0  \n",
       "vl_cobranca                                 54,90  \n",
       "qtd_inadimplencia                               6  \n",
       "fl_ServicoPai                                 SIM  \n",
       "diferenca_dias                                  0  \n",
       "AnoMes                        2017-11-01 00:00:00  \n",
       "ChaveModelo              relevopaulista2017-11-01  \n",
       "MRR_aux                                      2964  \n",
       "Score_login                                     5  \n",
       "ds_Periodicidade_indice                         2  \n",
       "fl_ServicoPai_indice                            2  \n",
       "Prob_Pagamento                          0.0624955  \n",
       "Cluster                                         1  "
      ]
     },
     "execution_count": 109,
     "metadata": {},
     "output_type": "execute_result"
    }
   ],
   "source": [
    "df_cobranca_atual[[]].head().T"
   ]
  },
  {
   "cell_type": "code",
   "execution_count": null,
   "metadata": {
    "collapsed": true
   },
   "outputs": [],
   "source": []
  },
  {
   "cell_type": "code",
   "execution_count": null,
   "metadata": {
    "collapsed": true
   },
   "outputs": [],
   "source": []
  },
  {
   "cell_type": "code",
   "execution_count": null,
   "metadata": {
    "collapsed": true
   },
   "outputs": [],
   "source": []
  },
  {
   "cell_type": "code",
   "execution_count": null,
   "metadata": {
    "collapsed": true
   },
   "outputs": [],
   "source": []
  },
  {
   "cell_type": "code",
   "execution_count": 250,
   "metadata": {
    "collapsed": false
   },
   "outputs": [],
   "source": [
    "LoginsCiclo_20082017 = pd.read_csv('./Logins.txt', header= None)"
   ]
  },
  {
   "cell_type": "code",
   "execution_count": 251,
   "metadata": {
    "collapsed": false
   },
   "outputs": [],
   "source": [
    "LoginsCiclo_20082017.rename(columns={0 : 'cd_Login'}, inplace=True)"
   ]
  },
  {
   "cell_type": "code",
   "execution_count": 252,
   "metadata": {
    "collapsed": false
   },
   "outputs": [
    {
     "data": {
      "text/plain": [
       "False    12060\n",
       "True      8602\n",
       "Name: cd_Login, dtype: int64"
      ]
     },
     "execution_count": 252,
     "metadata": {},
     "output_type": "execute_result"
    }
   ],
   "source": [
    "LoginsCiclo_20082017.cd_Login.duplicated().value_counts()"
   ]
  },
  {
   "cell_type": "code",
   "execution_count": 253,
   "metadata": {
    "collapsed": false
   },
   "outputs": [],
   "source": [
    "LoginsCiclo_20082017 = LoginsCiclo_20082017[LoginsCiclo_20082017.cd_Login.duplicated(keep= 'first') == False].copy()"
   ]
  },
  {
   "cell_type": "code",
   "execution_count": 254,
   "metadata": {
    "collapsed": false
   },
   "outputs": [
    {
     "data": {
      "text/html": [
       "<div>\n",
       "<table border=\"1\" class=\"dataframe\">\n",
       "  <thead>\n",
       "    <tr style=\"text-align: right;\">\n",
       "      <th></th>\n",
       "      <th>cd_Login</th>\n",
       "    </tr>\n",
       "  </thead>\n",
       "  <tbody>\n",
       "    <tr>\n",
       "      <th>0</th>\n",
       "      <td>elofarma</td>\n",
       "    </tr>\n",
       "    <tr>\n",
       "      <th>3</th>\n",
       "      <td>eticatel</td>\n",
       "    </tr>\n",
       "    <tr>\n",
       "      <th>4</th>\n",
       "      <td>premixbrasil</td>\n",
       "    </tr>\n",
       "    <tr>\n",
       "      <th>5</th>\n",
       "      <td>lgfaustino</td>\n",
       "    </tr>\n",
       "    <tr>\n",
       "      <th>6</th>\n",
       "      <td>j2solution</td>\n",
       "    </tr>\n",
       "  </tbody>\n",
       "</table>\n",
       "</div>"
      ],
      "text/plain": [
       "               cd_Login\n",
       "0  elofarma            \n",
       "3  eticatel            \n",
       "4  premixbrasil        \n",
       "5  lgfaustino          \n",
       "6  j2solution          "
      ]
     },
     "execution_count": 254,
     "metadata": {},
     "output_type": "execute_result"
    }
   ],
   "source": [
    "LoginsCiclo_20082017.head()"
   ]
  },
  {
   "cell_type": "code",
   "execution_count": 255,
   "metadata": {
    "collapsed": false
   },
   "outputs": [
    {
     "data": {
      "text/plain": [
       "(12060, 1)"
      ]
     },
     "execution_count": 255,
     "metadata": {},
     "output_type": "execute_result"
    }
   ],
   "source": [
    "LoginsCiclo_20082017.shape"
   ]
  },
  {
   "cell_type": "code",
   "execution_count": 256,
   "metadata": {
    "collapsed": true
   },
   "outputs": [],
   "source": [
    "df_base = pd.read_csv('D:/Users/felipe.santos/Desktop/Algoritmos/AlgoritmosTodosProdutos/Churn_Consumo_Recomendacao_18.08.2017.csv'\n",
    "                      , error_bad_lines = False\n",
    "                      , sep=';'\n",
    "                      , dtype= {7: str}\n",
    "                      , encoding='latin-1'\n",
    "                      , header = 0)"
   ]
  },
  {
   "cell_type": "code",
   "execution_count": 258,
   "metadata": {
    "collapsed": true
   },
   "outputs": [],
   "source": [
    "tamanho = len(lista_ds_Periodicidade) \n",
    "df_base['ds_Periodicidade_indice'] = [marca_lista(lista_ds_Periodicidade, tamanho, variavel) \n",
    "                                          for variavel in df_base.ds_Periodicidade]\n",
    "\n",
    "tamanho = len(lista_fl_ServicoPai) \n",
    "df_base['fl_ServicoPai_indice'] = [marca_lista(lista_fl_ServicoPai, tamanho, variavel)\n",
    "                                       for variavel in df_base.fl_ServicoPai]"
   ]
  },
  {
   "cell_type": "code",
   "execution_count": 259,
   "metadata": {
    "collapsed": false
   },
   "outputs": [],
   "source": [
    "def diff_month(d1, d2):\n",
    "    return (d1.year - d2.year)*12 + d1.month - d2.month\n",
    "\n",
    "def periodicidade(x):\n",
    "    if x == 'Trienal':\n",
    "        return 36    \n",
    "    elif x == 'Anual':\n",
    "        return 12\n",
    "    elif x == 'Semestral':\n",
    "        return 6\n",
    "    elif x == 'Trimestral':\n",
    "        return 3\n",
    "    else: \n",
    "        return 1\n",
    "\n",
    "def marca_lista(lista, tamanho, variavel):\n",
    "    i = 0\n",
    "    for i in range(tamanho):\n",
    "        if variavel == lista[i]: return i\n",
    "                \n",
    "def cria_curva(percentiles, variavel):\n",
    "    Perc = list()\n",
    "    for i in range(len(percentiles)):\n",
    "        Perc.append(np.percentile(variavel, percentiles[i]))\n",
    "    return Perc\n",
    "\n",
    "def marca_base(Perc, x):\n",
    "    if x >= Perc[(len(Perc)-1)]:\n",
    "        return len(Perc) +1\n",
    "    else:\n",
    "        for i in range(len(Perc)):\n",
    "            if x < Perc[i]:\n",
    "                return i + 1\n",
    "            \n",
    "            \n",
    "            \n",
    "            \n",
    "df_base['Status'] = ['ativo' if s in ['Ativo', 'Atendido', 'Em ativação',\n",
    "                                      'Aguardando ativação'] else 'inativo'\n",
    "                     for s in df_base.Status]\n",
    "\n",
    "\n",
    "df_base['fl_Dev'] = df_base['fl_Dev'].astype(float,)\n",
    "\n",
    "df_base = df_base[(df_base.nr_PrecoMensal > '0,00')].copy()\n",
    "df_base.sort_values(['Instalacao'], ascending= 1 ,inplace=True)\n",
    "df_base.drop_duplicates(['Provisioning'], keep='last', inplace= True)\n",
    "col_datas = ['Data_Desativacao', 'Data_Fim', 'Instalacao', 'dt_Reativacao', 'Primeiro_Servico_LW']\n",
    "converte_datetime(df_base, col_datas)\n",
    "df_base['Data_Fim_flag'] = [1 if d_fim != datetime(1900,1,1) else 0 for d_fim in df_base.Data_Fim]\n",
    "df_base['Data_Desativacao_flag'] = [1 if f_des != datetime(1900,1,1) else 0 for f_des in df_base.Data_Desativacao]\n",
    "df_base['Data_Desativacao_flag'] = [1 if f_des != datetime(1900,1,1) else 0 for f_des in df_base.Data_Desativacao]\n",
    "df_base['Data_churn'] = df_base[['Data_Fim', 'Data_Desativacao']].min(axis = 1).astype('datetime64[ns]')\n",
    "df_base['Data_churn'] = [d_fim if ((d_des < d_rea < d_fim) & f_fim & f_des) else d_chu\n",
    "                              for d_des, d_rea, d_fim, f_fim, f_des, d_chu in \n",
    "                              zip(df_base.Data_Desativacao, df_base.dt_Reativacao, \n",
    "                                  df_base.Data_Fim, df_base.Data_Fim_flag, \n",
    "                                  df_base.Data_Desativacao_flag, df_base.Data_churn)]\n",
    "df_base['Data_churn_flag'] = [1 if d > datetime(1900, 1, 1) else 0 for d in df_base.Data_churn]\n",
    "\n",
    "#######################################\n",
    "\n",
    "df_base = df_base[df_base.Primeiro_Servico_LW >= datetime(1990,1,1)].copy()  #\n",
    "\n",
    "#######################################\n",
    "\n",
    "\n",
    "df_base['Primeiro_Servico_LW_AnoMes'] = [datetime(d.year, d.month, 1) for d in df_base.Primeiro_Servico_LW]\n",
    "df_base['Instalacao_AnoMes'] = [datetime(d.year, d.month, 1) for d in df_base.Instalacao]\n",
    "df_base['Data_churn_AnoMes'] = [datetime(d.year, d.month, 1) for d in df_base.Data_churn]\n",
    "df_base['fl_ServicoPai'] = [1 if s in ['SIM', 'Sim', 'sim'] else 0 for s in df_base.fl_ServicoPai]\n",
    "df_base['fl_GerenteConta'] = [0 if s== 1 else 1 for s in df_base.id_GerenteConta]\n",
    "df_base['nr_PrecoMensal'] = [x.replace(',', '.') for x in df_base.nr_PrecoMensal]\n",
    "df_base['nr_PrecoMensal'] = df_base.nr_PrecoMensal.astype(float)\n",
    "df_base['MesesParaChurn'] = [diff_month(ch, ins) if ch > datetime(1900, 1, 1) else 0\n",
    "                           for ch, ins in  zip(df_base.Data_churn, df_base.Instalacao)]\n",
    "df_base['FlagChurn'] = [1 if d!= 0 else 0 for d in df_base.MesesParaChurn]"
   ]
  },
  {
   "cell_type": "code",
   "execution_count": 260,
   "metadata": {
    "collapsed": false
   },
   "outputs": [
    {
     "data": {
      "text/plain": [
       "Index(['Provisioning', 'cd_ChaveCliente', 'nr_PrecoMensal', 'ds_Periodicidade',\n",
       "       'Instalacao', 'Primeiro_Servico_LW', 'dt_Reativacao', 'fl_ServicoPai',\n",
       "       'id_GerenteConta', 'Servico', 'fl_Dev', 'Perfil', 'classificacao',\n",
       "       'Status', 'Data_Fim', 'Data_Desativacao', 'ds_Periodicidade_indice',\n",
       "       'fl_ServicoPai_indice', 'Data_Fim_flag', 'Data_Desativacao_flag',\n",
       "       'Data_churn', 'Data_churn_flag', 'Primeiro_Servico_LW_AnoMes',\n",
       "       'Instalacao_AnoMes', 'Data_churn_AnoMes', 'fl_GerenteConta',\n",
       "       'MesesParaChurn', 'FlagChurn'],\n",
       "      dtype='object')"
      ]
     },
     "execution_count": 260,
     "metadata": {},
     "output_type": "execute_result"
    }
   ],
   "source": [
    "df_base.columns"
   ]
  },
  {
   "cell_type": "code",
   "execution_count": 261,
   "metadata": {
    "collapsed": true
   },
   "outputs": [],
   "source": [
    "HelpFlose = pd.read_csv('./HelpFlose.csv', header = 0, sep=';')\n",
    "HelpFlose.rename(columns={'cd_Cliente' : 'cd_Login', 'cd_Provisioning':'Provisioning'}, inplace=True)"
   ]
  },
  {
   "cell_type": "code",
   "execution_count": 262,
   "metadata": {
    "collapsed": false
   },
   "outputs": [
    {
     "data": {
      "text/html": [
       "<div>\n",
       "<table border=\"1\" class=\"dataframe\">\n",
       "  <thead>\n",
       "    <tr style=\"text-align: right;\">\n",
       "      <th></th>\n",
       "      <th>cd_Login</th>\n",
       "      <th>Provisioning</th>\n",
       "    </tr>\n",
       "  </thead>\n",
       "  <tbody>\n",
       "    <tr>\n",
       "      <th>196649</th>\n",
       "      <td>netestudio1</td>\n",
       "      <td>8764512</td>\n",
       "    </tr>\n",
       "    <tr>\n",
       "      <th>170810</th>\n",
       "      <td>cpditb</td>\n",
       "      <td>61925411</td>\n",
       "    </tr>\n",
       "    <tr>\n",
       "      <th>93815</th>\n",
       "      <td>reatoscomunicacao</td>\n",
       "      <td>63532635</td>\n",
       "    </tr>\n",
       "    <tr>\n",
       "      <th>225572</th>\n",
       "      <td>amixel</td>\n",
       "      <td>8328800</td>\n",
       "    </tr>\n",
       "    <tr>\n",
       "      <th>162569</th>\n",
       "      <td>oabpi</td>\n",
       "      <td>63470598</td>\n",
       "    </tr>\n",
       "    <tr>\n",
       "      <th>130446</th>\n",
       "      <td>impercap</td>\n",
       "      <td>60631886</td>\n",
       "    </tr>\n",
       "    <tr>\n",
       "      <th>177514</th>\n",
       "      <td>dnadobrasil</td>\n",
       "      <td>6287228</td>\n",
       "    </tr>\n",
       "    <tr>\n",
       "      <th>202491</th>\n",
       "      <td>w3telecom</td>\n",
       "      <td>60719449</td>\n",
       "    </tr>\n",
       "    <tr>\n",
       "      <th>86673</th>\n",
       "      <td>marfcontabilidade</td>\n",
       "      <td>68472</td>\n",
       "    </tr>\n",
       "    <tr>\n",
       "      <th>114997</th>\n",
       "      <td>verbe</td>\n",
       "      <td>63419484</td>\n",
       "    </tr>\n",
       "  </tbody>\n",
       "</table>\n",
       "</div>"
      ],
      "text/plain": [
       "                 cd_Login  Provisioning\n",
       "196649        netestudio1       8764512\n",
       "170810             cpditb      61925411\n",
       "93815   reatoscomunicacao      63532635\n",
       "225572             amixel       8328800\n",
       "162569              oabpi      63470598\n",
       "130446           impercap      60631886\n",
       "177514        dnadobrasil       6287228\n",
       "202491          w3telecom      60719449\n",
       "86673   marfcontabilidade         68472\n",
       "114997              verbe      63419484"
      ]
     },
     "execution_count": 262,
     "metadata": {},
     "output_type": "execute_result"
    }
   ],
   "source": [
    "HelpFlose.sample(10)"
   ]
  },
  {
   "cell_type": "code",
   "execution_count": 263,
   "metadata": {
    "collapsed": false
   },
   "outputs": [
    {
     "data": {
      "text/plain": [
       "False    250525\n",
       "True         32\n",
       "Name: Provisioning, dtype: int64"
      ]
     },
     "execution_count": 263,
     "metadata": {},
     "output_type": "execute_result"
    }
   ],
   "source": [
    "HelpFlose.Provisioning.duplicated().value_counts()"
   ]
  },
  {
   "cell_type": "code",
   "execution_count": 264,
   "metadata": {
    "collapsed": false
   },
   "outputs": [
    {
     "data": {
      "text/plain": [
       "True     238502\n",
       "False     12055\n",
       "Name: cd_Login, dtype: int64"
      ]
     },
     "execution_count": 264,
     "metadata": {},
     "output_type": "execute_result"
    }
   ],
   "source": [
    "HelpFlose.cd_Login.duplicated().value_counts()"
   ]
  },
  {
   "cell_type": "code",
   "execution_count": 265,
   "metadata": {
    "collapsed": false
   },
   "outputs": [
    {
     "data": {
      "text/plain": [
       "(43782, 3)"
      ]
     },
     "execution_count": 265,
     "metadata": {},
     "output_type": "execute_result"
    }
   ],
   "source": [
    "HelpFlose = pd.merge(df_base[['Provisioning','cd_ChaveCliente']], HelpFlose, how='inner', on=['Provisioning'])\n",
    "HelpFlose.shape"
   ]
  },
  {
   "cell_type": "code",
   "execution_count": 266,
   "metadata": {
    "collapsed": false
   },
   "outputs": [
    {
     "data": {
      "text/html": [
       "<div>\n",
       "<table border=\"1\" class=\"dataframe\">\n",
       "  <thead>\n",
       "    <tr style=\"text-align: right;\">\n",
       "      <th></th>\n",
       "      <th>Provisioning</th>\n",
       "      <th>cd_ChaveCliente</th>\n",
       "      <th>cd_Login</th>\n",
       "    </tr>\n",
       "  </thead>\n",
       "  <tbody>\n",
       "    <tr>\n",
       "      <th>7638</th>\n",
       "      <td>411282</td>\n",
       "      <td>__09054570000139__</td>\n",
       "      <td>marko1</td>\n",
       "    </tr>\n",
       "  </tbody>\n",
       "</table>\n",
       "</div>"
      ],
      "text/plain": [
       "      Provisioning     cd_ChaveCliente cd_Login\n",
       "7638        411282  __09054570000139__   marko1"
      ]
     },
     "execution_count": 266,
     "metadata": {},
     "output_type": "execute_result"
    }
   ],
   "source": [
    "HelpFlose.sample()"
   ]
  },
  {
   "cell_type": "code",
   "execution_count": 267,
   "metadata": {
    "collapsed": false
   },
   "outputs": [
    {
     "data": {
      "text/plain": [
       "False    43782\n",
       "Name: Provisioning, dtype: int64"
      ]
     },
     "execution_count": 267,
     "metadata": {},
     "output_type": "execute_result"
    }
   ],
   "source": [
    "HelpFlose.Provisioning.duplicated().value_counts()"
   ]
  },
  {
   "cell_type": "code",
   "execution_count": 268,
   "metadata": {
    "collapsed": false
   },
   "outputs": [
    {
     "data": {
      "text/plain": [
       "True     31760\n",
       "False    12022\n",
       "Name: cd_Login, dtype: int64"
      ]
     },
     "execution_count": 268,
     "metadata": {},
     "output_type": "execute_result"
    }
   ],
   "source": [
    "HelpFlose.cd_Login.duplicated().value_counts()"
   ]
  },
  {
   "cell_type": "code",
   "execution_count": 269,
   "metadata": {
    "collapsed": false
   },
   "outputs": [
    {
     "data": {
      "text/plain": [
       "False    12022\n",
       "Name: cd_Login, dtype: int64"
      ]
     },
     "execution_count": 269,
     "metadata": {},
     "output_type": "execute_result"
    }
   ],
   "source": [
    "HelpFlose = HelpFlose[HelpFlose.cd_Login.duplicated(keep= 'first') == False].copy()\n",
    "HelpFlose.cd_Login.duplicated().value_counts()"
   ]
  },
  {
   "cell_type": "code",
   "execution_count": 270,
   "metadata": {
    "collapsed": false
   },
   "outputs": [
    {
     "data": {
      "text/plain": [
       "Index(['Provisioning', 'cd_ChaveCliente', 'cd_Login'], dtype='object')"
      ]
     },
     "execution_count": 270,
     "metadata": {},
     "output_type": "execute_result"
    }
   ],
   "source": [
    "HelpFlose.columns"
   ]
  },
  {
   "cell_type": "code",
   "execution_count": 271,
   "metadata": {
    "collapsed": false
   },
   "outputs": [
    {
     "data": {
      "text/plain": [
       "Index(['Provisioning', 'cd_ChaveCliente', 'nr_PrecoMensal', 'ds_Periodicidade',\n",
       "       'Instalacao', 'Primeiro_Servico_LW', 'dt_Reativacao', 'fl_ServicoPai',\n",
       "       'id_GerenteConta', 'Servico', 'fl_Dev', 'Perfil', 'classificacao',\n",
       "       'Status', 'Data_Fim', 'Data_Desativacao', 'ds_Periodicidade_indice',\n",
       "       'fl_ServicoPai_indice', 'Data_Fim_flag', 'Data_Desativacao_flag',\n",
       "       'Data_churn', 'Data_churn_flag', 'Primeiro_Servico_LW_AnoMes',\n",
       "       'Instalacao_AnoMes', 'Data_churn_AnoMes', 'fl_GerenteConta',\n",
       "       'MesesParaChurn', 'FlagChurn'],\n",
       "      dtype='object')"
      ]
     },
     "execution_count": 271,
     "metadata": {},
     "output_type": "execute_result"
    }
   ],
   "source": [
    "df_base.columns"
   ]
  },
  {
   "cell_type": "code",
   "execution_count": 272,
   "metadata": {
    "collapsed": false
   },
   "outputs": [],
   "source": [
    "df_base = pd.merge(df_base, HelpFlose[['cd_ChaveCliente', 'cd_Login']], how='inner', on=['cd_ChaveCliente'])"
   ]
  },
  {
   "cell_type": "code",
   "execution_count": 273,
   "metadata": {
    "collapsed": false
   },
   "outputs": [
    {
     "data": {
      "text/plain": [
       "Index(['Provisioning', 'cd_ChaveCliente', 'nr_PrecoMensal', 'ds_Periodicidade',\n",
       "       'Instalacao', 'Primeiro_Servico_LW', 'dt_Reativacao', 'fl_ServicoPai',\n",
       "       'id_GerenteConta', 'Servico', 'fl_Dev', 'Perfil', 'classificacao',\n",
       "       'Status', 'Data_Fim', 'Data_Desativacao', 'ds_Periodicidade_indice',\n",
       "       'fl_ServicoPai_indice', 'Data_Fim_flag', 'Data_Desativacao_flag',\n",
       "       'Data_churn', 'Data_churn_flag', 'Primeiro_Servico_LW_AnoMes',\n",
       "       'Instalacao_AnoMes', 'Data_churn_AnoMes', 'fl_GerenteConta',\n",
       "       'MesesParaChurn', 'FlagChurn', 'cd_Login'],\n",
       "      dtype='object')"
      ]
     },
     "execution_count": 273,
     "metadata": {},
     "output_type": "execute_result"
    }
   ],
   "source": [
    "df_base.columns"
   ]
  },
  {
   "cell_type": "code",
   "execution_count": 274,
   "metadata": {
    "collapsed": true
   },
   "outputs": [],
   "source": [
    "df_base['mes_idade_cliente'] = [diff_month(df_base.Instalacao.max(), d) for d in df_base.Primeiro_Servico_LW]\n",
    "df_base['mes_idade_provisioning'] = [diff_month(df_base.Instalacao.max(), d) for d in df_base.Instalacao]"
   ]
  },
  {
   "cell_type": "code",
   "execution_count": 275,
   "metadata": {
    "collapsed": true
   },
   "outputs": [],
   "source": [
    "df_base.rename(columns={'nr_PrecoMensal' : 'valor_provisioning'}, inplace=True)\n",
    "df_base['valor_cliente'] = df_base.valor_provisioning\n",
    "df_base['MRR_aux'] = df_base.valor_cliente*df_base.mes_idade_provisioning"
   ]
  },
  {
   "cell_type": "code",
   "execution_count": 281,
   "metadata": {
    "collapsed": false
   },
   "outputs": [],
   "source": [
    "agg_dict = {'Provisioning' : 'count',\n",
    "            'mes_idade_cliente': 'max',\n",
    "            'mes_idade_provisioning': 'mean',\n",
    "            'valor_provisioning': 'mean',\n",
    "            'valor_cliente': 'sum',\n",
    "            'MRR_aux': 'sum',\n",
    "            'fl_ServicoPai_indice': 'max',\n",
    "            'ds_Periodicidade_indice': 'max'}\n",
    "\n",
    "df_basefinal = df_base.groupby(['cd_Login']).agg(agg_dict).copy()"
   ]
  },
  {
   "cell_type": "code",
   "execution_count": 282,
   "metadata": {
    "collapsed": false
   },
   "outputs": [
    {
     "data": {
      "text/html": [
       "<div>\n",
       "<table border=\"1\" class=\"dataframe\">\n",
       "  <thead>\n",
       "    <tr style=\"text-align: right;\">\n",
       "      <th>cd_Login</th>\n",
       "      <th>athenaseguros</th>\n",
       "    </tr>\n",
       "  </thead>\n",
       "  <tbody>\n",
       "    <tr>\n",
       "      <th>mes_idade_cliente</th>\n",
       "      <td>156.0</td>\n",
       "    </tr>\n",
       "    <tr>\n",
       "      <th>ds_Periodicidade_indice</th>\n",
       "      <td>1.0</td>\n",
       "    </tr>\n",
       "    <tr>\n",
       "      <th>valor_cliente</th>\n",
       "      <td>35.3</td>\n",
       "    </tr>\n",
       "    <tr>\n",
       "      <th>valor_provisioning</th>\n",
       "      <td>35.3</td>\n",
       "    </tr>\n",
       "    <tr>\n",
       "      <th>MRR_aux</th>\n",
       "      <td>776.6</td>\n",
       "    </tr>\n",
       "    <tr>\n",
       "      <th>mes_idade_provisioning</th>\n",
       "      <td>22.0</td>\n",
       "    </tr>\n",
       "    <tr>\n",
       "      <th>qtd_produtos_cliente</th>\n",
       "      <td>1.0</td>\n",
       "    </tr>\n",
       "    <tr>\n",
       "      <th>fl_ServicoPai_indice</th>\n",
       "      <td>2.0</td>\n",
       "    </tr>\n",
       "  </tbody>\n",
       "</table>\n",
       "</div>"
      ],
      "text/plain": [
       "cd_Login                 athenaseguros\n",
       "mes_idade_cliente                156.0\n",
       "ds_Periodicidade_indice            1.0\n",
       "valor_cliente                     35.3\n",
       "valor_provisioning                35.3\n",
       "MRR_aux                          776.6\n",
       "mes_idade_provisioning            22.0\n",
       "qtd_produtos_cliente               1.0\n",
       "fl_ServicoPai_indice               2.0"
      ]
     },
     "execution_count": 282,
     "metadata": {},
     "output_type": "execute_result"
    }
   ],
   "source": [
    "df_basefinal.rename(columns={'Provisioning' : 'qtd_produtos_cliente'}, inplace=True)\n",
    "df_basefinal.sample().T"
   ]
  },
  {
   "cell_type": "code",
   "execution_count": 283,
   "metadata": {
    "collapsed": true
   },
   "outputs": [],
   "source": [
    "percentiles= [10,20,30,40,50,60,70,80,90]\n",
    "    \n",
    "Perc = cria_curva(percentiles, df_basefinal.MRR_aux)\n",
    "df_basefinal['Score_login'] = [marca_base(Perc, x) for x in df_basefinal.MRR_aux]"
   ]
  },
  {
   "cell_type": "code",
   "execution_count": 284,
   "metadata": {
    "collapsed": false
   },
   "outputs": [
    {
     "data": {
      "text/html": [
       "<div>\n",
       "<table border=\"1\" class=\"dataframe\">\n",
       "  <thead>\n",
       "    <tr style=\"text-align: right;\">\n",
       "      <th>cd_Login</th>\n",
       "      <th>mfranetto</th>\n",
       "    </tr>\n",
       "  </thead>\n",
       "  <tbody>\n",
       "    <tr>\n",
       "      <th>mes_idade_cliente</th>\n",
       "      <td>88.000000</td>\n",
       "    </tr>\n",
       "    <tr>\n",
       "      <th>ds_Periodicidade_indice</th>\n",
       "      <td>2.000000</td>\n",
       "    </tr>\n",
       "    <tr>\n",
       "      <th>valor_cliente</th>\n",
       "      <td>175.700000</td>\n",
       "    </tr>\n",
       "    <tr>\n",
       "      <th>valor_provisioning</th>\n",
       "      <td>58.566667</td>\n",
       "    </tr>\n",
       "    <tr>\n",
       "      <th>MRR_aux</th>\n",
       "      <td>7906.500000</td>\n",
       "    </tr>\n",
       "    <tr>\n",
       "      <th>mes_idade_provisioning</th>\n",
       "      <td>45.000000</td>\n",
       "    </tr>\n",
       "    <tr>\n",
       "      <th>qtd_produtos_cliente</th>\n",
       "      <td>3.000000</td>\n",
       "    </tr>\n",
       "    <tr>\n",
       "      <th>fl_ServicoPai_indice</th>\n",
       "      <td>2.000000</td>\n",
       "    </tr>\n",
       "    <tr>\n",
       "      <th>Score_login</th>\n",
       "      <td>7.000000</td>\n",
       "    </tr>\n",
       "  </tbody>\n",
       "</table>\n",
       "</div>"
      ],
      "text/plain": [
       "cd_Login                   mfranetto\n",
       "mes_idade_cliente          88.000000\n",
       "ds_Periodicidade_indice     2.000000\n",
       "valor_cliente             175.700000\n",
       "valor_provisioning         58.566667\n",
       "MRR_aux                  7906.500000\n",
       "mes_idade_provisioning     45.000000\n",
       "qtd_produtos_cliente        3.000000\n",
       "fl_ServicoPai_indice        2.000000\n",
       "Score_login                 7.000000"
      ]
     },
     "execution_count": 284,
     "metadata": {},
     "output_type": "execute_result"
    }
   ],
   "source": [
    "df_basefinal.sample().T"
   ]
  },
  {
   "cell_type": "code",
   "execution_count": 285,
   "metadata": {
    "collapsed": false
   },
   "outputs": [],
   "source": [
    "colunas =  ['mes_idade_cliente', 'mes_idade_provisioning',\n",
    "            'qtd_produtos_cliente',\n",
    "            'valor_cliente', 'valor_provisioning', \n",
    "            'MRR_aux', 'Score_login',\n",
    "            'ds_Periodicidade_indice', 'fl_ServicoPai_indice']\n",
    "     \n",
    "# shuffle rows\n",
    "X = df_basefinal[colunas].copy()\n",
    "X = scaler.fit_transform(X)"
   ]
  },
  {
   "cell_type": "code",
   "execution_count": 286,
   "metadata": {
    "collapsed": false
   },
   "outputs": [],
   "source": [
    "y_pred = clf.predict_proba(X)\n",
    "y_pred = pd.DataFrame(data=y_pred[:,1])\n",
    "y_pred.rename(columns= {0: 'Prob_Pagamento'}, inplace= True)"
   ]
  },
  {
   "cell_type": "code",
   "execution_count": 287,
   "metadata": {
    "collapsed": false
   },
   "outputs": [
    {
     "data": {
      "text/html": [
       "<div>\n",
       "<table border=\"1\" class=\"dataframe\">\n",
       "  <thead>\n",
       "    <tr style=\"text-align: right;\">\n",
       "      <th></th>\n",
       "      <th>Prob_Pagamento</th>\n",
       "    </tr>\n",
       "  </thead>\n",
       "  <tbody>\n",
       "    <tr>\n",
       "      <th>0</th>\n",
       "      <td>0.634499</td>\n",
       "    </tr>\n",
       "    <tr>\n",
       "      <th>1</th>\n",
       "      <td>0.638513</td>\n",
       "    </tr>\n",
       "    <tr>\n",
       "      <th>2</th>\n",
       "      <td>0.775946</td>\n",
       "    </tr>\n",
       "    <tr>\n",
       "      <th>3</th>\n",
       "      <td>0.771423</td>\n",
       "    </tr>\n",
       "    <tr>\n",
       "      <th>4</th>\n",
       "      <td>0.791706</td>\n",
       "    </tr>\n",
       "  </tbody>\n",
       "</table>\n",
       "</div>"
      ],
      "text/plain": [
       "   Prob_Pagamento\n",
       "0        0.634499\n",
       "1        0.638513\n",
       "2        0.775946\n",
       "3        0.771423\n",
       "4        0.791706"
      ]
     },
     "execution_count": 287,
     "metadata": {},
     "output_type": "execute_result"
    }
   ],
   "source": [
    "y_pred.head()"
   ]
  },
  {
   "cell_type": "code",
   "execution_count": 288,
   "metadata": {
    "collapsed": false
   },
   "outputs": [],
   "source": [
    "df_basefinal = pd.concat([df_basefinal.reset_index(), y_pred], axis=1)"
   ]
  },
  {
   "cell_type": "code",
   "execution_count": 289,
   "metadata": {
    "collapsed": false
   },
   "outputs": [
    {
     "data": {
      "text/html": [
       "<div>\n",
       "<table border=\"1\" class=\"dataframe\">\n",
       "  <thead>\n",
       "    <tr style=\"text-align: right;\">\n",
       "      <th></th>\n",
       "      <th>0</th>\n",
       "      <th>1</th>\n",
       "      <th>2</th>\n",
       "      <th>3</th>\n",
       "      <th>4</th>\n",
       "    </tr>\n",
       "  </thead>\n",
       "  <tbody>\n",
       "    <tr>\n",
       "      <th>cd_Login</th>\n",
       "      <td>5asec_idc</td>\n",
       "      <td>ADMMAGIFLUX</td>\n",
       "      <td>AFPM</td>\n",
       "      <td>AG3TELECOM</td>\n",
       "      <td>AGSPecas</td>\n",
       "    </tr>\n",
       "    <tr>\n",
       "      <th>mes_idade_cliente</th>\n",
       "      <td>146</td>\n",
       "      <td>72</td>\n",
       "      <td>59</td>\n",
       "      <td>71</td>\n",
       "      <td>80</td>\n",
       "    </tr>\n",
       "    <tr>\n",
       "      <th>ds_Periodicidade_indice</th>\n",
       "      <td>1</td>\n",
       "      <td>2</td>\n",
       "      <td>1</td>\n",
       "      <td>2</td>\n",
       "      <td>0</td>\n",
       "    </tr>\n",
       "    <tr>\n",
       "      <th>valor_cliente</th>\n",
       "      <td>5871.9</td>\n",
       "      <td>115.8</td>\n",
       "      <td>238.8</td>\n",
       "      <td>90.1</td>\n",
       "      <td>108.8</td>\n",
       "    </tr>\n",
       "    <tr>\n",
       "      <th>valor_provisioning</th>\n",
       "      <td>533.809</td>\n",
       "      <td>38.6</td>\n",
       "      <td>47.76</td>\n",
       "      <td>45.05</td>\n",
       "      <td>54.4</td>\n",
       "    </tr>\n",
       "    <tr>\n",
       "      <th>MRR_aux</th>\n",
       "      <td>49812.6</td>\n",
       "      <td>3051</td>\n",
       "      <td>7535.6</td>\n",
       "      <td>6397.1</td>\n",
       "      <td>3996</td>\n",
       "    </tr>\n",
       "    <tr>\n",
       "      <th>mes_idade_provisioning</th>\n",
       "      <td>19.5455</td>\n",
       "      <td>20</td>\n",
       "      <td>42.6</td>\n",
       "      <td>71</td>\n",
       "      <td>36</td>\n",
       "    </tr>\n",
       "    <tr>\n",
       "      <th>qtd_produtos_cliente</th>\n",
       "      <td>11</td>\n",
       "      <td>3</td>\n",
       "      <td>5</td>\n",
       "      <td>2</td>\n",
       "      <td>2</td>\n",
       "    </tr>\n",
       "    <tr>\n",
       "      <th>fl_ServicoPai_indice</th>\n",
       "      <td>2</td>\n",
       "      <td>2</td>\n",
       "      <td>2</td>\n",
       "      <td>2</td>\n",
       "      <td>2</td>\n",
       "    </tr>\n",
       "    <tr>\n",
       "      <th>Score_login</th>\n",
       "      <td>10</td>\n",
       "      <td>4</td>\n",
       "      <td>7</td>\n",
       "      <td>7</td>\n",
       "      <td>5</td>\n",
       "    </tr>\n",
       "    <tr>\n",
       "      <th>Prob_Pagamento</th>\n",
       "      <td>0.634499</td>\n",
       "      <td>0.638513</td>\n",
       "      <td>0.775946</td>\n",
       "      <td>0.771423</td>\n",
       "      <td>0.791706</td>\n",
       "    </tr>\n",
       "  </tbody>\n",
       "</table>\n",
       "</div>"
      ],
      "text/plain": [
       "                                 0            1         2           3  \\\n",
       "cd_Login                 5asec_idc  ADMMAGIFLUX      AFPM  AG3TELECOM   \n",
       "mes_idade_cliente              146           72        59          71   \n",
       "ds_Periodicidade_indice          1            2         1           2   \n",
       "valor_cliente               5871.9        115.8     238.8        90.1   \n",
       "valor_provisioning         533.809         38.6     47.76       45.05   \n",
       "MRR_aux                    49812.6         3051    7535.6      6397.1   \n",
       "mes_idade_provisioning     19.5455           20      42.6          71   \n",
       "qtd_produtos_cliente            11            3         5           2   \n",
       "fl_ServicoPai_indice             2            2         2           2   \n",
       "Score_login                     10            4         7           7   \n",
       "Prob_Pagamento            0.634499     0.638513  0.775946    0.771423   \n",
       "\n",
       "                                4  \n",
       "cd_Login                 AGSPecas  \n",
       "mes_idade_cliente              80  \n",
       "ds_Periodicidade_indice         0  \n",
       "valor_cliente               108.8  \n",
       "valor_provisioning           54.4  \n",
       "MRR_aux                      3996  \n",
       "mes_idade_provisioning         36  \n",
       "qtd_produtos_cliente            2  \n",
       "fl_ServicoPai_indice            2  \n",
       "Score_login                     5  \n",
       "Prob_Pagamento           0.791706  "
      ]
     },
     "execution_count": 289,
     "metadata": {},
     "output_type": "execute_result"
    }
   ],
   "source": [
    "df_basefinal.head().T"
   ]
  },
  {
   "cell_type": "code",
   "execution_count": 292,
   "metadata": {
    "collapsed": false
   },
   "outputs": [],
   "source": [
    "df_basefinal.reset_index(inplace= True)"
   ]
  },
  {
   "cell_type": "code",
   "execution_count": 293,
   "metadata": {
    "collapsed": false
   },
   "outputs": [
    {
     "data": {
      "text/plain": [
       "[1202, 2404, 3606, 4808, 6010, 7212, 8414, 9616, 10818]"
      ]
     },
     "execution_count": 293,
     "metadata": {},
     "output_type": "execute_result"
    }
   ],
   "source": [
    "c1 = int(0.1*df_basefinal.index.max())\n",
    "\n",
    "\n",
    "Clusters = [c1, \n",
    "            2*c1,\n",
    "            3*c1,\n",
    "            4*c1,\n",
    "            5*c1,\n",
    "            6*c1,\n",
    "            7*c1,\n",
    "            8*c1,\n",
    "            9*c1]\n",
    "\n",
    "Clusters"
   ]
  },
  {
   "cell_type": "code",
   "execution_count": 294,
   "metadata": {
    "collapsed": true
   },
   "outputs": [],
   "source": [
    "df_basefinal['Cluster'] = [marca_base(Clusters, x) for x in df_basefinal.index]"
   ]
  },
  {
   "cell_type": "code",
   "execution_count": 298,
   "metadata": {
    "collapsed": false
   },
   "outputs": [
    {
     "data": {
      "text/plain": [
       "10    1204\n",
       "7     1202\n",
       "6     1202\n",
       "5     1202\n",
       "4     1202\n",
       "3     1202\n",
       "2     1202\n",
       "9     1202\n",
       "1     1202\n",
       "8     1202\n",
       "Name: Cluster, dtype: int64"
      ]
     },
     "execution_count": 298,
     "metadata": {},
     "output_type": "execute_result"
    }
   ],
   "source": [
    "df_basefinal.Cluster.value_counts()"
   ]
  },
  {
   "cell_type": "code",
   "execution_count": 300,
   "metadata": {
    "collapsed": false
   },
   "outputs": [
    {
     "data": {
      "text/html": [
       "<div>\n",
       "<table border=\"1\" class=\"dataframe\">\n",
       "  <thead>\n",
       "    <tr style=\"text-align: right;\">\n",
       "      <th>Score_login</th>\n",
       "      <th>1</th>\n",
       "      <th>2</th>\n",
       "      <th>3</th>\n",
       "      <th>4</th>\n",
       "      <th>5</th>\n",
       "      <th>6</th>\n",
       "      <th>7</th>\n",
       "      <th>8</th>\n",
       "      <th>9</th>\n",
       "      <th>10</th>\n",
       "    </tr>\n",
       "    <tr>\n",
       "      <th>Cluster</th>\n",
       "      <th></th>\n",
       "      <th></th>\n",
       "      <th></th>\n",
       "      <th></th>\n",
       "      <th></th>\n",
       "      <th></th>\n",
       "      <th></th>\n",
       "      <th></th>\n",
       "      <th></th>\n",
       "      <th></th>\n",
       "    </tr>\n",
       "  </thead>\n",
       "  <tbody>\n",
       "    <tr>\n",
       "      <th>1</th>\n",
       "      <td>116</td>\n",
       "      <td>126</td>\n",
       "      <td>117</td>\n",
       "      <td>126</td>\n",
       "      <td>111</td>\n",
       "      <td>130</td>\n",
       "      <td>122</td>\n",
       "      <td>115</td>\n",
       "      <td>130</td>\n",
       "      <td>109</td>\n",
       "    </tr>\n",
       "    <tr>\n",
       "      <th>2</th>\n",
       "      <td>115</td>\n",
       "      <td>122</td>\n",
       "      <td>135</td>\n",
       "      <td>107</td>\n",
       "      <td>138</td>\n",
       "      <td>115</td>\n",
       "      <td>125</td>\n",
       "      <td>124</td>\n",
       "      <td>116</td>\n",
       "      <td>105</td>\n",
       "    </tr>\n",
       "    <tr>\n",
       "      <th>3</th>\n",
       "      <td>141</td>\n",
       "      <td>106</td>\n",
       "      <td>120</td>\n",
       "      <td>113</td>\n",
       "      <td>99</td>\n",
       "      <td>126</td>\n",
       "      <td>129</td>\n",
       "      <td>95</td>\n",
       "      <td>141</td>\n",
       "      <td>132</td>\n",
       "    </tr>\n",
       "    <tr>\n",
       "      <th>4</th>\n",
       "      <td>137</td>\n",
       "      <td>122</td>\n",
       "      <td>125</td>\n",
       "      <td>107</td>\n",
       "      <td>124</td>\n",
       "      <td>117</td>\n",
       "      <td>117</td>\n",
       "      <td>120</td>\n",
       "      <td>113</td>\n",
       "      <td>120</td>\n",
       "    </tr>\n",
       "    <tr>\n",
       "      <th>5</th>\n",
       "      <td>120</td>\n",
       "      <td>119</td>\n",
       "      <td>117</td>\n",
       "      <td>127</td>\n",
       "      <td>113</td>\n",
       "      <td>137</td>\n",
       "      <td>110</td>\n",
       "      <td>117</td>\n",
       "      <td>118</td>\n",
       "      <td>124</td>\n",
       "    </tr>\n",
       "    <tr>\n",
       "      <th>6</th>\n",
       "      <td>121</td>\n",
       "      <td>149</td>\n",
       "      <td>135</td>\n",
       "      <td>126</td>\n",
       "      <td>121</td>\n",
       "      <td>109</td>\n",
       "      <td>107</td>\n",
       "      <td>131</td>\n",
       "      <td>103</td>\n",
       "      <td>100</td>\n",
       "    </tr>\n",
       "    <tr>\n",
       "      <th>7</th>\n",
       "      <td>127</td>\n",
       "      <td>106</td>\n",
       "      <td>112</td>\n",
       "      <td>121</td>\n",
       "      <td>122</td>\n",
       "      <td>132</td>\n",
       "      <td>123</td>\n",
       "      <td>127</td>\n",
       "      <td>117</td>\n",
       "      <td>115</td>\n",
       "    </tr>\n",
       "    <tr>\n",
       "      <th>8</th>\n",
       "      <td>102</td>\n",
       "      <td>112</td>\n",
       "      <td>108</td>\n",
       "      <td>138</td>\n",
       "      <td>134</td>\n",
       "      <td>111</td>\n",
       "      <td>127</td>\n",
       "      <td>115</td>\n",
       "      <td>119</td>\n",
       "      <td>136</td>\n",
       "    </tr>\n",
       "    <tr>\n",
       "      <th>9</th>\n",
       "      <td>109</td>\n",
       "      <td>114</td>\n",
       "      <td>111</td>\n",
       "      <td>126</td>\n",
       "      <td>122</td>\n",
       "      <td>115</td>\n",
       "      <td>126</td>\n",
       "      <td>129</td>\n",
       "      <td>122</td>\n",
       "      <td>128</td>\n",
       "    </tr>\n",
       "    <tr>\n",
       "      <th>10</th>\n",
       "      <td>115</td>\n",
       "      <td>126</td>\n",
       "      <td>117</td>\n",
       "      <td>110</td>\n",
       "      <td>124</td>\n",
       "      <td>107</td>\n",
       "      <td>119</td>\n",
       "      <td>129</td>\n",
       "      <td>123</td>\n",
       "      <td>134</td>\n",
       "    </tr>\n",
       "  </tbody>\n",
       "</table>\n",
       "</div>"
      ],
      "text/plain": [
       "Score_login   1    2    3    4    5    6    7    8    9    10\n",
       "Cluster                                                      \n",
       "1            116  126  117  126  111  130  122  115  130  109\n",
       "2            115  122  135  107  138  115  125  124  116  105\n",
       "3            141  106  120  113   99  126  129   95  141  132\n",
       "4            137  122  125  107  124  117  117  120  113  120\n",
       "5            120  119  117  127  113  137  110  117  118  124\n",
       "6            121  149  135  126  121  109  107  131  103  100\n",
       "7            127  106  112  121  122  132  123  127  117  115\n",
       "8            102  112  108  138  134  111  127  115  119  136\n",
       "9            109  114  111  126  122  115  126  129  122  128\n",
       "10           115  126  117  110  124  107  119  129  123  134"
      ]
     },
     "execution_count": 300,
     "metadata": {},
     "output_type": "execute_result"
    },
    {
     "data": {
      "image/png": "[encoded data removed]",
      "text/plain": [
       "<matplotlib.figure.Figure at 0x4b995c88>"
      ]
     },
     "metadata": {},
     "output_type": "display_data"
    }
   ],
   "source": [
    "agg_dict_heatmap = {'cd_Login' : 'count'}\n",
    "heatmap = df_basefinal.groupby(['Cluster','Score_login']).agg(agg_dict_heatmap).copy()\n",
    "heatmap.reset_index(inplace= True)\n",
    "heatmap = heatmap.pivot('Cluster','Score_login', 'cd_Login').copy()\n",
    "sns.heatmap(heatmap, annot=False, linewidths=.5) \n",
    "heatmap"
   ]
  },
  {
   "cell_type": "code",
   "execution_count": 301,
   "metadata": {
    "collapsed": false
   },
   "outputs": [],
   "source": [
    "df_basefinal['GrupoDesativacao'] = [cria_grupo(n1, n2) for n1, n2 in zip (df_basefinal.Cluster,df_basefinal.Score_login)]"
   ]
  },
  {
   "cell_type": "code",
   "execution_count": 303,
   "metadata": {
    "collapsed": false
   },
   "outputs": [
    {
     "data": {
      "text/html": [
       "<div>\n",
       "<table border=\"1\" class=\"dataframe\">\n",
       "  <thead>\n",
       "    <tr style=\"text-align: right;\">\n",
       "      <th></th>\n",
       "      <th>0</th>\n",
       "      <th>1</th>\n",
       "      <th>2</th>\n",
       "      <th>3</th>\n",
       "      <th>4</th>\n",
       "    </tr>\n",
       "  </thead>\n",
       "  <tbody>\n",
       "    <tr>\n",
       "      <th>index</th>\n",
       "      <td>0</td>\n",
       "      <td>1</td>\n",
       "      <td>2</td>\n",
       "      <td>3</td>\n",
       "      <td>4</td>\n",
       "    </tr>\n",
       "    <tr>\n",
       "      <th>cd_Login</th>\n",
       "      <td>5asec_idc</td>\n",
       "      <td>ADMMAGIFLUX</td>\n",
       "      <td>AFPM</td>\n",
       "      <td>AG3TELECOM</td>\n",
       "      <td>AGSPecas</td>\n",
       "    </tr>\n",
       "    <tr>\n",
       "      <th>mes_idade_cliente</th>\n",
       "      <td>146</td>\n",
       "      <td>72</td>\n",
       "      <td>59</td>\n",
       "      <td>71</td>\n",
       "      <td>80</td>\n",
       "    </tr>\n",
       "    <tr>\n",
       "      <th>ds_Periodicidade_indice</th>\n",
       "      <td>1</td>\n",
       "      <td>2</td>\n",
       "      <td>1</td>\n",
       "      <td>2</td>\n",
       "      <td>0</td>\n",
       "    </tr>\n",
       "    <tr>\n",
       "      <th>valor_cliente</th>\n",
       "      <td>5871.9</td>\n",
       "      <td>115.8</td>\n",
       "      <td>238.8</td>\n",
       "      <td>90.1</td>\n",
       "      <td>108.8</td>\n",
       "    </tr>\n",
       "    <tr>\n",
       "      <th>valor_provisioning</th>\n",
       "      <td>533.809</td>\n",
       "      <td>38.6</td>\n",
       "      <td>47.76</td>\n",
       "      <td>45.05</td>\n",
       "      <td>54.4</td>\n",
       "    </tr>\n",
       "    <tr>\n",
       "      <th>MRR_aux</th>\n",
       "      <td>49812.6</td>\n",
       "      <td>3051</td>\n",
       "      <td>7535.6</td>\n",
       "      <td>6397.1</td>\n",
       "      <td>3996</td>\n",
       "    </tr>\n",
       "    <tr>\n",
       "      <th>mes_idade_provisioning</th>\n",
       "      <td>19.5455</td>\n",
       "      <td>20</td>\n",
       "      <td>42.6</td>\n",
       "      <td>71</td>\n",
       "      <td>36</td>\n",
       "    </tr>\n",
       "    <tr>\n",
       "      <th>qtd_produtos_cliente</th>\n",
       "      <td>11</td>\n",
       "      <td>3</td>\n",
       "      <td>5</td>\n",
       "      <td>2</td>\n",
       "      <td>2</td>\n",
       "    </tr>\n",
       "    <tr>\n",
       "      <th>fl_ServicoPai_indice</th>\n",
       "      <td>2</td>\n",
       "      <td>2</td>\n",
       "      <td>2</td>\n",
       "      <td>2</td>\n",
       "      <td>2</td>\n",
       "    </tr>\n",
       "    <tr>\n",
       "      <th>Score_login</th>\n",
       "      <td>10</td>\n",
       "      <td>4</td>\n",
       "      <td>7</td>\n",
       "      <td>7</td>\n",
       "      <td>5</td>\n",
       "    </tr>\n",
       "    <tr>\n",
       "      <th>Prob_Pagamento</th>\n",
       "      <td>0.634499</td>\n",
       "      <td>0.638513</td>\n",
       "      <td>0.775946</td>\n",
       "      <td>0.771423</td>\n",
       "      <td>0.791706</td>\n",
       "    </tr>\n",
       "    <tr>\n",
       "      <th>Cluster</th>\n",
       "      <td>1</td>\n",
       "      <td>1</td>\n",
       "      <td>1</td>\n",
       "      <td>1</td>\n",
       "      <td>1</td>\n",
       "    </tr>\n",
       "    <tr>\n",
       "      <th>GrupoDesativacao</th>\n",
       "      <td>Grupo3: d+15</td>\n",
       "      <td>Grupo1: d+7</td>\n",
       "      <td>Grupo3: d+15</td>\n",
       "      <td>Grupo3: d+15</td>\n",
       "      <td>Grupo1: d+7</td>\n",
       "    </tr>\n",
       "  </tbody>\n",
       "</table>\n",
       "</div>"
      ],
      "text/plain": [
       "                                    0            1             2  \\\n",
       "index                               0            1             2   \n",
       "cd_Login                    5asec_idc  ADMMAGIFLUX          AFPM   \n",
       "mes_idade_cliente                 146           72            59   \n",
       "ds_Periodicidade_indice             1            2             1   \n",
       "valor_cliente                  5871.9        115.8         238.8   \n",
       "valor_provisioning            533.809         38.6         47.76   \n",
       "MRR_aux                       49812.6         3051        7535.6   \n",
       "mes_idade_provisioning        19.5455           20          42.6   \n",
       "qtd_produtos_cliente               11            3             5   \n",
       "fl_ServicoPai_indice                2            2             2   \n",
       "Score_login                        10            4             7   \n",
       "Prob_Pagamento               0.634499     0.638513      0.775946   \n",
       "Cluster                             1            1             1   \n",
       "GrupoDesativacao         Grupo3: d+15  Grupo1: d+7  Grupo3: d+15   \n",
       "\n",
       "                                    3            4  \n",
       "index                               3            4  \n",
       "cd_Login                   AG3TELECOM     AGSPecas  \n",
       "mes_idade_cliente                  71           80  \n",
       "ds_Periodicidade_indice             2            0  \n",
       "valor_cliente                    90.1        108.8  \n",
       "valor_provisioning              45.05         54.4  \n",
       "MRR_aux                        6397.1         3996  \n",
       "mes_idade_provisioning             71           36  \n",
       "qtd_produtos_cliente                2            2  \n",
       "fl_ServicoPai_indice                2            2  \n",
       "Score_login                         7            5  \n",
       "Prob_Pagamento               0.771423     0.791706  \n",
       "Cluster                             1            1  \n",
       "GrupoDesativacao         Grupo3: d+15  Grupo1: d+7  "
      ]
     },
     "execution_count": 303,
     "metadata": {},
     "output_type": "execute_result"
    }
   ],
   "source": [
    "df_basefinal.head().T"
   ]
  },
  {
   "cell_type": "code",
   "execution_count": 304,
   "metadata": {
    "collapsed": false
   },
   "outputs": [
    {
     "data": {
      "text/plain": [
       "False    12022\n",
       "Name: cd_Login, dtype: int64"
      ]
     },
     "execution_count": 304,
     "metadata": {},
     "output_type": "execute_result"
    }
   ],
   "source": [
    "df_basefinal.cd_Login.duplicated().value_counts()"
   ]
  },
  {
   "cell_type": "code",
   "execution_count": 305,
   "metadata": {
    "collapsed": false
   },
   "outputs": [],
   "source": [
    "agg_dict_heatmap = {'cd_Login' : 'count'}\n",
    "\n",
    "relatorio = df_basefinal.groupby(['GrupoDesativacao']).agg(agg_dict_heatmap).copy()\n",
    "relatorio['Tamanho%'] = relatorio.cd_Login/relatorio.cd_Login.sum()"
   ]
  },
  {
   "cell_type": "code",
   "execution_count": 307,
   "metadata": {
    "collapsed": false
   },
   "outputs": [
    {
     "data": {
      "text/html": [
       "<div>\n",
       "<table border=\"1\" class=\"dataframe\">\n",
       "  <thead>\n",
       "    <tr style=\"text-align: right;\">\n",
       "      <th></th>\n",
       "      <th>Tamanho%</th>\n",
       "    </tr>\n",
       "    <tr>\n",
       "      <th>GrupoDesativacao</th>\n",
       "      <th></th>\n",
       "    </tr>\n",
       "  </thead>\n",
       "  <tbody>\n",
       "    <tr>\n",
       "      <th>Grupo1: d+7</th>\n",
       "      <td>0.155058</td>\n",
       "    </tr>\n",
       "    <tr>\n",
       "      <th>Grupo2: d+10</th>\n",
       "      <td>0.365060</td>\n",
       "    </tr>\n",
       "    <tr>\n",
       "      <th>Grupo3: d+15</th>\n",
       "      <td>0.307779</td>\n",
       "    </tr>\n",
       "    <tr>\n",
       "      <th>Grupo4: d+30</th>\n",
       "      <td>0.172103</td>\n",
       "    </tr>\n",
       "  </tbody>\n",
       "</table>\n",
       "</div>"
      ],
      "text/plain": [
       "                  Tamanho%\n",
       "GrupoDesativacao          \n",
       "Grupo1: d+7       0.155058\n",
       "Grupo2: d+10      0.365060\n",
       "Grupo3: d+15      0.307779\n",
       "Grupo4: d+30      0.172103"
      ]
     },
     "execution_count": 307,
     "metadata": {},
     "output_type": "execute_result"
    }
   ],
   "source": [
    "relatorio[['Tamanho%']]"
   ]
  },
  {
   "cell_type": "code",
   "execution_count": 308,
   "metadata": {
    "collapsed": false
   },
   "outputs": [
    {
     "data": {
      "text/plain": [
       "Index(['index', 'cd_Login', 'mes_idade_cliente', 'ds_Periodicidade_indice',\n",
       "       'valor_cliente', 'valor_provisioning', 'MRR_aux',\n",
       "       'mes_idade_provisioning', 'qtd_produtos_cliente',\n",
       "       'fl_ServicoPai_indice', 'Score_login', 'Prob_Pagamento', 'Cluster',\n",
       "       'GrupoDesativacao'],\n",
       "      dtype='object')"
      ]
     },
     "execution_count": 308,
     "metadata": {},
     "output_type": "execute_result"
    }
   ],
   "source": [
    "df_basefinal.columns"
   ]
  },
  {
   "cell_type": "code",
   "execution_count": 310,
   "metadata": {
    "collapsed": false
   },
   "outputs": [
    {
     "data": {
      "text/html": [
       "<div>\n",
       "<table border=\"1\" class=\"dataframe\">\n",
       "  <thead>\n",
       "    <tr style=\"text-align: right;\">\n",
       "      <th>GrupoDesativacao</th>\n",
       "      <th>Grupo1: d+7</th>\n",
       "      <th>Grupo2: d+10</th>\n",
       "      <th>Grupo3: d+15</th>\n",
       "      <th>Grupo4: d+30</th>\n",
       "    </tr>\n",
       "  </thead>\n",
       "  <tbody>\n",
       "    <tr>\n",
       "      <th>Prob_Pagamento</th>\n",
       "      <td>0.610955</td>\n",
       "      <td>0.615231</td>\n",
       "      <td>0.718848</td>\n",
       "      <td>0.718606</td>\n",
       "    </tr>\n",
       "    <tr>\n",
       "      <th>valor_provisioning</th>\n",
       "      <td>47.768365</td>\n",
       "      <td>46.513109</td>\n",
       "      <td>78.891136</td>\n",
       "      <td>87.538694</td>\n",
       "    </tr>\n",
       "    <tr>\n",
       "      <th>valor_cliente</th>\n",
       "      <td>110.936384</td>\n",
       "      <td>96.049196</td>\n",
       "      <td>1026.913483</td>\n",
       "      <td>1016.595078</td>\n",
       "    </tr>\n",
       "    <tr>\n",
       "      <th>MRR_aux</th>\n",
       "      <td>1920.936217</td>\n",
       "      <td>1980.571320</td>\n",
       "      <td>49375.912156</td>\n",
       "      <td>45179.172267</td>\n",
       "    </tr>\n",
       "    <tr>\n",
       "      <th>qtd_produtos_cliente</th>\n",
       "      <td>2.023438</td>\n",
       "      <td>2.030339</td>\n",
       "      <td>11.736295</td>\n",
       "      <td>11.172951</td>\n",
       "    </tr>\n",
       "    <tr>\n",
       "      <th>Cluster</th>\n",
       "      <td>1.990513</td>\n",
       "      <td>6.963261</td>\n",
       "      <td>3.464436</td>\n",
       "      <td>8.519356</td>\n",
       "    </tr>\n",
       "    <tr>\n",
       "      <th>mes_idade_provisioning</th>\n",
       "      <td>26.776489</td>\n",
       "      <td>27.087882</td>\n",
       "      <td>53.108501</td>\n",
       "      <td>51.312649</td>\n",
       "    </tr>\n",
       "    <tr>\n",
       "      <th>mes_idade_cliente</th>\n",
       "      <td>61.069196</td>\n",
       "      <td>60.000237</td>\n",
       "      <td>104.695811</td>\n",
       "      <td>107.786325</td>\n",
       "    </tr>\n",
       "    <tr>\n",
       "      <th>Score_login</th>\n",
       "      <td>2.968750</td>\n",
       "      <td>3.015406</td>\n",
       "      <td>7.978353</td>\n",
       "      <td>8.508798</td>\n",
       "    </tr>\n",
       "    <tr>\n",
       "      <th>cd_Login</th>\n",
       "      <td>1792.000000</td>\n",
       "      <td>4219.000000</td>\n",
       "      <td>3557.000000</td>\n",
       "      <td>1989.000000</td>\n",
       "    </tr>\n",
       "  </tbody>\n",
       "</table>\n",
       "</div>"
      ],
      "text/plain": [
       "GrupoDesativacao        Grupo1: d+7  Grupo2: d+10  Grupo3: d+15  Grupo4: d+30\n",
       "Prob_Pagamento             0.610955      0.615231      0.718848      0.718606\n",
       "valor_provisioning        47.768365     46.513109     78.891136     87.538694\n",
       "valor_cliente            110.936384     96.049196   1026.913483   1016.595078\n",
       "MRR_aux                 1920.936217   1980.571320  49375.912156  45179.172267\n",
       "qtd_produtos_cliente       2.023438      2.030339     11.736295     11.172951\n",
       "Cluster                    1.990513      6.963261      3.464436      8.519356\n",
       "mes_idade_provisioning    26.776489     27.087882     53.108501     51.312649\n",
       "mes_idade_cliente         61.069196     60.000237    104.695811    107.786325\n",
       "Score_login                2.968750      3.015406      7.978353      8.508798\n",
       "cd_Login                1792.000000   4219.000000   3557.000000   1989.000000"
      ]
     },
     "execution_count": 310,
     "metadata": {},
     "output_type": "execute_result"
    }
   ],
   "source": [
    "agg_dict_heatmap = {'cd_Login' : 'count',\n",
    "                    'mes_idade_cliente' : 'mean',\n",
    "                    'valor_cliente' : 'mean',\n",
    "                    'valor_provisioning' : 'mean',\n",
    "                    'MRR_aux' : 'mean',\n",
    "                    'mes_idade_provisioning' : 'mean',\n",
    "                    'qtd_produtos_cliente' : 'mean',\n",
    "                    'Score_login' : 'mean',\n",
    "                    'Prob_Pagamento' : 'mean',\n",
    "                    'Cluster' : 'mean'}\n",
    "\n",
    "relatorio = df_basefinal.groupby(['GrupoDesativacao']).agg(agg_dict_heatmap).copy()\n",
    "relatorio.T"
   ]
  },
  {
   "cell_type": "code",
   "execution_count": 311,
   "metadata": {
    "collapsed": false
   },
   "outputs": [
    {
     "data": {
      "text/plain": [
       "False    12022\n",
       "Name: cd_Login, dtype: int64"
      ]
     },
     "execution_count": 311,
     "metadata": {},
     "output_type": "execute_result"
    }
   ],
   "source": [
    "df_basefinal.cd_Login.duplicated().value_counts()"
   ]
  },
  {
   "cell_type": "code",
   "execution_count": null,
   "metadata": {
    "collapsed": true
   },
   "outputs": [],
   "source": []
  },
  {
   "cell_type": "code",
   "execution_count": null,
   "metadata": {
    "collapsed": true
   },
   "outputs": [],
   "source": []
  },
  {
   "cell_type": "code",
   "execution_count": null,
   "metadata": {
    "collapsed": true
   },
   "outputs": [],
   "source": []
  },
  {
   "cell_type": "code",
   "execution_count": null,
   "metadata": {
    "collapsed": true
   },
   "outputs": [],
   "source": [
    "Mode "
   ]
  },
  {
   "cell_type": "code",
   "execution_count": 80,
   "metadata": {
    "collapsed": false
   },
   "outputs": [
    {
     "data": {
      "text/plain": [
       "(37, 8)"
      ]
     },
     "execution_count": 80,
     "metadata": {},
     "output_type": "execute_result"
    }
   ],
   "source": [
    "result = pd.merge(LoginsCiclo_20082017, df_cobranca_aplicacao, how='inner', on=['cd_Login'])\n",
    "\n",
    "result.shape"
   ]
  },
  {
   "cell_type": "code",
   "execution_count": 81,
   "metadata": {
    "collapsed": false
   },
   "outputs": [
    {
     "data": {
      "text/html": [
       "<div>\n",
       "<table border=\"1\" class=\"dataframe\">\n",
       "  <thead>\n",
       "    <tr style=\"text-align: right;\">\n",
       "      <th></th>\n",
       "      <th>cd_Login</th>\n",
       "      <th>index</th>\n",
       "      <th>Prob_Pagamento</th>\n",
       "      <th>Score_login</th>\n",
       "      <th>cd_provisioning</th>\n",
       "      <th>Resposta</th>\n",
       "      <th>Cluster</th>\n",
       "      <th>GrupoDesativacao</th>\n",
       "    </tr>\n",
       "  </thead>\n",
       "  <tbody>\n",
       "    <tr>\n",
       "      <th>3</th>\n",
       "      <td>comercialaltodofarol</td>\n",
       "      <td>92782</td>\n",
       "      <td>0.728486</td>\n",
       "      <td>8</td>\n",
       "      <td>1</td>\n",
       "      <td>1</td>\n",
       "      <td>7</td>\n",
       "      <td>Grupo4: d+30</td>\n",
       "    </tr>\n",
       "  </tbody>\n",
       "</table>\n",
       "</div>"
      ],
      "text/plain": [
       "               cd_Login  index  Prob_Pagamento  Score_login  cd_provisioning  \\\n",
       "3  comercialaltodofarol  92782        0.728486            8                1   \n",
       "\n",
       "   Resposta  Cluster GrupoDesativacao  \n",
       "3         1        7     Grupo4: d+30  "
      ]
     },
     "execution_count": 81,
     "metadata": {},
     "output_type": "execute_result"
    }
   ],
   "source": [
    "result.sample()"
   ]
  },
  {
   "cell_type": "code",
   "execution_count": null,
   "metadata": {
    "collapsed": true
   },
   "outputs": [],
   "source": []
  },
  {
   "cell_type": "code",
   "execution_count": null,
   "metadata": {
    "collapsed": true
   },
   "outputs": [],
   "source": []
  },
  {
   "cell_type": "code",
   "execution_count": null,
   "metadata": {
    "collapsed": true
   },
   "outputs": [],
   "source": []
  },
  {
   "cell_type": "code",
   "execution_count": null,
   "metadata": {
    "collapsed": true
   },
   "outputs": [],
   "source": []
  },
  {
   "cell_type": "code",
   "execution_count": null,
   "metadata": {
    "collapsed": true
   },
   "outputs": [],
   "source": [
    "#df_cobranca = pd.read_csv('./Carga_Modelo_Cobranca_20171105.csv', sep = ';', error_bad_lines = False, encoding='latin-1')"
   ]
  },
  {
   "cell_type": "code",
   "execution_count": null,
   "metadata": {
    "collapsed": true
   },
   "outputs": [],
   "source": []
  },
  {
   "cell_type": "code",
   "execution_count": null,
   "metadata": {
    "collapsed": true
   },
   "outputs": [],
   "source": []
  },
  {
   "cell_type": "code",
   "execution_count": null,
   "metadata": {
    "collapsed": true
   },
   "outputs": [],
   "source": []
  },
  {
   "cell_type": "code",
   "execution_count": null,
   "metadata": {
    "collapsed": true
   },
   "outputs": [],
   "source": []
  },
  {
   "cell_type": "code",
   "execution_count": null,
   "metadata": {
    "collapsed": true
   },
   "outputs": [],
   "source": []
  },
  {
   "cell_type": "code",
   "execution_count": null,
   "metadata": {
    "collapsed": true
   },
   "outputs": [],
   "source": []
  }
 ],
 "metadata": {
  "anaconda-cloud": {},
  "kernelspec": {
   "display_name": "Python [default]",
   "language": "python",
   "name": "python3"
  },
  "language_info": {
   "codemirror_mode": {
    "name": "ipython",
    "version": 3
   },
   "file_extension": ".py",
   "mimetype": "text/x-python",
   "name": "python",
   "nbconvert_exporter": "python",
   "pygments_lexer": "ipython3",
   "version": "3.5.2"
  }
 },
 "nbformat": 4,
 "nbformat_minor": 1
}
